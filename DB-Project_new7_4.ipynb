{
 "cells": [
  {
   "cell_type": "markdown",
   "metadata": {},
   "source": [
    "   # Covid-19-Project 2020\n",
    "<img src=\"./grippeviren.jpg\" Width=\"800\"/>"
   ]
  },
  {
   "cell_type": "code",
   "execution_count": 413,
   "metadata": {},
   "outputs": [],
   "source": [
    "#Importings\n",
    "import requests\n",
    "import urllib.request\n",
    "import time\n",
    "from bs4 import BeautifulSoup\n",
    "import pandas as pd\n",
    "import numpy as np\n",
    "import seaborn as sns\n",
    "import matplotlib.pyplot as plt\n",
    "import plotly.express as px\n",
    "import datetime\n",
    "from sklearn.linear_model import LinearRegression\n",
    "from sklearn.model_selection import RandomizedSearchCV, train_test_split\n",
    "from sklearn.preprocessing import PolynomialFeatures\n",
    "from sklearn import metrics\n",
    "from sklearn.metrics import mean_squared_error, mean_absolute_error,r2_score\n",
    "from math import sqrt\n"
   ]
  },
  {
   "cell_type": "markdown",
   "metadata": {},
   "source": [
    "# Covid-19-Project 2020"
   ]
  },
  {
   "cell_type": "raw",
   "metadata": {},
   "source": [
    "Max Boyar - 320407190\n",
    "Vladimir Sergienko - 317303071"
   ]
  },
  {
   "cell_type": "markdown",
   "metadata": {},
   "source": [
    "#### pull first data -covid19 spread per day Worldwide"
   ]
  },
  {
   "cell_type": "code",
   "execution_count": 414,
   "metadata": {},
   "outputs": [],
   "source": [
    "df_confirmed = pd.read_csv('https://raw.githubusercontent.com/CSSEGISandData/COVID-19/master/csse_covid_19_data/csse_covid_19_time_series/time_series_covid19_confirmed_global.csv')"
   ]
  },
  {
   "cell_type": "code",
   "execution_count": 415,
   "metadata": {},
   "outputs": [
    {
     "data": {
      "text/html": [
       "<div>\n",
       "<style scoped>\n",
       "    .dataframe tbody tr th:only-of-type {\n",
       "        vertical-align: middle;\n",
       "    }\n",
       "\n",
       "    .dataframe tbody tr th {\n",
       "        vertical-align: top;\n",
       "    }\n",
       "\n",
       "    .dataframe thead th {\n",
       "        text-align: right;\n",
       "    }\n",
       "</style>\n",
       "<table border=\"1\" class=\"dataframe\">\n",
       "  <thead>\n",
       "    <tr style=\"text-align: right;\">\n",
       "      <th></th>\n",
       "      <th>Province/State</th>\n",
       "      <th>Country/Region</th>\n",
       "      <th>Lat</th>\n",
       "      <th>Long</th>\n",
       "      <th>1/22/20</th>\n",
       "      <th>1/23/20</th>\n",
       "      <th>1/24/20</th>\n",
       "      <th>1/25/20</th>\n",
       "      <th>1/26/20</th>\n",
       "      <th>1/27/20</th>\n",
       "      <th>...</th>\n",
       "      <th>3/28/20</th>\n",
       "      <th>3/29/20</th>\n",
       "      <th>3/30/20</th>\n",
       "      <th>3/31/20</th>\n",
       "      <th>4/1/20</th>\n",
       "      <th>4/2/20</th>\n",
       "      <th>4/3/20</th>\n",
       "      <th>4/4/20</th>\n",
       "      <th>4/5/20</th>\n",
       "      <th>4/6/20</th>\n",
       "    </tr>\n",
       "  </thead>\n",
       "  <tbody>\n",
       "    <tr>\n",
       "      <td>0</td>\n",
       "      <td>NaN</td>\n",
       "      <td>Afghanistan</td>\n",
       "      <td>33.00000</td>\n",
       "      <td>65.000000</td>\n",
       "      <td>0</td>\n",
       "      <td>0</td>\n",
       "      <td>0</td>\n",
       "      <td>0</td>\n",
       "      <td>0</td>\n",
       "      <td>0</td>\n",
       "      <td>...</td>\n",
       "      <td>110</td>\n",
       "      <td>120</td>\n",
       "      <td>170</td>\n",
       "      <td>174</td>\n",
       "      <td>237</td>\n",
       "      <td>273</td>\n",
       "      <td>281</td>\n",
       "      <td>299</td>\n",
       "      <td>349</td>\n",
       "      <td>367</td>\n",
       "    </tr>\n",
       "    <tr>\n",
       "      <td>1</td>\n",
       "      <td>NaN</td>\n",
       "      <td>Albania</td>\n",
       "      <td>41.15330</td>\n",
       "      <td>20.168300</td>\n",
       "      <td>0</td>\n",
       "      <td>0</td>\n",
       "      <td>0</td>\n",
       "      <td>0</td>\n",
       "      <td>0</td>\n",
       "      <td>0</td>\n",
       "      <td>...</td>\n",
       "      <td>197</td>\n",
       "      <td>212</td>\n",
       "      <td>223</td>\n",
       "      <td>243</td>\n",
       "      <td>259</td>\n",
       "      <td>277</td>\n",
       "      <td>304</td>\n",
       "      <td>333</td>\n",
       "      <td>361</td>\n",
       "      <td>377</td>\n",
       "    </tr>\n",
       "    <tr>\n",
       "      <td>2</td>\n",
       "      <td>NaN</td>\n",
       "      <td>Algeria</td>\n",
       "      <td>28.03390</td>\n",
       "      <td>1.659600</td>\n",
       "      <td>0</td>\n",
       "      <td>0</td>\n",
       "      <td>0</td>\n",
       "      <td>0</td>\n",
       "      <td>0</td>\n",
       "      <td>0</td>\n",
       "      <td>...</td>\n",
       "      <td>454</td>\n",
       "      <td>511</td>\n",
       "      <td>584</td>\n",
       "      <td>716</td>\n",
       "      <td>847</td>\n",
       "      <td>986</td>\n",
       "      <td>1171</td>\n",
       "      <td>1251</td>\n",
       "      <td>1320</td>\n",
       "      <td>1423</td>\n",
       "    </tr>\n",
       "    <tr>\n",
       "      <td>3</td>\n",
       "      <td>NaN</td>\n",
       "      <td>Andorra</td>\n",
       "      <td>42.50630</td>\n",
       "      <td>1.521800</td>\n",
       "      <td>0</td>\n",
       "      <td>0</td>\n",
       "      <td>0</td>\n",
       "      <td>0</td>\n",
       "      <td>0</td>\n",
       "      <td>0</td>\n",
       "      <td>...</td>\n",
       "      <td>308</td>\n",
       "      <td>334</td>\n",
       "      <td>370</td>\n",
       "      <td>376</td>\n",
       "      <td>390</td>\n",
       "      <td>428</td>\n",
       "      <td>439</td>\n",
       "      <td>466</td>\n",
       "      <td>501</td>\n",
       "      <td>525</td>\n",
       "    </tr>\n",
       "    <tr>\n",
       "      <td>4</td>\n",
       "      <td>NaN</td>\n",
       "      <td>Angola</td>\n",
       "      <td>-11.20270</td>\n",
       "      <td>17.873900</td>\n",
       "      <td>0</td>\n",
       "      <td>0</td>\n",
       "      <td>0</td>\n",
       "      <td>0</td>\n",
       "      <td>0</td>\n",
       "      <td>0</td>\n",
       "      <td>...</td>\n",
       "      <td>5</td>\n",
       "      <td>7</td>\n",
       "      <td>7</td>\n",
       "      <td>7</td>\n",
       "      <td>8</td>\n",
       "      <td>8</td>\n",
       "      <td>8</td>\n",
       "      <td>10</td>\n",
       "      <td>14</td>\n",
       "      <td>16</td>\n",
       "    </tr>\n",
       "    <tr>\n",
       "      <td>...</td>\n",
       "      <td>...</td>\n",
       "      <td>...</td>\n",
       "      <td>...</td>\n",
       "      <td>...</td>\n",
       "      <td>...</td>\n",
       "      <td>...</td>\n",
       "      <td>...</td>\n",
       "      <td>...</td>\n",
       "      <td>...</td>\n",
       "      <td>...</td>\n",
       "      <td>...</td>\n",
       "      <td>...</td>\n",
       "      <td>...</td>\n",
       "      <td>...</td>\n",
       "      <td>...</td>\n",
       "      <td>...</td>\n",
       "      <td>...</td>\n",
       "      <td>...</td>\n",
       "      <td>...</td>\n",
       "      <td>...</td>\n",
       "      <td>...</td>\n",
       "    </tr>\n",
       "    <tr>\n",
       "      <td>258</td>\n",
       "      <td>Falkland Islands (Islas Malvinas)</td>\n",
       "      <td>United Kingdom</td>\n",
       "      <td>-51.79630</td>\n",
       "      <td>-59.523600</td>\n",
       "      <td>0</td>\n",
       "      <td>0</td>\n",
       "      <td>0</td>\n",
       "      <td>0</td>\n",
       "      <td>0</td>\n",
       "      <td>0</td>\n",
       "      <td>...</td>\n",
       "      <td>0</td>\n",
       "      <td>0</td>\n",
       "      <td>0</td>\n",
       "      <td>0</td>\n",
       "      <td>0</td>\n",
       "      <td>0</td>\n",
       "      <td>0</td>\n",
       "      <td>1</td>\n",
       "      <td>2</td>\n",
       "      <td>2</td>\n",
       "    </tr>\n",
       "    <tr>\n",
       "      <td>259</td>\n",
       "      <td>Saint Pierre and Miquelon</td>\n",
       "      <td>France</td>\n",
       "      <td>46.88520</td>\n",
       "      <td>-56.315900</td>\n",
       "      <td>0</td>\n",
       "      <td>0</td>\n",
       "      <td>0</td>\n",
       "      <td>0</td>\n",
       "      <td>0</td>\n",
       "      <td>0</td>\n",
       "      <td>...</td>\n",
       "      <td>0</td>\n",
       "      <td>0</td>\n",
       "      <td>0</td>\n",
       "      <td>0</td>\n",
       "      <td>0</td>\n",
       "      <td>0</td>\n",
       "      <td>0</td>\n",
       "      <td>0</td>\n",
       "      <td>1</td>\n",
       "      <td>1</td>\n",
       "    </tr>\n",
       "    <tr>\n",
       "      <td>260</td>\n",
       "      <td>NaN</td>\n",
       "      <td>South Sudan</td>\n",
       "      <td>6.87700</td>\n",
       "      <td>31.307000</td>\n",
       "      <td>0</td>\n",
       "      <td>0</td>\n",
       "      <td>0</td>\n",
       "      <td>0</td>\n",
       "      <td>0</td>\n",
       "      <td>0</td>\n",
       "      <td>...</td>\n",
       "      <td>0</td>\n",
       "      <td>0</td>\n",
       "      <td>0</td>\n",
       "      <td>0</td>\n",
       "      <td>0</td>\n",
       "      <td>0</td>\n",
       "      <td>0</td>\n",
       "      <td>0</td>\n",
       "      <td>1</td>\n",
       "      <td>1</td>\n",
       "    </tr>\n",
       "    <tr>\n",
       "      <td>261</td>\n",
       "      <td>NaN</td>\n",
       "      <td>Western Sahara</td>\n",
       "      <td>24.21550</td>\n",
       "      <td>-12.885800</td>\n",
       "      <td>0</td>\n",
       "      <td>0</td>\n",
       "      <td>0</td>\n",
       "      <td>0</td>\n",
       "      <td>0</td>\n",
       "      <td>0</td>\n",
       "      <td>...</td>\n",
       "      <td>0</td>\n",
       "      <td>0</td>\n",
       "      <td>0</td>\n",
       "      <td>0</td>\n",
       "      <td>0</td>\n",
       "      <td>0</td>\n",
       "      <td>0</td>\n",
       "      <td>0</td>\n",
       "      <td>4</td>\n",
       "      <td>4</td>\n",
       "    </tr>\n",
       "    <tr>\n",
       "      <td>262</td>\n",
       "      <td>NaN</td>\n",
       "      <td>Sao Tome and Principe</td>\n",
       "      <td>0.18636</td>\n",
       "      <td>6.613081</td>\n",
       "      <td>0</td>\n",
       "      <td>0</td>\n",
       "      <td>0</td>\n",
       "      <td>0</td>\n",
       "      <td>0</td>\n",
       "      <td>0</td>\n",
       "      <td>...</td>\n",
       "      <td>0</td>\n",
       "      <td>0</td>\n",
       "      <td>0</td>\n",
       "      <td>0</td>\n",
       "      <td>0</td>\n",
       "      <td>0</td>\n",
       "      <td>0</td>\n",
       "      <td>0</td>\n",
       "      <td>0</td>\n",
       "      <td>4</td>\n",
       "    </tr>\n",
       "  </tbody>\n",
       "</table>\n",
       "<p>263 rows × 80 columns</p>\n",
       "</div>"
      ],
      "text/plain": [
       "                        Province/State         Country/Region       Lat  \\\n",
       "0                                  NaN            Afghanistan  33.00000   \n",
       "1                                  NaN                Albania  41.15330   \n",
       "2                                  NaN                Algeria  28.03390   \n",
       "3                                  NaN                Andorra  42.50630   \n",
       "4                                  NaN                 Angola -11.20270   \n",
       "..                                 ...                    ...       ...   \n",
       "258  Falkland Islands (Islas Malvinas)         United Kingdom -51.79630   \n",
       "259          Saint Pierre and Miquelon                 France  46.88520   \n",
       "260                                NaN            South Sudan   6.87700   \n",
       "261                                NaN         Western Sahara  24.21550   \n",
       "262                                NaN  Sao Tome and Principe   0.18636   \n",
       "\n",
       "          Long  1/22/20  1/23/20  1/24/20  1/25/20  1/26/20  1/27/20  ...  \\\n",
       "0    65.000000        0        0        0        0        0        0  ...   \n",
       "1    20.168300        0        0        0        0        0        0  ...   \n",
       "2     1.659600        0        0        0        0        0        0  ...   \n",
       "3     1.521800        0        0        0        0        0        0  ...   \n",
       "4    17.873900        0        0        0        0        0        0  ...   \n",
       "..         ...      ...      ...      ...      ...      ...      ...  ...   \n",
       "258 -59.523600        0        0        0        0        0        0  ...   \n",
       "259 -56.315900        0        0        0        0        0        0  ...   \n",
       "260  31.307000        0        0        0        0        0        0  ...   \n",
       "261 -12.885800        0        0        0        0        0        0  ...   \n",
       "262   6.613081        0        0        0        0        0        0  ...   \n",
       "\n",
       "     3/28/20  3/29/20  3/30/20  3/31/20  4/1/20  4/2/20  4/3/20  4/4/20  \\\n",
       "0        110      120      170      174     237     273     281     299   \n",
       "1        197      212      223      243     259     277     304     333   \n",
       "2        454      511      584      716     847     986    1171    1251   \n",
       "3        308      334      370      376     390     428     439     466   \n",
       "4          5        7        7        7       8       8       8      10   \n",
       "..       ...      ...      ...      ...     ...     ...     ...     ...   \n",
       "258        0        0        0        0       0       0       0       1   \n",
       "259        0        0        0        0       0       0       0       0   \n",
       "260        0        0        0        0       0       0       0       0   \n",
       "261        0        0        0        0       0       0       0       0   \n",
       "262        0        0        0        0       0       0       0       0   \n",
       "\n",
       "     4/5/20  4/6/20  \n",
       "0       349     367  \n",
       "1       361     377  \n",
       "2      1320    1423  \n",
       "3       501     525  \n",
       "4        14      16  \n",
       "..      ...     ...  \n",
       "258       2       2  \n",
       "259       1       1  \n",
       "260       1       1  \n",
       "261       4       4  \n",
       "262       0       4  \n",
       "\n",
       "[263 rows x 80 columns]"
      ]
     },
     "execution_count": 415,
     "metadata": {},
     "output_type": "execute_result"
    }
   ],
   "source": [
    "df_confirmed"
   ]
  },
  {
   "cell_type": "markdown",
   "metadata": {},
   "source": [
    "# 1.Scrapping Data \n",
    "<img src=\"./scraper-bot-app-icon-malicious-robot-content-stealing-software-web-vector-id1206210208-1.jpg\" Width=\"800\"/>\n"
   ]
  },
  {
   "cell_type": "code",
   "execution_count": 416,
   "metadata": {},
   "outputs": [],
   "source": [
    "#Names of regions for the classification of countries\n",
    "regions=['Africa','Europe','Latin caribbean','Northern america','Oceania'] \n",
    "\n",
    "#---------------------------------------------------------------------------------------------------------------------------#\n",
    "\n",
    "#Here is a list of website addresses that will take the information from them for the purpose of the project\n",
    "url_world_data='https://www.worldometers.info/coronavirus/'\n",
    "url_world_pop_reg='https://www.worldometers.info/population/countries-in-asia-by-population/'\n",
    "url_world_pop_reg_list=['https://www.worldometers.info/population/countries-in-africa-by-population/'\n",
    "          ,'https://www.worldometers.info/population/countries-in-europe-by-population/'\n",
    "          ,'https://www.worldometers.info/population/countries-in-latin-america-and-the-caribbean-by-population/'\n",
    "          ,'https://www.worldometers.info/population/countries-in-northern-america-by-population/'\n",
    "          ,'https://www.worldometers.info/population/countries-in-oceania-by-population/']"
   ]
  },
  {
   "cell_type": "code",
   "execution_count": 417,
   "metadata": {},
   "outputs": [],
   "source": [
    "#Defines a function that receives a website address and extracts the required information from it\n",
    "#The main purpose of the function is to extract information from a site\n",
    "#---------------------------------------------------------------------------------------------------------------------------#\n",
    "#The function is divided into two cases:\n",
    "# 1) Taking information on countries dealing with Corona cases\n",
    "# 2) Obtaining information on the amount of citizens in the state and the region of the country\n",
    "#---------------------------------------------------------------------------------------------------------------------------#\n",
    "#The function accepts 3 parameters:\n",
    "#1) URL\n",
    "#2) State area\n",
    "#3) Case identifier for use of the function\n",
    "#---------------------------------------------------------------------------------------------------------------------------#\n",
    "def Df_by_rigion(url,reg,flag):\n",
    "    \n",
    "    response = requests.get(url)\n",
    "    soup = BeautifulSoup(response.text,\"html.parser\")\n",
    "    #Create list of Columns\n",
    "    cols_raw=soup.find('thead') #find Thead module\n",
    "    cols=cols_raw.find_all(\"th\") #find all th in the Thead\n",
    "    columns_list=[] #New list\n",
    "    \n",
    "#Obtaining information on the amount of citizens in the state and the region of the country\n",
    "    if(flag==0):\n",
    "        text=soup.find(id=\"example2\").get_text()\n",
    "        for x in cols: \n",
    "            if (x.get_text()=='Country (or dependency)' or x.get_text()=='Population (2020)' ):\n",
    "                columns_list.append(x.get_text()) #append all th into list\n",
    "            \n",
    "        # scrap All table\n",
    "        list_of_lists=[] # list of lists for each row\n",
    "        table_raw=soup.find('tbody')\n",
    "        table=table_raw.find_all('tr')\n",
    "  \n",
    "        for row in table:\n",
    "            counter=0\n",
    "            uni_row_list=[] #1 row list\n",
    "            uni_row=row.find_all('td')\n",
    "            for i in uni_row:\n",
    "                if(counter==1 or counter==2):\n",
    "                    uni_row_list.append(i.get_text())\n",
    "                counter+=1\n",
    "            list_of_lists.append(uni_row_list)\n",
    "        \n",
    "        corona_df_func = pd.DataFrame.from_records(list_of_lists, columns=columns_list)\n",
    "        corona_df_func['Region']=reg\n",
    "    #Taking information on countries dealing with Corona cases\n",
    "    else:\n",
    "        text=soup.find(id=\"main_table_countries_today\").get_text()\n",
    "        for x in cols: #append all th into list\n",
    "            columns_list.append(x.get_text())\n",
    "\n",
    "        # scrap All table\n",
    "        list_of_lists=[] # list of lists for each row\n",
    "        table_raw=soup.find('tbody')\n",
    "        table=table_raw.find_all('tr')\n",
    "        \n",
    "        for row in table:\n",
    "            uni_row_list=[] #1 row list\n",
    "            uni_row=row.find_all('td')\n",
    "            for i in uni_row:\n",
    "                uni_row_list.append(i.get_text())\n",
    "            list_of_lists.append(uni_row_list)\n",
    "        \n",
    "        corona_df_func = pd.DataFrame.from_records(list_of_lists, columns=columns_list)\n",
    "        corona_df_func['Population']='0'\n",
    "        corona_df_func['Region']='0'\n",
    "    return corona_df_func"
   ]
  },
  {
   "cell_type": "code",
   "execution_count": 418,
   "metadata": {},
   "outputs": [],
   "source": [
    "Reg_pop_df0=Df_by_rigion(url_world_pop_reg,'Asia',0)\n",
    "counter=0\n",
    "for val in url_world_pop_reg_list:\n",
    "    Reg_pop_df=Reg_pop_df0.append(Df_by_rigion(val,regions[counter],0))\n",
    "    Reg_pop_df0=Reg_pop_df\n",
    "    counter+=1"
   ]
  },
  {
   "cell_type": "code",
   "execution_count": 419,
   "metadata": {},
   "outputs": [],
   "source": [
    "#Testing, see with There is a connection with the site"
   ]
  },
  {
   "cell_type": "code",
   "execution_count": 420,
   "metadata": {},
   "outputs": [],
   "source": [
    "corona_df=Df_by_rigion(url_world_data,0,1)"
   ]
  },
  {
   "cell_type": "code",
   "execution_count": 421,
   "metadata": {},
   "outputs": [],
   "source": [
    "corona_df.drop([0], axis = 0, inplace = True)\n",
    "corona_df.drop(corona_df.columns[[2,4,8, 9,10,11]], axis = 1, inplace = True)\n"
   ]
  },
  {
   "cell_type": "code",
   "execution_count": 422,
   "metadata": {},
   "outputs": [],
   "source": [
    "corona_df=corona_df.reset_index(drop=True)"
   ]
  },
  {
   "cell_type": "markdown",
   "metadata": {},
   "source": [
    "### Second dataframe(after scrapping)-covid 19 total cases Worldwide"
   ]
  },
  {
   "cell_type": "code",
   "execution_count": 423,
   "metadata": {},
   "outputs": [
    {
     "data": {
      "text/html": [
       "<div>\n",
       "<style scoped>\n",
       "    .dataframe tbody tr th:only-of-type {\n",
       "        vertical-align: middle;\n",
       "    }\n",
       "\n",
       "    .dataframe tbody tr th {\n",
       "        vertical-align: top;\n",
       "    }\n",
       "\n",
       "    .dataframe thead th {\n",
       "        text-align: right;\n",
       "    }\n",
       "</style>\n",
       "<table border=\"1\" class=\"dataframe\">\n",
       "  <thead>\n",
       "    <tr style=\"text-align: right;\">\n",
       "      <th></th>\n",
       "      <th>Country,Other</th>\n",
       "      <th>TotalCases</th>\n",
       "      <th>TotalDeaths</th>\n",
       "      <th>TotalRecovered</th>\n",
       "      <th>ActiveCases</th>\n",
       "      <th>Serious,Critical</th>\n",
       "      <th>Population</th>\n",
       "      <th>Region</th>\n",
       "    </tr>\n",
       "  </thead>\n",
       "  <tbody>\n",
       "    <tr>\n",
       "      <td>0</td>\n",
       "      <td>USA</td>\n",
       "      <td>377,499</td>\n",
       "      <td>11,781</td>\n",
       "      <td>19,877</td>\n",
       "      <td>345,841</td>\n",
       "      <td>9,015</td>\n",
       "      <td>0</td>\n",
       "      <td>0</td>\n",
       "    </tr>\n",
       "    <tr>\n",
       "      <td>1</td>\n",
       "      <td>Spain</td>\n",
       "      <td>140,510</td>\n",
       "      <td>13,798</td>\n",
       "      <td>43,208</td>\n",
       "      <td>83,504</td>\n",
       "      <td>7,069</td>\n",
       "      <td>0</td>\n",
       "      <td>0</td>\n",
       "    </tr>\n",
       "    <tr>\n",
       "      <td>2</td>\n",
       "      <td>Italy</td>\n",
       "      <td>132,547</td>\n",
       "      <td>16,523</td>\n",
       "      <td>22,837</td>\n",
       "      <td>93,187</td>\n",
       "      <td>3,898</td>\n",
       "      <td>0</td>\n",
       "      <td>0</td>\n",
       "    </tr>\n",
       "    <tr>\n",
       "      <td>3</td>\n",
       "      <td>Germany</td>\n",
       "      <td>104,592</td>\n",
       "      <td>1,854</td>\n",
       "      <td>36,081</td>\n",
       "      <td>66,657</td>\n",
       "      <td>4,895</td>\n",
       "      <td>0</td>\n",
       "      <td>0</td>\n",
       "    </tr>\n",
       "    <tr>\n",
       "      <td>4</td>\n",
       "      <td>France</td>\n",
       "      <td>98,010</td>\n",
       "      <td>8,911</td>\n",
       "      <td>17,250</td>\n",
       "      <td>71,849</td>\n",
       "      <td>7,072</td>\n",
       "      <td>0</td>\n",
       "      <td>0</td>\n",
       "    </tr>\n",
       "  </tbody>\n",
       "</table>\n",
       "</div>"
      ],
      "text/plain": [
       "  Country,Other TotalCases TotalDeaths TotalRecovered ActiveCases  \\\n",
       "0           USA    377,499     11,781          19,877     345,841   \n",
       "1         Spain    140,510     13,798          43,208      83,504   \n",
       "2         Italy    132,547     16,523          22,837      93,187   \n",
       "3       Germany    104,592      1,854          36,081      66,657   \n",
       "4        France     98,010      8,911          17,250      71,849   \n",
       "\n",
       "  Serious,Critical Population Region  \n",
       "0            9,015          0      0  \n",
       "1            7,069          0      0  \n",
       "2            3,898          0      0  \n",
       "3            4,895          0      0  \n",
       "4            7,072          0      0  "
      ]
     },
     "execution_count": 423,
     "metadata": {},
     "output_type": "execute_result"
    }
   ],
   "source": [
    "corona_df.head()"
   ]
  },
  {
   "cell_type": "markdown",
   "metadata": {},
   "source": [
    "Reformating Regions and Population:"
   ]
  },
  {
   "cell_type": "code",
   "execution_count": 424,
   "metadata": {},
   "outputs": [],
   "source": [
    "for j in range (len(Reg_pop_df)):    \n",
    "    if(Reg_pop_df['Country (or dependency)'].iloc[j]=='United States'):\n",
    "            Reg_pop_df['Country (or dependency)'].iloc[j]='USA'\n",
    "    if(Reg_pop_df['Country (or dependency)'].iloc[j]=='St. Vincent & Grenadines'):\n",
    "            Reg_pop_df['Country (or dependency)'].iloc[j]='St.VincentGrenadines'\n",
    "    if(Reg_pop_df['Country (or dependency)'].iloc[j]=='United Kingdom'):\n",
    "            Reg_pop_df['Country (or dependency)'].iloc[j]='UK'\n",
    "    if(Reg_pop_df['Country (or dependency)'].iloc[j]=='South Korea'):\n",
    "            Reg_pop_df['Country (or dependency)'].iloc[j]='S. Korea'\n",
    "    if(Reg_pop_df['Country (or dependency)'].iloc[j]=='Czech Republic (Czechia)'):\n",
    "            Reg_pop_df['Country (or dependency)'].iloc[j]='Czechia'\n",
    "    if(Reg_pop_df['Country (or dependency)'].iloc[j]=='United Arab Emirates'):\n",
    "            Reg_pop_df['Country (or dependency)'].iloc[j]='UAE'\n",
    "    if(Reg_pop_df['Country (or dependency)'].iloc[j]=='State of Palestine'):\n",
    "            Reg_pop_df['Country (or dependency)'].iloc[j]='Palestine'   \n",
    "    if(Reg_pop_df['Country (or dependency)'].iloc[j]=='DR Congo'):\n",
    "            Reg_pop_df['Country (or dependency)'].iloc[j]='DRC'\n",
    "    if(Reg_pop_df['Country (or dependency)'].iloc[j]=='Saint Kitts & Nevis'):\n",
    "            Reg_pop_df['Country (or dependency)'].iloc[j]='SaintKittsandNevis' \n",
    "    if(Reg_pop_df['Country (or dependency)'].iloc[j]=='Holy See'):\n",
    "            Reg_pop_df['Country (or dependency)'].iloc[j]='VaticanCity' \n",
    "    if(Reg_pop_df['Country (or dependency)'].iloc[j]=='Central African Republic'):\n",
    "            Reg_pop_df['Country (or dependency)'].iloc[j]='CAR'\n",
    "    if(Reg_pop_df['Country (or dependency)'].iloc[j]=='St. Vincent & Grenadines'):\n",
    "            Reg_pop_df['Country (or dependency)'].iloc[j]='St.VincentGrenadines' \n",
    "#Reg_pop_df['Country (or dependency)'].iloc[67]='IvoryCoast'\n",
    "#corona_df['Country,Other'].iloc[15]='South Korea'\n",
    "for i in range (len(corona_df)):\n",
    "    for j in range (len(Reg_pop_df)):  \n",
    "        if(corona_df['Country,Other'].iloc[i]==Reg_pop_df['Country (or dependency)'].iloc[j]):\n",
    "            corona_df['Population'].iloc[i]=Reg_pop_df['Population (2020)'].iloc[j]\n",
    "            corona_df['Region'].iloc[i]=Reg_pop_df['Region'].iloc[j]\n",
    "            \n"
   ]
  },
  {
   "cell_type": "code",
   "execution_count": 425,
   "metadata": {},
   "outputs": [
    {
     "data": {
      "text/html": [
       "<div>\n",
       "<style scoped>\n",
       "    .dataframe tbody tr th:only-of-type {\n",
       "        vertical-align: middle;\n",
       "    }\n",
       "\n",
       "    .dataframe tbody tr th {\n",
       "        vertical-align: top;\n",
       "    }\n",
       "\n",
       "    .dataframe thead th {\n",
       "        text-align: right;\n",
       "    }\n",
       "</style>\n",
       "<table border=\"1\" class=\"dataframe\">\n",
       "  <thead>\n",
       "    <tr style=\"text-align: right;\">\n",
       "      <th></th>\n",
       "      <th>Country,Other</th>\n",
       "      <th>TotalCases</th>\n",
       "      <th>TotalDeaths</th>\n",
       "      <th>TotalRecovered</th>\n",
       "      <th>ActiveCases</th>\n",
       "      <th>Serious,Critical</th>\n",
       "      <th>Population</th>\n",
       "      <th>Region</th>\n",
       "    </tr>\n",
       "  </thead>\n",
       "  <tbody>\n",
       "    <tr>\n",
       "      <td>0</td>\n",
       "      <td>USA</td>\n",
       "      <td>377,499</td>\n",
       "      <td>11,781</td>\n",
       "      <td>19,877</td>\n",
       "      <td>345,841</td>\n",
       "      <td>9,015</td>\n",
       "      <td>331,002,651</td>\n",
       "      <td>Northern america</td>\n",
       "    </tr>\n",
       "    <tr>\n",
       "      <td>1</td>\n",
       "      <td>Spain</td>\n",
       "      <td>140,510</td>\n",
       "      <td>13,798</td>\n",
       "      <td>43,208</td>\n",
       "      <td>83,504</td>\n",
       "      <td>7,069</td>\n",
       "      <td>46,754,778</td>\n",
       "      <td>Europe</td>\n",
       "    </tr>\n",
       "    <tr>\n",
       "      <td>2</td>\n",
       "      <td>Italy</td>\n",
       "      <td>132,547</td>\n",
       "      <td>16,523</td>\n",
       "      <td>22,837</td>\n",
       "      <td>93,187</td>\n",
       "      <td>3,898</td>\n",
       "      <td>60,461,826</td>\n",
       "      <td>Europe</td>\n",
       "    </tr>\n",
       "    <tr>\n",
       "      <td>3</td>\n",
       "      <td>Germany</td>\n",
       "      <td>104,592</td>\n",
       "      <td>1,854</td>\n",
       "      <td>36,081</td>\n",
       "      <td>66,657</td>\n",
       "      <td>4,895</td>\n",
       "      <td>83,783,942</td>\n",
       "      <td>Europe</td>\n",
       "    </tr>\n",
       "    <tr>\n",
       "      <td>4</td>\n",
       "      <td>France</td>\n",
       "      <td>98,010</td>\n",
       "      <td>8,911</td>\n",
       "      <td>17,250</td>\n",
       "      <td>71,849</td>\n",
       "      <td>7,072</td>\n",
       "      <td>65,273,511</td>\n",
       "      <td>Europe</td>\n",
       "    </tr>\n",
       "    <tr>\n",
       "      <td>...</td>\n",
       "      <td>...</td>\n",
       "      <td>...</td>\n",
       "      <td>...</td>\n",
       "      <td>...</td>\n",
       "      <td>...</td>\n",
       "      <td>...</td>\n",
       "      <td>...</td>\n",
       "      <td>...</td>\n",
       "    </tr>\n",
       "    <tr>\n",
       "      <td>206</td>\n",
       "      <td>Papua New Guinea</td>\n",
       "      <td>2</td>\n",
       "      <td></td>\n",
       "      <td></td>\n",
       "      <td>2</td>\n",
       "      <td></td>\n",
       "      <td>8,947,024</td>\n",
       "      <td>Oceania</td>\n",
       "    </tr>\n",
       "    <tr>\n",
       "      <td>207</td>\n",
       "      <td>Saint Pierre Miquelon</td>\n",
       "      <td>1</td>\n",
       "      <td></td>\n",
       "      <td></td>\n",
       "      <td>1</td>\n",
       "      <td></td>\n",
       "      <td>0</td>\n",
       "      <td>0</td>\n",
       "    </tr>\n",
       "    <tr>\n",
       "      <td>208</td>\n",
       "      <td>South Sudan</td>\n",
       "      <td>1</td>\n",
       "      <td></td>\n",
       "      <td></td>\n",
       "      <td>1</td>\n",
       "      <td></td>\n",
       "      <td>11,193,725</td>\n",
       "      <td>Africa</td>\n",
       "    </tr>\n",
       "    <tr>\n",
       "      <td>209</td>\n",
       "      <td>Timor-Leste</td>\n",
       "      <td>1</td>\n",
       "      <td></td>\n",
       "      <td></td>\n",
       "      <td>1</td>\n",
       "      <td></td>\n",
       "      <td>1,318,445</td>\n",
       "      <td>Asia</td>\n",
       "    </tr>\n",
       "    <tr>\n",
       "      <td>210</td>\n",
       "      <td>China</td>\n",
       "      <td>81,740</td>\n",
       "      <td>3,331</td>\n",
       "      <td>77,167</td>\n",
       "      <td>1,242</td>\n",
       "      <td>211</td>\n",
       "      <td>1,439,323,776</td>\n",
       "      <td>Asia</td>\n",
       "    </tr>\n",
       "  </tbody>\n",
       "</table>\n",
       "<p>211 rows × 8 columns</p>\n",
       "</div>"
      ],
      "text/plain": [
       "             Country,Other TotalCases TotalDeaths TotalRecovered ActiveCases  \\\n",
       "0                      USA    377,499     11,781          19,877     345,841   \n",
       "1                    Spain    140,510     13,798          43,208      83,504   \n",
       "2                    Italy    132,547     16,523          22,837      93,187   \n",
       "3                  Germany    104,592      1,854          36,081      66,657   \n",
       "4                   France     98,010      8,911          17,250      71,849   \n",
       "..                     ...        ...         ...            ...         ...   \n",
       "206       Papua New Guinea          2                                      2   \n",
       "207  Saint Pierre Miquelon          1                                      1   \n",
       "208            South Sudan          1                                      1   \n",
       "209            Timor-Leste          1                                      1   \n",
       "210                  China     81,740      3,331          77,167       1,242   \n",
       "\n",
       "    Serious,Critical     Population            Region  \n",
       "0              9,015    331,002,651  Northern america  \n",
       "1              7,069     46,754,778            Europe  \n",
       "2              3,898     60,461,826            Europe  \n",
       "3              4,895     83,783,942            Europe  \n",
       "4              7,072     65,273,511            Europe  \n",
       "..               ...            ...               ...  \n",
       "206                       8,947,024           Oceania  \n",
       "207                               0                 0  \n",
       "208                      11,193,725            Africa  \n",
       "209                       1,318,445              Asia  \n",
       "210              211  1,439,323,776              Asia  \n",
       "\n",
       "[211 rows x 8 columns]"
      ]
     },
     "execution_count": 425,
     "metadata": {},
     "output_type": "execute_result"
    }
   ],
   "source": [
    "corona_df"
   ]
  },
  {
   "cell_type": "markdown",
   "metadata": {},
   "source": [
    "# 2.Cleaning and Reformating\n",
    "<img src=\"./pexels-photo-434163.jpeg\" Width=\"800\"/>\n"
   ]
  },
  {
   "cell_type": "markdown",
   "metadata": {},
   "source": [
    "### Describing data types"
   ]
  },
  {
   "cell_type": "code",
   "execution_count": 426,
   "metadata": {},
   "outputs": [
    {
     "name": "stdout",
     "output_type": "stream",
     "text": [
      "<class 'pandas.core.frame.DataFrame'>\n",
      "RangeIndex: 211 entries, 0 to 210\n",
      "Data columns (total 8 columns):\n",
      "Country,Other       211 non-null object\n",
      "TotalCases          211 non-null object\n",
      "TotalDeaths         211 non-null object\n",
      "TotalRecovered      211 non-null object\n",
      "ActiveCases         211 non-null object\n",
      "Serious,Critical    211 non-null object\n",
      "Population          211 non-null object\n",
      "Region              211 non-null object\n",
      "dtypes: object(8)\n",
      "memory usage: 13.3+ KB\n",
      "None\n"
     ]
    }
   ],
   "source": [
    "#Data info\n",
    "print (corona_df.info())\n",
    "#Here we need to change all str's to int's \n",
    "#But first we need to do data cleaning "
   ]
  },
  {
   "cell_type": "markdown",
   "metadata": {},
   "source": [
    "### Cleaning data "
   ]
  },
  {
   "cell_type": "code",
   "execution_count": 427,
   "metadata": {},
   "outputs": [],
   "source": [
    "#Here we clear all unnecessary data\n",
    "length=len(corona_df)\n",
    "for col in corona_df:\n",
    "    temp_name_col=col\n",
    "    corona_df[temp_name_col]=corona_df[temp_name_col].str.replace('+','')\n",
    "    corona_df[temp_name_col]=corona_df[temp_name_col].str.replace(',','')\n",
    "    corona_df[temp_name_col]=corona_df[temp_name_col].str.replace('\\n','')\n",
    "    corona_df[temp_name_col]=corona_df[temp_name_col].str.replace(' ','')\n",
    "    for i in range(length):\n",
    "        if(corona_df[temp_name_col][i]==''):\n",
    "            corona_df[temp_name_col][i]='0'"
   ]
  },
  {
   "cell_type": "code",
   "execution_count": 464,
   "metadata": {},
   "outputs": [
    {
     "data": {
      "text/html": [
       "<div>\n",
       "<style scoped>\n",
       "    .dataframe tbody tr th:only-of-type {\n",
       "        vertical-align: middle;\n",
       "    }\n",
       "\n",
       "    .dataframe tbody tr th {\n",
       "        vertical-align: top;\n",
       "    }\n",
       "\n",
       "    .dataframe thead th {\n",
       "        text-align: right;\n",
       "    }\n",
       "</style>\n",
       "<table border=\"1\" class=\"dataframe\">\n",
       "  <thead>\n",
       "    <tr style=\"text-align: right;\">\n",
       "      <th></th>\n",
       "      <th>Country,Other</th>\n",
       "      <th>TotalCases</th>\n",
       "      <th>TotalDeaths</th>\n",
       "      <th>TotalRecovered</th>\n",
       "      <th>ActiveCases</th>\n",
       "      <th>Serious,Critical</th>\n",
       "      <th>Population</th>\n",
       "      <th>Region</th>\n",
       "    </tr>\n",
       "  </thead>\n",
       "  <tbody>\n",
       "    <tr>\n",
       "      <td>0</td>\n",
       "      <td>USA</td>\n",
       "      <td>377499</td>\n",
       "      <td>11781</td>\n",
       "      <td>19877</td>\n",
       "      <td>345841</td>\n",
       "      <td>9015</td>\n",
       "      <td>331002651</td>\n",
       "      <td>Northernamerica</td>\n",
       "    </tr>\n",
       "    <tr>\n",
       "      <td>1</td>\n",
       "      <td>Spain</td>\n",
       "      <td>140510</td>\n",
       "      <td>13798</td>\n",
       "      <td>43208</td>\n",
       "      <td>83504</td>\n",
       "      <td>7069</td>\n",
       "      <td>46754778</td>\n",
       "      <td>Europe</td>\n",
       "    </tr>\n",
       "    <tr>\n",
       "      <td>2</td>\n",
       "      <td>Italy</td>\n",
       "      <td>132547</td>\n",
       "      <td>16523</td>\n",
       "      <td>22837</td>\n",
       "      <td>93187</td>\n",
       "      <td>3898</td>\n",
       "      <td>60461826</td>\n",
       "      <td>Europe</td>\n",
       "    </tr>\n",
       "    <tr>\n",
       "      <td>3</td>\n",
       "      <td>Germany</td>\n",
       "      <td>104592</td>\n",
       "      <td>1854</td>\n",
       "      <td>36081</td>\n",
       "      <td>66657</td>\n",
       "      <td>4895</td>\n",
       "      <td>83783942</td>\n",
       "      <td>Europe</td>\n",
       "    </tr>\n",
       "    <tr>\n",
       "      <td>4</td>\n",
       "      <td>France</td>\n",
       "      <td>98010</td>\n",
       "      <td>8911</td>\n",
       "      <td>17250</td>\n",
       "      <td>71849</td>\n",
       "      <td>7072</td>\n",
       "      <td>65273511</td>\n",
       "      <td>Europe</td>\n",
       "    </tr>\n",
       "  </tbody>\n",
       "</table>\n",
       "</div>"
      ],
      "text/plain": [
       "  Country,Other  TotalCases  TotalDeaths  TotalRecovered  ActiveCases  \\\n",
       "0           USA      377499        11781           19877       345841   \n",
       "1         Spain      140510        13798           43208        83504   \n",
       "2         Italy      132547        16523           22837        93187   \n",
       "3       Germany      104592         1854           36081        66657   \n",
       "4        France       98010         8911           17250        71849   \n",
       "\n",
       "   Serious,Critical  Population           Region  \n",
       "0              9015   331002651  Northernamerica  \n",
       "1              7069    46754778           Europe  \n",
       "2              3898    60461826           Europe  \n",
       "3              4895    83783942           Europe  \n",
       "4              7072    65273511           Europe  "
      ]
     },
     "execution_count": 464,
     "metadata": {},
     "output_type": "execute_result"
    }
   ],
   "source": [
    "corona_df.head()"
   ]
  },
  {
   "cell_type": "markdown",
   "metadata": {},
   "source": [
    "### Reformating data"
   ]
  },
  {
   "cell_type": "code",
   "execution_count": 429,
   "metadata": {},
   "outputs": [],
   "source": [
    "#Convert data in columns to useful integers, for further work\n",
    "for col in corona_df:\n",
    "    if(col!='Reported1st case' and col!='Country,Other' and col!='Region' ):\n",
    "            corona_df[col]=corona_df[col].astype(str).astype(int)"
   ]
  },
  {
   "cell_type": "markdown",
   "metadata": {},
   "source": [
    "#### datatypes after reformating"
   ]
  },
  {
   "cell_type": "code",
   "execution_count": 430,
   "metadata": {},
   "outputs": [
    {
     "name": "stdout",
     "output_type": "stream",
     "text": [
      "<class 'pandas.core.frame.DataFrame'>\n",
      "RangeIndex: 211 entries, 0 to 210\n",
      "Data columns (total 8 columns):\n",
      "Country,Other       211 non-null object\n",
      "TotalCases          211 non-null int32\n",
      "TotalDeaths         211 non-null int32\n",
      "TotalRecovered      211 non-null int32\n",
      "ActiveCases         211 non-null int32\n",
      "Serious,Critical    211 non-null int32\n",
      "Population          211 non-null int32\n",
      "Region              211 non-null object\n",
      "dtypes: int32(6), object(2)\n",
      "memory usage: 8.4+ KB\n",
      "None\n"
     ]
    }
   ],
   "source": [
    "#Check data info\n",
    "print (corona_df.info())"
   ]
  },
  {
   "cell_type": "code",
   "execution_count": 431,
   "metadata": {},
   "outputs": [
    {
     "data": {
      "text/html": [
       "<div>\n",
       "<style scoped>\n",
       "    .dataframe tbody tr th:only-of-type {\n",
       "        vertical-align: middle;\n",
       "    }\n",
       "\n",
       "    .dataframe tbody tr th {\n",
       "        vertical-align: top;\n",
       "    }\n",
       "\n",
       "    .dataframe thead th {\n",
       "        text-align: right;\n",
       "    }\n",
       "</style>\n",
       "<table border=\"1\" class=\"dataframe\">\n",
       "  <thead>\n",
       "    <tr style=\"text-align: right;\">\n",
       "      <th></th>\n",
       "      <th>TotalCases</th>\n",
       "      <th>TotalDeaths</th>\n",
       "      <th>TotalRecovered</th>\n",
       "      <th>ActiveCases</th>\n",
       "      <th>Serious,Critical</th>\n",
       "      <th>Population</th>\n",
       "    </tr>\n",
       "  </thead>\n",
       "  <tbody>\n",
       "    <tr>\n",
       "      <td>count</td>\n",
       "      <td>211.000000</td>\n",
       "      <td>211.000000</td>\n",
       "      <td>211.000000</td>\n",
       "      <td>211.000000</td>\n",
       "      <td>211.000000</td>\n",
       "      <td>2.110000e+02</td>\n",
       "    </tr>\n",
       "    <tr>\n",
       "      <td>mean</td>\n",
       "      <td>6533.853081</td>\n",
       "      <td>370.189573</td>\n",
       "      <td>1395.047393</td>\n",
       "      <td>4768.616114</td>\n",
       "      <td>225.971564</td>\n",
       "      <td>3.644037e+07</td>\n",
       "    </tr>\n",
       "    <tr>\n",
       "      <td>std</td>\n",
       "      <td>31530.421065</td>\n",
       "      <td>1865.999773</td>\n",
       "      <td>7183.149340</td>\n",
       "      <td>26366.662811</td>\n",
       "      <td>1057.900116</td>\n",
       "      <td>1.422491e+08</td>\n",
       "    </tr>\n",
       "    <tr>\n",
       "      <td>min</td>\n",
       "      <td>1.000000</td>\n",
       "      <td>0.000000</td>\n",
       "      <td>0.000000</td>\n",
       "      <td>1.000000</td>\n",
       "      <td>0.000000</td>\n",
       "      <td>0.000000e+00</td>\n",
       "    </tr>\n",
       "    <tr>\n",
       "      <td>25%</td>\n",
       "      <td>19.000000</td>\n",
       "      <td>0.000000</td>\n",
       "      <td>2.000000</td>\n",
       "      <td>17.000000</td>\n",
       "      <td>0.000000</td>\n",
       "      <td>6.387005e+05</td>\n",
       "    </tr>\n",
       "    <tr>\n",
       "      <td>50%</td>\n",
       "      <td>237.000000</td>\n",
       "      <td>4.000000</td>\n",
       "      <td>26.000000</td>\n",
       "      <td>159.000000</td>\n",
       "      <td>2.000000</td>\n",
       "      <td>6.624554e+06</td>\n",
       "    </tr>\n",
       "    <tr>\n",
       "      <td>75%</td>\n",
       "      <td>1442.500000</td>\n",
       "      <td>33.500000</td>\n",
       "      <td>123.000000</td>\n",
       "      <td>1097.500000</td>\n",
       "      <td>26.500000</td>\n",
       "      <td>2.401171e+07</td>\n",
       "    </tr>\n",
       "    <tr>\n",
       "      <td>max</td>\n",
       "      <td>377499.000000</td>\n",
       "      <td>16523.000000</td>\n",
       "      <td>77167.000000</td>\n",
       "      <td>345841.000000</td>\n",
       "      <td>9015.000000</td>\n",
       "      <td>1.439324e+09</td>\n",
       "    </tr>\n",
       "  </tbody>\n",
       "</table>\n",
       "</div>"
      ],
      "text/plain": [
       "          TotalCases   TotalDeaths  TotalRecovered    ActiveCases  \\\n",
       "count     211.000000    211.000000      211.000000     211.000000   \n",
       "mean     6533.853081    370.189573     1395.047393    4768.616114   \n",
       "std     31530.421065   1865.999773     7183.149340   26366.662811   \n",
       "min         1.000000      0.000000        0.000000       1.000000   \n",
       "25%        19.000000      0.000000        2.000000      17.000000   \n",
       "50%       237.000000      4.000000       26.000000     159.000000   \n",
       "75%      1442.500000     33.500000      123.000000    1097.500000   \n",
       "max    377499.000000  16523.000000    77167.000000  345841.000000   \n",
       "\n",
       "       Serious,Critical    Population  \n",
       "count        211.000000  2.110000e+02  \n",
       "mean         225.971564  3.644037e+07  \n",
       "std         1057.900116  1.422491e+08  \n",
       "min            0.000000  0.000000e+00  \n",
       "25%            0.000000  6.387005e+05  \n",
       "50%            2.000000  6.624554e+06  \n",
       "75%           26.500000  2.401171e+07  \n",
       "max         9015.000000  1.439324e+09  "
      ]
     },
     "execution_count": 431,
     "metadata": {},
     "output_type": "execute_result"
    }
   ],
   "source": [
    "corona_df.describe()"
   ]
  },
  {
   "cell_type": "markdown",
   "metadata": {},
   "source": [
    "# Visualiztion\n",
    "<img src=\"./11-Killer-Open-Data-Sources-and-Free-Visualization-Tools-1024x768.jpg\" Width=\"800\"/>\n"
   ]
  },
  {
   "cell_type": "markdown",
   "metadata": {},
   "source": [
    "### Total Covid-19 spread worldwide"
   ]
  },
  {
   "cell_type": "code",
   "execution_count": 432,
   "metadata": {},
   "outputs": [
    {
     "data": {
      "application/vnd.plotly.v1+json": {
       "config": {
        "plotlyServerURL": "https://plot.ly"
       },
       "data": [
        {
         "coloraxis": "coloraxis",
         "geo": "geo",
         "hoverlabel": {
          "namelength": 0
         },
         "hovertemplate": "<b>%{hovertext}</b><br><br>Country,Other=%{location}<br>ActiveCases=%{z}",
         "hovertext": [
          "Afghanistan",
          "Albania",
          "Algeria",
          "Andorra",
          "Angola",
          "Anguilla",
          "AntiguaandBarbuda",
          "Argentina",
          "Armenia",
          "Aruba",
          "Australia",
          "Austria",
          "Azerbaijan",
          "Bahamas",
          "Bahrain",
          "Bangladesh",
          "Barbados",
          "Belarus",
          "Belgium",
          "Belize",
          "Benin",
          "Bermuda",
          "Bhutan",
          "Bolivia",
          "BosniaandHerzegovina",
          "Botswana",
          "Brazil",
          "BritishVirginIslands",
          "Brunei",
          "Bulgaria",
          "BurkinaFaso",
          "Burundi",
          "CAR",
          "CaboVerde",
          "Cambodia",
          "Cameroon",
          "Canada",
          "CaribbeanNetherlands",
          "CaymanIslands",
          "Chad",
          "ChannelIslands",
          "Chile",
          "China",
          "Colombia",
          "Congo",
          "CostaRica",
          "Croatia",
          "Cuba",
          "Curaçao",
          "Cyprus",
          "Czechia",
          "DRC",
          "Denmark",
          "DiamondPrincess",
          "Djibouti",
          "Dominica",
          "DominicanRepublic",
          "Ecuador",
          "Egypt",
          "ElSalvador",
          "EquatorialGuinea",
          "Eritrea",
          "Estonia",
          "Eswatini",
          "Ethiopia",
          "FaeroeIslands",
          "FalklandIslands",
          "Fiji",
          "Finland",
          "France",
          "FrenchGuiana",
          "FrenchPolynesia",
          "Gabon",
          "Gambia",
          "Georgia",
          "Germany",
          "Ghana",
          "Gibraltar",
          "Greece",
          "Greenland",
          "Grenada",
          "Guadeloupe",
          "Guatemala",
          "Guinea",
          "Guinea-Bissau",
          "Guyana",
          "Haiti",
          "Honduras",
          "HongKong",
          "Hungary",
          "Iceland",
          "India",
          "Indonesia",
          "Iran",
          "Iraq",
          "Ireland",
          "IsleofMan",
          "Israel",
          "Italy",
          "IvoryCoast",
          "Jamaica",
          "Japan",
          "Jordan",
          "Kazakhstan",
          "Kenya",
          "Kuwait",
          "Kyrgyzstan",
          "Laos",
          "Latvia",
          "Lebanon",
          "Liberia",
          "Libya",
          "Liechtenstein",
          "Lithuania",
          "Luxembourg",
          "MSZaandam",
          "Macao",
          "Madagascar",
          "Malawi",
          "Malaysia",
          "Maldives",
          "Mali",
          "Malta",
          "Martinique",
          "Mauritania",
          "Mauritius",
          "Mayotte",
          "Mexico",
          "Moldova",
          "Monaco",
          "Mongolia",
          "Montenegro",
          "Montserrat",
          "Morocco",
          "Mozambique",
          "Myanmar",
          "Namibia",
          "Nepal",
          "Netherlands",
          "NewCaledonia",
          "NewZealand",
          "Nicaragua",
          "Niger",
          "Nigeria",
          "NorthMacedonia",
          "Norway",
          "Oman",
          "Pakistan",
          "Palestine",
          "Panama",
          "PapuaNewGuinea",
          "Paraguay",
          "Peru",
          "Philippines",
          "Poland",
          "Portugal",
          "Qatar",
          "Romania",
          "Russia",
          "Rwanda",
          "Réunion",
          "S.Korea",
          "SaintKittsandNevis",
          "SaintLucia",
          "SaintMartin",
          "SaintPierreMiquelon",
          "SanMarino",
          "SaoTomeandPrincipe",
          "SaudiArabia",
          "Senegal",
          "Serbia",
          "Seychelles",
          "SierraLeone",
          "Singapore",
          "SintMaarten",
          "Slovakia",
          "Slovenia",
          "Somalia",
          "SouthAfrica",
          "SouthSudan",
          "Spain",
          "SriLanka",
          "St.Barth",
          "St.VincentGrenadines",
          "Sudan",
          "Suriname",
          "Sweden",
          "Switzerland",
          "Syria",
          "Taiwan",
          "Tanzania",
          "Thailand",
          "Timor-Leste",
          "Togo",
          "TrinidadandTobago",
          "Tunisia",
          "Turkey",
          "TurksandCaicos",
          "UAE",
          "UK",
          "USA",
          "Uganda",
          "Ukraine",
          "Uruguay",
          "Uzbekistan",
          "VaticanCity",
          "Venezuela",
          "Vietnam",
          "WesternSahara",
          "Zambia",
          "Zimbabwe"
         ],
         "locationmode": "country names",
         "locations": [
          "Afghanistan",
          "Albania",
          "Algeria",
          "Andorra",
          "Angola",
          "Anguilla",
          "AntiguaandBarbuda",
          "Argentina",
          "Armenia",
          "Aruba",
          "Australia",
          "Austria",
          "Azerbaijan",
          "Bahamas",
          "Bahrain",
          "Bangladesh",
          "Barbados",
          "Belarus",
          "Belgium",
          "Belize",
          "Benin",
          "Bermuda",
          "Bhutan",
          "Bolivia",
          "BosniaandHerzegovina",
          "Botswana",
          "Brazil",
          "BritishVirginIslands",
          "Brunei",
          "Bulgaria",
          "BurkinaFaso",
          "Burundi",
          "CAR",
          "CaboVerde",
          "Cambodia",
          "Cameroon",
          "Canada",
          "CaribbeanNetherlands",
          "CaymanIslands",
          "Chad",
          "ChannelIslands",
          "Chile",
          "China",
          "Colombia",
          "Congo",
          "CostaRica",
          "Croatia",
          "Cuba",
          "Curaçao",
          "Cyprus",
          "Czechia",
          "DRC",
          "Denmark",
          "DiamondPrincess",
          "Djibouti",
          "Dominica",
          "DominicanRepublic",
          "Ecuador",
          "Egypt",
          "ElSalvador",
          "EquatorialGuinea",
          "Eritrea",
          "Estonia",
          "Eswatini",
          "Ethiopia",
          "FaeroeIslands",
          "FalklandIslands",
          "Fiji",
          "Finland",
          "France",
          "FrenchGuiana",
          "FrenchPolynesia",
          "Gabon",
          "Gambia",
          "Georgia",
          "Germany",
          "Ghana",
          "Gibraltar",
          "Greece",
          "Greenland",
          "Grenada",
          "Guadeloupe",
          "Guatemala",
          "Guinea",
          "Guinea-Bissau",
          "Guyana",
          "Haiti",
          "Honduras",
          "HongKong",
          "Hungary",
          "Iceland",
          "India",
          "Indonesia",
          "Iran",
          "Iraq",
          "Ireland",
          "IsleofMan",
          "Israel",
          "Italy",
          "IvoryCoast",
          "Jamaica",
          "Japan",
          "Jordan",
          "Kazakhstan",
          "Kenya",
          "Kuwait",
          "Kyrgyzstan",
          "Laos",
          "Latvia",
          "Lebanon",
          "Liberia",
          "Libya",
          "Liechtenstein",
          "Lithuania",
          "Luxembourg",
          "MSZaandam",
          "Macao",
          "Madagascar",
          "Malawi",
          "Malaysia",
          "Maldives",
          "Mali",
          "Malta",
          "Martinique",
          "Mauritania",
          "Mauritius",
          "Mayotte",
          "Mexico",
          "Moldova",
          "Monaco",
          "Mongolia",
          "Montenegro",
          "Montserrat",
          "Morocco",
          "Mozambique",
          "Myanmar",
          "Namibia",
          "Nepal",
          "Netherlands",
          "NewCaledonia",
          "NewZealand",
          "Nicaragua",
          "Niger",
          "Nigeria",
          "NorthMacedonia",
          "Norway",
          "Oman",
          "Pakistan",
          "Palestine",
          "Panama",
          "PapuaNewGuinea",
          "Paraguay",
          "Peru",
          "Philippines",
          "Poland",
          "Portugal",
          "Qatar",
          "Romania",
          "Russia",
          "Rwanda",
          "Réunion",
          "S.Korea",
          "SaintKittsandNevis",
          "SaintLucia",
          "SaintMartin",
          "SaintPierreMiquelon",
          "SanMarino",
          "SaoTomeandPrincipe",
          "SaudiArabia",
          "Senegal",
          "Serbia",
          "Seychelles",
          "SierraLeone",
          "Singapore",
          "SintMaarten",
          "Slovakia",
          "Slovenia",
          "Somalia",
          "SouthAfrica",
          "SouthSudan",
          "Spain",
          "SriLanka",
          "St.Barth",
          "St.VincentGrenadines",
          "Sudan",
          "Suriname",
          "Sweden",
          "Switzerland",
          "Syria",
          "Taiwan",
          "Tanzania",
          "Thailand",
          "Timor-Leste",
          "Togo",
          "TrinidadandTobago",
          "Tunisia",
          "Turkey",
          "TurksandCaicos",
          "UAE",
          "UK",
          "USA",
          "Uganda",
          "Ukraine",
          "Uruguay",
          "Uzbekistan",
          "VaticanCity",
          "Venezuela",
          "Vietnam",
          "WesternSahara",
          "Zambia",
          "Zimbabwe"
         ],
         "name": "",
         "type": "choropleth",
         "z": [
          391,
          230,
          1160,
          473,
          12,
          3,
          15,
          1235,
          758,
          69,
          3324,
          8303,
          665,
          23,
          349,
          114,
          52,
          794,
          16002,
          6,
          20,
          20,
          3,
          178,
          653,
          5,
          11637,
          3,
          49,
          501,
          238,
          3,
          8,
          5,
          57,
          632,
          12907,
          2,
          37,
          8,
          294,
          4175,
          1242,
          1445,
          38,
          447,
          1097,
          336,
          7,
          440,
          4737,
          138,
          3377,
          82,
          81,
          14,
          1825,
          3456,
          978,
          69,
          13,
          31,
          1059,
          6,
          46,
          64,
          2,
          15,
          1974,
          71849,
          38,
          42,
          28,
          1,
          147,
          66657,
          251,
          53,
          1482,
          7,
          12,
          101,
          57,
          123,
          33,
          18,
          24,
          277,
          696,
          699,
          1021,
          4392,
          2313,
          31678,
          623,
          5165,
          76,
          8263,
          93187,
          279,
          48,
          3222,
          217,
          629,
          159,
          637,
          191,
          14,
          530,
          469,
          8,
          17,
          21,
          857,
          2302,
          7,
          34,
          80,
          7,
          2579,
          6,
          39,
          288,
          97,
          3,
          253,
          147,
          1681,
          994,
          72,
          11,
          235,
          6,
          970,
          9,
          21,
          13,
          8,
          17229,
          17,
          918,
          5,
          217,
          198,
          543,
          5746,
          302,
          3521,
          218,
          2031,
          2,
          95,
          1472,
          3503,
          4230,
          11913,
          1697,
          3760,
          6945,
          101,
          309,
          3445,
          11,
          13,
          23,
          1,
          210,
          4,
          2139,
          130,
          2268,
          11,
          6,
          1098,
          30,
          566,
          921,
          6,
          1641,
          1,
          83504,
          137,
          5,
          6,
          10,
          9,
          6897,
          13375,
          15,
          310,
          18,
          1407,
          1,
          32,
          97,
          549,
          28242,
          7,
          1898,
          48948,
          345841,
          52,
          1389,
          286,
          472,
          7,
          93,
          126,
          4,
          31,
          9
         ]
        }
       ],
       "layout": {
        "coloraxis": {
         "cmax": 10000,
         "cmin": 1,
         "colorbar": {
          "title": {
           "text": "ActiveCases"
          }
         },
         "colorscale": [
          [
           0,
           "rgb(255,247,236)"
          ],
          [
           0.125,
           "rgb(254,232,200)"
          ],
          [
           0.25,
           "rgb(253,212,158)"
          ],
          [
           0.375,
           "rgb(253,187,132)"
          ],
          [
           0.5,
           "rgb(252,141,89)"
          ],
          [
           0.625,
           "rgb(239,101,72)"
          ],
          [
           0.75,
           "rgb(215,48,31)"
          ],
          [
           0.875,
           "rgb(179,0,0)"
          ],
          [
           1,
           "rgb(127,0,0)"
          ]
         ]
        },
        "geo": {
         "center": {},
         "domain": {
          "x": [
           0,
           1
          ],
          "y": [
           0,
           1
          ]
         }
        },
        "legend": {
         "tracegroupgap": 0
        },
        "template": {
         "data": {
          "bar": [
           {
            "error_x": {
             "color": "#2a3f5f"
            },
            "error_y": {
             "color": "#2a3f5f"
            },
            "marker": {
             "line": {
              "color": "#E5ECF6",
              "width": 0.5
             }
            },
            "type": "bar"
           }
          ],
          "barpolar": [
           {
            "marker": {
             "line": {
              "color": "#E5ECF6",
              "width": 0.5
             }
            },
            "type": "barpolar"
           }
          ],
          "carpet": [
           {
            "aaxis": {
             "endlinecolor": "#2a3f5f",
             "gridcolor": "white",
             "linecolor": "white",
             "minorgridcolor": "white",
             "startlinecolor": "#2a3f5f"
            },
            "baxis": {
             "endlinecolor": "#2a3f5f",
             "gridcolor": "white",
             "linecolor": "white",
             "minorgridcolor": "white",
             "startlinecolor": "#2a3f5f"
            },
            "type": "carpet"
           }
          ],
          "choropleth": [
           {
            "colorbar": {
             "outlinewidth": 0,
             "ticks": ""
            },
            "type": "choropleth"
           }
          ],
          "contour": [
           {
            "colorbar": {
             "outlinewidth": 0,
             "ticks": ""
            },
            "colorscale": [
             [
              0,
              "#0d0887"
             ],
             [
              0.1111111111111111,
              "#46039f"
             ],
             [
              0.2222222222222222,
              "#7201a8"
             ],
             [
              0.3333333333333333,
              "#9c179e"
             ],
             [
              0.4444444444444444,
              "#bd3786"
             ],
             [
              0.5555555555555556,
              "#d8576b"
             ],
             [
              0.6666666666666666,
              "#ed7953"
             ],
             [
              0.7777777777777778,
              "#fb9f3a"
             ],
             [
              0.8888888888888888,
              "#fdca26"
             ],
             [
              1,
              "#f0f921"
             ]
            ],
            "type": "contour"
           }
          ],
          "contourcarpet": [
           {
            "colorbar": {
             "outlinewidth": 0,
             "ticks": ""
            },
            "type": "contourcarpet"
           }
          ],
          "heatmap": [
           {
            "colorbar": {
             "outlinewidth": 0,
             "ticks": ""
            },
            "colorscale": [
             [
              0,
              "#0d0887"
             ],
             [
              0.1111111111111111,
              "#46039f"
             ],
             [
              0.2222222222222222,
              "#7201a8"
             ],
             [
              0.3333333333333333,
              "#9c179e"
             ],
             [
              0.4444444444444444,
              "#bd3786"
             ],
             [
              0.5555555555555556,
              "#d8576b"
             ],
             [
              0.6666666666666666,
              "#ed7953"
             ],
             [
              0.7777777777777778,
              "#fb9f3a"
             ],
             [
              0.8888888888888888,
              "#fdca26"
             ],
             [
              1,
              "#f0f921"
             ]
            ],
            "type": "heatmap"
           }
          ],
          "heatmapgl": [
           {
            "colorbar": {
             "outlinewidth": 0,
             "ticks": ""
            },
            "colorscale": [
             [
              0,
              "#0d0887"
             ],
             [
              0.1111111111111111,
              "#46039f"
             ],
             [
              0.2222222222222222,
              "#7201a8"
             ],
             [
              0.3333333333333333,
              "#9c179e"
             ],
             [
              0.4444444444444444,
              "#bd3786"
             ],
             [
              0.5555555555555556,
              "#d8576b"
             ],
             [
              0.6666666666666666,
              "#ed7953"
             ],
             [
              0.7777777777777778,
              "#fb9f3a"
             ],
             [
              0.8888888888888888,
              "#fdca26"
             ],
             [
              1,
              "#f0f921"
             ]
            ],
            "type": "heatmapgl"
           }
          ],
          "histogram": [
           {
            "marker": {
             "colorbar": {
              "outlinewidth": 0,
              "ticks": ""
             }
            },
            "type": "histogram"
           }
          ],
          "histogram2d": [
           {
            "colorbar": {
             "outlinewidth": 0,
             "ticks": ""
            },
            "colorscale": [
             [
              0,
              "#0d0887"
             ],
             [
              0.1111111111111111,
              "#46039f"
             ],
             [
              0.2222222222222222,
              "#7201a8"
             ],
             [
              0.3333333333333333,
              "#9c179e"
             ],
             [
              0.4444444444444444,
              "#bd3786"
             ],
             [
              0.5555555555555556,
              "#d8576b"
             ],
             [
              0.6666666666666666,
              "#ed7953"
             ],
             [
              0.7777777777777778,
              "#fb9f3a"
             ],
             [
              0.8888888888888888,
              "#fdca26"
             ],
             [
              1,
              "#f0f921"
             ]
            ],
            "type": "histogram2d"
           }
          ],
          "histogram2dcontour": [
           {
            "colorbar": {
             "outlinewidth": 0,
             "ticks": ""
            },
            "colorscale": [
             [
              0,
              "#0d0887"
             ],
             [
              0.1111111111111111,
              "#46039f"
             ],
             [
              0.2222222222222222,
              "#7201a8"
             ],
             [
              0.3333333333333333,
              "#9c179e"
             ],
             [
              0.4444444444444444,
              "#bd3786"
             ],
             [
              0.5555555555555556,
              "#d8576b"
             ],
             [
              0.6666666666666666,
              "#ed7953"
             ],
             [
              0.7777777777777778,
              "#fb9f3a"
             ],
             [
              0.8888888888888888,
              "#fdca26"
             ],
             [
              1,
              "#f0f921"
             ]
            ],
            "type": "histogram2dcontour"
           }
          ],
          "mesh3d": [
           {
            "colorbar": {
             "outlinewidth": 0,
             "ticks": ""
            },
            "type": "mesh3d"
           }
          ],
          "parcoords": [
           {
            "line": {
             "colorbar": {
              "outlinewidth": 0,
              "ticks": ""
             }
            },
            "type": "parcoords"
           }
          ],
          "pie": [
           {
            "automargin": true,
            "type": "pie"
           }
          ],
          "scatter": [
           {
            "marker": {
             "colorbar": {
              "outlinewidth": 0,
              "ticks": ""
             }
            },
            "type": "scatter"
           }
          ],
          "scatter3d": [
           {
            "line": {
             "colorbar": {
              "outlinewidth": 0,
              "ticks": ""
             }
            },
            "marker": {
             "colorbar": {
              "outlinewidth": 0,
              "ticks": ""
             }
            },
            "type": "scatter3d"
           }
          ],
          "scattercarpet": [
           {
            "marker": {
             "colorbar": {
              "outlinewidth": 0,
              "ticks": ""
             }
            },
            "type": "scattercarpet"
           }
          ],
          "scattergeo": [
           {
            "marker": {
             "colorbar": {
              "outlinewidth": 0,
              "ticks": ""
             }
            },
            "type": "scattergeo"
           }
          ],
          "scattergl": [
           {
            "marker": {
             "colorbar": {
              "outlinewidth": 0,
              "ticks": ""
             }
            },
            "type": "scattergl"
           }
          ],
          "scattermapbox": [
           {
            "marker": {
             "colorbar": {
              "outlinewidth": 0,
              "ticks": ""
             }
            },
            "type": "scattermapbox"
           }
          ],
          "scatterpolar": [
           {
            "marker": {
             "colorbar": {
              "outlinewidth": 0,
              "ticks": ""
             }
            },
            "type": "scatterpolar"
           }
          ],
          "scatterpolargl": [
           {
            "marker": {
             "colorbar": {
              "outlinewidth": 0,
              "ticks": ""
             }
            },
            "type": "scatterpolargl"
           }
          ],
          "scatterternary": [
           {
            "marker": {
             "colorbar": {
              "outlinewidth": 0,
              "ticks": ""
             }
            },
            "type": "scatterternary"
           }
          ],
          "surface": [
           {
            "colorbar": {
             "outlinewidth": 0,
             "ticks": ""
            },
            "colorscale": [
             [
              0,
              "#0d0887"
             ],
             [
              0.1111111111111111,
              "#46039f"
             ],
             [
              0.2222222222222222,
              "#7201a8"
             ],
             [
              0.3333333333333333,
              "#9c179e"
             ],
             [
              0.4444444444444444,
              "#bd3786"
             ],
             [
              0.5555555555555556,
              "#d8576b"
             ],
             [
              0.6666666666666666,
              "#ed7953"
             ],
             [
              0.7777777777777778,
              "#fb9f3a"
             ],
             [
              0.8888888888888888,
              "#fdca26"
             ],
             [
              1,
              "#f0f921"
             ]
            ],
            "type": "surface"
           }
          ],
          "table": [
           {
            "cells": {
             "fill": {
              "color": "#EBF0F8"
             },
             "line": {
              "color": "white"
             }
            },
            "header": {
             "fill": {
              "color": "#C8D4E3"
             },
             "line": {
              "color": "white"
             }
            },
            "type": "table"
           }
          ]
         },
         "layout": {
          "annotationdefaults": {
           "arrowcolor": "#2a3f5f",
           "arrowhead": 0,
           "arrowwidth": 1
          },
          "coloraxis": {
           "colorbar": {
            "outlinewidth": 0,
            "ticks": ""
           }
          },
          "colorscale": {
           "diverging": [
            [
             0,
             "#8e0152"
            ],
            [
             0.1,
             "#c51b7d"
            ],
            [
             0.2,
             "#de77ae"
            ],
            [
             0.3,
             "#f1b6da"
            ],
            [
             0.4,
             "#fde0ef"
            ],
            [
             0.5,
             "#f7f7f7"
            ],
            [
             0.6,
             "#e6f5d0"
            ],
            [
             0.7,
             "#b8e186"
            ],
            [
             0.8,
             "#7fbc41"
            ],
            [
             0.9,
             "#4d9221"
            ],
            [
             1,
             "#276419"
            ]
           ],
           "sequential": [
            [
             0,
             "#0d0887"
            ],
            [
             0.1111111111111111,
             "#46039f"
            ],
            [
             0.2222222222222222,
             "#7201a8"
            ],
            [
             0.3333333333333333,
             "#9c179e"
            ],
            [
             0.4444444444444444,
             "#bd3786"
            ],
            [
             0.5555555555555556,
             "#d8576b"
            ],
            [
             0.6666666666666666,
             "#ed7953"
            ],
            [
             0.7777777777777778,
             "#fb9f3a"
            ],
            [
             0.8888888888888888,
             "#fdca26"
            ],
            [
             1,
             "#f0f921"
            ]
           ],
           "sequentialminus": [
            [
             0,
             "#0d0887"
            ],
            [
             0.1111111111111111,
             "#46039f"
            ],
            [
             0.2222222222222222,
             "#7201a8"
            ],
            [
             0.3333333333333333,
             "#9c179e"
            ],
            [
             0.4444444444444444,
             "#bd3786"
            ],
            [
             0.5555555555555556,
             "#d8576b"
            ],
            [
             0.6666666666666666,
             "#ed7953"
            ],
            [
             0.7777777777777778,
             "#fb9f3a"
            ],
            [
             0.8888888888888888,
             "#fdca26"
            ],
            [
             1,
             "#f0f921"
            ]
           ]
          },
          "colorway": [
           "#636efa",
           "#EF553B",
           "#00cc96",
           "#ab63fa",
           "#FFA15A",
           "#19d3f3",
           "#FF6692",
           "#B6E880",
           "#FF97FF",
           "#FECB52"
          ],
          "font": {
           "color": "#2a3f5f"
          },
          "geo": {
           "bgcolor": "white",
           "lakecolor": "white",
           "landcolor": "#E5ECF6",
           "showlakes": true,
           "showland": true,
           "subunitcolor": "white"
          },
          "hoverlabel": {
           "align": "left"
          },
          "hovermode": "closest",
          "mapbox": {
           "style": "light"
          },
          "paper_bgcolor": "white",
          "plot_bgcolor": "#E5ECF6",
          "polar": {
           "angularaxis": {
            "gridcolor": "white",
            "linecolor": "white",
            "ticks": ""
           },
           "bgcolor": "#E5ECF6",
           "radialaxis": {
            "gridcolor": "white",
            "linecolor": "white",
            "ticks": ""
           }
          },
          "scene": {
           "xaxis": {
            "backgroundcolor": "#E5ECF6",
            "gridcolor": "white",
            "gridwidth": 2,
            "linecolor": "white",
            "showbackground": true,
            "ticks": "",
            "zerolinecolor": "white"
           },
           "yaxis": {
            "backgroundcolor": "#E5ECF6",
            "gridcolor": "white",
            "gridwidth": 2,
            "linecolor": "white",
            "showbackground": true,
            "ticks": "",
            "zerolinecolor": "white"
           },
           "zaxis": {
            "backgroundcolor": "#E5ECF6",
            "gridcolor": "white",
            "gridwidth": 2,
            "linecolor": "white",
            "showbackground": true,
            "ticks": "",
            "zerolinecolor": "white"
           }
          },
          "shapedefaults": {
           "line": {
            "color": "#2a3f5f"
           }
          },
          "ternary": {
           "aaxis": {
            "gridcolor": "white",
            "linecolor": "white",
            "ticks": ""
           },
           "baxis": {
            "gridcolor": "white",
            "linecolor": "white",
            "ticks": ""
           },
           "bgcolor": "#E5ECF6",
           "caxis": {
            "gridcolor": "white",
            "linecolor": "white",
            "ticks": ""
           }
          },
          "title": {
           "x": 0.05
          },
          "xaxis": {
           "automargin": true,
           "gridcolor": "white",
           "linecolor": "white",
           "ticks": "",
           "title": {
            "standoff": 15
           },
           "zerolinecolor": "white",
           "zerolinewidth": 2
          },
          "yaxis": {
           "automargin": true,
           "gridcolor": "white",
           "linecolor": "white",
           "ticks": "",
           "title": {
            "standoff": 15
           },
           "zerolinecolor": "white",
           "zerolinewidth": 2
          }
         }
        },
        "title": {
         "text": "Countries with Active Cases"
        }
       }
      },
      "text/html": [
       "<div>\n",
       "        \n",
       "        \n",
       "            <div id=\"ef7cf3d4-a2ec-4c26-918e-4a20b69493cb\" class=\"plotly-graph-div\" style=\"height:525px; width:100%;\"></div>\n",
       "            <script type=\"text/javascript\">\n",
       "                require([\"plotly\"], function(Plotly) {\n",
       "                    window.PLOTLYENV=window.PLOTLYENV || {};\n",
       "                    \n",
       "                if (document.getElementById(\"ef7cf3d4-a2ec-4c26-918e-4a20b69493cb\")) {\n",
       "                    Plotly.newPlot(\n",
       "                        'ef7cf3d4-a2ec-4c26-918e-4a20b69493cb',\n",
       "                        [{\"coloraxis\": \"coloraxis\", \"geo\": \"geo\", \"hoverlabel\": {\"namelength\": 0}, \"hovertemplate\": \"<b>%{hovertext}</b><br><br>Country,Other=%{location}<br>ActiveCases=%{z}\", \"hovertext\": [\"Afghanistan\", \"Albania\", \"Algeria\", \"Andorra\", \"Angola\", \"Anguilla\", \"AntiguaandBarbuda\", \"Argentina\", \"Armenia\", \"Aruba\", \"Australia\", \"Austria\", \"Azerbaijan\", \"Bahamas\", \"Bahrain\", \"Bangladesh\", \"Barbados\", \"Belarus\", \"Belgium\", \"Belize\", \"Benin\", \"Bermuda\", \"Bhutan\", \"Bolivia\", \"BosniaandHerzegovina\", \"Botswana\", \"Brazil\", \"BritishVirginIslands\", \"Brunei\", \"Bulgaria\", \"BurkinaFaso\", \"Burundi\", \"CAR\", \"CaboVerde\", \"Cambodia\", \"Cameroon\", \"Canada\", \"CaribbeanNetherlands\", \"CaymanIslands\", \"Chad\", \"ChannelIslands\", \"Chile\", \"China\", \"Colombia\", \"Congo\", \"CostaRica\", \"Croatia\", \"Cuba\", \"Cura\\u00e7ao\", \"Cyprus\", \"Czechia\", \"DRC\", \"Denmark\", \"DiamondPrincess\", \"Djibouti\", \"Dominica\", \"DominicanRepublic\", \"Ecuador\", \"Egypt\", \"ElSalvador\", \"EquatorialGuinea\", \"Eritrea\", \"Estonia\", \"Eswatini\", \"Ethiopia\", \"FaeroeIslands\", \"FalklandIslands\", \"Fiji\", \"Finland\", \"France\", \"FrenchGuiana\", \"FrenchPolynesia\", \"Gabon\", \"Gambia\", \"Georgia\", \"Germany\", \"Ghana\", \"Gibraltar\", \"Greece\", \"Greenland\", \"Grenada\", \"Guadeloupe\", \"Guatemala\", \"Guinea\", \"Guinea-Bissau\", \"Guyana\", \"Haiti\", \"Honduras\", \"HongKong\", \"Hungary\", \"Iceland\", \"India\", \"Indonesia\", \"Iran\", \"Iraq\", \"Ireland\", \"IsleofMan\", \"Israel\", \"Italy\", \"IvoryCoast\", \"Jamaica\", \"Japan\", \"Jordan\", \"Kazakhstan\", \"Kenya\", \"Kuwait\", \"Kyrgyzstan\", \"Laos\", \"Latvia\", \"Lebanon\", \"Liberia\", \"Libya\", \"Liechtenstein\", \"Lithuania\", \"Luxembourg\", \"MSZaandam\", \"Macao\", \"Madagascar\", \"Malawi\", \"Malaysia\", \"Maldives\", \"Mali\", \"Malta\", \"Martinique\", \"Mauritania\", \"Mauritius\", \"Mayotte\", \"Mexico\", \"Moldova\", \"Monaco\", \"Mongolia\", \"Montenegro\", \"Montserrat\", \"Morocco\", \"Mozambique\", \"Myanmar\", \"Namibia\", \"Nepal\", \"Netherlands\", \"NewCaledonia\", \"NewZealand\", \"Nicaragua\", \"Niger\", \"Nigeria\", \"NorthMacedonia\", \"Norway\", \"Oman\", \"Pakistan\", \"Palestine\", \"Panama\", \"PapuaNewGuinea\", \"Paraguay\", \"Peru\", \"Philippines\", \"Poland\", \"Portugal\", \"Qatar\", \"Romania\", \"Russia\", \"Rwanda\", \"R\\u00e9union\", \"S.Korea\", \"SaintKittsandNevis\", \"SaintLucia\", \"SaintMartin\", \"SaintPierreMiquelon\", \"SanMarino\", \"SaoTomeandPrincipe\", \"SaudiArabia\", \"Senegal\", \"Serbia\", \"Seychelles\", \"SierraLeone\", \"Singapore\", \"SintMaarten\", \"Slovakia\", \"Slovenia\", \"Somalia\", \"SouthAfrica\", \"SouthSudan\", \"Spain\", \"SriLanka\", \"St.Barth\", \"St.VincentGrenadines\", \"Sudan\", \"Suriname\", \"Sweden\", \"Switzerland\", \"Syria\", \"Taiwan\", \"Tanzania\", \"Thailand\", \"Timor-Leste\", \"Togo\", \"TrinidadandTobago\", \"Tunisia\", \"Turkey\", \"TurksandCaicos\", \"UAE\", \"UK\", \"USA\", \"Uganda\", \"Ukraine\", \"Uruguay\", \"Uzbekistan\", \"VaticanCity\", \"Venezuela\", \"Vietnam\", \"WesternSahara\", \"Zambia\", \"Zimbabwe\"], \"locationmode\": \"country names\", \"locations\": [\"Afghanistan\", \"Albania\", \"Algeria\", \"Andorra\", \"Angola\", \"Anguilla\", \"AntiguaandBarbuda\", \"Argentina\", \"Armenia\", \"Aruba\", \"Australia\", \"Austria\", \"Azerbaijan\", \"Bahamas\", \"Bahrain\", \"Bangladesh\", \"Barbados\", \"Belarus\", \"Belgium\", \"Belize\", \"Benin\", \"Bermuda\", \"Bhutan\", \"Bolivia\", \"BosniaandHerzegovina\", \"Botswana\", \"Brazil\", \"BritishVirginIslands\", \"Brunei\", \"Bulgaria\", \"BurkinaFaso\", \"Burundi\", \"CAR\", \"CaboVerde\", \"Cambodia\", \"Cameroon\", \"Canada\", \"CaribbeanNetherlands\", \"CaymanIslands\", \"Chad\", \"ChannelIslands\", \"Chile\", \"China\", \"Colombia\", \"Congo\", \"CostaRica\", \"Croatia\", \"Cuba\", \"Cura\\u00e7ao\", \"Cyprus\", \"Czechia\", \"DRC\", \"Denmark\", \"DiamondPrincess\", \"Djibouti\", \"Dominica\", \"DominicanRepublic\", \"Ecuador\", \"Egypt\", \"ElSalvador\", \"EquatorialGuinea\", \"Eritrea\", \"Estonia\", \"Eswatini\", \"Ethiopia\", \"FaeroeIslands\", \"FalklandIslands\", \"Fiji\", \"Finland\", \"France\", \"FrenchGuiana\", \"FrenchPolynesia\", \"Gabon\", \"Gambia\", \"Georgia\", \"Germany\", \"Ghana\", \"Gibraltar\", \"Greece\", \"Greenland\", \"Grenada\", \"Guadeloupe\", \"Guatemala\", \"Guinea\", \"Guinea-Bissau\", \"Guyana\", \"Haiti\", \"Honduras\", \"HongKong\", \"Hungary\", \"Iceland\", \"India\", \"Indonesia\", \"Iran\", \"Iraq\", \"Ireland\", \"IsleofMan\", \"Israel\", \"Italy\", \"IvoryCoast\", \"Jamaica\", \"Japan\", \"Jordan\", \"Kazakhstan\", \"Kenya\", \"Kuwait\", \"Kyrgyzstan\", \"Laos\", \"Latvia\", \"Lebanon\", \"Liberia\", \"Libya\", \"Liechtenstein\", \"Lithuania\", \"Luxembourg\", \"MSZaandam\", \"Macao\", \"Madagascar\", \"Malawi\", \"Malaysia\", \"Maldives\", \"Mali\", \"Malta\", \"Martinique\", \"Mauritania\", \"Mauritius\", \"Mayotte\", \"Mexico\", \"Moldova\", \"Monaco\", \"Mongolia\", \"Montenegro\", \"Montserrat\", \"Morocco\", \"Mozambique\", \"Myanmar\", \"Namibia\", \"Nepal\", \"Netherlands\", \"NewCaledonia\", \"NewZealand\", \"Nicaragua\", \"Niger\", \"Nigeria\", \"NorthMacedonia\", \"Norway\", \"Oman\", \"Pakistan\", \"Palestine\", \"Panama\", \"PapuaNewGuinea\", \"Paraguay\", \"Peru\", \"Philippines\", \"Poland\", \"Portugal\", \"Qatar\", \"Romania\", \"Russia\", \"Rwanda\", \"R\\u00e9union\", \"S.Korea\", \"SaintKittsandNevis\", \"SaintLucia\", \"SaintMartin\", \"SaintPierreMiquelon\", \"SanMarino\", \"SaoTomeandPrincipe\", \"SaudiArabia\", \"Senegal\", \"Serbia\", \"Seychelles\", \"SierraLeone\", \"Singapore\", \"SintMaarten\", \"Slovakia\", \"Slovenia\", \"Somalia\", \"SouthAfrica\", \"SouthSudan\", \"Spain\", \"SriLanka\", \"St.Barth\", \"St.VincentGrenadines\", \"Sudan\", \"Suriname\", \"Sweden\", \"Switzerland\", \"Syria\", \"Taiwan\", \"Tanzania\", \"Thailand\", \"Timor-Leste\", \"Togo\", \"TrinidadandTobago\", \"Tunisia\", \"Turkey\", \"TurksandCaicos\", \"UAE\", \"UK\", \"USA\", \"Uganda\", \"Ukraine\", \"Uruguay\", \"Uzbekistan\", \"VaticanCity\", \"Venezuela\", \"Vietnam\", \"WesternSahara\", \"Zambia\", \"Zimbabwe\"], \"name\": \"\", \"type\": \"choropleth\", \"z\": [391, 230, 1160, 473, 12, 3, 15, 1235, 758, 69, 3324, 8303, 665, 23, 349, 114, 52, 794, 16002, 6, 20, 20, 3, 178, 653, 5, 11637, 3, 49, 501, 238, 3, 8, 5, 57, 632, 12907, 2, 37, 8, 294, 4175, 1242, 1445, 38, 447, 1097, 336, 7, 440, 4737, 138, 3377, 82, 81, 14, 1825, 3456, 978, 69, 13, 31, 1059, 6, 46, 64, 2, 15, 1974, 71849, 38, 42, 28, 1, 147, 66657, 251, 53, 1482, 7, 12, 101, 57, 123, 33, 18, 24, 277, 696, 699, 1021, 4392, 2313, 31678, 623, 5165, 76, 8263, 93187, 279, 48, 3222, 217, 629, 159, 637, 191, 14, 530, 469, 8, 17, 21, 857, 2302, 7, 34, 80, 7, 2579, 6, 39, 288, 97, 3, 253, 147, 1681, 994, 72, 11, 235, 6, 970, 9, 21, 13, 8, 17229, 17, 918, 5, 217, 198, 543, 5746, 302, 3521, 218, 2031, 2, 95, 1472, 3503, 4230, 11913, 1697, 3760, 6945, 101, 309, 3445, 11, 13, 23, 1, 210, 4, 2139, 130, 2268, 11, 6, 1098, 30, 566, 921, 6, 1641, 1, 83504, 137, 5, 6, 10, 9, 6897, 13375, 15, 310, 18, 1407, 1, 32, 97, 549, 28242, 7, 1898, 48948, 345841, 52, 1389, 286, 472, 7, 93, 126, 4, 31, 9]}],\n",
       "                        {\"coloraxis\": {\"cmax\": 10000, \"cmin\": 1, \"colorbar\": {\"title\": {\"text\": \"ActiveCases\"}}, \"colorscale\": [[0.0, \"rgb(255,247,236)\"], [0.125, \"rgb(254,232,200)\"], [0.25, \"rgb(253,212,158)\"], [0.375, \"rgb(253,187,132)\"], [0.5, \"rgb(252,141,89)\"], [0.625, \"rgb(239,101,72)\"], [0.75, \"rgb(215,48,31)\"], [0.875, \"rgb(179,0,0)\"], [1.0, \"rgb(127,0,0)\"]]}, \"geo\": {\"center\": {}, \"domain\": {\"x\": [0.0, 1.0], \"y\": [0.0, 1.0]}}, \"legend\": {\"tracegroupgap\": 0}, \"template\": {\"data\": {\"bar\": [{\"error_x\": {\"color\": \"#2a3f5f\"}, \"error_y\": {\"color\": \"#2a3f5f\"}, \"marker\": {\"line\": {\"color\": \"#E5ECF6\", \"width\": 0.5}}, \"type\": \"bar\"}], \"barpolar\": [{\"marker\": {\"line\": {\"color\": \"#E5ECF6\", \"width\": 0.5}}, \"type\": \"barpolar\"}], \"carpet\": [{\"aaxis\": {\"endlinecolor\": \"#2a3f5f\", \"gridcolor\": \"white\", \"linecolor\": \"white\", \"minorgridcolor\": \"white\", \"startlinecolor\": \"#2a3f5f\"}, \"baxis\": {\"endlinecolor\": \"#2a3f5f\", \"gridcolor\": \"white\", \"linecolor\": \"white\", \"minorgridcolor\": \"white\", \"startlinecolor\": \"#2a3f5f\"}, \"type\": \"carpet\"}], \"choropleth\": [{\"colorbar\": {\"outlinewidth\": 0, \"ticks\": \"\"}, \"type\": \"choropleth\"}], \"contour\": [{\"colorbar\": {\"outlinewidth\": 0, \"ticks\": \"\"}, \"colorscale\": [[0.0, \"#0d0887\"], [0.1111111111111111, \"#46039f\"], [0.2222222222222222, \"#7201a8\"], [0.3333333333333333, \"#9c179e\"], [0.4444444444444444, \"#bd3786\"], [0.5555555555555556, \"#d8576b\"], [0.6666666666666666, \"#ed7953\"], [0.7777777777777778, \"#fb9f3a\"], [0.8888888888888888, \"#fdca26\"], [1.0, \"#f0f921\"]], \"type\": \"contour\"}], \"contourcarpet\": [{\"colorbar\": {\"outlinewidth\": 0, \"ticks\": \"\"}, \"type\": \"contourcarpet\"}], \"heatmap\": [{\"colorbar\": {\"outlinewidth\": 0, \"ticks\": \"\"}, \"colorscale\": [[0.0, \"#0d0887\"], [0.1111111111111111, \"#46039f\"], [0.2222222222222222, \"#7201a8\"], [0.3333333333333333, \"#9c179e\"], [0.4444444444444444, \"#bd3786\"], [0.5555555555555556, \"#d8576b\"], [0.6666666666666666, \"#ed7953\"], [0.7777777777777778, \"#fb9f3a\"], [0.8888888888888888, \"#fdca26\"], [1.0, \"#f0f921\"]], \"type\": \"heatmap\"}], \"heatmapgl\": [{\"colorbar\": {\"outlinewidth\": 0, \"ticks\": \"\"}, \"colorscale\": [[0.0, \"#0d0887\"], [0.1111111111111111, \"#46039f\"], [0.2222222222222222, \"#7201a8\"], [0.3333333333333333, \"#9c179e\"], [0.4444444444444444, \"#bd3786\"], [0.5555555555555556, \"#d8576b\"], [0.6666666666666666, \"#ed7953\"], [0.7777777777777778, \"#fb9f3a\"], [0.8888888888888888, \"#fdca26\"], [1.0, \"#f0f921\"]], \"type\": \"heatmapgl\"}], \"histogram\": [{\"marker\": {\"colorbar\": {\"outlinewidth\": 0, \"ticks\": \"\"}}, \"type\": \"histogram\"}], \"histogram2d\": [{\"colorbar\": {\"outlinewidth\": 0, \"ticks\": \"\"}, \"colorscale\": [[0.0, \"#0d0887\"], [0.1111111111111111, \"#46039f\"], [0.2222222222222222, \"#7201a8\"], [0.3333333333333333, \"#9c179e\"], [0.4444444444444444, \"#bd3786\"], [0.5555555555555556, \"#d8576b\"], [0.6666666666666666, \"#ed7953\"], [0.7777777777777778, \"#fb9f3a\"], [0.8888888888888888, \"#fdca26\"], [1.0, \"#f0f921\"]], \"type\": \"histogram2d\"}], \"histogram2dcontour\": [{\"colorbar\": {\"outlinewidth\": 0, \"ticks\": \"\"}, \"colorscale\": [[0.0, \"#0d0887\"], [0.1111111111111111, \"#46039f\"], [0.2222222222222222, \"#7201a8\"], [0.3333333333333333, \"#9c179e\"], [0.4444444444444444, \"#bd3786\"], [0.5555555555555556, \"#d8576b\"], [0.6666666666666666, \"#ed7953\"], [0.7777777777777778, \"#fb9f3a\"], [0.8888888888888888, \"#fdca26\"], [1.0, \"#f0f921\"]], \"type\": \"histogram2dcontour\"}], \"mesh3d\": [{\"colorbar\": {\"outlinewidth\": 0, \"ticks\": \"\"}, \"type\": \"mesh3d\"}], \"parcoords\": [{\"line\": {\"colorbar\": {\"outlinewidth\": 0, \"ticks\": \"\"}}, \"type\": \"parcoords\"}], \"pie\": [{\"automargin\": true, \"type\": \"pie\"}], \"scatter\": [{\"marker\": {\"colorbar\": {\"outlinewidth\": 0, \"ticks\": \"\"}}, \"type\": \"scatter\"}], \"scatter3d\": [{\"line\": {\"colorbar\": {\"outlinewidth\": 0, \"ticks\": \"\"}}, \"marker\": {\"colorbar\": {\"outlinewidth\": 0, \"ticks\": \"\"}}, \"type\": \"scatter3d\"}], \"scattercarpet\": [{\"marker\": {\"colorbar\": {\"outlinewidth\": 0, \"ticks\": \"\"}}, \"type\": \"scattercarpet\"}], \"scattergeo\": [{\"marker\": {\"colorbar\": {\"outlinewidth\": 0, \"ticks\": \"\"}}, \"type\": \"scattergeo\"}], \"scattergl\": [{\"marker\": {\"colorbar\": {\"outlinewidth\": 0, \"ticks\": \"\"}}, \"type\": \"scattergl\"}], \"scattermapbox\": [{\"marker\": {\"colorbar\": {\"outlinewidth\": 0, \"ticks\": \"\"}}, \"type\": \"scattermapbox\"}], \"scatterpolar\": [{\"marker\": {\"colorbar\": {\"outlinewidth\": 0, \"ticks\": \"\"}}, \"type\": \"scatterpolar\"}], \"scatterpolargl\": [{\"marker\": {\"colorbar\": {\"outlinewidth\": 0, \"ticks\": \"\"}}, \"type\": \"scatterpolargl\"}], \"scatterternary\": [{\"marker\": {\"colorbar\": {\"outlinewidth\": 0, \"ticks\": \"\"}}, \"type\": \"scatterternary\"}], \"surface\": [{\"colorbar\": {\"outlinewidth\": 0, \"ticks\": \"\"}, \"colorscale\": [[0.0, \"#0d0887\"], [0.1111111111111111, \"#46039f\"], [0.2222222222222222, \"#7201a8\"], [0.3333333333333333, \"#9c179e\"], [0.4444444444444444, \"#bd3786\"], [0.5555555555555556, \"#d8576b\"], [0.6666666666666666, \"#ed7953\"], [0.7777777777777778, \"#fb9f3a\"], [0.8888888888888888, \"#fdca26\"], [1.0, \"#f0f921\"]], \"type\": \"surface\"}], \"table\": [{\"cells\": {\"fill\": {\"color\": \"#EBF0F8\"}, \"line\": {\"color\": \"white\"}}, \"header\": {\"fill\": {\"color\": \"#C8D4E3\"}, \"line\": {\"color\": \"white\"}}, \"type\": \"table\"}]}, \"layout\": {\"annotationdefaults\": {\"arrowcolor\": \"#2a3f5f\", \"arrowhead\": 0, \"arrowwidth\": 1}, \"coloraxis\": {\"colorbar\": {\"outlinewidth\": 0, \"ticks\": \"\"}}, \"colorscale\": {\"diverging\": [[0, \"#8e0152\"], [0.1, \"#c51b7d\"], [0.2, \"#de77ae\"], [0.3, \"#f1b6da\"], [0.4, \"#fde0ef\"], [0.5, \"#f7f7f7\"], [0.6, \"#e6f5d0\"], [0.7, \"#b8e186\"], [0.8, \"#7fbc41\"], [0.9, \"#4d9221\"], [1, \"#276419\"]], \"sequential\": [[0.0, \"#0d0887\"], [0.1111111111111111, \"#46039f\"], [0.2222222222222222, \"#7201a8\"], [0.3333333333333333, \"#9c179e\"], [0.4444444444444444, \"#bd3786\"], [0.5555555555555556, \"#d8576b\"], [0.6666666666666666, \"#ed7953\"], [0.7777777777777778, \"#fb9f3a\"], [0.8888888888888888, \"#fdca26\"], [1.0, \"#f0f921\"]], \"sequentialminus\": [[0.0, \"#0d0887\"], [0.1111111111111111, \"#46039f\"], [0.2222222222222222, \"#7201a8\"], [0.3333333333333333, \"#9c179e\"], [0.4444444444444444, \"#bd3786\"], [0.5555555555555556, \"#d8576b\"], [0.6666666666666666, \"#ed7953\"], [0.7777777777777778, \"#fb9f3a\"], [0.8888888888888888, \"#fdca26\"], [1.0, \"#f0f921\"]]}, \"colorway\": [\"#636efa\", \"#EF553B\", \"#00cc96\", \"#ab63fa\", \"#FFA15A\", \"#19d3f3\", \"#FF6692\", \"#B6E880\", \"#FF97FF\", \"#FECB52\"], \"font\": {\"color\": \"#2a3f5f\"}, \"geo\": {\"bgcolor\": \"white\", \"lakecolor\": \"white\", \"landcolor\": \"#E5ECF6\", \"showlakes\": true, \"showland\": true, \"subunitcolor\": \"white\"}, \"hoverlabel\": {\"align\": \"left\"}, \"hovermode\": \"closest\", \"mapbox\": {\"style\": \"light\"}, \"paper_bgcolor\": \"white\", \"plot_bgcolor\": \"#E5ECF6\", \"polar\": {\"angularaxis\": {\"gridcolor\": \"white\", \"linecolor\": \"white\", \"ticks\": \"\"}, \"bgcolor\": \"#E5ECF6\", \"radialaxis\": {\"gridcolor\": \"white\", \"linecolor\": \"white\", \"ticks\": \"\"}}, \"scene\": {\"xaxis\": {\"backgroundcolor\": \"#E5ECF6\", \"gridcolor\": \"white\", \"gridwidth\": 2, \"linecolor\": \"white\", \"showbackground\": true, \"ticks\": \"\", \"zerolinecolor\": \"white\"}, \"yaxis\": {\"backgroundcolor\": \"#E5ECF6\", \"gridcolor\": \"white\", \"gridwidth\": 2, \"linecolor\": \"white\", \"showbackground\": true, \"ticks\": \"\", \"zerolinecolor\": \"white\"}, \"zaxis\": {\"backgroundcolor\": \"#E5ECF6\", \"gridcolor\": \"white\", \"gridwidth\": 2, \"linecolor\": \"white\", \"showbackground\": true, \"ticks\": \"\", \"zerolinecolor\": \"white\"}}, \"shapedefaults\": {\"line\": {\"color\": \"#2a3f5f\"}}, \"ternary\": {\"aaxis\": {\"gridcolor\": \"white\", \"linecolor\": \"white\", \"ticks\": \"\"}, \"baxis\": {\"gridcolor\": \"white\", \"linecolor\": \"white\", \"ticks\": \"\"}, \"bgcolor\": \"#E5ECF6\", \"caxis\": {\"gridcolor\": \"white\", \"linecolor\": \"white\", \"ticks\": \"\"}}, \"title\": {\"x\": 0.05}, \"xaxis\": {\"automargin\": true, \"gridcolor\": \"white\", \"linecolor\": \"white\", \"ticks\": \"\", \"title\": {\"standoff\": 15}, \"zerolinecolor\": \"white\", \"zerolinewidth\": 2}, \"yaxis\": {\"automargin\": true, \"gridcolor\": \"white\", \"linecolor\": \"white\", \"ticks\": \"\", \"title\": {\"standoff\": 15}, \"zerolinecolor\": \"white\", \"zerolinewidth\": 2}}}, \"title\": {\"text\": \"Countries with Active Cases\"}},\n",
       "                        {\"responsive\": true}\n",
       "                    ).then(function(){\n",
       "                            \n",
       "var gd = document.getElementById('ef7cf3d4-a2ec-4c26-918e-4a20b69493cb');\n",
       "var x = new MutationObserver(function (mutations, observer) {{\n",
       "        var display = window.getComputedStyle(gd).display;\n",
       "        if (!display || display === 'none') {{\n",
       "            console.log([gd, 'removed!']);\n",
       "            Plotly.purge(gd);\n",
       "            observer.disconnect();\n",
       "        }}\n",
       "}});\n",
       "\n",
       "// Listen for the removal of the full notebook cells\n",
       "var notebookContainer = gd.closest('#notebook-container');\n",
       "if (notebookContainer) {{\n",
       "    x.observe(notebookContainer, {childList: true});\n",
       "}}\n",
       "\n",
       "// Listen for the clearing of the current output cell\n",
       "var outputEl = gd.closest('.output');\n",
       "if (outputEl) {{\n",
       "    x.observe(outputEl, {childList: true});\n",
       "}}\n",
       "\n",
       "                        })\n",
       "                };\n",
       "                });\n",
       "            </script>\n",
       "        </div>"
      ]
     },
     "metadata": {},
     "output_type": "display_data"
    }
   ],
   "source": [
    "world=corona_df.groupby(\"Country,Other\")[\"TotalCases\",\"ActiveCases\",\"TotalDeaths\"].sum().reset_index()\n",
    "\n",
    "figure = px.choropleth(world, locations=\"Country,Other\",\n",
    "                      locationmode='country names',color=\"ActiveCases\",\n",
    "                      hover_name='Country,Other',range_color=[1,10000],\n",
    "                      color_continuous_scale=\"orrd\",\n",
    "                      title='Countries with Active Cases') \n",
    "figure.show()"
   ]
  },
  {
   "cell_type": "code",
   "execution_count": null,
   "metadata": {},
   "outputs": [],
   "source": []
  },
  {
   "cell_type": "markdown",
   "metadata": {},
   "source": [
    "Active Cases observations :\n",
    "\n",
    "1) Most of the countries have crossed the 10000 Acive cases per country, while some of them can control the spread of the virus and have kept it under 1000.\n",
    "\n",
    "2) China is one of the only nations which has been decreasing the active number of cases\n",
    "\n",
    "3) But in some other nations like the US, Italy, Spain, France,and most important ISRAEL, the number of active cases is rising rapidly"
   ]
  },
  {
   "cell_type": "markdown",
   "metadata": {},
   "source": [
    "### Total Death spread worldwide"
   ]
  },
  {
   "cell_type": "code",
   "execution_count": 433,
   "metadata": {},
   "outputs": [
    {
     "data": {
      "application/vnd.plotly.v1+json": {
       "config": {
        "plotlyServerURL": "https://plot.ly"
       },
       "data": [
        {
         "geo": "geo",
         "hoverlabel": {
          "namelength": 0
         },
         "hovertemplate": "<b>%{hovertext}</b><br><br>size=%{marker.size}<br>Country,Other=%{location}<br>TotalDeaths=%{marker.color}",
         "hovertext": [
          "Afghanistan",
          "Albania",
          "Algeria",
          "Andorra",
          "Angola",
          "Anguilla",
          "AntiguaandBarbuda",
          "Argentina",
          "Armenia",
          "Aruba",
          "Australia",
          "Austria",
          "Azerbaijan",
          "Bahamas",
          "Bahrain",
          "Bangladesh",
          "Barbados",
          "Belarus",
          "Belgium",
          "Belize",
          "Benin",
          "Bermuda",
          "Bhutan",
          "Bolivia",
          "BosniaandHerzegovina",
          "Botswana",
          "Brazil",
          "BritishVirginIslands",
          "Brunei",
          "Bulgaria",
          "BurkinaFaso",
          "Burundi",
          "CAR",
          "CaboVerde",
          "Cambodia",
          "Cameroon",
          "Canada",
          "CaribbeanNetherlands",
          "CaymanIslands",
          "Chad",
          "ChannelIslands",
          "Chile",
          "China",
          "Colombia",
          "Congo",
          "CostaRica",
          "Croatia",
          "Cuba",
          "Curaçao",
          "Cyprus",
          "Czechia",
          "DRC",
          "Denmark",
          "DiamondPrincess",
          "Djibouti",
          "Dominica",
          "DominicanRepublic",
          "Ecuador",
          "Egypt",
          "ElSalvador",
          "EquatorialGuinea",
          "Eritrea",
          "Estonia",
          "Eswatini",
          "Ethiopia",
          "FaeroeIslands",
          "FalklandIslands",
          "Fiji",
          "Finland",
          "France",
          "FrenchGuiana",
          "FrenchPolynesia",
          "Gabon",
          "Gambia",
          "Georgia",
          "Germany",
          "Ghana",
          "Gibraltar",
          "Greece",
          "Greenland",
          "Grenada",
          "Guadeloupe",
          "Guatemala",
          "Guinea",
          "Guinea-Bissau",
          "Guyana",
          "Haiti",
          "Honduras",
          "HongKong",
          "Hungary",
          "Iceland",
          "India",
          "Indonesia",
          "Iran",
          "Iraq",
          "Ireland",
          "IsleofMan",
          "Israel",
          "Italy",
          "IvoryCoast",
          "Jamaica",
          "Japan",
          "Jordan",
          "Kazakhstan",
          "Kenya",
          "Kuwait",
          "Kyrgyzstan",
          "Laos",
          "Latvia",
          "Lebanon",
          "Liberia",
          "Libya",
          "Liechtenstein",
          "Lithuania",
          "Luxembourg",
          "MSZaandam",
          "Macao",
          "Madagascar",
          "Malawi",
          "Malaysia",
          "Maldives",
          "Mali",
          "Malta",
          "Martinique",
          "Mauritania",
          "Mauritius",
          "Mayotte",
          "Mexico",
          "Moldova",
          "Monaco",
          "Mongolia",
          "Montenegro",
          "Montserrat",
          "Morocco",
          "Mozambique",
          "Myanmar",
          "Namibia",
          "Nepal",
          "Netherlands",
          "NewCaledonia",
          "NewZealand",
          "Nicaragua",
          "Niger",
          "Nigeria",
          "NorthMacedonia",
          "Norway",
          "Oman",
          "Pakistan",
          "Palestine",
          "Panama",
          "PapuaNewGuinea",
          "Paraguay",
          "Peru",
          "Philippines",
          "Poland",
          "Portugal",
          "Qatar",
          "Romania",
          "Russia",
          "Rwanda",
          "Réunion",
          "S.Korea",
          "SaintKittsandNevis",
          "SaintLucia",
          "SaintMartin",
          "SaintPierreMiquelon",
          "SanMarino",
          "SaoTomeandPrincipe",
          "SaudiArabia",
          "Senegal",
          "Serbia",
          "Seychelles",
          "SierraLeone",
          "Singapore",
          "SintMaarten",
          "Slovakia",
          "Slovenia",
          "Somalia",
          "SouthAfrica",
          "SouthSudan",
          "Spain",
          "SriLanka",
          "St.Barth",
          "St.VincentGrenadines",
          "Sudan",
          "Suriname",
          "Sweden",
          "Switzerland",
          "Syria",
          "Taiwan",
          "Tanzania",
          "Thailand",
          "Timor-Leste",
          "Togo",
          "TrinidadandTobago",
          "Tunisia",
          "Turkey",
          "TurksandCaicos",
          "UAE",
          "UK",
          "USA",
          "Uganda",
          "Ukraine",
          "Uruguay",
          "Uzbekistan",
          "VaticanCity",
          "Venezuela",
          "Vietnam",
          "WesternSahara",
          "Zambia",
          "Zimbabwe"
         ],
         "legendgroup": "",
         "locationmode": "country names",
         "locations": [
          "Afghanistan",
          "Albania",
          "Algeria",
          "Andorra",
          "Angola",
          "Anguilla",
          "AntiguaandBarbuda",
          "Argentina",
          "Armenia",
          "Aruba",
          "Australia",
          "Austria",
          "Azerbaijan",
          "Bahamas",
          "Bahrain",
          "Bangladesh",
          "Barbados",
          "Belarus",
          "Belgium",
          "Belize",
          "Benin",
          "Bermuda",
          "Bhutan",
          "Bolivia",
          "BosniaandHerzegovina",
          "Botswana",
          "Brazil",
          "BritishVirginIslands",
          "Brunei",
          "Bulgaria",
          "BurkinaFaso",
          "Burundi",
          "CAR",
          "CaboVerde",
          "Cambodia",
          "Cameroon",
          "Canada",
          "CaribbeanNetherlands",
          "CaymanIslands",
          "Chad",
          "ChannelIslands",
          "Chile",
          "China",
          "Colombia",
          "Congo",
          "CostaRica",
          "Croatia",
          "Cuba",
          "Curaçao",
          "Cyprus",
          "Czechia",
          "DRC",
          "Denmark",
          "DiamondPrincess",
          "Djibouti",
          "Dominica",
          "DominicanRepublic",
          "Ecuador",
          "Egypt",
          "ElSalvador",
          "EquatorialGuinea",
          "Eritrea",
          "Estonia",
          "Eswatini",
          "Ethiopia",
          "FaeroeIslands",
          "FalklandIslands",
          "Fiji",
          "Finland",
          "France",
          "FrenchGuiana",
          "FrenchPolynesia",
          "Gabon",
          "Gambia",
          "Georgia",
          "Germany",
          "Ghana",
          "Gibraltar",
          "Greece",
          "Greenland",
          "Grenada",
          "Guadeloupe",
          "Guatemala",
          "Guinea",
          "Guinea-Bissau",
          "Guyana",
          "Haiti",
          "Honduras",
          "HongKong",
          "Hungary",
          "Iceland",
          "India",
          "Indonesia",
          "Iran",
          "Iraq",
          "Ireland",
          "IsleofMan",
          "Israel",
          "Italy",
          "IvoryCoast",
          "Jamaica",
          "Japan",
          "Jordan",
          "Kazakhstan",
          "Kenya",
          "Kuwait",
          "Kyrgyzstan",
          "Laos",
          "Latvia",
          "Lebanon",
          "Liberia",
          "Libya",
          "Liechtenstein",
          "Lithuania",
          "Luxembourg",
          "MSZaandam",
          "Macao",
          "Madagascar",
          "Malawi",
          "Malaysia",
          "Maldives",
          "Mali",
          "Malta",
          "Martinique",
          "Mauritania",
          "Mauritius",
          "Mayotte",
          "Mexico",
          "Moldova",
          "Monaco",
          "Mongolia",
          "Montenegro",
          "Montserrat",
          "Morocco",
          "Mozambique",
          "Myanmar",
          "Namibia",
          "Nepal",
          "Netherlands",
          "NewCaledonia",
          "NewZealand",
          "Nicaragua",
          "Niger",
          "Nigeria",
          "NorthMacedonia",
          "Norway",
          "Oman",
          "Pakistan",
          "Palestine",
          "Panama",
          "PapuaNewGuinea",
          "Paraguay",
          "Peru",
          "Philippines",
          "Poland",
          "Portugal",
          "Qatar",
          "Romania",
          "Russia",
          "Rwanda",
          "Réunion",
          "S.Korea",
          "SaintKittsandNevis",
          "SaintLucia",
          "SaintMartin",
          "SaintPierreMiquelon",
          "SanMarino",
          "SaoTomeandPrincipe",
          "SaudiArabia",
          "Senegal",
          "Serbia",
          "Seychelles",
          "SierraLeone",
          "Singapore",
          "SintMaarten",
          "Slovakia",
          "Slovenia",
          "Somalia",
          "SouthAfrica",
          "SouthSudan",
          "Spain",
          "SriLanka",
          "St.Barth",
          "St.VincentGrenadines",
          "Sudan",
          "Suriname",
          "Sweden",
          "Switzerland",
          "Syria",
          "Taiwan",
          "Tanzania",
          "Thailand",
          "Timor-Leste",
          "Togo",
          "TrinidadandTobago",
          "Tunisia",
          "Turkey",
          "TurksandCaicos",
          "UAE",
          "UK",
          "USA",
          "Uganda",
          "Ukraine",
          "Uruguay",
          "Uzbekistan",
          "VaticanCity",
          "Venezuela",
          "Vietnam",
          "WesternSahara",
          "Zambia",
          "Zimbabwe"
         ],
         "marker": {
          "color": [
           14,
           22,
           173,
           21,
           2,
           0,
           0,
           55,
           8,
           0,
           48,
           243,
           8,
           5,
           4,
           17,
           2,
           13,
           2035,
           1,
           1,
           2,
           0,
           14,
           33,
           1,
           581,
           0,
           1,
           22,
           18,
           0,
           0,
           1,
           0,
           9,
           345,
           0,
           1,
           0,
           7,
           43,
           3331,
           46,
           5,
           2,
           18,
           9,
           1,
           9,
           80,
           18,
           203,
           11,
           0,
           0,
           98,
           191,
           85,
           4,
           0,
           0,
           21,
           0,
           2,
           0,
           0,
           0,
           34,
           8911,
           0,
           0,
           1,
           1,
           3,
           1854,
           5,
           0,
           81,
           0,
           0,
           7,
           3,
           0,
           0,
           5,
           1,
           22,
           4,
           47,
           6,
           137,
           221,
           3872,
           64,
           174,
           1,
           60,
           16523,
           3,
           3,
           92,
           6,
           6,
           6,
           1,
           4,
           0,
           2,
           19,
           3,
           1,
           1,
           15,
           41,
           2,
           0,
           0,
           1,
           63,
           0,
           5,
           0,
           4,
           1,
           7,
           2,
           125,
           22,
           1,
           0,
           2,
           0,
           83,
           0,
           1,
           0,
           0,
           2101,
           0,
           1,
           1,
           10,
           5,
           26,
           88,
           2,
           55,
           1,
           55,
           0,
           5,
           92,
           177,
           111,
           345,
           4,
           197,
           58,
           0,
           0,
           192,
           0,
           0,
           2,
           0,
           32,
           0,
           41,
           2,
           61,
           0,
           0,
           6,
           6,
           2,
           36,
           0,
           13,
           0,
           13798,
           6,
           0,
           0,
           2,
           1,
           591,
           811,
           2,
           5,
           1,
           27,
           0,
           3,
           8,
           22,
           649,
           1,
           11,
           6159,
           11781,
           0,
           45,
           6,
           2,
           0,
           7,
           0,
           0,
           1,
           1
          ],
          "coloraxis": "coloraxis",
          "size": [
           1.6952182030724354,
           1.8556007362580844,
           2.802910436378417,
           1.838416287252544,
           1.148698354997035,
           0,
           0,
           2.2288073840335185,
           1.5157165665103982,
           0,
           2.168943542395397,
           3,
           1.5157165665103982,
           1.379729661461215,
           1.3195079107728942,
           1.762340347832317,
           1.148698354997035,
           1.6702776523348104,
           4.588945318548156,
           1,
           1,
           1.148698354997035,
           0,
           1.6952182030724354,
           2.0123466170855586,
           1,
           3.571373127421423,
           0,
           1,
           1.8556007362580844,
           1.7826024579660034,
           0,
           0,
           1,
           0,
           1.5518455739153598,
           3.2178353547145946,
           0,
           1,
           0,
           1.4757731615945522,
           2.121747460841898,
           5.064247548533687,
           2.1505600128111397,
           1.379729661461215,
           1.148698354997035,
           1.7826024579660034,
           1.5518455739153598,
           1,
           1.5518455739153598,
           2.4022488679628626,
           1.7826024579660034,
           2.894004536635251,
           1.615394266202178,
           0,
           0,
           2.5017575271408434,
           2.858950746341769,
           2.4315532514941225,
           1.3195079107728942,
           0,
           0,
           1.838416287252544,
           0,
           1.148698354997035,
           0,
           0,
           0,
           2.024397458499885,
           6.165741157114381,
           0,
           0,
           1,
           1,
           1.2457309396155174,
           4.504244386408467,
           1.379729661461215,
           0,
           2.4082246852806923,
           0,
           0,
           1.4757731615945522,
           1.2457309396155174,
           0,
           0,
           1.379729661461215,
           1,
           1.8556007362580844,
           1.3195079107728942,
           2.159830011764466,
           1.4309690811052556,
           2.6751252058173223,
           2.9435976987922756,
           5.218997270557747,
           2.29739670999407,
           2.806143328984818,
           1,
           2.2679331552660544,
           6.976181651290684,
           1.2457309396155174,
           1.2457309396155174,
           2.4703447490385586,
           1.4309690811052556,
           1.4309690811052556,
           1.4309690811052556,
           1,
           1.3195079107728942,
           0,
           1.148698354997035,
           1.8019831273171423,
           1.2457309396155174,
           1,
           1,
           1.7187719275874789,
           2.1016324782757847,
           1.148698354997035,
           0,
           0,
           1,
           2.2901720489235826,
           0,
           1.379729661461215,
           0,
           1.3195079107728942,
           1,
           1.4757731615945522,
           1.148698354997035,
           2.6265278044037674,
           1.8556007362580844,
           1,
           0,
           1.148698354997035,
           0,
           2.4200014069659623,
           0,
           1,
           0,
           0,
           4.618332642994932,
           0,
           1,
           1,
           1.5848931924611136,
           1.379729661461215,
           1.9186451916253062,
           2.4484798507285492,
           1.148698354997035,
           2.2288073840335185,
           1,
           2.2288073840335185,
           0,
           1.379729661461215,
           2.4703447490385586,
           2.81575363392228,
           2.564865499132451,
           3.2178353547145946,
           1.3195079107728942,
           2.876691202782905,
           2.2526078784323254,
           0,
           0,
           2.861938162210511,
           0,
           0,
           1.148698354997035,
           0,
           2,
           0,
           2.1016324782757847,
           1.148698354997035,
           2.2754430321145303,
           0,
           0,
           1.4309690811052556,
           1.4309690811052556,
           1.148698354997035,
           2.0476725110792193,
           0,
           1.6702776523348104,
           0,
           6.729196775087812,
           1.4309690811052556,
           0,
           0,
           1.148698354997035,
           1,
           3.583583235026441,
           3.817720859118298,
           1.148698354997035,
           1.379729661461215,
           1,
           1.933182044931763,
           0,
           1.2457309396155174,
           1.5157165665103982,
           1.8556007362580844,
           3.651311957203105,
           1,
           1.615394266202178,
           5.726668460541897,
           6.519832390627919,
           0,
           2.141127368338324,
           1.4309690811052556,
           1.148698354997035,
           0,
           1.4757731615945522,
           0,
           0,
           1,
           1
          ],
          "sizemode": "area",
          "sizeref": 0.01744045412822671
         },
         "name": "",
         "showlegend": false,
         "type": "scattergeo"
        }
       ],
       "layout": {
        "coloraxis": {
         "colorbar": {
          "title": {
           "text": "TotalDeaths"
          }
         },
         "colorscale": [
          [
           0,
           "#0d0887"
          ],
          [
           0.1111111111111111,
           "#46039f"
          ],
          [
           0.2222222222222222,
           "#7201a8"
          ],
          [
           0.3333333333333333,
           "#9c179e"
          ],
          [
           0.4444444444444444,
           "#bd3786"
          ],
          [
           0.5555555555555556,
           "#d8576b"
          ],
          [
           0.6666666666666666,
           "#ed7953"
          ],
          [
           0.7777777777777778,
           "#fb9f3a"
          ],
          [
           0.8888888888888888,
           "#fdca26"
          ],
          [
           1,
           "#f0f921"
          ]
         ]
        },
        "geo": {
         "center": {},
         "domain": {
          "x": [
           0,
           1
          ],
          "y": [
           0,
           1
          ]
         },
         "projection": {
          "type": "natural earth"
         }
        },
        "legend": {
         "itemsizing": "constant",
         "tracegroupgap": 0
        },
        "template": {
         "data": {
          "bar": [
           {
            "error_x": {
             "color": "#2a3f5f"
            },
            "error_y": {
             "color": "#2a3f5f"
            },
            "marker": {
             "line": {
              "color": "#E5ECF6",
              "width": 0.5
             }
            },
            "type": "bar"
           }
          ],
          "barpolar": [
           {
            "marker": {
             "line": {
              "color": "#E5ECF6",
              "width": 0.5
             }
            },
            "type": "barpolar"
           }
          ],
          "carpet": [
           {
            "aaxis": {
             "endlinecolor": "#2a3f5f",
             "gridcolor": "white",
             "linecolor": "white",
             "minorgridcolor": "white",
             "startlinecolor": "#2a3f5f"
            },
            "baxis": {
             "endlinecolor": "#2a3f5f",
             "gridcolor": "white",
             "linecolor": "white",
             "minorgridcolor": "white",
             "startlinecolor": "#2a3f5f"
            },
            "type": "carpet"
           }
          ],
          "choropleth": [
           {
            "colorbar": {
             "outlinewidth": 0,
             "ticks": ""
            },
            "type": "choropleth"
           }
          ],
          "contour": [
           {
            "colorbar": {
             "outlinewidth": 0,
             "ticks": ""
            },
            "colorscale": [
             [
              0,
              "#0d0887"
             ],
             [
              0.1111111111111111,
              "#46039f"
             ],
             [
              0.2222222222222222,
              "#7201a8"
             ],
             [
              0.3333333333333333,
              "#9c179e"
             ],
             [
              0.4444444444444444,
              "#bd3786"
             ],
             [
              0.5555555555555556,
              "#d8576b"
             ],
             [
              0.6666666666666666,
              "#ed7953"
             ],
             [
              0.7777777777777778,
              "#fb9f3a"
             ],
             [
              0.8888888888888888,
              "#fdca26"
             ],
             [
              1,
              "#f0f921"
             ]
            ],
            "type": "contour"
           }
          ],
          "contourcarpet": [
           {
            "colorbar": {
             "outlinewidth": 0,
             "ticks": ""
            },
            "type": "contourcarpet"
           }
          ],
          "heatmap": [
           {
            "colorbar": {
             "outlinewidth": 0,
             "ticks": ""
            },
            "colorscale": [
             [
              0,
              "#0d0887"
             ],
             [
              0.1111111111111111,
              "#46039f"
             ],
             [
              0.2222222222222222,
              "#7201a8"
             ],
             [
              0.3333333333333333,
              "#9c179e"
             ],
             [
              0.4444444444444444,
              "#bd3786"
             ],
             [
              0.5555555555555556,
              "#d8576b"
             ],
             [
              0.6666666666666666,
              "#ed7953"
             ],
             [
              0.7777777777777778,
              "#fb9f3a"
             ],
             [
              0.8888888888888888,
              "#fdca26"
             ],
             [
              1,
              "#f0f921"
             ]
            ],
            "type": "heatmap"
           }
          ],
          "heatmapgl": [
           {
            "colorbar": {
             "outlinewidth": 0,
             "ticks": ""
            },
            "colorscale": [
             [
              0,
              "#0d0887"
             ],
             [
              0.1111111111111111,
              "#46039f"
             ],
             [
              0.2222222222222222,
              "#7201a8"
             ],
             [
              0.3333333333333333,
              "#9c179e"
             ],
             [
              0.4444444444444444,
              "#bd3786"
             ],
             [
              0.5555555555555556,
              "#d8576b"
             ],
             [
              0.6666666666666666,
              "#ed7953"
             ],
             [
              0.7777777777777778,
              "#fb9f3a"
             ],
             [
              0.8888888888888888,
              "#fdca26"
             ],
             [
              1,
              "#f0f921"
             ]
            ],
            "type": "heatmapgl"
           }
          ],
          "histogram": [
           {
            "marker": {
             "colorbar": {
              "outlinewidth": 0,
              "ticks": ""
             }
            },
            "type": "histogram"
           }
          ],
          "histogram2d": [
           {
            "colorbar": {
             "outlinewidth": 0,
             "ticks": ""
            },
            "colorscale": [
             [
              0,
              "#0d0887"
             ],
             [
              0.1111111111111111,
              "#46039f"
             ],
             [
              0.2222222222222222,
              "#7201a8"
             ],
             [
              0.3333333333333333,
              "#9c179e"
             ],
             [
              0.4444444444444444,
              "#bd3786"
             ],
             [
              0.5555555555555556,
              "#d8576b"
             ],
             [
              0.6666666666666666,
              "#ed7953"
             ],
             [
              0.7777777777777778,
              "#fb9f3a"
             ],
             [
              0.8888888888888888,
              "#fdca26"
             ],
             [
              1,
              "#f0f921"
             ]
            ],
            "type": "histogram2d"
           }
          ],
          "histogram2dcontour": [
           {
            "colorbar": {
             "outlinewidth": 0,
             "ticks": ""
            },
            "colorscale": [
             [
              0,
              "#0d0887"
             ],
             [
              0.1111111111111111,
              "#46039f"
             ],
             [
              0.2222222222222222,
              "#7201a8"
             ],
             [
              0.3333333333333333,
              "#9c179e"
             ],
             [
              0.4444444444444444,
              "#bd3786"
             ],
             [
              0.5555555555555556,
              "#d8576b"
             ],
             [
              0.6666666666666666,
              "#ed7953"
             ],
             [
              0.7777777777777778,
              "#fb9f3a"
             ],
             [
              0.8888888888888888,
              "#fdca26"
             ],
             [
              1,
              "#f0f921"
             ]
            ],
            "type": "histogram2dcontour"
           }
          ],
          "mesh3d": [
           {
            "colorbar": {
             "outlinewidth": 0,
             "ticks": ""
            },
            "type": "mesh3d"
           }
          ],
          "parcoords": [
           {
            "line": {
             "colorbar": {
              "outlinewidth": 0,
              "ticks": ""
             }
            },
            "type": "parcoords"
           }
          ],
          "pie": [
           {
            "automargin": true,
            "type": "pie"
           }
          ],
          "scatter": [
           {
            "marker": {
             "colorbar": {
              "outlinewidth": 0,
              "ticks": ""
             }
            },
            "type": "scatter"
           }
          ],
          "scatter3d": [
           {
            "line": {
             "colorbar": {
              "outlinewidth": 0,
              "ticks": ""
             }
            },
            "marker": {
             "colorbar": {
              "outlinewidth": 0,
              "ticks": ""
             }
            },
            "type": "scatter3d"
           }
          ],
          "scattercarpet": [
           {
            "marker": {
             "colorbar": {
              "outlinewidth": 0,
              "ticks": ""
             }
            },
            "type": "scattercarpet"
           }
          ],
          "scattergeo": [
           {
            "marker": {
             "colorbar": {
              "outlinewidth": 0,
              "ticks": ""
             }
            },
            "type": "scattergeo"
           }
          ],
          "scattergl": [
           {
            "marker": {
             "colorbar": {
              "outlinewidth": 0,
              "ticks": ""
             }
            },
            "type": "scattergl"
           }
          ],
          "scattermapbox": [
           {
            "marker": {
             "colorbar": {
              "outlinewidth": 0,
              "ticks": ""
             }
            },
            "type": "scattermapbox"
           }
          ],
          "scatterpolar": [
           {
            "marker": {
             "colorbar": {
              "outlinewidth": 0,
              "ticks": ""
             }
            },
            "type": "scatterpolar"
           }
          ],
          "scatterpolargl": [
           {
            "marker": {
             "colorbar": {
              "outlinewidth": 0,
              "ticks": ""
             }
            },
            "type": "scatterpolargl"
           }
          ],
          "scatterternary": [
           {
            "marker": {
             "colorbar": {
              "outlinewidth": 0,
              "ticks": ""
             }
            },
            "type": "scatterternary"
           }
          ],
          "surface": [
           {
            "colorbar": {
             "outlinewidth": 0,
             "ticks": ""
            },
            "colorscale": [
             [
              0,
              "#0d0887"
             ],
             [
              0.1111111111111111,
              "#46039f"
             ],
             [
              0.2222222222222222,
              "#7201a8"
             ],
             [
              0.3333333333333333,
              "#9c179e"
             ],
             [
              0.4444444444444444,
              "#bd3786"
             ],
             [
              0.5555555555555556,
              "#d8576b"
             ],
             [
              0.6666666666666666,
              "#ed7953"
             ],
             [
              0.7777777777777778,
              "#fb9f3a"
             ],
             [
              0.8888888888888888,
              "#fdca26"
             ],
             [
              1,
              "#f0f921"
             ]
            ],
            "type": "surface"
           }
          ],
          "table": [
           {
            "cells": {
             "fill": {
              "color": "#EBF0F8"
             },
             "line": {
              "color": "white"
             }
            },
            "header": {
             "fill": {
              "color": "#C8D4E3"
             },
             "line": {
              "color": "white"
             }
            },
            "type": "table"
           }
          ]
         },
         "layout": {
          "annotationdefaults": {
           "arrowcolor": "#2a3f5f",
           "arrowhead": 0,
           "arrowwidth": 1
          },
          "coloraxis": {
           "colorbar": {
            "outlinewidth": 0,
            "ticks": ""
           }
          },
          "colorscale": {
           "diverging": [
            [
             0,
             "#8e0152"
            ],
            [
             0.1,
             "#c51b7d"
            ],
            [
             0.2,
             "#de77ae"
            ],
            [
             0.3,
             "#f1b6da"
            ],
            [
             0.4,
             "#fde0ef"
            ],
            [
             0.5,
             "#f7f7f7"
            ],
            [
             0.6,
             "#e6f5d0"
            ],
            [
             0.7,
             "#b8e186"
            ],
            [
             0.8,
             "#7fbc41"
            ],
            [
             0.9,
             "#4d9221"
            ],
            [
             1,
             "#276419"
            ]
           ],
           "sequential": [
            [
             0,
             "#0d0887"
            ],
            [
             0.1111111111111111,
             "#46039f"
            ],
            [
             0.2222222222222222,
             "#7201a8"
            ],
            [
             0.3333333333333333,
             "#9c179e"
            ],
            [
             0.4444444444444444,
             "#bd3786"
            ],
            [
             0.5555555555555556,
             "#d8576b"
            ],
            [
             0.6666666666666666,
             "#ed7953"
            ],
            [
             0.7777777777777778,
             "#fb9f3a"
            ],
            [
             0.8888888888888888,
             "#fdca26"
            ],
            [
             1,
             "#f0f921"
            ]
           ],
           "sequentialminus": [
            [
             0,
             "#0d0887"
            ],
            [
             0.1111111111111111,
             "#46039f"
            ],
            [
             0.2222222222222222,
             "#7201a8"
            ],
            [
             0.3333333333333333,
             "#9c179e"
            ],
            [
             0.4444444444444444,
             "#bd3786"
            ],
            [
             0.5555555555555556,
             "#d8576b"
            ],
            [
             0.6666666666666666,
             "#ed7953"
            ],
            [
             0.7777777777777778,
             "#fb9f3a"
            ],
            [
             0.8888888888888888,
             "#fdca26"
            ],
            [
             1,
             "#f0f921"
            ]
           ]
          },
          "colorway": [
           "#636efa",
           "#EF553B",
           "#00cc96",
           "#ab63fa",
           "#FFA15A",
           "#19d3f3",
           "#FF6692",
           "#B6E880",
           "#FF97FF",
           "#FECB52"
          ],
          "font": {
           "color": "#2a3f5f"
          },
          "geo": {
           "bgcolor": "white",
           "lakecolor": "white",
           "landcolor": "#E5ECF6",
           "showlakes": true,
           "showland": true,
           "subunitcolor": "white"
          },
          "hoverlabel": {
           "align": "left"
          },
          "hovermode": "closest",
          "mapbox": {
           "style": "light"
          },
          "paper_bgcolor": "white",
          "plot_bgcolor": "#E5ECF6",
          "polar": {
           "angularaxis": {
            "gridcolor": "white",
            "linecolor": "white",
            "ticks": ""
           },
           "bgcolor": "#E5ECF6",
           "radialaxis": {
            "gridcolor": "white",
            "linecolor": "white",
            "ticks": ""
           }
          },
          "scene": {
           "xaxis": {
            "backgroundcolor": "#E5ECF6",
            "gridcolor": "white",
            "gridwidth": 2,
            "linecolor": "white",
            "showbackground": true,
            "ticks": "",
            "zerolinecolor": "white"
           },
           "yaxis": {
            "backgroundcolor": "#E5ECF6",
            "gridcolor": "white",
            "gridwidth": 2,
            "linecolor": "white",
            "showbackground": true,
            "ticks": "",
            "zerolinecolor": "white"
           },
           "zaxis": {
            "backgroundcolor": "#E5ECF6",
            "gridcolor": "white",
            "gridwidth": 2,
            "linecolor": "white",
            "showbackground": true,
            "ticks": "",
            "zerolinecolor": "white"
           }
          },
          "shapedefaults": {
           "line": {
            "color": "#2a3f5f"
           }
          },
          "ternary": {
           "aaxis": {
            "gridcolor": "white",
            "linecolor": "white",
            "ticks": ""
           },
           "baxis": {
            "gridcolor": "white",
            "linecolor": "white",
            "ticks": ""
           },
           "bgcolor": "#E5ECF6",
           "caxis": {
            "gridcolor": "white",
            "linecolor": "white",
            "ticks": ""
           }
          },
          "title": {
           "x": 0.05
          },
          "xaxis": {
           "automargin": true,
           "gridcolor": "white",
           "linecolor": "white",
           "ticks": "",
           "title": {
            "standoff": 15
           },
           "zerolinecolor": "white",
           "zerolinewidth": 2
          },
          "yaxis": {
           "automargin": true,
           "gridcolor": "white",
           "linecolor": "white",
           "ticks": "",
           "title": {
            "standoff": 15
           },
           "zerolinecolor": "white",
           "zerolinewidth": 2
          }
         }
        },
        "title": {
         "text": "Death count of each country"
        }
       }
      },
      "text/html": [
       "<div>\n",
       "        \n",
       "        \n",
       "            <div id=\"f04398c0-c2dc-47cc-8087-40393b3abdce\" class=\"plotly-graph-div\" style=\"height:525px; width:100%;\"></div>\n",
       "            <script type=\"text/javascript\">\n",
       "                require([\"plotly\"], function(Plotly) {\n",
       "                    window.PLOTLYENV=window.PLOTLYENV || {};\n",
       "                    \n",
       "                if (document.getElementById(\"f04398c0-c2dc-47cc-8087-40393b3abdce\")) {\n",
       "                    Plotly.newPlot(\n",
       "                        'f04398c0-c2dc-47cc-8087-40393b3abdce',\n",
       "                        [{\"geo\": \"geo\", \"hoverlabel\": {\"namelength\": 0}, \"hovertemplate\": \"<b>%{hovertext}</b><br><br>size=%{marker.size}<br>Country,Other=%{location}<br>TotalDeaths=%{marker.color}\", \"hovertext\": [\"Afghanistan\", \"Albania\", \"Algeria\", \"Andorra\", \"Angola\", \"Anguilla\", \"AntiguaandBarbuda\", \"Argentina\", \"Armenia\", \"Aruba\", \"Australia\", \"Austria\", \"Azerbaijan\", \"Bahamas\", \"Bahrain\", \"Bangladesh\", \"Barbados\", \"Belarus\", \"Belgium\", \"Belize\", \"Benin\", \"Bermuda\", \"Bhutan\", \"Bolivia\", \"BosniaandHerzegovina\", \"Botswana\", \"Brazil\", \"BritishVirginIslands\", \"Brunei\", \"Bulgaria\", \"BurkinaFaso\", \"Burundi\", \"CAR\", \"CaboVerde\", \"Cambodia\", \"Cameroon\", \"Canada\", \"CaribbeanNetherlands\", \"CaymanIslands\", \"Chad\", \"ChannelIslands\", \"Chile\", \"China\", \"Colombia\", \"Congo\", \"CostaRica\", \"Croatia\", \"Cuba\", \"Cura\\u00e7ao\", \"Cyprus\", \"Czechia\", \"DRC\", \"Denmark\", \"DiamondPrincess\", \"Djibouti\", \"Dominica\", \"DominicanRepublic\", \"Ecuador\", \"Egypt\", \"ElSalvador\", \"EquatorialGuinea\", \"Eritrea\", \"Estonia\", \"Eswatini\", \"Ethiopia\", \"FaeroeIslands\", \"FalklandIslands\", \"Fiji\", \"Finland\", \"France\", \"FrenchGuiana\", \"FrenchPolynesia\", \"Gabon\", \"Gambia\", \"Georgia\", \"Germany\", \"Ghana\", \"Gibraltar\", \"Greece\", \"Greenland\", \"Grenada\", \"Guadeloupe\", \"Guatemala\", \"Guinea\", \"Guinea-Bissau\", \"Guyana\", \"Haiti\", \"Honduras\", \"HongKong\", \"Hungary\", \"Iceland\", \"India\", \"Indonesia\", \"Iran\", \"Iraq\", \"Ireland\", \"IsleofMan\", \"Israel\", \"Italy\", \"IvoryCoast\", \"Jamaica\", \"Japan\", \"Jordan\", \"Kazakhstan\", \"Kenya\", \"Kuwait\", \"Kyrgyzstan\", \"Laos\", \"Latvia\", \"Lebanon\", \"Liberia\", \"Libya\", \"Liechtenstein\", \"Lithuania\", \"Luxembourg\", \"MSZaandam\", \"Macao\", \"Madagascar\", \"Malawi\", \"Malaysia\", \"Maldives\", \"Mali\", \"Malta\", \"Martinique\", \"Mauritania\", \"Mauritius\", \"Mayotte\", \"Mexico\", \"Moldova\", \"Monaco\", \"Mongolia\", \"Montenegro\", \"Montserrat\", \"Morocco\", \"Mozambique\", \"Myanmar\", \"Namibia\", \"Nepal\", \"Netherlands\", \"NewCaledonia\", \"NewZealand\", \"Nicaragua\", \"Niger\", \"Nigeria\", \"NorthMacedonia\", \"Norway\", \"Oman\", \"Pakistan\", \"Palestine\", \"Panama\", \"PapuaNewGuinea\", \"Paraguay\", \"Peru\", \"Philippines\", \"Poland\", \"Portugal\", \"Qatar\", \"Romania\", \"Russia\", \"Rwanda\", \"R\\u00e9union\", \"S.Korea\", \"SaintKittsandNevis\", \"SaintLucia\", \"SaintMartin\", \"SaintPierreMiquelon\", \"SanMarino\", \"SaoTomeandPrincipe\", \"SaudiArabia\", \"Senegal\", \"Serbia\", \"Seychelles\", \"SierraLeone\", \"Singapore\", \"SintMaarten\", \"Slovakia\", \"Slovenia\", \"Somalia\", \"SouthAfrica\", \"SouthSudan\", \"Spain\", \"SriLanka\", \"St.Barth\", \"St.VincentGrenadines\", \"Sudan\", \"Suriname\", \"Sweden\", \"Switzerland\", \"Syria\", \"Taiwan\", \"Tanzania\", \"Thailand\", \"Timor-Leste\", \"Togo\", \"TrinidadandTobago\", \"Tunisia\", \"Turkey\", \"TurksandCaicos\", \"UAE\", \"UK\", \"USA\", \"Uganda\", \"Ukraine\", \"Uruguay\", \"Uzbekistan\", \"VaticanCity\", \"Venezuela\", \"Vietnam\", \"WesternSahara\", \"Zambia\", \"Zimbabwe\"], \"legendgroup\": \"\", \"locationmode\": \"country names\", \"locations\": [\"Afghanistan\", \"Albania\", \"Algeria\", \"Andorra\", \"Angola\", \"Anguilla\", \"AntiguaandBarbuda\", \"Argentina\", \"Armenia\", \"Aruba\", \"Australia\", \"Austria\", \"Azerbaijan\", \"Bahamas\", \"Bahrain\", \"Bangladesh\", \"Barbados\", \"Belarus\", \"Belgium\", \"Belize\", \"Benin\", \"Bermuda\", \"Bhutan\", \"Bolivia\", \"BosniaandHerzegovina\", \"Botswana\", \"Brazil\", \"BritishVirginIslands\", \"Brunei\", \"Bulgaria\", \"BurkinaFaso\", \"Burundi\", \"CAR\", \"CaboVerde\", \"Cambodia\", \"Cameroon\", \"Canada\", \"CaribbeanNetherlands\", \"CaymanIslands\", \"Chad\", \"ChannelIslands\", \"Chile\", \"China\", \"Colombia\", \"Congo\", \"CostaRica\", \"Croatia\", \"Cuba\", \"Cura\\u00e7ao\", \"Cyprus\", \"Czechia\", \"DRC\", \"Denmark\", \"DiamondPrincess\", \"Djibouti\", \"Dominica\", \"DominicanRepublic\", \"Ecuador\", \"Egypt\", \"ElSalvador\", \"EquatorialGuinea\", \"Eritrea\", \"Estonia\", \"Eswatini\", \"Ethiopia\", \"FaeroeIslands\", \"FalklandIslands\", \"Fiji\", \"Finland\", \"France\", \"FrenchGuiana\", \"FrenchPolynesia\", \"Gabon\", \"Gambia\", \"Georgia\", \"Germany\", \"Ghana\", \"Gibraltar\", \"Greece\", \"Greenland\", \"Grenada\", \"Guadeloupe\", \"Guatemala\", \"Guinea\", \"Guinea-Bissau\", \"Guyana\", \"Haiti\", \"Honduras\", \"HongKong\", \"Hungary\", \"Iceland\", \"India\", \"Indonesia\", \"Iran\", \"Iraq\", \"Ireland\", \"IsleofMan\", \"Israel\", \"Italy\", \"IvoryCoast\", \"Jamaica\", \"Japan\", \"Jordan\", \"Kazakhstan\", \"Kenya\", \"Kuwait\", \"Kyrgyzstan\", \"Laos\", \"Latvia\", \"Lebanon\", \"Liberia\", \"Libya\", \"Liechtenstein\", \"Lithuania\", \"Luxembourg\", \"MSZaandam\", \"Macao\", \"Madagascar\", \"Malawi\", \"Malaysia\", \"Maldives\", \"Mali\", \"Malta\", \"Martinique\", \"Mauritania\", \"Mauritius\", \"Mayotte\", \"Mexico\", \"Moldova\", \"Monaco\", \"Mongolia\", \"Montenegro\", \"Montserrat\", \"Morocco\", \"Mozambique\", \"Myanmar\", \"Namibia\", \"Nepal\", \"Netherlands\", \"NewCaledonia\", \"NewZealand\", \"Nicaragua\", \"Niger\", \"Nigeria\", \"NorthMacedonia\", \"Norway\", \"Oman\", \"Pakistan\", \"Palestine\", \"Panama\", \"PapuaNewGuinea\", \"Paraguay\", \"Peru\", \"Philippines\", \"Poland\", \"Portugal\", \"Qatar\", \"Romania\", \"Russia\", \"Rwanda\", \"R\\u00e9union\", \"S.Korea\", \"SaintKittsandNevis\", \"SaintLucia\", \"SaintMartin\", \"SaintPierreMiquelon\", \"SanMarino\", \"SaoTomeandPrincipe\", \"SaudiArabia\", \"Senegal\", \"Serbia\", \"Seychelles\", \"SierraLeone\", \"Singapore\", \"SintMaarten\", \"Slovakia\", \"Slovenia\", \"Somalia\", \"SouthAfrica\", \"SouthSudan\", \"Spain\", \"SriLanka\", \"St.Barth\", \"St.VincentGrenadines\", \"Sudan\", \"Suriname\", \"Sweden\", \"Switzerland\", \"Syria\", \"Taiwan\", \"Tanzania\", \"Thailand\", \"Timor-Leste\", \"Togo\", \"TrinidadandTobago\", \"Tunisia\", \"Turkey\", \"TurksandCaicos\", \"UAE\", \"UK\", \"USA\", \"Uganda\", \"Ukraine\", \"Uruguay\", \"Uzbekistan\", \"VaticanCity\", \"Venezuela\", \"Vietnam\", \"WesternSahara\", \"Zambia\", \"Zimbabwe\"], \"marker\": {\"color\": [14, 22, 173, 21, 2, 0, 0, 55, 8, 0, 48, 243, 8, 5, 4, 17, 2, 13, 2035, 1, 1, 2, 0, 14, 33, 1, 581, 0, 1, 22, 18, 0, 0, 1, 0, 9, 345, 0, 1, 0, 7, 43, 3331, 46, 5, 2, 18, 9, 1, 9, 80, 18, 203, 11, 0, 0, 98, 191, 85, 4, 0, 0, 21, 0, 2, 0, 0, 0, 34, 8911, 0, 0, 1, 1, 3, 1854, 5, 0, 81, 0, 0, 7, 3, 0, 0, 5, 1, 22, 4, 47, 6, 137, 221, 3872, 64, 174, 1, 60, 16523, 3, 3, 92, 6, 6, 6, 1, 4, 0, 2, 19, 3, 1, 1, 15, 41, 2, 0, 0, 1, 63, 0, 5, 0, 4, 1, 7, 2, 125, 22, 1, 0, 2, 0, 83, 0, 1, 0, 0, 2101, 0, 1, 1, 10, 5, 26, 88, 2, 55, 1, 55, 0, 5, 92, 177, 111, 345, 4, 197, 58, 0, 0, 192, 0, 0, 2, 0, 32, 0, 41, 2, 61, 0, 0, 6, 6, 2, 36, 0, 13, 0, 13798, 6, 0, 0, 2, 1, 591, 811, 2, 5, 1, 27, 0, 3, 8, 22, 649, 1, 11, 6159, 11781, 0, 45, 6, 2, 0, 7, 0, 0, 1, 1], \"coloraxis\": \"coloraxis\", \"size\": [1.6952182030724354, 1.8556007362580844, 2.802910436378417, 1.838416287252544, 1.148698354997035, 0.0, 0.0, 2.2288073840335185, 1.5157165665103982, 0.0, 2.168943542395397, 3.0, 1.5157165665103982, 1.379729661461215, 1.3195079107728942, 1.762340347832317, 1.148698354997035, 1.6702776523348104, 4.588945318548156, 1.0, 1.0, 1.148698354997035, 0.0, 1.6952182030724354, 2.0123466170855586, 1.0, 3.571373127421423, 0.0, 1.0, 1.8556007362580844, 1.7826024579660034, 0.0, 0.0, 1.0, 0.0, 1.5518455739153598, 3.2178353547145946, 0.0, 1.0, 0.0, 1.4757731615945522, 2.121747460841898, 5.064247548533687, 2.1505600128111397, 1.379729661461215, 1.148698354997035, 1.7826024579660034, 1.5518455739153598, 1.0, 1.5518455739153598, 2.4022488679628626, 1.7826024579660034, 2.894004536635251, 1.615394266202178, 0.0, 0.0, 2.5017575271408434, 2.858950746341769, 2.4315532514941225, 1.3195079107728942, 0.0, 0.0, 1.838416287252544, 0.0, 1.148698354997035, 0.0, 0.0, 0.0, 2.024397458499885, 6.165741157114381, 0.0, 0.0, 1.0, 1.0, 1.2457309396155174, 4.504244386408467, 1.379729661461215, 0.0, 2.4082246852806923, 0.0, 0.0, 1.4757731615945522, 1.2457309396155174, 0.0, 0.0, 1.379729661461215, 1.0, 1.8556007362580844, 1.3195079107728942, 2.159830011764466, 1.4309690811052556, 2.6751252058173223, 2.9435976987922756, 5.218997270557747, 2.29739670999407, 2.806143328984818, 1.0, 2.2679331552660544, 6.976181651290684, 1.2457309396155174, 1.2457309396155174, 2.4703447490385586, 1.4309690811052556, 1.4309690811052556, 1.4309690811052556, 1.0, 1.3195079107728942, 0.0, 1.148698354997035, 1.8019831273171423, 1.2457309396155174, 1.0, 1.0, 1.7187719275874789, 2.1016324782757847, 1.148698354997035, 0.0, 0.0, 1.0, 2.2901720489235826, 0.0, 1.379729661461215, 0.0, 1.3195079107728942, 1.0, 1.4757731615945522, 1.148698354997035, 2.6265278044037674, 1.8556007362580844, 1.0, 0.0, 1.148698354997035, 0.0, 2.4200014069659623, 0.0, 1.0, 0.0, 0.0, 4.618332642994932, 0.0, 1.0, 1.0, 1.5848931924611136, 1.379729661461215, 1.9186451916253062, 2.4484798507285492, 1.148698354997035, 2.2288073840335185, 1.0, 2.2288073840335185, 0.0, 1.379729661461215, 2.4703447490385586, 2.81575363392228, 2.564865499132451, 3.2178353547145946, 1.3195079107728942, 2.876691202782905, 2.2526078784323254, 0.0, 0.0, 2.861938162210511, 0.0, 0.0, 1.148698354997035, 0.0, 2.0, 0.0, 2.1016324782757847, 1.148698354997035, 2.2754430321145303, 0.0, 0.0, 1.4309690811052556, 1.4309690811052556, 1.148698354997035, 2.0476725110792193, 0.0, 1.6702776523348104, 0.0, 6.729196775087812, 1.4309690811052556, 0.0, 0.0, 1.148698354997035, 1.0, 3.583583235026441, 3.817720859118298, 1.148698354997035, 1.379729661461215, 1.0, 1.933182044931763, 0.0, 1.2457309396155174, 1.5157165665103982, 1.8556007362580844, 3.651311957203105, 1.0, 1.615394266202178, 5.726668460541897, 6.519832390627919, 0.0, 2.141127368338324, 1.4309690811052556, 1.148698354997035, 0.0, 1.4757731615945522, 0.0, 0.0, 1.0, 1.0], \"sizemode\": \"area\", \"sizeref\": 0.01744045412822671}, \"name\": \"\", \"showlegend\": false, \"type\": \"scattergeo\"}],\n",
       "                        {\"coloraxis\": {\"colorbar\": {\"title\": {\"text\": \"TotalDeaths\"}}, \"colorscale\": [[0.0, \"#0d0887\"], [0.1111111111111111, \"#46039f\"], [0.2222222222222222, \"#7201a8\"], [0.3333333333333333, \"#9c179e\"], [0.4444444444444444, \"#bd3786\"], [0.5555555555555556, \"#d8576b\"], [0.6666666666666666, \"#ed7953\"], [0.7777777777777778, \"#fb9f3a\"], [0.8888888888888888, \"#fdca26\"], [1.0, \"#f0f921\"]]}, \"geo\": {\"center\": {}, \"domain\": {\"x\": [0.0, 1.0], \"y\": [0.0, 1.0]}, \"projection\": {\"type\": \"natural earth\"}}, \"legend\": {\"itemsizing\": \"constant\", \"tracegroupgap\": 0}, \"template\": {\"data\": {\"bar\": [{\"error_x\": {\"color\": \"#2a3f5f\"}, \"error_y\": {\"color\": \"#2a3f5f\"}, \"marker\": {\"line\": {\"color\": \"#E5ECF6\", \"width\": 0.5}}, \"type\": \"bar\"}], \"barpolar\": [{\"marker\": {\"line\": {\"color\": \"#E5ECF6\", \"width\": 0.5}}, \"type\": \"barpolar\"}], \"carpet\": [{\"aaxis\": {\"endlinecolor\": \"#2a3f5f\", \"gridcolor\": \"white\", \"linecolor\": \"white\", \"minorgridcolor\": \"white\", \"startlinecolor\": \"#2a3f5f\"}, \"baxis\": {\"endlinecolor\": \"#2a3f5f\", \"gridcolor\": \"white\", \"linecolor\": \"white\", \"minorgridcolor\": \"white\", \"startlinecolor\": \"#2a3f5f\"}, \"type\": \"carpet\"}], \"choropleth\": [{\"colorbar\": {\"outlinewidth\": 0, \"ticks\": \"\"}, \"type\": \"choropleth\"}], \"contour\": [{\"colorbar\": {\"outlinewidth\": 0, \"ticks\": \"\"}, \"colorscale\": [[0.0, \"#0d0887\"], [0.1111111111111111, \"#46039f\"], [0.2222222222222222, \"#7201a8\"], [0.3333333333333333, \"#9c179e\"], [0.4444444444444444, \"#bd3786\"], [0.5555555555555556, \"#d8576b\"], [0.6666666666666666, \"#ed7953\"], [0.7777777777777778, \"#fb9f3a\"], [0.8888888888888888, \"#fdca26\"], [1.0, \"#f0f921\"]], \"type\": \"contour\"}], \"contourcarpet\": [{\"colorbar\": {\"outlinewidth\": 0, \"ticks\": \"\"}, \"type\": \"contourcarpet\"}], \"heatmap\": [{\"colorbar\": {\"outlinewidth\": 0, \"ticks\": \"\"}, \"colorscale\": [[0.0, \"#0d0887\"], [0.1111111111111111, \"#46039f\"], [0.2222222222222222, \"#7201a8\"], [0.3333333333333333, \"#9c179e\"], [0.4444444444444444, \"#bd3786\"], [0.5555555555555556, \"#d8576b\"], [0.6666666666666666, \"#ed7953\"], [0.7777777777777778, \"#fb9f3a\"], [0.8888888888888888, \"#fdca26\"], [1.0, \"#f0f921\"]], \"type\": \"heatmap\"}], \"heatmapgl\": [{\"colorbar\": {\"outlinewidth\": 0, \"ticks\": \"\"}, \"colorscale\": [[0.0, \"#0d0887\"], [0.1111111111111111, \"#46039f\"], [0.2222222222222222, \"#7201a8\"], [0.3333333333333333, \"#9c179e\"], [0.4444444444444444, \"#bd3786\"], [0.5555555555555556, \"#d8576b\"], [0.6666666666666666, \"#ed7953\"], [0.7777777777777778, \"#fb9f3a\"], [0.8888888888888888, \"#fdca26\"], [1.0, \"#f0f921\"]], \"type\": \"heatmapgl\"}], \"histogram\": [{\"marker\": {\"colorbar\": {\"outlinewidth\": 0, \"ticks\": \"\"}}, \"type\": \"histogram\"}], \"histogram2d\": [{\"colorbar\": {\"outlinewidth\": 0, \"ticks\": \"\"}, \"colorscale\": [[0.0, \"#0d0887\"], [0.1111111111111111, \"#46039f\"], [0.2222222222222222, \"#7201a8\"], [0.3333333333333333, \"#9c179e\"], [0.4444444444444444, \"#bd3786\"], [0.5555555555555556, \"#d8576b\"], [0.6666666666666666, \"#ed7953\"], [0.7777777777777778, \"#fb9f3a\"], [0.8888888888888888, \"#fdca26\"], [1.0, \"#f0f921\"]], \"type\": \"histogram2d\"}], \"histogram2dcontour\": [{\"colorbar\": {\"outlinewidth\": 0, \"ticks\": \"\"}, \"colorscale\": [[0.0, \"#0d0887\"], [0.1111111111111111, \"#46039f\"], [0.2222222222222222, \"#7201a8\"], [0.3333333333333333, \"#9c179e\"], [0.4444444444444444, \"#bd3786\"], [0.5555555555555556, \"#d8576b\"], [0.6666666666666666, \"#ed7953\"], [0.7777777777777778, \"#fb9f3a\"], [0.8888888888888888, \"#fdca26\"], [1.0, \"#f0f921\"]], \"type\": \"histogram2dcontour\"}], \"mesh3d\": [{\"colorbar\": {\"outlinewidth\": 0, \"ticks\": \"\"}, \"type\": \"mesh3d\"}], \"parcoords\": [{\"line\": {\"colorbar\": {\"outlinewidth\": 0, \"ticks\": \"\"}}, \"type\": \"parcoords\"}], \"pie\": [{\"automargin\": true, \"type\": \"pie\"}], \"scatter\": [{\"marker\": {\"colorbar\": {\"outlinewidth\": 0, \"ticks\": \"\"}}, \"type\": \"scatter\"}], \"scatter3d\": [{\"line\": {\"colorbar\": {\"outlinewidth\": 0, \"ticks\": \"\"}}, \"marker\": {\"colorbar\": {\"outlinewidth\": 0, \"ticks\": \"\"}}, \"type\": \"scatter3d\"}], \"scattercarpet\": [{\"marker\": {\"colorbar\": {\"outlinewidth\": 0, \"ticks\": \"\"}}, \"type\": \"scattercarpet\"}], \"scattergeo\": [{\"marker\": {\"colorbar\": {\"outlinewidth\": 0, \"ticks\": \"\"}}, \"type\": \"scattergeo\"}], \"scattergl\": [{\"marker\": {\"colorbar\": {\"outlinewidth\": 0, \"ticks\": \"\"}}, \"type\": \"scattergl\"}], \"scattermapbox\": [{\"marker\": {\"colorbar\": {\"outlinewidth\": 0, \"ticks\": \"\"}}, \"type\": \"scattermapbox\"}], \"scatterpolar\": [{\"marker\": {\"colorbar\": {\"outlinewidth\": 0, \"ticks\": \"\"}}, \"type\": \"scatterpolar\"}], \"scatterpolargl\": [{\"marker\": {\"colorbar\": {\"outlinewidth\": 0, \"ticks\": \"\"}}, \"type\": \"scatterpolargl\"}], \"scatterternary\": [{\"marker\": {\"colorbar\": {\"outlinewidth\": 0, \"ticks\": \"\"}}, \"type\": \"scatterternary\"}], \"surface\": [{\"colorbar\": {\"outlinewidth\": 0, \"ticks\": \"\"}, \"colorscale\": [[0.0, \"#0d0887\"], [0.1111111111111111, \"#46039f\"], [0.2222222222222222, \"#7201a8\"], [0.3333333333333333, \"#9c179e\"], [0.4444444444444444, \"#bd3786\"], [0.5555555555555556, \"#d8576b\"], [0.6666666666666666, \"#ed7953\"], [0.7777777777777778, \"#fb9f3a\"], [0.8888888888888888, \"#fdca26\"], [1.0, \"#f0f921\"]], \"type\": \"surface\"}], \"table\": [{\"cells\": {\"fill\": {\"color\": \"#EBF0F8\"}, \"line\": {\"color\": \"white\"}}, \"header\": {\"fill\": {\"color\": \"#C8D4E3\"}, \"line\": {\"color\": \"white\"}}, \"type\": \"table\"}]}, \"layout\": {\"annotationdefaults\": {\"arrowcolor\": \"#2a3f5f\", \"arrowhead\": 0, \"arrowwidth\": 1}, \"coloraxis\": {\"colorbar\": {\"outlinewidth\": 0, \"ticks\": \"\"}}, \"colorscale\": {\"diverging\": [[0, \"#8e0152\"], [0.1, \"#c51b7d\"], [0.2, \"#de77ae\"], [0.3, \"#f1b6da\"], [0.4, \"#fde0ef\"], [0.5, \"#f7f7f7\"], [0.6, \"#e6f5d0\"], [0.7, \"#b8e186\"], [0.8, \"#7fbc41\"], [0.9, \"#4d9221\"], [1, \"#276419\"]], \"sequential\": [[0.0, \"#0d0887\"], [0.1111111111111111, \"#46039f\"], [0.2222222222222222, \"#7201a8\"], [0.3333333333333333, \"#9c179e\"], [0.4444444444444444, \"#bd3786\"], [0.5555555555555556, \"#d8576b\"], [0.6666666666666666, \"#ed7953\"], [0.7777777777777778, \"#fb9f3a\"], [0.8888888888888888, \"#fdca26\"], [1.0, \"#f0f921\"]], \"sequentialminus\": [[0.0, \"#0d0887\"], [0.1111111111111111, \"#46039f\"], [0.2222222222222222, \"#7201a8\"], [0.3333333333333333, \"#9c179e\"], [0.4444444444444444, \"#bd3786\"], [0.5555555555555556, \"#d8576b\"], [0.6666666666666666, \"#ed7953\"], [0.7777777777777778, \"#fb9f3a\"], [0.8888888888888888, \"#fdca26\"], [1.0, \"#f0f921\"]]}, \"colorway\": [\"#636efa\", \"#EF553B\", \"#00cc96\", \"#ab63fa\", \"#FFA15A\", \"#19d3f3\", \"#FF6692\", \"#B6E880\", \"#FF97FF\", \"#FECB52\"], \"font\": {\"color\": \"#2a3f5f\"}, \"geo\": {\"bgcolor\": \"white\", \"lakecolor\": \"white\", \"landcolor\": \"#E5ECF6\", \"showlakes\": true, \"showland\": true, \"subunitcolor\": \"white\"}, \"hoverlabel\": {\"align\": \"left\"}, \"hovermode\": \"closest\", \"mapbox\": {\"style\": \"light\"}, \"paper_bgcolor\": \"white\", \"plot_bgcolor\": \"#E5ECF6\", \"polar\": {\"angularaxis\": {\"gridcolor\": \"white\", \"linecolor\": \"white\", \"ticks\": \"\"}, \"bgcolor\": \"#E5ECF6\", \"radialaxis\": {\"gridcolor\": \"white\", \"linecolor\": \"white\", \"ticks\": \"\"}}, \"scene\": {\"xaxis\": {\"backgroundcolor\": \"#E5ECF6\", \"gridcolor\": \"white\", \"gridwidth\": 2, \"linecolor\": \"white\", \"showbackground\": true, \"ticks\": \"\", \"zerolinecolor\": \"white\"}, \"yaxis\": {\"backgroundcolor\": \"#E5ECF6\", \"gridcolor\": \"white\", \"gridwidth\": 2, \"linecolor\": \"white\", \"showbackground\": true, \"ticks\": \"\", \"zerolinecolor\": \"white\"}, \"zaxis\": {\"backgroundcolor\": \"#E5ECF6\", \"gridcolor\": \"white\", \"gridwidth\": 2, \"linecolor\": \"white\", \"showbackground\": true, \"ticks\": \"\", \"zerolinecolor\": \"white\"}}, \"shapedefaults\": {\"line\": {\"color\": \"#2a3f5f\"}}, \"ternary\": {\"aaxis\": {\"gridcolor\": \"white\", \"linecolor\": \"white\", \"ticks\": \"\"}, \"baxis\": {\"gridcolor\": \"white\", \"linecolor\": \"white\", \"ticks\": \"\"}, \"bgcolor\": \"#E5ECF6\", \"caxis\": {\"gridcolor\": \"white\", \"linecolor\": \"white\", \"ticks\": \"\"}}, \"title\": {\"x\": 0.05}, \"xaxis\": {\"automargin\": true, \"gridcolor\": \"white\", \"linecolor\": \"white\", \"ticks\": \"\", \"title\": {\"standoff\": 15}, \"zerolinecolor\": \"white\", \"zerolinewidth\": 2}, \"yaxis\": {\"automargin\": true, \"gridcolor\": \"white\", \"linecolor\": \"white\", \"ticks\": \"\", \"title\": {\"standoff\": 15}, \"zerolinecolor\": \"white\", \"zerolinewidth\": 2}}}, \"title\": {\"text\": \"Death count of each country\"}},\n",
       "                        {\"responsive\": true}\n",
       "                    ).then(function(){\n",
       "                            \n",
       "var gd = document.getElementById('f04398c0-c2dc-47cc-8087-40393b3abdce');\n",
       "var x = new MutationObserver(function (mutations, observer) {{\n",
       "        var display = window.getComputedStyle(gd).display;\n",
       "        if (!display || display === 'none') {{\n",
       "            console.log([gd, 'removed!']);\n",
       "            Plotly.purge(gd);\n",
       "            observer.disconnect();\n",
       "        }}\n",
       "}});\n",
       "\n",
       "// Listen for the removal of the full notebook cells\n",
       "var notebookContainer = gd.closest('#notebook-container');\n",
       "if (notebookContainer) {{\n",
       "    x.observe(notebookContainer, {childList: true});\n",
       "}}\n",
       "\n",
       "// Listen for the clearing of the current output cell\n",
       "var outputEl = gd.closest('.output');\n",
       "if (outputEl) {{\n",
       "    x.observe(outputEl, {childList: true});\n",
       "}}\n",
       "\n",
       "                        })\n",
       "                };\n",
       "                });\n",
       "            </script>\n",
       "        </div>"
      ]
     },
     "metadata": {},
     "output_type": "display_data"
    }
   ],
   "source": [
    "world['size'] = world['TotalDeaths'].pow(0.2)\n",
    "fig = px.scatter_geo(world, locations=\"Country,Other\",locationmode='country names', color=\"TotalDeaths\",\n",
    "                     hover_name=\"Country,Other\", size=\"size\",\n",
    "                     projection=\"natural earth\",title='Death count of each country')\n",
    "fig.show()"
   ]
  },
  {
   "cell_type": "markdown",
   "metadata": {},
   "source": [
    "###  Top active cases worldwide"
   ]
  },
  {
   "cell_type": "code",
   "execution_count": 434,
   "metadata": {},
   "outputs": [
    {
     "data": {
      "text/plain": [
       "[Text(0, 0.5, 'Country'), Text(0.5, 0, 'Total cases')]"
      ]
     },
     "execution_count": 434,
     "metadata": {},
     "output_type": "execute_result"
    },
    {
     "data": {
      "image/png": "[encoded data removed]",
      "text/plain": [
       "<Figure size 1080x720 with 1 Axes>"
      ]
     },
     "metadata": {
      "needs_background": "light"
     },
     "output_type": "display_data"
    }
   ],
   "source": [
    "\n",
    "active_df = world.groupby(by = 'Country,Other')['ActiveCases'].sum().sort_values(ascending = False).head(20).reset_index()\n",
    "plt.figure(figsize= (15,10))\n",
    "plt.xticks(fontsize = 15)\n",
    "plt.yticks(fontsize = 15)\n",
    "plt.xlabel(\"Total cases\",fontsize = 30)\n",
    "plt.ylabel('Country',fontsize = 30)\n",
    "plt.title(\"Top 20 countries having most active cases\" , fontsize = 30)\n",
    "ax = sns.barplot(x = active_df.ActiveCases, y = active_df['Country,Other'],palette = 'plasma') # real data\n",
    "ax.set(xlabel='Total cases', ylabel='Country') #New name to xy labels"
   ]
  },
  {
   "cell_type": "markdown",
   "metadata": {},
   "source": [
    "1)We can see that USA,Italy,Spain,Germany are in top of the world\n",
    "\n",
    "2)As the covid-19 testing is increasing, The active number of cases is also increasing day by day\n",
    "\n",
    "3)In comparison with the total population, Italy, Spain, Germany and France are the worst-hit nation\n",
    "\n",
    "4) (While me made this project) israel jumped to the top of the 20 Countries in the world"
   ]
  },
  {
   "cell_type": "markdown",
   "metadata": {},
   "source": [
    "### Top Deaths worldwide "
   ]
  },
  {
   "cell_type": "code",
   "execution_count": 435,
   "metadata": {},
   "outputs": [
    {
     "data": {
      "text/plain": [
       "[Text(0, 0.5, 'Country'), Text(0.5, 0, 'Total cases')]"
      ]
     },
     "execution_count": 435,
     "metadata": {},
     "output_type": "execute_result"
    },
    {
     "data": {
      "image/png": "[encoded data removed]",
      "text/plain": [
       "<Figure size 1080x720 with 1 Axes>"
      ]
     },
     "metadata": {
      "needs_background": "light"
     },
     "output_type": "display_data"
    }
   ],
   "source": [
    "deaths_df = world.groupby(by = 'Country,Other')['TotalDeaths'].sum().sort_values(ascending = False).head(20).reset_index()\n",
    "plt.figure(figsize= (15,10))\n",
    "plt.xticks(fontsize = 15)\n",
    "plt.yticks(fontsize = 15)\n",
    "plt.xlabel(\"Total Deaths cases\",fontsize = 30)\n",
    "plt.ylabel('Country',fontsize = 30)\n",
    "plt.title(\"Top 20 countries deaths cases\" , fontsize = 30)\n",
    "ax = sns.barplot(x = deaths_df.TotalDeaths, y = deaths_df['Country,Other'],palette = 'magma') # real data\n",
    "ax.set(xlabel='Total cases', ylabel='Country') #New name to xy labels"
   ]
  },
  {
   "cell_type": "markdown",
   "metadata": {},
   "source": [
    "We can see that obviously Italy,Spain and USA are having most Deaths in the top of the world death cases"
   ]
  },
  {
   "cell_type": "markdown",
   "metadata": {},
   "source": [
    "### Top recovered cases"
   ]
  },
  {
   "cell_type": "code",
   "execution_count": 436,
   "metadata": {},
   "outputs": [
    {
     "data": {
      "text/plain": [
       "[Text(0, 0.5, 'Country'), Text(0.5, 0, 'Total cases')]"
      ]
     },
     "execution_count": 436,
     "metadata": {},
     "output_type": "execute_result"
    },
    {
     "data": {
      "image/png": "[encoded data removed]",
      "text/plain": [
       "<Figure size 1080x720 with 1 Axes>"
      ]
     },
     "metadata": {
      "needs_background": "light"
     },
     "output_type": "display_data"
    }
   ],
   "source": [
    "#Total recovered\n",
    "recovered_df = corona_df.groupby(by = 'Country,Other')['TotalRecovered'].sum().sort_values(ascending = False).head(20).reset_index()\n",
    "\n",
    "plt.figure(figsize= (15,10))\n",
    "plt.xticks(fontsize = 15)\n",
    "plt.yticks(fontsize = 15)\n",
    "plt.xlabel(\"Recovered numbers\",fontsize = 30)\n",
    "plt.ylabel('Country',fontsize = 30)\n",
    "plt.title(\"Top 20 countries recovered cases\" , fontsize = 30)\n",
    "ax = sns.barplot(x = recovered_df.TotalRecovered, y = recovered_df['Country,Other'],palette = 'viridis') # real data\n",
    "ax.set(xlabel='Total cases', ylabel='Country') #New name to xy labels"
   ]
  },
  {
   "cell_type": "code",
   "execution_count": null,
   "metadata": {},
   "outputs": [],
   "source": []
  },
  {
   "cell_type": "markdown",
   "metadata": {},
   "source": [
    "1) By far China is leading in the number of recoveries \n",
    "\n",
    "2) Italy, Iran, and Spain are also doing a good job.\n"
   ]
  },
  {
   "cell_type": "markdown",
   "metadata": {},
   "source": [
    "### Top 20 countries having the worst mortality and best recovery "
   ]
  },
  {
   "cell_type": "code",
   "execution_count": 437,
   "metadata": {},
   "outputs": [
    {
     "data": {
      "text/html": [
       "<div>\n",
       "<style scoped>\n",
       "    .dataframe tbody tr th:only-of-type {\n",
       "        vertical-align: middle;\n",
       "    }\n",
       "\n",
       "    .dataframe tbody tr th {\n",
       "        vertical-align: top;\n",
       "    }\n",
       "\n",
       "    .dataframe thead th {\n",
       "        text-align: right;\n",
       "    }\n",
       "</style>\n",
       "<table border=\"1\" class=\"dataframe\">\n",
       "  <thead>\n",
       "    <tr style=\"text-align: right;\">\n",
       "      <th></th>\n",
       "      <th>Country,Other</th>\n",
       "      <th>TotalCases</th>\n",
       "      <th>TotalRecovered</th>\n",
       "      <th>TotalDeaths</th>\n",
       "      <th>RecoveryPercentage</th>\n",
       "      <th>death percentage</th>\n",
       "    </tr>\n",
       "  </thead>\n",
       "  <tbody>\n",
       "    <tr>\n",
       "      <td>0</td>\n",
       "      <td>Afghanistan</td>\n",
       "      <td>423</td>\n",
       "      <td>18</td>\n",
       "      <td>14</td>\n",
       "      <td>4.26</td>\n",
       "      <td>3.31</td>\n",
       "    </tr>\n",
       "    <tr>\n",
       "      <td>1</td>\n",
       "      <td>Albania</td>\n",
       "      <td>383</td>\n",
       "      <td>131</td>\n",
       "      <td>22</td>\n",
       "      <td>34.20</td>\n",
       "      <td>5.74</td>\n",
       "    </tr>\n",
       "    <tr>\n",
       "      <td>2</td>\n",
       "      <td>Algeria</td>\n",
       "      <td>1423</td>\n",
       "      <td>90</td>\n",
       "      <td>173</td>\n",
       "      <td>6.32</td>\n",
       "      <td>12.16</td>\n",
       "    </tr>\n",
       "    <tr>\n",
       "      <td>3</td>\n",
       "      <td>Andorra</td>\n",
       "      <td>525</td>\n",
       "      <td>31</td>\n",
       "      <td>21</td>\n",
       "      <td>5.90</td>\n",
       "      <td>4.00</td>\n",
       "    </tr>\n",
       "    <tr>\n",
       "      <td>4</td>\n",
       "      <td>Angola</td>\n",
       "      <td>16</td>\n",
       "      <td>2</td>\n",
       "      <td>2</td>\n",
       "      <td>12.50</td>\n",
       "      <td>12.50</td>\n",
       "    </tr>\n",
       "  </tbody>\n",
       "</table>\n",
       "</div>"
      ],
      "text/plain": [
       "  Country,Other  TotalCases  TotalRecovered  TotalDeaths  RecoveryPercentage  \\\n",
       "0   Afghanistan         423              18           14                4.26   \n",
       "1       Albania         383             131           22               34.20   \n",
       "2       Algeria        1423              90          173                6.32   \n",
       "3       Andorra         525              31           21                5.90   \n",
       "4        Angola          16               2            2               12.50   \n",
       "\n",
       "   death percentage  \n",
       "0              3.31  \n",
       "1              5.74  \n",
       "2             12.16  \n",
       "3              4.00  \n",
       "4             12.50  "
      ]
     },
     "execution_count": 437,
     "metadata": {},
     "output_type": "execute_result"
    }
   ],
   "source": [
    "ratio_df = corona_df.groupby(by = 'Country,Other')['TotalCases','TotalRecovered','TotalDeaths'].sum().reset_index()\n",
    "ratio_df['RecoveryPercentage'] =  round(((ratio_df['TotalRecovered']) / (ratio_df['TotalCases'])) * 100 , 2)\n",
    "ratio_df['death percentage'] =  round(((ratio_df['TotalDeaths']) / (ratio_df['TotalCases'])) * 100 , 2)\n",
    "ratio_df.head()\n"
   ]
  },
  {
   "cell_type": "code",
   "execution_count": 438,
   "metadata": {},
   "outputs": [
    {
     "name": "stdout",
     "output_type": "stream",
     "text": [
      "   Country,Other  TotalCases  death percentage\n",
      "2          Italy      132547             12.47\n",
      "7             UK       55242             11.15\n",
      "11   Netherlands       19580             10.73\n",
      "1          Spain      140510              9.82\n",
      "10       Belgium       22194              9.17\n",
      "4         France       98010              9.09\n",
      "18        Sweden        7693              7.68\n",
      "6           Iran       62589              6.19\n",
      "15        Brazil       12345              4.71\n",
      "5          China       81740              4.08\n",
      "9    Switzerland       22242              3.65\n",
      "0            USA      377499              3.12\n",
      "14      Portugal       12442              2.77\n",
      "8         Turkey       30217              2.15\n",
      "12        Canada       17046              2.02\n",
      "13       Austria       12592              1.93\n",
      "16       S.Korea       10331              1.86\n",
      "3        Germany      104592              1.77\n",
      "19        Russia        7497              0.77\n",
      "17        Israel        9006              0.67\n"
     ]
    }
   ],
   "source": [
    "ratio_top=ratio_df.groupby(by = 'Country,Other')['TotalCases','death percentage'].sum().sort_values('TotalCases',ascending = False).head(20).reset_index()\n",
    "ratio_top=ratio_top.sort_values('death percentage',ascending = False)\n",
    "print(ratio_top)"
   ]
  },
  {
   "cell_type": "code",
   "execution_count": 439,
   "metadata": {},
   "outputs": [
    {
     "data": {
      "text/plain": [
       "[Text(0, 0.5, 'Country'), Text(0.5, 0, 'Mortality Rate in percentage')]"
      ]
     },
     "execution_count": 439,
     "metadata": {},
     "output_type": "execute_result"
    },
    {
     "data": {
      "image/png": "[encoded data removed]",
      "text/plain": [
       "<Figure size 1080x720 with 1 Axes>"
      ]
     },
     "metadata": {
      "needs_background": "light"
     },
     "output_type": "display_data"
    }
   ],
   "source": [
    "plt.figure(figsize= (15,10))\n",
    "plt.xticks(fontsize = 15)\n",
    "plt.yticks(fontsize = 15)\n",
    "plt.xlabel(\"Total cases\",fontsize = 30)\n",
    "plt.ylabel('Country',fontsize = 30)\n",
    "plt.title(\"Top 20 countries with acticvecases- mortality rate\" , fontsize = 30)\n",
    "ax = sns.barplot(x = ratio_top['death percentage'], y = ratio_top['Country,Other'],palette = 'inferno')\n",
    "ax.set(xlabel='Mortality Rate in percentage', ylabel='Country')"
   ]
  },
  {
   "cell_type": "markdown",
   "metadata": {},
   "source": [
    "Italy is at the top and this percentage rate is very scary. It seems that they have lost control over the spread of covid-19 and cannot contain it."
   ]
  },
  {
   "cell_type": "code",
   "execution_count": 463,
   "metadata": {},
   "outputs": [
    {
     "name": "stdout",
     "output_type": "stream",
     "text": [
      "   Country,Other  TotalCases  RecoveryPercentage\n",
      "5          China       81740               94.41\n",
      "16       S.Korea       10331               64.80\n",
      "6           Iran       62589               43.20\n",
      "9    Switzerland       22242               36.22\n",
      "3        Germany      104592               34.50\n",
      "13       Austria       12592               32.13\n",
      "1          Spain      140510               30.75\n",
      "12        Canada       17046               22.26\n",
      "10       Belgium       22194               18.73\n",
      "4         France       98010               17.60\n",
      "2          Italy      132547               17.23\n",
      "17        Israel        9006                7.58\n",
      "19        Russia        7497                6.59\n",
      "0            USA      377499                5.27\n",
      "8         Turkey       30217                4.39\n",
      "18        Sweden        7693                2.66\n",
      "14      Portugal       12442                1.48\n",
      "11   Netherlands       19580                1.28\n",
      "15        Brazil       12345                1.03\n",
      "7             UK       55242                0.24\n"
     ]
    }
   ],
   "source": [
    "ratio_top_r=ratio_df.groupby(by = 'Country,Other')['TotalCases','RecoveryPercentage'].sum().sort_values('TotalCases',ascending = False).head(20).reset_index()\n",
    "ratio_top_r=ratio_top_r.sort_values('RecoveryPercentage',ascending = False)\n",
    "print(ratio_top_r)"
   ]
  },
  {
   "cell_type": "code",
   "execution_count": 441,
   "metadata": {},
   "outputs": [
    {
     "data": {
      "text/plain": [
       "[Text(0, 0.5, 'Country'), Text(0.5, 0, 'Recovery Rate in percentage')]"
      ]
     },
     "execution_count": 441,
     "metadata": {},
     "output_type": "execute_result"
    },
    {
     "data": {
      "image/png": "[encoded data removed]",
      "text/plain": [
       "<Figure size 1080x720 with 1 Axes>"
      ]
     },
     "metadata": {
      "needs_background": "light"
     },
     "output_type": "display_data"
    }
   ],
   "source": [
    "plt.figure(figsize= (15,10))\n",
    "plt.xticks(fontsize = 15)\n",
    "plt.yticks(fontsize = 15)\n",
    "plt.xlabel(\"Total cases\",fontsize = 30)\n",
    "plt.ylabel('Country',fontsize = 30)\n",
    "plt.title(\"Top 20 countries with activecases recovery rate\" , fontsize = 30)\n",
    "ax = sns.barplot(x = ratio_top_r['RecoveryPercentage'], y = ratio_top_r['Country,Other'],palette = 'cividis')\n",
    "ax.set(xlabel='Recovery Rate in percentage', ylabel='Country')"
   ]
  },
  {
   "cell_type": "markdown",
   "metadata": {},
   "source": [
    "China and South Korea tops the chart and they are doing a remarkable job with a recovery rate of 90%. It tells us that in every 100 infected people, 90 people have recovered from the covid-19 virus.\n",
    "\n",
    "\n",
    "\n"
   ]
  },
  {
   "cell_type": "code",
   "execution_count": 442,
   "metadata": {},
   "outputs": [
    {
     "data": {
      "image/png": "[encoded data removed]",
      "text/plain": [
       "<Figure size 576x576 with 1 Axes>"
      ]
     },
     "metadata": {},
     "output_type": "display_data"
    }
   ],
   "source": [
    "labels = ['Stable cases', 'Critical cases', 'Total recoverd', 'Total deaths']\n",
    "sizes = [(corona_df['ActiveCases'].sum()-corona_df['Serious,Critical'].sum()),corona_df['Serious,Critical'].sum(),corona_df['TotalRecovered'].sum(),corona_df['TotalDeaths'].sum()]\n",
    "colors = ['#1f95c4','#e34617', '#00fa70','#ff0026']\n",
    "explode = (0,0,0.2,0.2)\n",
    "plt.figure(figsize=(8,8))\n",
    "plt.pie(sizes,explode=explode,colors=colors,autopct='%1.1f%%', shadow=True, startangle=45)\n",
    "plt.title(\"Total Covid-19 cases around the world\",fontsize = 30)\n",
    "#ax1.legend(labels, loc=\"best\")\n",
    "plt.legend(labels, loc=\"best\")\n",
    "plt.show()\n"
   ]
  },
  {
   "cell_type": "code",
   "execution_count": 443,
   "metadata": {},
   "outputs": [
    {
     "data": {
      "image/png": "[encoded data removed]",
      "text/plain": [
       "<Figure size 720x1080 with 1 Axes>"
      ]
     },
     "metadata": {},
     "output_type": "display_data"
    }
   ],
   "source": [
    "# Pie chart\n",
    "labels = ['Total recoverd','Total deaths']\n",
    "sizes = [corona_df['TotalRecovered'].sum(),corona_df['TotalDeaths'].sum()]\n",
    "sizes_total_were_sick=[corona_df['TotalRecovered'].sum()+corona_df['TotalDeaths'].sum()]\n",
    "colors = ['#1f95c4','#ff0026']\n",
    "#explsion\n",
    "explode = (0.05,0.05)\n",
    "plt.figure(figsize=(10,15))\n",
    "plt.pie(sizes, colors = colors, labels=labels, autopct='%1.1f%%', startangle=90, pctdistance=0.85, explode = explode)\n",
    "plt.title(\"COVID - 19 recovered compared to those who did not survive\",fontsize = 25)\n",
    "\n",
    "#draw circle\n",
    "centre_circle = plt.Circle((0,0),0.70,fc='white')\n",
    "fig = plt.gcf()\n",
    "fig.gca().add_artist(centre_circle)\n",
    "# Equal aspect ratio ensures that pie is drawn as a circle\n",
    "plt.tight_layout()\n",
    "plt.show()\n",
    "\n",
    "\n",
    "\n",
    "\n",
    "# Plot\n",
    "#plt.pie(sizes, labels=labels, colors=colors, startangle=90,frame=True)\n",
    "#plt.pie(sizes_gender,colors=colors_gender,radius=0.75,startangle=90)\n"
   ]
  },
  {
   "cell_type": "markdown",
   "metadata": {},
   "source": [
    "# Prediction\n",
    "<img src=\"./l-237109.jpg\" Width=\"600\"/>\n"
   ]
  },
  {
   "cell_type": "markdown",
   "metadata": {},
   "source": [
    "### For prediction -we will use first dataframe with Time series of all covid-19 spread per day untill today"
   ]
  },
  {
   "cell_type": "code",
   "execution_count": 444,
   "metadata": {},
   "outputs": [
    {
     "data": {
      "text/html": [
       "<div>\n",
       "<style scoped>\n",
       "    .dataframe tbody tr th:only-of-type {\n",
       "        vertical-align: middle;\n",
       "    }\n",
       "\n",
       "    .dataframe tbody tr th {\n",
       "        vertical-align: top;\n",
       "    }\n",
       "\n",
       "    .dataframe thead th {\n",
       "        text-align: right;\n",
       "    }\n",
       "</style>\n",
       "<table border=\"1\" class=\"dataframe\">\n",
       "  <thead>\n",
       "    <tr style=\"text-align: right;\">\n",
       "      <th></th>\n",
       "      <th>Province/State</th>\n",
       "      <th>Country/Region</th>\n",
       "      <th>Lat</th>\n",
       "      <th>Long</th>\n",
       "      <th>1/22/20</th>\n",
       "      <th>1/23/20</th>\n",
       "      <th>1/24/20</th>\n",
       "      <th>1/25/20</th>\n",
       "      <th>1/26/20</th>\n",
       "      <th>1/27/20</th>\n",
       "      <th>...</th>\n",
       "      <th>3/28/20</th>\n",
       "      <th>3/29/20</th>\n",
       "      <th>3/30/20</th>\n",
       "      <th>3/31/20</th>\n",
       "      <th>4/1/20</th>\n",
       "      <th>4/2/20</th>\n",
       "      <th>4/3/20</th>\n",
       "      <th>4/4/20</th>\n",
       "      <th>4/5/20</th>\n",
       "      <th>4/6/20</th>\n",
       "    </tr>\n",
       "  </thead>\n",
       "  <tbody>\n",
       "    <tr>\n",
       "      <td>0</td>\n",
       "      <td>NaN</td>\n",
       "      <td>Afghanistan</td>\n",
       "      <td>33.00000</td>\n",
       "      <td>65.000000</td>\n",
       "      <td>0</td>\n",
       "      <td>0</td>\n",
       "      <td>0</td>\n",
       "      <td>0</td>\n",
       "      <td>0</td>\n",
       "      <td>0</td>\n",
       "      <td>...</td>\n",
       "      <td>110</td>\n",
       "      <td>120</td>\n",
       "      <td>170</td>\n",
       "      <td>174</td>\n",
       "      <td>237</td>\n",
       "      <td>273</td>\n",
       "      <td>281</td>\n",
       "      <td>299</td>\n",
       "      <td>349</td>\n",
       "      <td>367</td>\n",
       "    </tr>\n",
       "    <tr>\n",
       "      <td>1</td>\n",
       "      <td>NaN</td>\n",
       "      <td>Albania</td>\n",
       "      <td>41.15330</td>\n",
       "      <td>20.168300</td>\n",
       "      <td>0</td>\n",
       "      <td>0</td>\n",
       "      <td>0</td>\n",
       "      <td>0</td>\n",
       "      <td>0</td>\n",
       "      <td>0</td>\n",
       "      <td>...</td>\n",
       "      <td>197</td>\n",
       "      <td>212</td>\n",
       "      <td>223</td>\n",
       "      <td>243</td>\n",
       "      <td>259</td>\n",
       "      <td>277</td>\n",
       "      <td>304</td>\n",
       "      <td>333</td>\n",
       "      <td>361</td>\n",
       "      <td>377</td>\n",
       "    </tr>\n",
       "    <tr>\n",
       "      <td>2</td>\n",
       "      <td>NaN</td>\n",
       "      <td>Algeria</td>\n",
       "      <td>28.03390</td>\n",
       "      <td>1.659600</td>\n",
       "      <td>0</td>\n",
       "      <td>0</td>\n",
       "      <td>0</td>\n",
       "      <td>0</td>\n",
       "      <td>0</td>\n",
       "      <td>0</td>\n",
       "      <td>...</td>\n",
       "      <td>454</td>\n",
       "      <td>511</td>\n",
       "      <td>584</td>\n",
       "      <td>716</td>\n",
       "      <td>847</td>\n",
       "      <td>986</td>\n",
       "      <td>1171</td>\n",
       "      <td>1251</td>\n",
       "      <td>1320</td>\n",
       "      <td>1423</td>\n",
       "    </tr>\n",
       "    <tr>\n",
       "      <td>3</td>\n",
       "      <td>NaN</td>\n",
       "      <td>Andorra</td>\n",
       "      <td>42.50630</td>\n",
       "      <td>1.521800</td>\n",
       "      <td>0</td>\n",
       "      <td>0</td>\n",
       "      <td>0</td>\n",
       "      <td>0</td>\n",
       "      <td>0</td>\n",
       "      <td>0</td>\n",
       "      <td>...</td>\n",
       "      <td>308</td>\n",
       "      <td>334</td>\n",
       "      <td>370</td>\n",
       "      <td>376</td>\n",
       "      <td>390</td>\n",
       "      <td>428</td>\n",
       "      <td>439</td>\n",
       "      <td>466</td>\n",
       "      <td>501</td>\n",
       "      <td>525</td>\n",
       "    </tr>\n",
       "    <tr>\n",
       "      <td>4</td>\n",
       "      <td>NaN</td>\n",
       "      <td>Angola</td>\n",
       "      <td>-11.20270</td>\n",
       "      <td>17.873900</td>\n",
       "      <td>0</td>\n",
       "      <td>0</td>\n",
       "      <td>0</td>\n",
       "      <td>0</td>\n",
       "      <td>0</td>\n",
       "      <td>0</td>\n",
       "      <td>...</td>\n",
       "      <td>5</td>\n",
       "      <td>7</td>\n",
       "      <td>7</td>\n",
       "      <td>7</td>\n",
       "      <td>8</td>\n",
       "      <td>8</td>\n",
       "      <td>8</td>\n",
       "      <td>10</td>\n",
       "      <td>14</td>\n",
       "      <td>16</td>\n",
       "    </tr>\n",
       "    <tr>\n",
       "      <td>...</td>\n",
       "      <td>...</td>\n",
       "      <td>...</td>\n",
       "      <td>...</td>\n",
       "      <td>...</td>\n",
       "      <td>...</td>\n",
       "      <td>...</td>\n",
       "      <td>...</td>\n",
       "      <td>...</td>\n",
       "      <td>...</td>\n",
       "      <td>...</td>\n",
       "      <td>...</td>\n",
       "      <td>...</td>\n",
       "      <td>...</td>\n",
       "      <td>...</td>\n",
       "      <td>...</td>\n",
       "      <td>...</td>\n",
       "      <td>...</td>\n",
       "      <td>...</td>\n",
       "      <td>...</td>\n",
       "      <td>...</td>\n",
       "      <td>...</td>\n",
       "    </tr>\n",
       "    <tr>\n",
       "      <td>258</td>\n",
       "      <td>Falkland Islands (Islas Malvinas)</td>\n",
       "      <td>United Kingdom</td>\n",
       "      <td>-51.79630</td>\n",
       "      <td>-59.523600</td>\n",
       "      <td>0</td>\n",
       "      <td>0</td>\n",
       "      <td>0</td>\n",
       "      <td>0</td>\n",
       "      <td>0</td>\n",
       "      <td>0</td>\n",
       "      <td>...</td>\n",
       "      <td>0</td>\n",
       "      <td>0</td>\n",
       "      <td>0</td>\n",
       "      <td>0</td>\n",
       "      <td>0</td>\n",
       "      <td>0</td>\n",
       "      <td>0</td>\n",
       "      <td>1</td>\n",
       "      <td>2</td>\n",
       "      <td>2</td>\n",
       "    </tr>\n",
       "    <tr>\n",
       "      <td>259</td>\n",
       "      <td>Saint Pierre and Miquelon</td>\n",
       "      <td>France</td>\n",
       "      <td>46.88520</td>\n",
       "      <td>-56.315900</td>\n",
       "      <td>0</td>\n",
       "      <td>0</td>\n",
       "      <td>0</td>\n",
       "      <td>0</td>\n",
       "      <td>0</td>\n",
       "      <td>0</td>\n",
       "      <td>...</td>\n",
       "      <td>0</td>\n",
       "      <td>0</td>\n",
       "      <td>0</td>\n",
       "      <td>0</td>\n",
       "      <td>0</td>\n",
       "      <td>0</td>\n",
       "      <td>0</td>\n",
       "      <td>0</td>\n",
       "      <td>1</td>\n",
       "      <td>1</td>\n",
       "    </tr>\n",
       "    <tr>\n",
       "      <td>260</td>\n",
       "      <td>NaN</td>\n",
       "      <td>South Sudan</td>\n",
       "      <td>6.87700</td>\n",
       "      <td>31.307000</td>\n",
       "      <td>0</td>\n",
       "      <td>0</td>\n",
       "      <td>0</td>\n",
       "      <td>0</td>\n",
       "      <td>0</td>\n",
       "      <td>0</td>\n",
       "      <td>...</td>\n",
       "      <td>0</td>\n",
       "      <td>0</td>\n",
       "      <td>0</td>\n",
       "      <td>0</td>\n",
       "      <td>0</td>\n",
       "      <td>0</td>\n",
       "      <td>0</td>\n",
       "      <td>0</td>\n",
       "      <td>1</td>\n",
       "      <td>1</td>\n",
       "    </tr>\n",
       "    <tr>\n",
       "      <td>261</td>\n",
       "      <td>NaN</td>\n",
       "      <td>Western Sahara</td>\n",
       "      <td>24.21550</td>\n",
       "      <td>-12.885800</td>\n",
       "      <td>0</td>\n",
       "      <td>0</td>\n",
       "      <td>0</td>\n",
       "      <td>0</td>\n",
       "      <td>0</td>\n",
       "      <td>0</td>\n",
       "      <td>...</td>\n",
       "      <td>0</td>\n",
       "      <td>0</td>\n",
       "      <td>0</td>\n",
       "      <td>0</td>\n",
       "      <td>0</td>\n",
       "      <td>0</td>\n",
       "      <td>0</td>\n",
       "      <td>0</td>\n",
       "      <td>4</td>\n",
       "      <td>4</td>\n",
       "    </tr>\n",
       "    <tr>\n",
       "      <td>262</td>\n",
       "      <td>NaN</td>\n",
       "      <td>Sao Tome and Principe</td>\n",
       "      <td>0.18636</td>\n",
       "      <td>6.613081</td>\n",
       "      <td>0</td>\n",
       "      <td>0</td>\n",
       "      <td>0</td>\n",
       "      <td>0</td>\n",
       "      <td>0</td>\n",
       "      <td>0</td>\n",
       "      <td>...</td>\n",
       "      <td>0</td>\n",
       "      <td>0</td>\n",
       "      <td>0</td>\n",
       "      <td>0</td>\n",
       "      <td>0</td>\n",
       "      <td>0</td>\n",
       "      <td>0</td>\n",
       "      <td>0</td>\n",
       "      <td>0</td>\n",
       "      <td>4</td>\n",
       "    </tr>\n",
       "  </tbody>\n",
       "</table>\n",
       "<p>263 rows × 80 columns</p>\n",
       "</div>"
      ],
      "text/plain": [
       "                        Province/State         Country/Region       Lat  \\\n",
       "0                                  NaN            Afghanistan  33.00000   \n",
       "1                                  NaN                Albania  41.15330   \n",
       "2                                  NaN                Algeria  28.03390   \n",
       "3                                  NaN                Andorra  42.50630   \n",
       "4                                  NaN                 Angola -11.20270   \n",
       "..                                 ...                    ...       ...   \n",
       "258  Falkland Islands (Islas Malvinas)         United Kingdom -51.79630   \n",
       "259          Saint Pierre and Miquelon                 France  46.88520   \n",
       "260                                NaN            South Sudan   6.87700   \n",
       "261                                NaN         Western Sahara  24.21550   \n",
       "262                                NaN  Sao Tome and Principe   0.18636   \n",
       "\n",
       "          Long  1/22/20  1/23/20  1/24/20  1/25/20  1/26/20  1/27/20  ...  \\\n",
       "0    65.000000        0        0        0        0        0        0  ...   \n",
       "1    20.168300        0        0        0        0        0        0  ...   \n",
       "2     1.659600        0        0        0        0        0        0  ...   \n",
       "3     1.521800        0        0        0        0        0        0  ...   \n",
       "4    17.873900        0        0        0        0        0        0  ...   \n",
       "..         ...      ...      ...      ...      ...      ...      ...  ...   \n",
       "258 -59.523600        0        0        0        0        0        0  ...   \n",
       "259 -56.315900        0        0        0        0        0        0  ...   \n",
       "260  31.307000        0        0        0        0        0        0  ...   \n",
       "261 -12.885800        0        0        0        0        0        0  ...   \n",
       "262   6.613081        0        0        0        0        0        0  ...   \n",
       "\n",
       "     3/28/20  3/29/20  3/30/20  3/31/20  4/1/20  4/2/20  4/3/20  4/4/20  \\\n",
       "0        110      120      170      174     237     273     281     299   \n",
       "1        197      212      223      243     259     277     304     333   \n",
       "2        454      511      584      716     847     986    1171    1251   \n",
       "3        308      334      370      376     390     428     439     466   \n",
       "4          5        7        7        7       8       8       8      10   \n",
       "..       ...      ...      ...      ...     ...     ...     ...     ...   \n",
       "258        0        0        0        0       0       0       0       1   \n",
       "259        0        0        0        0       0       0       0       0   \n",
       "260        0        0        0        0       0       0       0       0   \n",
       "261        0        0        0        0       0       0       0       0   \n",
       "262        0        0        0        0       0       0       0       0   \n",
       "\n",
       "     4/5/20  4/6/20  \n",
       "0       349     367  \n",
       "1       361     377  \n",
       "2      1320    1423  \n",
       "3       501     525  \n",
       "4        14      16  \n",
       "..      ...     ...  \n",
       "258       2       2  \n",
       "259       1       1  \n",
       "260       1       1  \n",
       "261       4       4  \n",
       "262       0       4  \n",
       "\n",
       "[263 rows x 80 columns]"
      ]
     },
     "execution_count": 444,
     "metadata": {},
     "output_type": "execute_result"
    }
   ],
   "source": [
    "#Our dataset with active case time series per each country\n",
    "df_confirmed\n"
   ]
  },
  {
   "cell_type": "code",
   "execution_count": 445,
   "metadata": {},
   "outputs": [],
   "source": [
    "new_cols = df_confirmed.keys() #Features name\n",
    "confirmed = df_confirmed.loc[:, new_cols[4]:new_cols[-1]] #df with only dates\n",
    "dates = confirmed.keys() #finaly dates"
   ]
  },
  {
   "cell_type": "code",
   "execution_count": 446,
   "metadata": {},
   "outputs": [
    {
     "data": {
      "text/html": [
       "<div>\n",
       "<style scoped>\n",
       "    .dataframe tbody tr th:only-of-type {\n",
       "        vertical-align: middle;\n",
       "    }\n",
       "\n",
       "    .dataframe tbody tr th {\n",
       "        vertical-align: top;\n",
       "    }\n",
       "\n",
       "    .dataframe thead th {\n",
       "        text-align: right;\n",
       "    }\n",
       "</style>\n",
       "<table border=\"1\" class=\"dataframe\">\n",
       "  <thead>\n",
       "    <tr style=\"text-align: right;\">\n",
       "      <th></th>\n",
       "      <th>1/22/20</th>\n",
       "      <th>1/23/20</th>\n",
       "      <th>1/24/20</th>\n",
       "      <th>1/25/20</th>\n",
       "      <th>1/26/20</th>\n",
       "      <th>1/27/20</th>\n",
       "      <th>1/28/20</th>\n",
       "      <th>1/29/20</th>\n",
       "      <th>1/30/20</th>\n",
       "      <th>1/31/20</th>\n",
       "      <th>...</th>\n",
       "      <th>3/28/20</th>\n",
       "      <th>3/29/20</th>\n",
       "      <th>3/30/20</th>\n",
       "      <th>3/31/20</th>\n",
       "      <th>4/1/20</th>\n",
       "      <th>4/2/20</th>\n",
       "      <th>4/3/20</th>\n",
       "      <th>4/4/20</th>\n",
       "      <th>4/5/20</th>\n",
       "      <th>4/6/20</th>\n",
       "    </tr>\n",
       "  </thead>\n",
       "  <tbody>\n",
       "    <tr>\n",
       "      <td>136</td>\n",
       "      <td>0</td>\n",
       "      <td>0</td>\n",
       "      <td>0</td>\n",
       "      <td>0</td>\n",
       "      <td>0</td>\n",
       "      <td>0</td>\n",
       "      <td>0</td>\n",
       "      <td>0</td>\n",
       "      <td>0</td>\n",
       "      <td>0</td>\n",
       "      <td>...</td>\n",
       "      <td>3619</td>\n",
       "      <td>4247</td>\n",
       "      <td>4695</td>\n",
       "      <td>5358</td>\n",
       "      <td>6092</td>\n",
       "      <td>6857</td>\n",
       "      <td>7428</td>\n",
       "      <td>7851</td>\n",
       "      <td>8430</td>\n",
       "      <td>8904</td>\n",
       "    </tr>\n",
       "  </tbody>\n",
       "</table>\n",
       "<p>1 rows × 76 columns</p>\n",
       "</div>"
      ],
      "text/plain": [
       "     1/22/20  1/23/20  1/24/20  1/25/20  1/26/20  1/27/20  1/28/20  1/29/20  \\\n",
       "136        0        0        0        0        0        0        0        0   \n",
       "\n",
       "     1/30/20  1/31/20  ...  3/28/20  3/29/20  3/30/20  3/31/20  4/1/20  \\\n",
       "136        0        0  ...     3619     4247     4695     5358    6092   \n",
       "\n",
       "     4/2/20  4/3/20  4/4/20  4/5/20  4/6/20  \n",
       "136    6857    7428    7851    8430    8904  \n",
       "\n",
       "[1 rows x 76 columns]"
      ]
     },
     "execution_count": 446,
     "metadata": {},
     "output_type": "execute_result"
    }
   ],
   "source": [
    "#Israel confirmed cases time series\n",
    "israel=df_confirmed[df_confirmed['Country/Region'] == 'Israel']\n",
    "israel_confirmed=israel.loc[:, new_cols[4]:new_cols[-1]]\n",
    "israel_confirmed "
   ]
  },
  {
   "cell_type": "markdown",
   "metadata": {},
   "source": [
    "### prepare list of active cases per day(Worldwide/Israel)"
   ]
  },
  {
   "cell_type": "code",
   "execution_count": 447,
   "metadata": {},
   "outputs": [],
   "source": [
    "world_cases = [] # sum of all active cases numbers (each day per global)\n",
    "israel_cases= [] # sum of all active cases numbers (each day per country=Israel)\n",
    "\n",
    "#create list of all active cases worldwide and for Israel\n",
    "for i in dates:\n",
    "    confirmed_sum = confirmed[i].sum() #sum of each column per day\n",
    "    world_cases.append(confirmed_sum) # list of all cases per day\n",
    "    il_sum=israel_confirmed[i].sum()\n",
    "    israel_cases.append(il_sum)# list of all cases in Israel per day\n",
    "    \n",
    "\n"
   ]
  },
  {
   "cell_type": "markdown",
   "metadata": {},
   "source": [
    "### preparing for the model"
   ]
  },
  {
   "cell_type": "code",
   "execution_count": 448,
   "metadata": {},
   "outputs": [],
   "source": [
    "days_in_future = 10 #days of predicition\n",
    "future_forcast = np.array([i for i in range(len(dates)+days_in_future)]).reshape(-1, 1) #list 0-85\n",
    "adjusted_dates = future_forcast[:-10] #list 0-85"
   ]
  },
  {
   "cell_type": "code",
   "execution_count": 449,
   "metadata": {},
   "outputs": [],
   "source": [
    "days_since_1_22 = np.array([i for i in range(len(dates))]).reshape(-1, 1) ##list 0-75\n"
   ]
  },
  {
   "cell_type": "markdown",
   "metadata": {},
   "source": [
    "Time objects prepare"
   ]
  },
  {
   "cell_type": "code",
   "execution_count": 450,
   "metadata": {},
   "outputs": [],
   "source": [
    "start = '1/22/2020'\n",
    "start_date = datetime.datetime.strptime(start, '%m/%d/%Y') #convert to datetime-object\n",
    "future_forcast_dates = []\n",
    "for i in range(len(future_forcast)):\n",
    "    future_forcast_dates.append((start_date + datetime.timedelta(days=i)).strftime('%m/%d/%Y')) #future_forcast_dates = list of datetime objects + prediction days"
   ]
  },
  {
   "cell_type": "markdown",
   "metadata": {},
   "source": [
    "### Splitting data to train and test for the model"
   ]
  },
  {
   "cell_type": "code",
   "execution_count": 451,
   "metadata": {},
   "outputs": [],
   "source": [
    "#days_since_1_22 = list [0-75]  - X for the model\n",
    "#world cases= list of cases per day - Y for the model\n",
    "\n",
    "X_train_confirmed, X_test_confirmed, y_train_confirmed, y_test_confirmed = train_test_split(days_since_1_22, world_cases, test_size=0.10, shuffle=False)  "
   ]
  },
  {
   "cell_type": "code",
   "execution_count": 452,
   "metadata": {},
   "outputs": [],
   "source": [
    "# transform our data for polynomial regression\n",
    "poly = PolynomialFeatures(degree=4)\n",
    "poly_X_train_confirmed = poly.fit_transform(X_train_confirmed)\n",
    "poly_X_test_confirmed = poly.fit_transform(X_test_confirmed)\n",
    "poly_future_forcast = poly.fit_transform(future_forcast)"
   ]
  },
  {
   "cell_type": "markdown",
   "metadata": {},
   "source": [
    "### Polynomail regression model for prediction time series"
   ]
  },
  {
   "cell_type": "code",
   "execution_count": 453,
   "metadata": {},
   "outputs": [
    {
     "name": "stdout",
     "output_type": "stream",
     "text": [
      "MAE: 40933.68144097715\n",
      "0.9076471423943038\n",
      "57147.358542013346\n"
     ]
    }
   ],
   "source": [
    "# polynomial regression\n",
    "linear_model = LinearRegression(normalize=True, fit_intercept=False)\n",
    "linear_model.fit(poly_X_train_confirmed, y_train_confirmed)\n",
    "test_linear_pred = linear_model.predict(poly_X_test_confirmed)\n",
    "linear_pred = linear_model.predict(poly_future_forcast)\n",
    "print('MAE:', mean_absolute_error(test_linear_pred, y_test_confirmed))\n",
    "mse=mean_squared_error(test_linear_pred, y_test_confirmed)\n",
    "rmse=sqrt(mse)\n",
    "#r2 = r2_score(test_linear_pred,y_test_confirmed)\n",
    "r2 = r2_score(y_test_confirmed,test_linear_pred)\n",
    "\n",
    "print(r2)\n",
    "print(rmse)\n"
   ]
  },
  {
   "cell_type": "code",
   "execution_count": null,
   "metadata": {},
   "outputs": [],
   "source": []
  },
  {
   "cell_type": "code",
   "execution_count": 454,
   "metadata": {},
   "outputs": [
    {
     "data": {
      "text/plain": [
       "<matplotlib.legend.Legend at 0x1acbf2d3fc8>"
      ]
     },
     "execution_count": 454,
     "metadata": {},
     "output_type": "execute_result"
    },
    {
     "data": {
      "image/png": "[encoded data removed]",
      "text/plain": [
       "<Figure size 432x288 with 1 Axes>"
      ]
     },
     "metadata": {
      "needs_background": "light"
     },
     "output_type": "display_data"
    }
   ],
   "source": [
    "plt.plot(y_test_confirmed)\n",
    "plt.plot(test_linear_pred)\n",
    "plt.legend(['Test Data', 'Polynomial Regression Predictions'])"
   ]
  },
  {
   "cell_type": "code",
   "execution_count": 455,
   "metadata": {},
   "outputs": [
    {
     "data": {
      "image/png": "[encoded data removed]",
      "text/plain": [
       "<Figure size 1152x648 with 1 Axes>"
      ]
     },
     "metadata": {
      "needs_background": "light"
     },
     "output_type": "display_data"
    }
   ],
   "source": [
    "plt.figure(figsize=(16, 9))\n",
    "plt.plot(adjusted_dates, world_cases)\n",
    "plt.plot(future_forcast, linear_pred, linestyle='dashed', color='orange')\n",
    "plt.title('# of Coronavirus Cases Over Time', size=30)\n",
    "plt.xlabel('Days Since 1/22/2020', size=30)\n",
    "plt.ylabel('# of Cases', size=30)\n",
    "plt.legend(['Confirmed Cases', 'Polynomial Regression Predictions'], prop={'size': 20})\n",
    "plt.xticks(size=20)\n",
    "plt.yticks(size=20)\n",
    "plt.show()"
   ]
  },
  {
   "cell_type": "code",
   "execution_count": 456,
   "metadata": {},
   "outputs": [],
   "source": [
    "X_train_confirmed, X_test_confirmed, y_train_confirmed, y_test_confirmed = train_test_split(days_since_1_22, israel_cases, test_size=0.10, shuffle=False) "
   ]
  },
  {
   "cell_type": "code",
   "execution_count": 457,
   "metadata": {},
   "outputs": [],
   "source": [
    "# transform our data for polynomial regression\n",
    "poly = PolynomialFeatures(degree=4)\n",
    "poly_X_train_confirmed = poly.fit_transform(X_train_confirmed)\n",
    "poly_X_test_confirmed = poly.fit_transform(X_test_confirmed)\n",
    "poly_future_forcast = poly.fit_transform(future_forcast)"
   ]
  },
  {
   "cell_type": "code",
   "execution_count": 458,
   "metadata": {},
   "outputs": [
    {
     "name": "stdout",
     "output_type": "stream",
     "text": [
      "MAE: 395.59396211560306\n",
      "MSE: 192516.452044996\n",
      "0.9338998762529246\n"
     ]
    }
   ],
   "source": [
    "# polynomial regression\n",
    "linear_model = LinearRegression(normalize=True, fit_intercept=False)\n",
    "linear_model.fit(poly_X_train_confirmed, y_train_confirmed)\n",
    "test_linear_pred = linear_model.predict(poly_X_test_confirmed)\n",
    "linear_pred = linear_model.predict(poly_future_forcast)\n",
    "print('MAE:', mean_absolute_error(test_linear_pred, y_test_confirmed))\n",
    "print('MSE:',mean_squared_error(test_linear_pred, y_test_confirmed))\n",
    "r2 = r2_score(test_linear_pred,y_test_confirmed)\n",
    "print(r2)"
   ]
  },
  {
   "cell_type": "code",
   "execution_count": 459,
   "metadata": {},
   "outputs": [
    {
     "data": {
      "text/plain": [
       "<matplotlib.legend.Legend at 0x1acbf6eff88>"
      ]
     },
     "execution_count": 459,
     "metadata": {},
     "output_type": "execute_result"
    },
    {
     "data": {
      "image/png": "[encoded data removed]",
      "text/plain": [
       "<Figure size 432x288 with 1 Axes>"
      ]
     },
     "metadata": {
      "needs_background": "light"
     },
     "output_type": "display_data"
    }
   ],
   "source": [
    "plt.plot(y_test_confirmed)\n",
    "plt.plot(test_linear_pred)\n",
    "plt.legend(['Test Data', 'Polynomial Regression Predictions'])"
   ]
  },
  {
   "cell_type": "code",
   "execution_count": 460,
   "metadata": {},
   "outputs": [
    {
     "data": {
      "image/png": "[encoded data removed]",
      "text/plain": [
       "<Figure size 1152x648 with 1 Axes>"
      ]
     },
     "metadata": {
      "needs_background": "light"
     },
     "output_type": "display_data"
    }
   ],
   "source": [
    "plt.figure(figsize=(16, 9))\n",
    "plt.plot(adjusted_dates, israel_cases)\n",
    "plt.plot(future_forcast, linear_pred, linestyle='dashed', color='orange')\n",
    "plt.title('# of Coronavirus Cases Over Time in israel', size=30)\n",
    "plt.xlabel('Days Since 1/22/2020', size=30)\n",
    "plt.ylabel('# of Cases', size=30)\n",
    "plt.legend(['Confirmed Cases', 'Polynomial Regression Predictions'], prop={'size': 20})\n",
    "plt.xticks(size=20)\n",
    "plt.yticks(size=20)\n",
    "plt.show()"
   ]
  },
  {
   "cell_type": "code",
   "execution_count": null,
   "metadata": {},
   "outputs": [],
   "source": []
  }
 ],
 "metadata": {
  "kernelspec": {
   "display_name": "Python 3",
   "language": "python",
   "name": "python3"
  },
  "language_info": {
   "codemirror_mode": {
    "name": "ipython",
    "version": 3
   },
   "file_extension": ".py",
   "mimetype": "text/x-python",
   "name": "python",
   "nbconvert_exporter": "python",
   "pygments_lexer": "ipython3",
   "version": "3.7.4"
  }
 },
 "nbformat": 4,
 "nbformat_minor": 4
}
