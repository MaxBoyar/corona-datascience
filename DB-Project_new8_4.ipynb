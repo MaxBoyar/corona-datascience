{
 "cells": [
  {
   "cell_type": "markdown",
   "metadata": {},
   "source": [
    "   # Covid-19-Project 2020\n",
    "<img src=\"./picture/grippeviren.jpg\" Width=\"800\"/>\n",
    "\n"
   ]
  },
  {
   "cell_type": "markdown",
   "metadata": {},
   "source": [
    "### What we are doing here:\n",
    "### 1) We will scrap the data via crawler and Beautifulsoup to get online data about covid19\n",
    "### 2) We'll focus on the dependent variables i.e. ('Active' ,'Deaths','Active') and try to know a little bit more about it.\n",
    "### 3) Basic exploratory data analysis by visualization\n",
    "### 4) Predict the spread of the Virus in the future\n",
    "### 5) Conclusions"
   ]
  },
  {
   "cell_type": "code",
   "execution_count": 128,
   "metadata": {},
   "outputs": [],
   "source": [
    "#Importings\n",
    "import requests\n",
    "import urllib.request\n",
    "import time\n",
    "from bs4 import BeautifulSoup\n",
    "import pandas as pd\n",
    "import numpy as np\n",
    "import seaborn as sns\n",
    "import matplotlib.pyplot as plt\n",
    "import plotly.express as px\n",
    "import datetime\n",
    "from sklearn.linear_model import LinearRegression\n",
    "from sklearn.model_selection import RandomizedSearchCV, train_test_split\n",
    "from sklearn.preprocessing import PolynomialFeatures\n",
    "from sklearn import metrics\n",
    "from sklearn.metrics import mean_squared_error, mean_absolute_error,r2_score\n",
    "from math import sqrt\n"
   ]
  },
  {
   "cell_type": "markdown",
   "metadata": {},
   "source": [
    "# Covid-19-Project 2020"
   ]
  },
  {
   "cell_type": "markdown",
   "metadata": {},
   "source": [
    "##### Max Boyar - 320407190\n",
    "##### Vladimir Sergienko - 317303071"
   ]
  },
  {
   "cell_type": "code",
   "execution_count": null,
   "metadata": {},
   "outputs": [],
   "source": []
  },
  {
   "cell_type": "markdown",
   "metadata": {},
   "source": [
    "#### pull first data -covid19 spread per day Worldwide"
   ]
  },
  {
   "cell_type": "code",
   "execution_count": 82,
   "metadata": {},
   "outputs": [],
   "source": [
    "df_confirmed = pd.read_csv('https://raw.githubusercontent.com/CSSEGISandData/COVID-19/master/csse_covid_19_data/csse_covid_19_time_series/time_series_covid19_confirmed_global.csv')"
   ]
  },
  {
   "cell_type": "code",
   "execution_count": 83,
   "metadata": {},
   "outputs": [
    {
     "data": {
      "text/html": [
       "<div>\n",
       "<style scoped>\n",
       "    .dataframe tbody tr th:only-of-type {\n",
       "        vertical-align: middle;\n",
       "    }\n",
       "\n",
       "    .dataframe tbody tr th {\n",
       "        vertical-align: top;\n",
       "    }\n",
       "\n",
       "    .dataframe thead th {\n",
       "        text-align: right;\n",
       "    }\n",
       "</style>\n",
       "<table border=\"1\" class=\"dataframe\">\n",
       "  <thead>\n",
       "    <tr style=\"text-align: right;\">\n",
       "      <th></th>\n",
       "      <th>Province/State</th>\n",
       "      <th>Country/Region</th>\n",
       "      <th>Lat</th>\n",
       "      <th>Long</th>\n",
       "      <th>1/22/20</th>\n",
       "      <th>1/23/20</th>\n",
       "      <th>1/24/20</th>\n",
       "      <th>1/25/20</th>\n",
       "      <th>1/26/20</th>\n",
       "      <th>1/27/20</th>\n",
       "      <th>...</th>\n",
       "      <th>3/29/20</th>\n",
       "      <th>3/30/20</th>\n",
       "      <th>3/31/20</th>\n",
       "      <th>4/1/20</th>\n",
       "      <th>4/2/20</th>\n",
       "      <th>4/3/20</th>\n",
       "      <th>4/4/20</th>\n",
       "      <th>4/5/20</th>\n",
       "      <th>4/6/20</th>\n",
       "      <th>4/7/20</th>\n",
       "    </tr>\n",
       "  </thead>\n",
       "  <tbody>\n",
       "    <tr>\n",
       "      <td>0</td>\n",
       "      <td>NaN</td>\n",
       "      <td>Afghanistan</td>\n",
       "      <td>33.00000</td>\n",
       "      <td>65.000000</td>\n",
       "      <td>0</td>\n",
       "      <td>0</td>\n",
       "      <td>0</td>\n",
       "      <td>0</td>\n",
       "      <td>0</td>\n",
       "      <td>0</td>\n",
       "      <td>...</td>\n",
       "      <td>120</td>\n",
       "      <td>170</td>\n",
       "      <td>174</td>\n",
       "      <td>237</td>\n",
       "      <td>273</td>\n",
       "      <td>281</td>\n",
       "      <td>299</td>\n",
       "      <td>349</td>\n",
       "      <td>367</td>\n",
       "      <td>423</td>\n",
       "    </tr>\n",
       "    <tr>\n",
       "      <td>1</td>\n",
       "      <td>NaN</td>\n",
       "      <td>Albania</td>\n",
       "      <td>41.15330</td>\n",
       "      <td>20.168300</td>\n",
       "      <td>0</td>\n",
       "      <td>0</td>\n",
       "      <td>0</td>\n",
       "      <td>0</td>\n",
       "      <td>0</td>\n",
       "      <td>0</td>\n",
       "      <td>...</td>\n",
       "      <td>212</td>\n",
       "      <td>223</td>\n",
       "      <td>243</td>\n",
       "      <td>259</td>\n",
       "      <td>277</td>\n",
       "      <td>304</td>\n",
       "      <td>333</td>\n",
       "      <td>361</td>\n",
       "      <td>377</td>\n",
       "      <td>383</td>\n",
       "    </tr>\n",
       "    <tr>\n",
       "      <td>2</td>\n",
       "      <td>NaN</td>\n",
       "      <td>Algeria</td>\n",
       "      <td>28.03390</td>\n",
       "      <td>1.659600</td>\n",
       "      <td>0</td>\n",
       "      <td>0</td>\n",
       "      <td>0</td>\n",
       "      <td>0</td>\n",
       "      <td>0</td>\n",
       "      <td>0</td>\n",
       "      <td>...</td>\n",
       "      <td>511</td>\n",
       "      <td>584</td>\n",
       "      <td>716</td>\n",
       "      <td>847</td>\n",
       "      <td>986</td>\n",
       "      <td>1171</td>\n",
       "      <td>1251</td>\n",
       "      <td>1320</td>\n",
       "      <td>1423</td>\n",
       "      <td>1468</td>\n",
       "    </tr>\n",
       "    <tr>\n",
       "      <td>3</td>\n",
       "      <td>NaN</td>\n",
       "      <td>Andorra</td>\n",
       "      <td>42.50630</td>\n",
       "      <td>1.521800</td>\n",
       "      <td>0</td>\n",
       "      <td>0</td>\n",
       "      <td>0</td>\n",
       "      <td>0</td>\n",
       "      <td>0</td>\n",
       "      <td>0</td>\n",
       "      <td>...</td>\n",
       "      <td>334</td>\n",
       "      <td>370</td>\n",
       "      <td>376</td>\n",
       "      <td>390</td>\n",
       "      <td>428</td>\n",
       "      <td>439</td>\n",
       "      <td>466</td>\n",
       "      <td>501</td>\n",
       "      <td>525</td>\n",
       "      <td>545</td>\n",
       "    </tr>\n",
       "    <tr>\n",
       "      <td>4</td>\n",
       "      <td>NaN</td>\n",
       "      <td>Angola</td>\n",
       "      <td>-11.20270</td>\n",
       "      <td>17.873900</td>\n",
       "      <td>0</td>\n",
       "      <td>0</td>\n",
       "      <td>0</td>\n",
       "      <td>0</td>\n",
       "      <td>0</td>\n",
       "      <td>0</td>\n",
       "      <td>...</td>\n",
       "      <td>7</td>\n",
       "      <td>7</td>\n",
       "      <td>7</td>\n",
       "      <td>8</td>\n",
       "      <td>8</td>\n",
       "      <td>8</td>\n",
       "      <td>10</td>\n",
       "      <td>14</td>\n",
       "      <td>16</td>\n",
       "      <td>17</td>\n",
       "    </tr>\n",
       "    <tr>\n",
       "      <td>...</td>\n",
       "      <td>...</td>\n",
       "      <td>...</td>\n",
       "      <td>...</td>\n",
       "      <td>...</td>\n",
       "      <td>...</td>\n",
       "      <td>...</td>\n",
       "      <td>...</td>\n",
       "      <td>...</td>\n",
       "      <td>...</td>\n",
       "      <td>...</td>\n",
       "      <td>...</td>\n",
       "      <td>...</td>\n",
       "      <td>...</td>\n",
       "      <td>...</td>\n",
       "      <td>...</td>\n",
       "      <td>...</td>\n",
       "      <td>...</td>\n",
       "      <td>...</td>\n",
       "      <td>...</td>\n",
       "      <td>...</td>\n",
       "      <td>...</td>\n",
       "    </tr>\n",
       "    <tr>\n",
       "      <td>258</td>\n",
       "      <td>Falkland Islands (Malvinas)</td>\n",
       "      <td>United Kingdom</td>\n",
       "      <td>-51.79630</td>\n",
       "      <td>-59.523600</td>\n",
       "      <td>0</td>\n",
       "      <td>0</td>\n",
       "      <td>0</td>\n",
       "      <td>0</td>\n",
       "      <td>0</td>\n",
       "      <td>0</td>\n",
       "      <td>...</td>\n",
       "      <td>0</td>\n",
       "      <td>0</td>\n",
       "      <td>0</td>\n",
       "      <td>0</td>\n",
       "      <td>0</td>\n",
       "      <td>0</td>\n",
       "      <td>1</td>\n",
       "      <td>2</td>\n",
       "      <td>2</td>\n",
       "      <td>2</td>\n",
       "    </tr>\n",
       "    <tr>\n",
       "      <td>259</td>\n",
       "      <td>Saint Pierre and Miquelon</td>\n",
       "      <td>France</td>\n",
       "      <td>46.88520</td>\n",
       "      <td>-56.315900</td>\n",
       "      <td>0</td>\n",
       "      <td>0</td>\n",
       "      <td>0</td>\n",
       "      <td>0</td>\n",
       "      <td>0</td>\n",
       "      <td>0</td>\n",
       "      <td>...</td>\n",
       "      <td>0</td>\n",
       "      <td>0</td>\n",
       "      <td>0</td>\n",
       "      <td>0</td>\n",
       "      <td>0</td>\n",
       "      <td>0</td>\n",
       "      <td>0</td>\n",
       "      <td>1</td>\n",
       "      <td>1</td>\n",
       "      <td>1</td>\n",
       "    </tr>\n",
       "    <tr>\n",
       "      <td>260</td>\n",
       "      <td>NaN</td>\n",
       "      <td>South Sudan</td>\n",
       "      <td>6.87700</td>\n",
       "      <td>31.307000</td>\n",
       "      <td>0</td>\n",
       "      <td>0</td>\n",
       "      <td>0</td>\n",
       "      <td>0</td>\n",
       "      <td>0</td>\n",
       "      <td>0</td>\n",
       "      <td>...</td>\n",
       "      <td>0</td>\n",
       "      <td>0</td>\n",
       "      <td>0</td>\n",
       "      <td>0</td>\n",
       "      <td>0</td>\n",
       "      <td>0</td>\n",
       "      <td>0</td>\n",
       "      <td>1</td>\n",
       "      <td>1</td>\n",
       "      <td>2</td>\n",
       "    </tr>\n",
       "    <tr>\n",
       "      <td>261</td>\n",
       "      <td>NaN</td>\n",
       "      <td>Western Sahara</td>\n",
       "      <td>24.21550</td>\n",
       "      <td>-12.885800</td>\n",
       "      <td>0</td>\n",
       "      <td>0</td>\n",
       "      <td>0</td>\n",
       "      <td>0</td>\n",
       "      <td>0</td>\n",
       "      <td>0</td>\n",
       "      <td>...</td>\n",
       "      <td>0</td>\n",
       "      <td>0</td>\n",
       "      <td>0</td>\n",
       "      <td>0</td>\n",
       "      <td>0</td>\n",
       "      <td>0</td>\n",
       "      <td>0</td>\n",
       "      <td>4</td>\n",
       "      <td>4</td>\n",
       "      <td>4</td>\n",
       "    </tr>\n",
       "    <tr>\n",
       "      <td>262</td>\n",
       "      <td>NaN</td>\n",
       "      <td>Sao Tome and Principe</td>\n",
       "      <td>0.18636</td>\n",
       "      <td>6.613081</td>\n",
       "      <td>0</td>\n",
       "      <td>0</td>\n",
       "      <td>0</td>\n",
       "      <td>0</td>\n",
       "      <td>0</td>\n",
       "      <td>0</td>\n",
       "      <td>...</td>\n",
       "      <td>0</td>\n",
       "      <td>0</td>\n",
       "      <td>0</td>\n",
       "      <td>0</td>\n",
       "      <td>0</td>\n",
       "      <td>0</td>\n",
       "      <td>0</td>\n",
       "      <td>0</td>\n",
       "      <td>4</td>\n",
       "      <td>4</td>\n",
       "    </tr>\n",
       "  </tbody>\n",
       "</table>\n",
       "<p>263 rows × 81 columns</p>\n",
       "</div>"
      ],
      "text/plain": [
       "                  Province/State         Country/Region       Lat       Long  \\\n",
       "0                            NaN            Afghanistan  33.00000  65.000000   \n",
       "1                            NaN                Albania  41.15330  20.168300   \n",
       "2                            NaN                Algeria  28.03390   1.659600   \n",
       "3                            NaN                Andorra  42.50630   1.521800   \n",
       "4                            NaN                 Angola -11.20270  17.873900   \n",
       "..                           ...                    ...       ...        ...   \n",
       "258  Falkland Islands (Malvinas)         United Kingdom -51.79630 -59.523600   \n",
       "259    Saint Pierre and Miquelon                 France  46.88520 -56.315900   \n",
       "260                          NaN            South Sudan   6.87700  31.307000   \n",
       "261                          NaN         Western Sahara  24.21550 -12.885800   \n",
       "262                          NaN  Sao Tome and Principe   0.18636   6.613081   \n",
       "\n",
       "     1/22/20  1/23/20  1/24/20  1/25/20  1/26/20  1/27/20  ...  3/29/20  \\\n",
       "0          0        0        0        0        0        0  ...      120   \n",
       "1          0        0        0        0        0        0  ...      212   \n",
       "2          0        0        0        0        0        0  ...      511   \n",
       "3          0        0        0        0        0        0  ...      334   \n",
       "4          0        0        0        0        0        0  ...        7   \n",
       "..       ...      ...      ...      ...      ...      ...  ...      ...   \n",
       "258        0        0        0        0        0        0  ...        0   \n",
       "259        0        0        0        0        0        0  ...        0   \n",
       "260        0        0        0        0        0        0  ...        0   \n",
       "261        0        0        0        0        0        0  ...        0   \n",
       "262        0        0        0        0        0        0  ...        0   \n",
       "\n",
       "     3/30/20  3/31/20  4/1/20  4/2/20  4/3/20  4/4/20  4/5/20  4/6/20  4/7/20  \n",
       "0        170      174     237     273     281     299     349     367     423  \n",
       "1        223      243     259     277     304     333     361     377     383  \n",
       "2        584      716     847     986    1171    1251    1320    1423    1468  \n",
       "3        370      376     390     428     439     466     501     525     545  \n",
       "4          7        7       8       8       8      10      14      16      17  \n",
       "..       ...      ...     ...     ...     ...     ...     ...     ...     ...  \n",
       "258        0        0       0       0       0       1       2       2       2  \n",
       "259        0        0       0       0       0       0       1       1       1  \n",
       "260        0        0       0       0       0       0       1       1       2  \n",
       "261        0        0       0       0       0       0       4       4       4  \n",
       "262        0        0       0       0       0       0       0       4       4  \n",
       "\n",
       "[263 rows x 81 columns]"
      ]
     },
     "execution_count": 83,
     "metadata": {},
     "output_type": "execute_result"
    }
   ],
   "source": [
    "df_confirmed"
   ]
  },
  {
   "cell_type": "markdown",
   "metadata": {},
   "source": [
    "# 1.Scrapping Data \n",
    "<img src=\"./picture/scraper-bot-app-icon-malicious-robot-content-stealing-software-web-vector-id1206210208-1.jpg\" Width=\"800\"/>\n"
   ]
  },
  {
   "cell_type": "code",
   "execution_count": 84,
   "metadata": {},
   "outputs": [],
   "source": [
    "#Names of regions for the classification of countries\n",
    "regions=['Africa','Europe','Latin caribbean','Northern america','Oceania'] \n",
    "\n",
    "#---------------------------------------------------------------------------------------------------------------------------#\n",
    "\n",
    "#Here is a list of website addresses that will take the information from them for the purpose of the project\n",
    "url_world_data='https://www.worldometers.info/coronavirus/'\n",
    "url_world_pop_reg='https://www.worldometers.info/population/countries-in-asia-by-population/'\n",
    "url_world_pop_reg_list=['https://www.worldometers.info/population/countries-in-africa-by-population/'\n",
    "          ,'https://www.worldometers.info/population/countries-in-europe-by-population/'\n",
    "          ,'https://www.worldometers.info/population/countries-in-latin-america-and-the-caribbean-by-population/'\n",
    "          ,'https://www.worldometers.info/population/countries-in-northern-america-by-population/'\n",
    "          ,'https://www.worldometers.info/population/countries-in-oceania-by-population/']"
   ]
  },
  {
   "cell_type": "code",
   "execution_count": 85,
   "metadata": {},
   "outputs": [],
   "source": [
    "#Defines a function that receives a website address and extracts the required information from it\n",
    "#The main purpose of the function is to extract information from a site\n",
    "#---------------------------------------------------------------------------------------------------------------------------#\n",
    "#The function is divided into two cases:\n",
    "# 1) Taking information on countries dealing with Corona cases\n",
    "# 2) Obtaining information on the amount of citizens in the state and the region of the country\n",
    "#---------------------------------------------------------------------------------------------------------------------------#\n",
    "#The function accepts 3 parameters:\n",
    "#1) URL\n",
    "#2) State area\n",
    "#3) Case identifier for use of the function\n",
    "#---------------------------------------------------------------------------------------------------------------------------#\n",
    "def Df_by_rigion(url,reg,flag):\n",
    "    \n",
    "    response = requests.get(url)\n",
    "    soup = BeautifulSoup(response.text,\"html.parser\")\n",
    "    #Create list of Columns\n",
    "    cols_raw=soup.find('thead') #find Thead module\n",
    "    cols=cols_raw.find_all(\"th\") #find all th in the Thead\n",
    "    columns_list=[] #New list\n",
    "    \n",
    "#Obtaining information on the amount of citizens in the state and the region of the country\n",
    "    if(flag==0):\n",
    "        text=soup.find(id=\"example2\").get_text()\n",
    "        for x in cols: \n",
    "            if (x.get_text()=='Country (or dependency)' or x.get_text()=='Population (2020)' ):\n",
    "                columns_list.append(x.get_text()) #append all th into list\n",
    "            \n",
    "        # scrap All table\n",
    "        list_of_lists=[] # list of lists for each row\n",
    "        table_raw=soup.find('tbody')\n",
    "        table=table_raw.find_all('tr')\n",
    "  \n",
    "        for row in table:\n",
    "            counter=0\n",
    "            uni_row_list=[] #1 row list\n",
    "            uni_row=row.find_all('td')\n",
    "            for i in uni_row:\n",
    "                if(counter==1 or counter==2):\n",
    "                    uni_row_list.append(i.get_text())\n",
    "                counter+=1\n",
    "            list_of_lists.append(uni_row_list)\n",
    "        \n",
    "        corona_df_func = pd.DataFrame.from_records(list_of_lists, columns=columns_list)\n",
    "        corona_df_func['Region']=reg\n",
    "    #Taking information on countries dealing with Corona cases\n",
    "    else:\n",
    "        text=soup.find(id=\"main_table_countries_today\").get_text()\n",
    "        for x in cols: #append all th into list\n",
    "            columns_list.append(x.get_text())\n",
    "\n",
    "        # scrap All table\n",
    "        list_of_lists=[] # list of lists for each row\n",
    "        table_raw=soup.find('tbody')\n",
    "        table=table_raw.find_all('tr')\n",
    "        \n",
    "        for row in table:\n",
    "            uni_row_list=[] #1 row list\n",
    "            uni_row=row.find_all('td')\n",
    "            for i in uni_row:\n",
    "                uni_row_list.append(i.get_text())\n",
    "            list_of_lists.append(uni_row_list)\n",
    "        \n",
    "        corona_df_func = pd.DataFrame.from_records(list_of_lists, columns=columns_list)\n",
    "        corona_df_func['Population']='0'\n",
    "        corona_df_func['Region']='0'\n",
    "    return corona_df_func"
   ]
  },
  {
   "cell_type": "code",
   "execution_count": 86,
   "metadata": {},
   "outputs": [],
   "source": [
    "Reg_pop_df0=Df_by_rigion(url_world_pop_reg,'Asia',0)\n",
    "counter=0\n",
    "for val in url_world_pop_reg_list:\n",
    "    Reg_pop_df=Reg_pop_df0.append(Df_by_rigion(val,regions[counter],0))\n",
    "    Reg_pop_df0=Reg_pop_df\n",
    "    counter+=1"
   ]
  },
  {
   "cell_type": "code",
   "execution_count": 87,
   "metadata": {},
   "outputs": [],
   "source": [
    "#Testing, see with There is a connection with the site"
   ]
  },
  {
   "cell_type": "code",
   "execution_count": 88,
   "metadata": {},
   "outputs": [],
   "source": [
    "corona_df=Df_by_rigion(url_world_data,0,1)"
   ]
  },
  {
   "cell_type": "code",
   "execution_count": 89,
   "metadata": {},
   "outputs": [],
   "source": [
    "corona_df.drop([0], axis = 0, inplace = True)\n",
    "corona_df.drop(corona_df.columns[[2,4,8, 9,10,11]], axis = 1, inplace = True)\n"
   ]
  },
  {
   "cell_type": "code",
   "execution_count": 90,
   "metadata": {},
   "outputs": [],
   "source": [
    "corona_df=corona_df.reset_index(drop=True)"
   ]
  },
  {
   "cell_type": "markdown",
   "metadata": {},
   "source": [
    "### Second dataframe(after scrapping)-covid 19 total cases Worldwide"
   ]
  },
  {
   "cell_type": "code",
   "execution_count": 91,
   "metadata": {},
   "outputs": [
    {
     "data": {
      "text/html": [
       "<div>\n",
       "<style scoped>\n",
       "    .dataframe tbody tr th:only-of-type {\n",
       "        vertical-align: middle;\n",
       "    }\n",
       "\n",
       "    .dataframe tbody tr th {\n",
       "        vertical-align: top;\n",
       "    }\n",
       "\n",
       "    .dataframe thead th {\n",
       "        text-align: right;\n",
       "    }\n",
       "</style>\n",
       "<table border=\"1\" class=\"dataframe\">\n",
       "  <thead>\n",
       "    <tr style=\"text-align: right;\">\n",
       "      <th></th>\n",
       "      <th>Country,Other</th>\n",
       "      <th>TotalCases</th>\n",
       "      <th>TotalDeaths</th>\n",
       "      <th>TotalRecovered</th>\n",
       "      <th>ActiveCases</th>\n",
       "      <th>Serious,Critical</th>\n",
       "      <th>Population</th>\n",
       "      <th>Region</th>\n",
       "    </tr>\n",
       "  </thead>\n",
       "  <tbody>\n",
       "    <tr>\n",
       "      <td>0</td>\n",
       "      <td>USA</td>\n",
       "      <td>400,549</td>\n",
       "      <td>12,857</td>\n",
       "      <td>21,711</td>\n",
       "      <td>365,981</td>\n",
       "      <td>9,169</td>\n",
       "      <td>0</td>\n",
       "      <td>0</td>\n",
       "    </tr>\n",
       "    <tr>\n",
       "      <td>1</td>\n",
       "      <td>Spain</td>\n",
       "      <td>146,690</td>\n",
       "      <td>14,555</td>\n",
       "      <td>48,021</td>\n",
       "      <td>84,114</td>\n",
       "      <td>7,069</td>\n",
       "      <td>0</td>\n",
       "      <td>0</td>\n",
       "    </tr>\n",
       "    <tr>\n",
       "      <td>2</td>\n",
       "      <td>Italy</td>\n",
       "      <td>135,586</td>\n",
       "      <td>17,127</td>\n",
       "      <td>24,392</td>\n",
       "      <td>94,067</td>\n",
       "      <td>3,792</td>\n",
       "      <td>0</td>\n",
       "      <td>0</td>\n",
       "    </tr>\n",
       "    <tr>\n",
       "      <td>3</td>\n",
       "      <td>France</td>\n",
       "      <td>109,069</td>\n",
       "      <td>10,328</td>\n",
       "      <td>19,337</td>\n",
       "      <td>79,404</td>\n",
       "      <td>7,131</td>\n",
       "      <td>0</td>\n",
       "      <td>0</td>\n",
       "    </tr>\n",
       "    <tr>\n",
       "      <td>4</td>\n",
       "      <td>Germany</td>\n",
       "      <td>107,663</td>\n",
       "      <td>2,016</td>\n",
       "      <td>36,081</td>\n",
       "      <td>69,566</td>\n",
       "      <td>4,895</td>\n",
       "      <td>0</td>\n",
       "      <td>0</td>\n",
       "    </tr>\n",
       "  </tbody>\n",
       "</table>\n",
       "</div>"
      ],
      "text/plain": [
       "  Country,Other TotalCases TotalDeaths TotalRecovered ActiveCases  \\\n",
       "0           USA    400,549     12,857          21,711     365,981   \n",
       "1         Spain    146,690     14,555          48,021      84,114   \n",
       "2         Italy    135,586     17,127          24,392      94,067   \n",
       "3        France    109,069     10,328          19,337      79,404   \n",
       "4       Germany    107,663      2,016          36,081      69,566   \n",
       "\n",
       "  Serious,Critical Population Region  \n",
       "0            9,169          0      0  \n",
       "1            7,069          0      0  \n",
       "2            3,792          0      0  \n",
       "3            7,131          0      0  \n",
       "4            4,895          0      0  "
      ]
     },
     "execution_count": 91,
     "metadata": {},
     "output_type": "execute_result"
    }
   ],
   "source": [
    "corona_df.head()"
   ]
  },
  {
   "cell_type": "markdown",
   "metadata": {},
   "source": [
    "Reformating Regions and Population:"
   ]
  },
  {
   "cell_type": "code",
   "execution_count": 92,
   "metadata": {},
   "outputs": [],
   "source": [
    "for j in range (len(Reg_pop_df)):    \n",
    "    if(Reg_pop_df['Country (or dependency)'].iloc[j]=='United States'):\n",
    "            Reg_pop_df['Country (or dependency)'].iloc[j]='USA'\n",
    "    if(Reg_pop_df['Country (or dependency)'].iloc[j]=='St. Vincent & Grenadines'):\n",
    "            Reg_pop_df['Country (or dependency)'].iloc[j]='St.VincentGrenadines'\n",
    "    if(Reg_pop_df['Country (or dependency)'].iloc[j]=='United Kingdom'):\n",
    "            Reg_pop_df['Country (or dependency)'].iloc[j]='UK'\n",
    "    if(Reg_pop_df['Country (or dependency)'].iloc[j]=='South Korea'):\n",
    "            Reg_pop_df['Country (or dependency)'].iloc[j]='S. Korea'\n",
    "    if(Reg_pop_df['Country (or dependency)'].iloc[j]=='Czech Republic (Czechia)'):\n",
    "            Reg_pop_df['Country (or dependency)'].iloc[j]='Czechia'\n",
    "    if(Reg_pop_df['Country (or dependency)'].iloc[j]=='United Arab Emirates'):\n",
    "            Reg_pop_df['Country (or dependency)'].iloc[j]='UAE'\n",
    "    if(Reg_pop_df['Country (or dependency)'].iloc[j]=='State of Palestine'):\n",
    "            Reg_pop_df['Country (or dependency)'].iloc[j]='Palestine'   \n",
    "    if(Reg_pop_df['Country (or dependency)'].iloc[j]=='DR Congo'):\n",
    "            Reg_pop_df['Country (or dependency)'].iloc[j]='DRC'\n",
    "    if(Reg_pop_df['Country (or dependency)'].iloc[j]=='Saint Kitts & Nevis'):\n",
    "            Reg_pop_df['Country (or dependency)'].iloc[j]='SaintKittsandNevis' \n",
    "    if(Reg_pop_df['Country (or dependency)'].iloc[j]=='Holy See'):\n",
    "            Reg_pop_df['Country (or dependency)'].iloc[j]='VaticanCity' \n",
    "    if(Reg_pop_df['Country (or dependency)'].iloc[j]=='Central African Republic'):\n",
    "            Reg_pop_df['Country (or dependency)'].iloc[j]='CAR'\n",
    "    if(Reg_pop_df['Country (or dependency)'].iloc[j]=='St. Vincent & Grenadines'):\n",
    "            Reg_pop_df['Country (or dependency)'].iloc[j]='St.VincentGrenadines' \n",
    "#Reg_pop_df['Country (or dependency)'].iloc[67]='IvoryCoast'\n",
    "#corona_df['Country,Other'].iloc[15]='South Korea'\n",
    "for i in range (len(corona_df)):\n",
    "    for j in range (len(Reg_pop_df)):  \n",
    "        if(corona_df['Country,Other'].iloc[i]==Reg_pop_df['Country (or dependency)'].iloc[j]):\n",
    "            corona_df['Population'].iloc[i]=Reg_pop_df['Population (2020)'].iloc[j]\n",
    "            corona_df['Region'].iloc[i]=Reg_pop_df['Region'].iloc[j]\n",
    "            \n"
   ]
  },
  {
   "cell_type": "code",
   "execution_count": 93,
   "metadata": {},
   "outputs": [
    {
     "data": {
      "text/html": [
       "<div>\n",
       "<style scoped>\n",
       "    .dataframe tbody tr th:only-of-type {\n",
       "        vertical-align: middle;\n",
       "    }\n",
       "\n",
       "    .dataframe tbody tr th {\n",
       "        vertical-align: top;\n",
       "    }\n",
       "\n",
       "    .dataframe thead th {\n",
       "        text-align: right;\n",
       "    }\n",
       "</style>\n",
       "<table border=\"1\" class=\"dataframe\">\n",
       "  <thead>\n",
       "    <tr style=\"text-align: right;\">\n",
       "      <th></th>\n",
       "      <th>Country,Other</th>\n",
       "      <th>TotalCases</th>\n",
       "      <th>TotalDeaths</th>\n",
       "      <th>TotalRecovered</th>\n",
       "      <th>ActiveCases</th>\n",
       "      <th>Serious,Critical</th>\n",
       "      <th>Population</th>\n",
       "      <th>Region</th>\n",
       "    </tr>\n",
       "  </thead>\n",
       "  <tbody>\n",
       "    <tr>\n",
       "      <td>0</td>\n",
       "      <td>USA</td>\n",
       "      <td>400,549</td>\n",
       "      <td>12,857</td>\n",
       "      <td>21,711</td>\n",
       "      <td>365,981</td>\n",
       "      <td>9,169</td>\n",
       "      <td>331,002,651</td>\n",
       "      <td>Northern america</td>\n",
       "    </tr>\n",
       "    <tr>\n",
       "      <td>1</td>\n",
       "      <td>Spain</td>\n",
       "      <td>146,690</td>\n",
       "      <td>14,555</td>\n",
       "      <td>48,021</td>\n",
       "      <td>84,114</td>\n",
       "      <td>7,069</td>\n",
       "      <td>46,754,778</td>\n",
       "      <td>Europe</td>\n",
       "    </tr>\n",
       "    <tr>\n",
       "      <td>2</td>\n",
       "      <td>Italy</td>\n",
       "      <td>135,586</td>\n",
       "      <td>17,127</td>\n",
       "      <td>24,392</td>\n",
       "      <td>94,067</td>\n",
       "      <td>3,792</td>\n",
       "      <td>60,461,826</td>\n",
       "      <td>Europe</td>\n",
       "    </tr>\n",
       "    <tr>\n",
       "      <td>3</td>\n",
       "      <td>France</td>\n",
       "      <td>109,069</td>\n",
       "      <td>10,328</td>\n",
       "      <td>19,337</td>\n",
       "      <td>79,404</td>\n",
       "      <td>7,131</td>\n",
       "      <td>65,273,511</td>\n",
       "      <td>Europe</td>\n",
       "    </tr>\n",
       "    <tr>\n",
       "      <td>4</td>\n",
       "      <td>Germany</td>\n",
       "      <td>107,663</td>\n",
       "      <td>2,016</td>\n",
       "      <td>36,081</td>\n",
       "      <td>69,566</td>\n",
       "      <td>4,895</td>\n",
       "      <td>83,783,942</td>\n",
       "      <td>Europe</td>\n",
       "    </tr>\n",
       "    <tr>\n",
       "      <td>...</td>\n",
       "      <td>...</td>\n",
       "      <td>...</td>\n",
       "      <td>...</td>\n",
       "      <td>...</td>\n",
       "      <td>...</td>\n",
       "      <td>...</td>\n",
       "      <td>...</td>\n",
       "      <td>...</td>\n",
       "    </tr>\n",
       "    <tr>\n",
       "      <td>206</td>\n",
       "      <td>Papua New Guinea</td>\n",
       "      <td>2</td>\n",
       "      <td></td>\n",
       "      <td></td>\n",
       "      <td>2</td>\n",
       "      <td></td>\n",
       "      <td>8,947,024</td>\n",
       "      <td>Oceania</td>\n",
       "    </tr>\n",
       "    <tr>\n",
       "      <td>207</td>\n",
       "      <td>South Sudan</td>\n",
       "      <td>2</td>\n",
       "      <td></td>\n",
       "      <td></td>\n",
       "      <td>2</td>\n",
       "      <td></td>\n",
       "      <td>11,193,725</td>\n",
       "      <td>Africa</td>\n",
       "    </tr>\n",
       "    <tr>\n",
       "      <td>208</td>\n",
       "      <td>Saint Pierre Miquelon</td>\n",
       "      <td>1</td>\n",
       "      <td></td>\n",
       "      <td></td>\n",
       "      <td>1</td>\n",
       "      <td></td>\n",
       "      <td>0</td>\n",
       "      <td>0</td>\n",
       "    </tr>\n",
       "    <tr>\n",
       "      <td>209</td>\n",
       "      <td>Timor-Leste</td>\n",
       "      <td>1</td>\n",
       "      <td></td>\n",
       "      <td></td>\n",
       "      <td>1</td>\n",
       "      <td></td>\n",
       "      <td>1,318,445</td>\n",
       "      <td>Asia</td>\n",
       "    </tr>\n",
       "    <tr>\n",
       "      <td>210</td>\n",
       "      <td>China</td>\n",
       "      <td>81,802</td>\n",
       "      <td>3,333</td>\n",
       "      <td>77,279</td>\n",
       "      <td>1,190</td>\n",
       "      <td>189</td>\n",
       "      <td>1,439,323,776</td>\n",
       "      <td>Asia</td>\n",
       "    </tr>\n",
       "  </tbody>\n",
       "</table>\n",
       "<p>211 rows × 8 columns</p>\n",
       "</div>"
      ],
      "text/plain": [
       "             Country,Other TotalCases TotalDeaths TotalRecovered ActiveCases  \\\n",
       "0                      USA    400,549     12,857          21,711     365,981   \n",
       "1                    Spain    146,690     14,555          48,021      84,114   \n",
       "2                    Italy    135,586     17,127          24,392      94,067   \n",
       "3                   France    109,069     10,328          19,337      79,404   \n",
       "4                  Germany    107,663      2,016          36,081      69,566   \n",
       "..                     ...        ...         ...            ...         ...   \n",
       "206       Papua New Guinea          2                                      2   \n",
       "207            South Sudan          2                                      2   \n",
       "208  Saint Pierre Miquelon          1                                      1   \n",
       "209            Timor-Leste          1                                      1   \n",
       "210                  China     81,802      3,333          77,279       1,190   \n",
       "\n",
       "    Serious,Critical     Population            Region  \n",
       "0              9,169    331,002,651  Northern america  \n",
       "1              7,069     46,754,778            Europe  \n",
       "2              3,792     60,461,826            Europe  \n",
       "3              7,131     65,273,511            Europe  \n",
       "4              4,895     83,783,942            Europe  \n",
       "..               ...            ...               ...  \n",
       "206                       8,947,024           Oceania  \n",
       "207                      11,193,725            Africa  \n",
       "208                               0                 0  \n",
       "209                       1,318,445              Asia  \n",
       "210              189  1,439,323,776              Asia  \n",
       "\n",
       "[211 rows x 8 columns]"
      ]
     },
     "execution_count": 93,
     "metadata": {},
     "output_type": "execute_result"
    }
   ],
   "source": [
    "corona_df"
   ]
  },
  {
   "cell_type": "markdown",
   "metadata": {},
   "source": [
    "# 2.Cleaning and Reformating\n",
    "<img src=\"./picture/pexels-photo-434163.jpeg\" Width=\"800\"/>\n"
   ]
  },
  {
   "cell_type": "markdown",
   "metadata": {},
   "source": [
    "### Describing data types"
   ]
  },
  {
   "cell_type": "code",
   "execution_count": 94,
   "metadata": {},
   "outputs": [
    {
     "name": "stdout",
     "output_type": "stream",
     "text": [
      "<class 'pandas.core.frame.DataFrame'>\n",
      "RangeIndex: 211 entries, 0 to 210\n",
      "Data columns (total 8 columns):\n",
      "Country,Other       211 non-null object\n",
      "TotalCases          211 non-null object\n",
      "TotalDeaths         211 non-null object\n",
      "TotalRecovered      211 non-null object\n",
      "ActiveCases         211 non-null object\n",
      "Serious,Critical    211 non-null object\n",
      "Population          211 non-null object\n",
      "Region              211 non-null object\n",
      "dtypes: object(8)\n",
      "memory usage: 13.3+ KB\n",
      "None\n"
     ]
    }
   ],
   "source": [
    "#Data info\n",
    "print (corona_df.info())\n",
    "#Here we need to change all str's to int's \n",
    "#But first we need to do data cleaning "
   ]
  },
  {
   "cell_type": "markdown",
   "metadata": {},
   "source": [
    "### Cleaning data "
   ]
  },
  {
   "cell_type": "code",
   "execution_count": 95,
   "metadata": {},
   "outputs": [],
   "source": [
    "#Here we clear all unnecessary data\n",
    "length=len(corona_df)\n",
    "for col in corona_df:\n",
    "    temp_name_col=col\n",
    "    corona_df[temp_name_col]=corona_df[temp_name_col].str.replace('+','')\n",
    "    corona_df[temp_name_col]=corona_df[temp_name_col].str.replace(',','')\n",
    "    corona_df[temp_name_col]=corona_df[temp_name_col].str.replace('\\n','')\n",
    "    corona_df[temp_name_col]=corona_df[temp_name_col].str.replace(' ','')\n",
    "    for i in range(length):\n",
    "        if(corona_df[temp_name_col][i]==''):\n",
    "            corona_df[temp_name_col][i]='0'"
   ]
  },
  {
   "cell_type": "code",
   "execution_count": 96,
   "metadata": {},
   "outputs": [
    {
     "data": {
      "text/html": [
       "<div>\n",
       "<style scoped>\n",
       "    .dataframe tbody tr th:only-of-type {\n",
       "        vertical-align: middle;\n",
       "    }\n",
       "\n",
       "    .dataframe tbody tr th {\n",
       "        vertical-align: top;\n",
       "    }\n",
       "\n",
       "    .dataframe thead th {\n",
       "        text-align: right;\n",
       "    }\n",
       "</style>\n",
       "<table border=\"1\" class=\"dataframe\">\n",
       "  <thead>\n",
       "    <tr style=\"text-align: right;\">\n",
       "      <th></th>\n",
       "      <th>Country,Other</th>\n",
       "      <th>TotalCases</th>\n",
       "      <th>TotalDeaths</th>\n",
       "      <th>TotalRecovered</th>\n",
       "      <th>ActiveCases</th>\n",
       "      <th>Serious,Critical</th>\n",
       "      <th>Population</th>\n",
       "      <th>Region</th>\n",
       "    </tr>\n",
       "  </thead>\n",
       "  <tbody>\n",
       "    <tr>\n",
       "      <td>0</td>\n",
       "      <td>USA</td>\n",
       "      <td>400549</td>\n",
       "      <td>12857</td>\n",
       "      <td>21711</td>\n",
       "      <td>365981</td>\n",
       "      <td>9169</td>\n",
       "      <td>331002651</td>\n",
       "      <td>Northernamerica</td>\n",
       "    </tr>\n",
       "    <tr>\n",
       "      <td>1</td>\n",
       "      <td>Spain</td>\n",
       "      <td>146690</td>\n",
       "      <td>14555</td>\n",
       "      <td>48021</td>\n",
       "      <td>84114</td>\n",
       "      <td>7069</td>\n",
       "      <td>46754778</td>\n",
       "      <td>Europe</td>\n",
       "    </tr>\n",
       "    <tr>\n",
       "      <td>2</td>\n",
       "      <td>Italy</td>\n",
       "      <td>135586</td>\n",
       "      <td>17127</td>\n",
       "      <td>24392</td>\n",
       "      <td>94067</td>\n",
       "      <td>3792</td>\n",
       "      <td>60461826</td>\n",
       "      <td>Europe</td>\n",
       "    </tr>\n",
       "    <tr>\n",
       "      <td>3</td>\n",
       "      <td>France</td>\n",
       "      <td>109069</td>\n",
       "      <td>10328</td>\n",
       "      <td>19337</td>\n",
       "      <td>79404</td>\n",
       "      <td>7131</td>\n",
       "      <td>65273511</td>\n",
       "      <td>Europe</td>\n",
       "    </tr>\n",
       "    <tr>\n",
       "      <td>4</td>\n",
       "      <td>Germany</td>\n",
       "      <td>107663</td>\n",
       "      <td>2016</td>\n",
       "      <td>36081</td>\n",
       "      <td>69566</td>\n",
       "      <td>4895</td>\n",
       "      <td>83783942</td>\n",
       "      <td>Europe</td>\n",
       "    </tr>\n",
       "  </tbody>\n",
       "</table>\n",
       "</div>"
      ],
      "text/plain": [
       "  Country,Other TotalCases TotalDeaths TotalRecovered ActiveCases  \\\n",
       "0           USA     400549       12857          21711      365981   \n",
       "1         Spain     146690       14555          48021       84114   \n",
       "2         Italy     135586       17127          24392       94067   \n",
       "3        France     109069       10328          19337       79404   \n",
       "4       Germany     107663        2016          36081       69566   \n",
       "\n",
       "  Serious,Critical Population           Region  \n",
       "0             9169  331002651  Northernamerica  \n",
       "1             7069   46754778           Europe  \n",
       "2             3792   60461826           Europe  \n",
       "3             7131   65273511           Europe  \n",
       "4             4895   83783942           Europe  "
      ]
     },
     "execution_count": 96,
     "metadata": {},
     "output_type": "execute_result"
    }
   ],
   "source": [
    "corona_df.head()"
   ]
  },
  {
   "cell_type": "markdown",
   "metadata": {},
   "source": [
    "### Reformating data"
   ]
  },
  {
   "cell_type": "code",
   "execution_count": 97,
   "metadata": {},
   "outputs": [],
   "source": [
    "#Convert data in columns to useful integers, for further work\n",
    "for col in corona_df:\n",
    "    if(col!='Reported1st case' and col!='Country,Other' and col!='Region' ):\n",
    "            corona_df[col]=corona_df[col].astype(str).astype(int)"
   ]
  },
  {
   "cell_type": "markdown",
   "metadata": {},
   "source": [
    "#### datatypes after reformating"
   ]
  },
  {
   "cell_type": "code",
   "execution_count": 98,
   "metadata": {},
   "outputs": [
    {
     "name": "stdout",
     "output_type": "stream",
     "text": [
      "<class 'pandas.core.frame.DataFrame'>\n",
      "RangeIndex: 211 entries, 0 to 210\n",
      "Data columns (total 8 columns):\n",
      "Country,Other       211 non-null object\n",
      "TotalCases          211 non-null int32\n",
      "TotalDeaths         211 non-null int32\n",
      "TotalRecovered      211 non-null int32\n",
      "ActiveCases         211 non-null int32\n",
      "Serious,Critical    211 non-null int32\n",
      "Population          211 non-null int32\n",
      "Region              211 non-null object\n",
      "dtypes: int32(6), object(2)\n",
      "memory usage: 8.4+ KB\n",
      "None\n"
     ]
    }
   ],
   "source": [
    "#Check data info\n",
    "print (corona_df.info())"
   ]
  },
  {
   "cell_type": "code",
   "execution_count": 99,
   "metadata": {},
   "outputs": [
    {
     "data": {
      "text/html": [
       "<div>\n",
       "<style scoped>\n",
       "    .dataframe tbody tr th:only-of-type {\n",
       "        vertical-align: middle;\n",
       "    }\n",
       "\n",
       "    .dataframe tbody tr th {\n",
       "        vertical-align: top;\n",
       "    }\n",
       "\n",
       "    .dataframe thead th {\n",
       "        text-align: right;\n",
       "    }\n",
       "</style>\n",
       "<table border=\"1\" class=\"dataframe\">\n",
       "  <thead>\n",
       "    <tr style=\"text-align: right;\">\n",
       "      <th></th>\n",
       "      <th>TotalCases</th>\n",
       "      <th>TotalDeaths</th>\n",
       "      <th>TotalRecovered</th>\n",
       "      <th>ActiveCases</th>\n",
       "      <th>Serious,Critical</th>\n",
       "      <th>Population</th>\n",
       "    </tr>\n",
       "  </thead>\n",
       "  <tbody>\n",
       "    <tr>\n",
       "      <td>count</td>\n",
       "      <td>211.00000</td>\n",
       "      <td>211.000000</td>\n",
       "      <td>211.000000</td>\n",
       "      <td>211.000000</td>\n",
       "      <td>211.000000</td>\n",
       "      <td>2.110000e+02</td>\n",
       "    </tr>\n",
       "    <tr>\n",
       "      <td>mean</td>\n",
       "      <td>6863.14218</td>\n",
       "      <td>395.336493</td>\n",
       "      <td>1465.322275</td>\n",
       "      <td>5002.483412</td>\n",
       "      <td>227.473934</td>\n",
       "      <td>3.644037e+07</td>\n",
       "    </tr>\n",
       "    <tr>\n",
       "      <td>std</td>\n",
       "      <td>33247.59898</td>\n",
       "      <td>1983.785301</td>\n",
       "      <td>7400.941649</td>\n",
       "      <td>27788.280780</td>\n",
       "      <td>1064.446967</td>\n",
       "      <td>1.422491e+08</td>\n",
       "    </tr>\n",
       "    <tr>\n",
       "      <td>min</td>\n",
       "      <td>1.00000</td>\n",
       "      <td>0.000000</td>\n",
       "      <td>0.000000</td>\n",
       "      <td>1.000000</td>\n",
       "      <td>0.000000</td>\n",
       "      <td>0.000000e+00</td>\n",
       "    </tr>\n",
       "    <tr>\n",
       "      <td>25%</td>\n",
       "      <td>20.00000</td>\n",
       "      <td>0.500000</td>\n",
       "      <td>2.000000</td>\n",
       "      <td>17.500000</td>\n",
       "      <td>0.000000</td>\n",
       "      <td>6.387005e+05</td>\n",
       "    </tr>\n",
       "    <tr>\n",
       "      <td>50%</td>\n",
       "      <td>248.00000</td>\n",
       "      <td>5.000000</td>\n",
       "      <td>30.000000</td>\n",
       "      <td>165.000000</td>\n",
       "      <td>2.000000</td>\n",
       "      <td>6.624554e+06</td>\n",
       "    </tr>\n",
       "    <tr>\n",
       "      <td>75%</td>\n",
       "      <td>1527.00000</td>\n",
       "      <td>37.000000</td>\n",
       "      <td>133.000000</td>\n",
       "      <td>1153.500000</td>\n",
       "      <td>27.000000</td>\n",
       "      <td>2.401171e+07</td>\n",
       "    </tr>\n",
       "    <tr>\n",
       "      <td>max</td>\n",
       "      <td>400549.00000</td>\n",
       "      <td>17127.000000</td>\n",
       "      <td>77279.000000</td>\n",
       "      <td>365981.000000</td>\n",
       "      <td>9169.000000</td>\n",
       "      <td>1.439324e+09</td>\n",
       "    </tr>\n",
       "  </tbody>\n",
       "</table>\n",
       "</div>"
      ],
      "text/plain": [
       "         TotalCases   TotalDeaths  TotalRecovered    ActiveCases  \\\n",
       "count     211.00000    211.000000      211.000000     211.000000   \n",
       "mean     6863.14218    395.336493     1465.322275    5002.483412   \n",
       "std     33247.59898   1983.785301     7400.941649   27788.280780   \n",
       "min         1.00000      0.000000        0.000000       1.000000   \n",
       "25%        20.00000      0.500000        2.000000      17.500000   \n",
       "50%       248.00000      5.000000       30.000000     165.000000   \n",
       "75%      1527.00000     37.000000      133.000000    1153.500000   \n",
       "max    400549.00000  17127.000000    77279.000000  365981.000000   \n",
       "\n",
       "       Serious,Critical    Population  \n",
       "count        211.000000  2.110000e+02  \n",
       "mean         227.473934  3.644037e+07  \n",
       "std         1064.446967  1.422491e+08  \n",
       "min            0.000000  0.000000e+00  \n",
       "25%            0.000000  6.387005e+05  \n",
       "50%            2.000000  6.624554e+06  \n",
       "75%           27.000000  2.401171e+07  \n",
       "max         9169.000000  1.439324e+09  "
      ]
     },
     "execution_count": 99,
     "metadata": {},
     "output_type": "execute_result"
    }
   ],
   "source": [
    "corona_df.describe()"
   ]
  },
  {
   "cell_type": "markdown",
   "metadata": {},
   "source": [
    "# Visualiztion\n",
    "<img src=\"./picture/11-Killer-Open-Data-Sources-and-Free-Visualization-Tools-1024x768.jpg\" Width=\"800\"/>\n"
   ]
  },
  {
   "cell_type": "markdown",
   "metadata": {},
   "source": [
    "### Total Covid-19 spread worldwide"
   ]
  },
  {
   "cell_type": "code",
   "execution_count": 100,
   "metadata": {},
   "outputs": [
    {
     "data": {
      "application/vnd.plotly.v1+json": {
       "config": {
        "plotlyServerURL": "https://plot.ly"
       },
       "data": [
        {
         "coloraxis": "coloraxis",
         "geo": "geo",
         "hoverlabel": {
          "namelength": 0
         },
         "hovertemplate": "<b>%{hovertext}</b><br><br>Country,Other=%{location}<br>ActiveCases=%{z}",
         "hovertext": [
          "Afghanistan",
          "Albania",
          "Algeria",
          "Andorra",
          "Angola",
          "Anguilla",
          "AntiguaandBarbuda",
          "Argentina",
          "Armenia",
          "Aruba",
          "Australia",
          "Austria",
          "Azerbaijan",
          "Bahamas",
          "Bahrain",
          "Bangladesh",
          "Barbados",
          "Belarus",
          "Belgium",
          "Belize",
          "Benin",
          "Bermuda",
          "Bhutan",
          "Bolivia",
          "BosniaandHerzegovina",
          "Botswana",
          "Brazil",
          "BritishVirginIslands",
          "Brunei",
          "Bulgaria",
          "BurkinaFaso",
          "Burundi",
          "CAR",
          "CaboVerde",
          "Cambodia",
          "Cameroon",
          "Canada",
          "CaribbeanNetherlands",
          "CaymanIslands",
          "Chad",
          "ChannelIslands",
          "Chile",
          "China",
          "Colombia",
          "Congo",
          "CostaRica",
          "Croatia",
          "Cuba",
          "Curaçao",
          "Cyprus",
          "Czechia",
          "DRC",
          "Denmark",
          "DiamondPrincess",
          "Djibouti",
          "Dominica",
          "DominicanRepublic",
          "Ecuador",
          "Egypt",
          "ElSalvador",
          "EquatorialGuinea",
          "Eritrea",
          "Estonia",
          "Eswatini",
          "Ethiopia",
          "FaeroeIslands",
          "FalklandIslands",
          "Fiji",
          "Finland",
          "France",
          "FrenchGuiana",
          "FrenchPolynesia",
          "Gabon",
          "Gambia",
          "Georgia",
          "Germany",
          "Ghana",
          "Gibraltar",
          "Greece",
          "Greenland",
          "Grenada",
          "Guadeloupe",
          "Guatemala",
          "Guinea",
          "Guinea-Bissau",
          "Guyana",
          "Haiti",
          "Honduras",
          "HongKong",
          "Hungary",
          "Iceland",
          "India",
          "Indonesia",
          "Iran",
          "Iraq",
          "Ireland",
          "IsleofMan",
          "Israel",
          "Italy",
          "IvoryCoast",
          "Jamaica",
          "Japan",
          "Jordan",
          "Kazakhstan",
          "Kenya",
          "Kuwait",
          "Kyrgyzstan",
          "Laos",
          "Latvia",
          "Lebanon",
          "Liberia",
          "Libya",
          "Liechtenstein",
          "Lithuania",
          "Luxembourg",
          "MSZaandam",
          "Macao",
          "Madagascar",
          "Malawi",
          "Malaysia",
          "Maldives",
          "Mali",
          "Malta",
          "Martinique",
          "Mauritania",
          "Mauritius",
          "Mayotte",
          "Mexico",
          "Moldova",
          "Monaco",
          "Mongolia",
          "Montenegro",
          "Montserrat",
          "Morocco",
          "Mozambique",
          "Myanmar",
          "Namibia",
          "Nepal",
          "Netherlands",
          "NewCaledonia",
          "NewZealand",
          "Nicaragua",
          "Niger",
          "Nigeria",
          "NorthMacedonia",
          "Norway",
          "Oman",
          "Pakistan",
          "Palestine",
          "Panama",
          "PapuaNewGuinea",
          "Paraguay",
          "Peru",
          "Philippines",
          "Poland",
          "Portugal",
          "Qatar",
          "Romania",
          "Russia",
          "Rwanda",
          "Réunion",
          "S.Korea",
          "SaintKittsandNevis",
          "SaintLucia",
          "SaintMartin",
          "SaintPierreMiquelon",
          "SanMarino",
          "SaoTomeandPrincipe",
          "SaudiArabia",
          "Senegal",
          "Serbia",
          "Seychelles",
          "SierraLeone",
          "Singapore",
          "SintMaarten",
          "Slovakia",
          "Slovenia",
          "Somalia",
          "SouthAfrica",
          "SouthSudan",
          "Spain",
          "SriLanka",
          "St.Barth",
          "St.VincentGrenadines",
          "Sudan",
          "Suriname",
          "Sweden",
          "Switzerland",
          "Syria",
          "Taiwan",
          "Tanzania",
          "Thailand",
          "Timor-Leste",
          "Togo",
          "TrinidadandTobago",
          "Tunisia",
          "Turkey",
          "TurksandCaicos",
          "UAE",
          "UK",
          "USA",
          "Uganda",
          "Ukraine",
          "Uruguay",
          "Uzbekistan",
          "VaticanCity",
          "Venezuela",
          "Vietnam",
          "WesternSahara",
          "Zambia",
          "Zimbabwe"
         ],
         "locationmode": "country names",
         "locations": [
          "Afghanistan",
          "Albania",
          "Algeria",
          "Andorra",
          "Angola",
          "Anguilla",
          "AntiguaandBarbuda",
          "Argentina",
          "Armenia",
          "Aruba",
          "Australia",
          "Austria",
          "Azerbaijan",
          "Bahamas",
          "Bahrain",
          "Bangladesh",
          "Barbados",
          "Belarus",
          "Belgium",
          "Belize",
          "Benin",
          "Bermuda",
          "Bhutan",
          "Bolivia",
          "BosniaandHerzegovina",
          "Botswana",
          "Brazil",
          "BritishVirginIslands",
          "Brunei",
          "Bulgaria",
          "BurkinaFaso",
          "Burundi",
          "CAR",
          "CaboVerde",
          "Cambodia",
          "Cameroon",
          "Canada",
          "CaribbeanNetherlands",
          "CaymanIslands",
          "Chad",
          "ChannelIslands",
          "Chile",
          "China",
          "Colombia",
          "Congo",
          "CostaRica",
          "Croatia",
          "Cuba",
          "Curaçao",
          "Cyprus",
          "Czechia",
          "DRC",
          "Denmark",
          "DiamondPrincess",
          "Djibouti",
          "Dominica",
          "DominicanRepublic",
          "Ecuador",
          "Egypt",
          "ElSalvador",
          "EquatorialGuinea",
          "Eritrea",
          "Estonia",
          "Eswatini",
          "Ethiopia",
          "FaeroeIslands",
          "FalklandIslands",
          "Fiji",
          "Finland",
          "France",
          "FrenchGuiana",
          "FrenchPolynesia",
          "Gabon",
          "Gambia",
          "Georgia",
          "Germany",
          "Ghana",
          "Gibraltar",
          "Greece",
          "Greenland",
          "Grenada",
          "Guadeloupe",
          "Guatemala",
          "Guinea",
          "Guinea-Bissau",
          "Guyana",
          "Haiti",
          "Honduras",
          "HongKong",
          "Hungary",
          "Iceland",
          "India",
          "Indonesia",
          "Iran",
          "Iraq",
          "Ireland",
          "IsleofMan",
          "Israel",
          "Italy",
          "IvoryCoast",
          "Jamaica",
          "Japan",
          "Jordan",
          "Kazakhstan",
          "Kenya",
          "Kuwait",
          "Kyrgyzstan",
          "Laos",
          "Latvia",
          "Lebanon",
          "Liberia",
          "Libya",
          "Liechtenstein",
          "Lithuania",
          "Luxembourg",
          "MSZaandam",
          "Macao",
          "Madagascar",
          "Malawi",
          "Malaysia",
          "Maldives",
          "Mali",
          "Malta",
          "Martinique",
          "Mauritania",
          "Mauritius",
          "Mayotte",
          "Mexico",
          "Moldova",
          "Monaco",
          "Mongolia",
          "Montenegro",
          "Montserrat",
          "Morocco",
          "Mozambique",
          "Myanmar",
          "Namibia",
          "Nepal",
          "Netherlands",
          "NewCaledonia",
          "NewZealand",
          "Nicaragua",
          "Niger",
          "Nigeria",
          "NorthMacedonia",
          "Norway",
          "Oman",
          "Pakistan",
          "Palestine",
          "Panama",
          "PapuaNewGuinea",
          "Paraguay",
          "Peru",
          "Philippines",
          "Poland",
          "Portugal",
          "Qatar",
          "Romania",
          "Russia",
          "Rwanda",
          "Réunion",
          "S.Korea",
          "SaintKittsandNevis",
          "SaintLucia",
          "SaintMartin",
          "SaintPierreMiquelon",
          "SanMarino",
          "SaoTomeandPrincipe",
          "SaudiArabia",
          "Senegal",
          "Serbia",
          "Seychelles",
          "SierraLeone",
          "Singapore",
          "SintMaarten",
          "Slovakia",
          "Slovenia",
          "Somalia",
          "SouthAfrica",
          "SouthSudan",
          "Spain",
          "SriLanka",
          "St.Barth",
          "St.VincentGrenadines",
          "Sudan",
          "Suriname",
          "Sweden",
          "Switzerland",
          "Syria",
          "Taiwan",
          "Tanzania",
          "Thailand",
          "Timor-Leste",
          "Togo",
          "TrinidadandTobago",
          "Tunisia",
          "Turkey",
          "TurksandCaicos",
          "UAE",
          "UK",
          "USA",
          "Uganda",
          "Ukraine",
          "Uruguay",
          "Uzbekistan",
          "VaticanCity",
          "Venezuela",
          "Vietnam",
          "WesternSahara",
          "Zambia",
          "Zimbabwe"
         ],
         "name": "",
         "type": "choropleth",
         "z": [
          391,
          224,
          1162,
          484,
          13,
          3,
          17,
          1317,
          758,
          60,
          3150,
          8067,
          665,
          25,
          349,
          165,
          54,
          976,
          16482,
          6,
          20,
          20,
          3,
          193,
          684,
          5,
          13326,
          3,
          43,
          516,
          238,
          3,
          8,
          5,
          54,
          616,
          13488,
          2,
          38,
          8,
          294,
          4175,
          1190,
          1630,
          38,
          457,
          1145,
          358,
          5,
          438,
          4761,
          153,
          3547,
          82,
          110,
          14,
          1822,
          3635,
          1080,
          79,
          13,
          31,
          1089,
          6,
          49,
          53,
          2,
          15,
          2147,
          79404,
          43,
          47,
          28,
          1,
          157,
          69566,
          251,
          53,
          1482,
          1,
          12,
          101,
          60,
          139,
          33,
          20,
          24,
          284,
          693,
          743,
          1021,
          4848,
          2494,
          33554,
          684,
          5474,
          77,
          8531,
          94067,
          305,
          51,
          3542,
          209,
          648,
          164,
          743,
          233,
          15,
          559,
          494,
          8,
          18,
          22,
          889,
          2426,
          7,
          35,
          82,
          7,
          2567,
          6,
          39,
          294,
          98,
          3,
          253,
          147,
          2011,
          992,
          74,
          12,
          242,
          9,
          1054,
          9,
          19,
          13,
          8,
          18051,
          17,
          927,
          5,
          241,
          204,
          553,
          5961,
          345,
          3547,
          218,
          2174,
          2,
          99,
          1546,
          3592,
          4642,
          12565,
          2026,
          4023,
          8029,
          98,
          318,
          3408,
          11,
          13,
          23,
          1,
          205,
          4,
          2276,
          130,
          2483,
          11,
          7,
          1211,
          33,
          566,
          931,
          7,
          1641,
          2,
          84114,
          140,
          5,
          7,
          10,
          6,
          7527,
          13227,
          14,
          307,
          18,
          1451,
          1,
          39,
          98,
          575,
          31802,
          7,
          2161,
          48948,
          365981,
          52,
          1581,
          267,
          512,
          7,
          94,
          125,
          4,
          31,
          9
         ]
        }
       ],
       "layout": {
        "coloraxis": {
         "cmax": 10000,
         "cmin": 1,
         "colorbar": {
          "title": {
           "text": "ActiveCases"
          }
         },
         "colorscale": [
          [
           0,
           "rgb(255,247,236)"
          ],
          [
           0.125,
           "rgb(254,232,200)"
          ],
          [
           0.25,
           "rgb(253,212,158)"
          ],
          [
           0.375,
           "rgb(253,187,132)"
          ],
          [
           0.5,
           "rgb(252,141,89)"
          ],
          [
           0.625,
           "rgb(239,101,72)"
          ],
          [
           0.75,
           "rgb(215,48,31)"
          ],
          [
           0.875,
           "rgb(179,0,0)"
          ],
          [
           1,
           "rgb(127,0,0)"
          ]
         ]
        },
        "geo": {
         "center": {},
         "domain": {
          "x": [
           0,
           1
          ],
          "y": [
           0,
           1
          ]
         }
        },
        "legend": {
         "tracegroupgap": 0
        },
        "template": {
         "data": {
          "bar": [
           {
            "error_x": {
             "color": "#2a3f5f"
            },
            "error_y": {
             "color": "#2a3f5f"
            },
            "marker": {
             "line": {
              "color": "#E5ECF6",
              "width": 0.5
             }
            },
            "type": "bar"
           }
          ],
          "barpolar": [
           {
            "marker": {
             "line": {
              "color": "#E5ECF6",
              "width": 0.5
             }
            },
            "type": "barpolar"
           }
          ],
          "carpet": [
           {
            "aaxis": {
             "endlinecolor": "#2a3f5f",
             "gridcolor": "white",
             "linecolor": "white",
             "minorgridcolor": "white",
             "startlinecolor": "#2a3f5f"
            },
            "baxis": {
             "endlinecolor": "#2a3f5f",
             "gridcolor": "white",
             "linecolor": "white",
             "minorgridcolor": "white",
             "startlinecolor": "#2a3f5f"
            },
            "type": "carpet"
           }
          ],
          "choropleth": [
           {
            "colorbar": {
             "outlinewidth": 0,
             "ticks": ""
            },
            "type": "choropleth"
           }
          ],
          "contour": [
           {
            "colorbar": {
             "outlinewidth": 0,
             "ticks": ""
            },
            "colorscale": [
             [
              0,
              "#0d0887"
             ],
             [
              0.1111111111111111,
              "#46039f"
             ],
             [
              0.2222222222222222,
              "#7201a8"
             ],
             [
              0.3333333333333333,
              "#9c179e"
             ],
             [
              0.4444444444444444,
              "#bd3786"
             ],
             [
              0.5555555555555556,
              "#d8576b"
             ],
             [
              0.6666666666666666,
              "#ed7953"
             ],
             [
              0.7777777777777778,
              "#fb9f3a"
             ],
             [
              0.8888888888888888,
              "#fdca26"
             ],
             [
              1,
              "#f0f921"
             ]
            ],
            "type": "contour"
           }
          ],
          "contourcarpet": [
           {
            "colorbar": {
             "outlinewidth": 0,
             "ticks": ""
            },
            "type": "contourcarpet"
           }
          ],
          "heatmap": [
           {
            "colorbar": {
             "outlinewidth": 0,
             "ticks": ""
            },
            "colorscale": [
             [
              0,
              "#0d0887"
             ],
             [
              0.1111111111111111,
              "#46039f"
             ],
             [
              0.2222222222222222,
              "#7201a8"
             ],
             [
              0.3333333333333333,
              "#9c179e"
             ],
             [
              0.4444444444444444,
              "#bd3786"
             ],
             [
              0.5555555555555556,
              "#d8576b"
             ],
             [
              0.6666666666666666,
              "#ed7953"
             ],
             [
              0.7777777777777778,
              "#fb9f3a"
             ],
             [
              0.8888888888888888,
              "#fdca26"
             ],
             [
              1,
              "#f0f921"
             ]
            ],
            "type": "heatmap"
           }
          ],
          "heatmapgl": [
           {
            "colorbar": {
             "outlinewidth": 0,
             "ticks": ""
            },
            "colorscale": [
             [
              0,
              "#0d0887"
             ],
             [
              0.1111111111111111,
              "#46039f"
             ],
             [
              0.2222222222222222,
              "#7201a8"
             ],
             [
              0.3333333333333333,
              "#9c179e"
             ],
             [
              0.4444444444444444,
              "#bd3786"
             ],
             [
              0.5555555555555556,
              "#d8576b"
             ],
             [
              0.6666666666666666,
              "#ed7953"
             ],
             [
              0.7777777777777778,
              "#fb9f3a"
             ],
             [
              0.8888888888888888,
              "#fdca26"
             ],
             [
              1,
              "#f0f921"
             ]
            ],
            "type": "heatmapgl"
           }
          ],
          "histogram": [
           {
            "marker": {
             "colorbar": {
              "outlinewidth": 0,
              "ticks": ""
             }
            },
            "type": "histogram"
           }
          ],
          "histogram2d": [
           {
            "colorbar": {
             "outlinewidth": 0,
             "ticks": ""
            },
            "colorscale": [
             [
              0,
              "#0d0887"
             ],
             [
              0.1111111111111111,
              "#46039f"
             ],
             [
              0.2222222222222222,
              "#7201a8"
             ],
             [
              0.3333333333333333,
              "#9c179e"
             ],
             [
              0.4444444444444444,
              "#bd3786"
             ],
             [
              0.5555555555555556,
              "#d8576b"
             ],
             [
              0.6666666666666666,
              "#ed7953"
             ],
             [
              0.7777777777777778,
              "#fb9f3a"
             ],
             [
              0.8888888888888888,
              "#fdca26"
             ],
             [
              1,
              "#f0f921"
             ]
            ],
            "type": "histogram2d"
           }
          ],
          "histogram2dcontour": [
           {
            "colorbar": {
             "outlinewidth": 0,
             "ticks": ""
            },
            "colorscale": [
             [
              0,
              "#0d0887"
             ],
             [
              0.1111111111111111,
              "#46039f"
             ],
             [
              0.2222222222222222,
              "#7201a8"
             ],
             [
              0.3333333333333333,
              "#9c179e"
             ],
             [
              0.4444444444444444,
              "#bd3786"
             ],
             [
              0.5555555555555556,
              "#d8576b"
             ],
             [
              0.6666666666666666,
              "#ed7953"
             ],
             [
              0.7777777777777778,
              "#fb9f3a"
             ],
             [
              0.8888888888888888,
              "#fdca26"
             ],
             [
              1,
              "#f0f921"
             ]
            ],
            "type": "histogram2dcontour"
           }
          ],
          "mesh3d": [
           {
            "colorbar": {
             "outlinewidth": 0,
             "ticks": ""
            },
            "type": "mesh3d"
           }
          ],
          "parcoords": [
           {
            "line": {
             "colorbar": {
              "outlinewidth": 0,
              "ticks": ""
             }
            },
            "type": "parcoords"
           }
          ],
          "pie": [
           {
            "automargin": true,
            "type": "pie"
           }
          ],
          "scatter": [
           {
            "marker": {
             "colorbar": {
              "outlinewidth": 0,
              "ticks": ""
             }
            },
            "type": "scatter"
           }
          ],
          "scatter3d": [
           {
            "line": {
             "colorbar": {
              "outlinewidth": 0,
              "ticks": ""
             }
            },
            "marker": {
             "colorbar": {
              "outlinewidth": 0,
              "ticks": ""
             }
            },
            "type": "scatter3d"
           }
          ],
          "scattercarpet": [
           {
            "marker": {
             "colorbar": {
              "outlinewidth": 0,
              "ticks": ""
             }
            },
            "type": "scattercarpet"
           }
          ],
          "scattergeo": [
           {
            "marker": {
             "colorbar": {
              "outlinewidth": 0,
              "ticks": ""
             }
            },
            "type": "scattergeo"
           }
          ],
          "scattergl": [
           {
            "marker": {
             "colorbar": {
              "outlinewidth": 0,
              "ticks": ""
             }
            },
            "type": "scattergl"
           }
          ],
          "scattermapbox": [
           {
            "marker": {
             "colorbar": {
              "outlinewidth": 0,
              "ticks": ""
             }
            },
            "type": "scattermapbox"
           }
          ],
          "scatterpolar": [
           {
            "marker": {
             "colorbar": {
              "outlinewidth": 0,
              "ticks": ""
             }
            },
            "type": "scatterpolar"
           }
          ],
          "scatterpolargl": [
           {
            "marker": {
             "colorbar": {
              "outlinewidth": 0,
              "ticks": ""
             }
            },
            "type": "scatterpolargl"
           }
          ],
          "scatterternary": [
           {
            "marker": {
             "colorbar": {
              "outlinewidth": 0,
              "ticks": ""
             }
            },
            "type": "scatterternary"
           }
          ],
          "surface": [
           {
            "colorbar": {
             "outlinewidth": 0,
             "ticks": ""
            },
            "colorscale": [
             [
              0,
              "#0d0887"
             ],
             [
              0.1111111111111111,
              "#46039f"
             ],
             [
              0.2222222222222222,
              "#7201a8"
             ],
             [
              0.3333333333333333,
              "#9c179e"
             ],
             [
              0.4444444444444444,
              "#bd3786"
             ],
             [
              0.5555555555555556,
              "#d8576b"
             ],
             [
              0.6666666666666666,
              "#ed7953"
             ],
             [
              0.7777777777777778,
              "#fb9f3a"
             ],
             [
              0.8888888888888888,
              "#fdca26"
             ],
             [
              1,
              "#f0f921"
             ]
            ],
            "type": "surface"
           }
          ],
          "table": [
           {
            "cells": {
             "fill": {
              "color": "#EBF0F8"
             },
             "line": {
              "color": "white"
             }
            },
            "header": {
             "fill": {
              "color": "#C8D4E3"
             },
             "line": {
              "color": "white"
             }
            },
            "type": "table"
           }
          ]
         },
         "layout": {
          "annotationdefaults": {
           "arrowcolor": "#2a3f5f",
           "arrowhead": 0,
           "arrowwidth": 1
          },
          "coloraxis": {
           "colorbar": {
            "outlinewidth": 0,
            "ticks": ""
           }
          },
          "colorscale": {
           "diverging": [
            [
             0,
             "#8e0152"
            ],
            [
             0.1,
             "#c51b7d"
            ],
            [
             0.2,
             "#de77ae"
            ],
            [
             0.3,
             "#f1b6da"
            ],
            [
             0.4,
             "#fde0ef"
            ],
            [
             0.5,
             "#f7f7f7"
            ],
            [
             0.6,
             "#e6f5d0"
            ],
            [
             0.7,
             "#b8e186"
            ],
            [
             0.8,
             "#7fbc41"
            ],
            [
             0.9,
             "#4d9221"
            ],
            [
             1,
             "#276419"
            ]
           ],
           "sequential": [
            [
             0,
             "#0d0887"
            ],
            [
             0.1111111111111111,
             "#46039f"
            ],
            [
             0.2222222222222222,
             "#7201a8"
            ],
            [
             0.3333333333333333,
             "#9c179e"
            ],
            [
             0.4444444444444444,
             "#bd3786"
            ],
            [
             0.5555555555555556,
             "#d8576b"
            ],
            [
             0.6666666666666666,
             "#ed7953"
            ],
            [
             0.7777777777777778,
             "#fb9f3a"
            ],
            [
             0.8888888888888888,
             "#fdca26"
            ],
            [
             1,
             "#f0f921"
            ]
           ],
           "sequentialminus": [
            [
             0,
             "#0d0887"
            ],
            [
             0.1111111111111111,
             "#46039f"
            ],
            [
             0.2222222222222222,
             "#7201a8"
            ],
            [
             0.3333333333333333,
             "#9c179e"
            ],
            [
             0.4444444444444444,
             "#bd3786"
            ],
            [
             0.5555555555555556,
             "#d8576b"
            ],
            [
             0.6666666666666666,
             "#ed7953"
            ],
            [
             0.7777777777777778,
             "#fb9f3a"
            ],
            [
             0.8888888888888888,
             "#fdca26"
            ],
            [
             1,
             "#f0f921"
            ]
           ]
          },
          "colorway": [
           "#636efa",
           "#EF553B",
           "#00cc96",
           "#ab63fa",
           "#FFA15A",
           "#19d3f3",
           "#FF6692",
           "#B6E880",
           "#FF97FF",
           "#FECB52"
          ],
          "font": {
           "color": "#2a3f5f"
          },
          "geo": {
           "bgcolor": "white",
           "lakecolor": "white",
           "landcolor": "#E5ECF6",
           "showlakes": true,
           "showland": true,
           "subunitcolor": "white"
          },
          "hoverlabel": {
           "align": "left"
          },
          "hovermode": "closest",
          "mapbox": {
           "style": "light"
          },
          "paper_bgcolor": "white",
          "plot_bgcolor": "#E5ECF6",
          "polar": {
           "angularaxis": {
            "gridcolor": "white",
            "linecolor": "white",
            "ticks": ""
           },
           "bgcolor": "#E5ECF6",
           "radialaxis": {
            "gridcolor": "white",
            "linecolor": "white",
            "ticks": ""
           }
          },
          "scene": {
           "xaxis": {
            "backgroundcolor": "#E5ECF6",
            "gridcolor": "white",
            "gridwidth": 2,
            "linecolor": "white",
            "showbackground": true,
            "ticks": "",
            "zerolinecolor": "white"
           },
           "yaxis": {
            "backgroundcolor": "#E5ECF6",
            "gridcolor": "white",
            "gridwidth": 2,
            "linecolor": "white",
            "showbackground": true,
            "ticks": "",
            "zerolinecolor": "white"
           },
           "zaxis": {
            "backgroundcolor": "#E5ECF6",
            "gridcolor": "white",
            "gridwidth": 2,
            "linecolor": "white",
            "showbackground": true,
            "ticks": "",
            "zerolinecolor": "white"
           }
          },
          "shapedefaults": {
           "line": {
            "color": "#2a3f5f"
           }
          },
          "ternary": {
           "aaxis": {
            "gridcolor": "white",
            "linecolor": "white",
            "ticks": ""
           },
           "baxis": {
            "gridcolor": "white",
            "linecolor": "white",
            "ticks": ""
           },
           "bgcolor": "#E5ECF6",
           "caxis": {
            "gridcolor": "white",
            "linecolor": "white",
            "ticks": ""
           }
          },
          "title": {
           "x": 0.05
          },
          "xaxis": {
           "automargin": true,
           "gridcolor": "white",
           "linecolor": "white",
           "ticks": "",
           "title": {
            "standoff": 15
           },
           "zerolinecolor": "white",
           "zerolinewidth": 2
          },
          "yaxis": {
           "automargin": true,
           "gridcolor": "white",
           "linecolor": "white",
           "ticks": "",
           "title": {
            "standoff": 15
           },
           "zerolinecolor": "white",
           "zerolinewidth": 2
          }
         }
        },
        "title": {
         "text": "Countries with Active Cases"
        }
       }
      },
      "text/html": [
       "<div>\n",
       "        \n",
       "        \n",
       "            <div id=\"352c8b9d-aba9-4b0b-a0f7-baf5a152f30e\" class=\"plotly-graph-div\" style=\"height:525px; width:100%;\"></div>\n",
       "            <script type=\"text/javascript\">\n",
       "                require([\"plotly\"], function(Plotly) {\n",
       "                    window.PLOTLYENV=window.PLOTLYENV || {};\n",
       "                    \n",
       "                if (document.getElementById(\"352c8b9d-aba9-4b0b-a0f7-baf5a152f30e\")) {\n",
       "                    Plotly.newPlot(\n",
       "                        '352c8b9d-aba9-4b0b-a0f7-baf5a152f30e',\n",
       "                        [{\"coloraxis\": \"coloraxis\", \"geo\": \"geo\", \"hoverlabel\": {\"namelength\": 0}, \"hovertemplate\": \"<b>%{hovertext}</b><br><br>Country,Other=%{location}<br>ActiveCases=%{z}\", \"hovertext\": [\"Afghanistan\", \"Albania\", \"Algeria\", \"Andorra\", \"Angola\", \"Anguilla\", \"AntiguaandBarbuda\", \"Argentina\", \"Armenia\", \"Aruba\", \"Australia\", \"Austria\", \"Azerbaijan\", \"Bahamas\", \"Bahrain\", \"Bangladesh\", \"Barbados\", \"Belarus\", \"Belgium\", \"Belize\", \"Benin\", \"Bermuda\", \"Bhutan\", \"Bolivia\", \"BosniaandHerzegovina\", \"Botswana\", \"Brazil\", \"BritishVirginIslands\", \"Brunei\", \"Bulgaria\", \"BurkinaFaso\", \"Burundi\", \"CAR\", \"CaboVerde\", \"Cambodia\", \"Cameroon\", \"Canada\", \"CaribbeanNetherlands\", \"CaymanIslands\", \"Chad\", \"ChannelIslands\", \"Chile\", \"China\", \"Colombia\", \"Congo\", \"CostaRica\", \"Croatia\", \"Cuba\", \"Cura\\u00e7ao\", \"Cyprus\", \"Czechia\", \"DRC\", \"Denmark\", \"DiamondPrincess\", \"Djibouti\", \"Dominica\", \"DominicanRepublic\", \"Ecuador\", \"Egypt\", \"ElSalvador\", \"EquatorialGuinea\", \"Eritrea\", \"Estonia\", \"Eswatini\", \"Ethiopia\", \"FaeroeIslands\", \"FalklandIslands\", \"Fiji\", \"Finland\", \"France\", \"FrenchGuiana\", \"FrenchPolynesia\", \"Gabon\", \"Gambia\", \"Georgia\", \"Germany\", \"Ghana\", \"Gibraltar\", \"Greece\", \"Greenland\", \"Grenada\", \"Guadeloupe\", \"Guatemala\", \"Guinea\", \"Guinea-Bissau\", \"Guyana\", \"Haiti\", \"Honduras\", \"HongKong\", \"Hungary\", \"Iceland\", \"India\", \"Indonesia\", \"Iran\", \"Iraq\", \"Ireland\", \"IsleofMan\", \"Israel\", \"Italy\", \"IvoryCoast\", \"Jamaica\", \"Japan\", \"Jordan\", \"Kazakhstan\", \"Kenya\", \"Kuwait\", \"Kyrgyzstan\", \"Laos\", \"Latvia\", \"Lebanon\", \"Liberia\", \"Libya\", \"Liechtenstein\", \"Lithuania\", \"Luxembourg\", \"MSZaandam\", \"Macao\", \"Madagascar\", \"Malawi\", \"Malaysia\", \"Maldives\", \"Mali\", \"Malta\", \"Martinique\", \"Mauritania\", \"Mauritius\", \"Mayotte\", \"Mexico\", \"Moldova\", \"Monaco\", \"Mongolia\", \"Montenegro\", \"Montserrat\", \"Morocco\", \"Mozambique\", \"Myanmar\", \"Namibia\", \"Nepal\", \"Netherlands\", \"NewCaledonia\", \"NewZealand\", \"Nicaragua\", \"Niger\", \"Nigeria\", \"NorthMacedonia\", \"Norway\", \"Oman\", \"Pakistan\", \"Palestine\", \"Panama\", \"PapuaNewGuinea\", \"Paraguay\", \"Peru\", \"Philippines\", \"Poland\", \"Portugal\", \"Qatar\", \"Romania\", \"Russia\", \"Rwanda\", \"R\\u00e9union\", \"S.Korea\", \"SaintKittsandNevis\", \"SaintLucia\", \"SaintMartin\", \"SaintPierreMiquelon\", \"SanMarino\", \"SaoTomeandPrincipe\", \"SaudiArabia\", \"Senegal\", \"Serbia\", \"Seychelles\", \"SierraLeone\", \"Singapore\", \"SintMaarten\", \"Slovakia\", \"Slovenia\", \"Somalia\", \"SouthAfrica\", \"SouthSudan\", \"Spain\", \"SriLanka\", \"St.Barth\", \"St.VincentGrenadines\", \"Sudan\", \"Suriname\", \"Sweden\", \"Switzerland\", \"Syria\", \"Taiwan\", \"Tanzania\", \"Thailand\", \"Timor-Leste\", \"Togo\", \"TrinidadandTobago\", \"Tunisia\", \"Turkey\", \"TurksandCaicos\", \"UAE\", \"UK\", \"USA\", \"Uganda\", \"Ukraine\", \"Uruguay\", \"Uzbekistan\", \"VaticanCity\", \"Venezuela\", \"Vietnam\", \"WesternSahara\", \"Zambia\", \"Zimbabwe\"], \"locationmode\": \"country names\", \"locations\": [\"Afghanistan\", \"Albania\", \"Algeria\", \"Andorra\", \"Angola\", \"Anguilla\", \"AntiguaandBarbuda\", \"Argentina\", \"Armenia\", \"Aruba\", \"Australia\", \"Austria\", \"Azerbaijan\", \"Bahamas\", \"Bahrain\", \"Bangladesh\", \"Barbados\", \"Belarus\", \"Belgium\", \"Belize\", \"Benin\", \"Bermuda\", \"Bhutan\", \"Bolivia\", \"BosniaandHerzegovina\", \"Botswana\", \"Brazil\", \"BritishVirginIslands\", \"Brunei\", \"Bulgaria\", \"BurkinaFaso\", \"Burundi\", \"CAR\", \"CaboVerde\", \"Cambodia\", \"Cameroon\", \"Canada\", \"CaribbeanNetherlands\", \"CaymanIslands\", \"Chad\", \"ChannelIslands\", \"Chile\", \"China\", \"Colombia\", \"Congo\", \"CostaRica\", \"Croatia\", \"Cuba\", \"Cura\\u00e7ao\", \"Cyprus\", \"Czechia\", \"DRC\", \"Denmark\", \"DiamondPrincess\", \"Djibouti\", \"Dominica\", \"DominicanRepublic\", \"Ecuador\", \"Egypt\", \"ElSalvador\", \"EquatorialGuinea\", \"Eritrea\", \"Estonia\", \"Eswatini\", \"Ethiopia\", \"FaeroeIslands\", \"FalklandIslands\", \"Fiji\", \"Finland\", \"France\", \"FrenchGuiana\", \"FrenchPolynesia\", \"Gabon\", \"Gambia\", \"Georgia\", \"Germany\", \"Ghana\", \"Gibraltar\", \"Greece\", \"Greenland\", \"Grenada\", \"Guadeloupe\", \"Guatemala\", \"Guinea\", \"Guinea-Bissau\", \"Guyana\", \"Haiti\", \"Honduras\", \"HongKong\", \"Hungary\", \"Iceland\", \"India\", \"Indonesia\", \"Iran\", \"Iraq\", \"Ireland\", \"IsleofMan\", \"Israel\", \"Italy\", \"IvoryCoast\", \"Jamaica\", \"Japan\", \"Jordan\", \"Kazakhstan\", \"Kenya\", \"Kuwait\", \"Kyrgyzstan\", \"Laos\", \"Latvia\", \"Lebanon\", \"Liberia\", \"Libya\", \"Liechtenstein\", \"Lithuania\", \"Luxembourg\", \"MSZaandam\", \"Macao\", \"Madagascar\", \"Malawi\", \"Malaysia\", \"Maldives\", \"Mali\", \"Malta\", \"Martinique\", \"Mauritania\", \"Mauritius\", \"Mayotte\", \"Mexico\", \"Moldova\", \"Monaco\", \"Mongolia\", \"Montenegro\", \"Montserrat\", \"Morocco\", \"Mozambique\", \"Myanmar\", \"Namibia\", \"Nepal\", \"Netherlands\", \"NewCaledonia\", \"NewZealand\", \"Nicaragua\", \"Niger\", \"Nigeria\", \"NorthMacedonia\", \"Norway\", \"Oman\", \"Pakistan\", \"Palestine\", \"Panama\", \"PapuaNewGuinea\", \"Paraguay\", \"Peru\", \"Philippines\", \"Poland\", \"Portugal\", \"Qatar\", \"Romania\", \"Russia\", \"Rwanda\", \"R\\u00e9union\", \"S.Korea\", \"SaintKittsandNevis\", \"SaintLucia\", \"SaintMartin\", \"SaintPierreMiquelon\", \"SanMarino\", \"SaoTomeandPrincipe\", \"SaudiArabia\", \"Senegal\", \"Serbia\", \"Seychelles\", \"SierraLeone\", \"Singapore\", \"SintMaarten\", \"Slovakia\", \"Slovenia\", \"Somalia\", \"SouthAfrica\", \"SouthSudan\", \"Spain\", \"SriLanka\", \"St.Barth\", \"St.VincentGrenadines\", \"Sudan\", \"Suriname\", \"Sweden\", \"Switzerland\", \"Syria\", \"Taiwan\", \"Tanzania\", \"Thailand\", \"Timor-Leste\", \"Togo\", \"TrinidadandTobago\", \"Tunisia\", \"Turkey\", \"TurksandCaicos\", \"UAE\", \"UK\", \"USA\", \"Uganda\", \"Ukraine\", \"Uruguay\", \"Uzbekistan\", \"VaticanCity\", \"Venezuela\", \"Vietnam\", \"WesternSahara\", \"Zambia\", \"Zimbabwe\"], \"name\": \"\", \"type\": \"choropleth\", \"z\": [391, 224, 1162, 484, 13, 3, 17, 1317, 758, 60, 3150, 8067, 665, 25, 349, 165, 54, 976, 16482, 6, 20, 20, 3, 193, 684, 5, 13326, 3, 43, 516, 238, 3, 8, 5, 54, 616, 13488, 2, 38, 8, 294, 4175, 1190, 1630, 38, 457, 1145, 358, 5, 438, 4761, 153, 3547, 82, 110, 14, 1822, 3635, 1080, 79, 13, 31, 1089, 6, 49, 53, 2, 15, 2147, 79404, 43, 47, 28, 1, 157, 69566, 251, 53, 1482, 1, 12, 101, 60, 139, 33, 20, 24, 284, 693, 743, 1021, 4848, 2494, 33554, 684, 5474, 77, 8531, 94067, 305, 51, 3542, 209, 648, 164, 743, 233, 15, 559, 494, 8, 18, 22, 889, 2426, 7, 35, 82, 7, 2567, 6, 39, 294, 98, 3, 253, 147, 2011, 992, 74, 12, 242, 9, 1054, 9, 19, 13, 8, 18051, 17, 927, 5, 241, 204, 553, 5961, 345, 3547, 218, 2174, 2, 99, 1546, 3592, 4642, 12565, 2026, 4023, 8029, 98, 318, 3408, 11, 13, 23, 1, 205, 4, 2276, 130, 2483, 11, 7, 1211, 33, 566, 931, 7, 1641, 2, 84114, 140, 5, 7, 10, 6, 7527, 13227, 14, 307, 18, 1451, 1, 39, 98, 575, 31802, 7, 2161, 48948, 365981, 52, 1581, 267, 512, 7, 94, 125, 4, 31, 9]}],\n",
       "                        {\"coloraxis\": {\"cmax\": 10000, \"cmin\": 1, \"colorbar\": {\"title\": {\"text\": \"ActiveCases\"}}, \"colorscale\": [[0.0, \"rgb(255,247,236)\"], [0.125, \"rgb(254,232,200)\"], [0.25, \"rgb(253,212,158)\"], [0.375, \"rgb(253,187,132)\"], [0.5, \"rgb(252,141,89)\"], [0.625, \"rgb(239,101,72)\"], [0.75, \"rgb(215,48,31)\"], [0.875, \"rgb(179,0,0)\"], [1.0, \"rgb(127,0,0)\"]]}, \"geo\": {\"center\": {}, \"domain\": {\"x\": [0.0, 1.0], \"y\": [0.0, 1.0]}}, \"legend\": {\"tracegroupgap\": 0}, \"template\": {\"data\": {\"bar\": [{\"error_x\": {\"color\": \"#2a3f5f\"}, \"error_y\": {\"color\": \"#2a3f5f\"}, \"marker\": {\"line\": {\"color\": \"#E5ECF6\", \"width\": 0.5}}, \"type\": \"bar\"}], \"barpolar\": [{\"marker\": {\"line\": {\"color\": \"#E5ECF6\", \"width\": 0.5}}, \"type\": \"barpolar\"}], \"carpet\": [{\"aaxis\": {\"endlinecolor\": \"#2a3f5f\", \"gridcolor\": \"white\", \"linecolor\": \"white\", \"minorgridcolor\": \"white\", \"startlinecolor\": \"#2a3f5f\"}, \"baxis\": {\"endlinecolor\": \"#2a3f5f\", \"gridcolor\": \"white\", \"linecolor\": \"white\", \"minorgridcolor\": \"white\", \"startlinecolor\": \"#2a3f5f\"}, \"type\": \"carpet\"}], \"choropleth\": [{\"colorbar\": {\"outlinewidth\": 0, \"ticks\": \"\"}, \"type\": \"choropleth\"}], \"contour\": [{\"colorbar\": {\"outlinewidth\": 0, \"ticks\": \"\"}, \"colorscale\": [[0.0, \"#0d0887\"], [0.1111111111111111, \"#46039f\"], [0.2222222222222222, \"#7201a8\"], [0.3333333333333333, \"#9c179e\"], [0.4444444444444444, \"#bd3786\"], [0.5555555555555556, \"#d8576b\"], [0.6666666666666666, \"#ed7953\"], [0.7777777777777778, \"#fb9f3a\"], [0.8888888888888888, \"#fdca26\"], [1.0, \"#f0f921\"]], \"type\": \"contour\"}], \"contourcarpet\": [{\"colorbar\": {\"outlinewidth\": 0, \"ticks\": \"\"}, \"type\": \"contourcarpet\"}], \"heatmap\": [{\"colorbar\": {\"outlinewidth\": 0, \"ticks\": \"\"}, \"colorscale\": [[0.0, \"#0d0887\"], [0.1111111111111111, \"#46039f\"], [0.2222222222222222, \"#7201a8\"], [0.3333333333333333, \"#9c179e\"], [0.4444444444444444, \"#bd3786\"], [0.5555555555555556, \"#d8576b\"], [0.6666666666666666, \"#ed7953\"], [0.7777777777777778, \"#fb9f3a\"], [0.8888888888888888, \"#fdca26\"], [1.0, \"#f0f921\"]], \"type\": \"heatmap\"}], \"heatmapgl\": [{\"colorbar\": {\"outlinewidth\": 0, \"ticks\": \"\"}, \"colorscale\": [[0.0, \"#0d0887\"], [0.1111111111111111, \"#46039f\"], [0.2222222222222222, \"#7201a8\"], [0.3333333333333333, \"#9c179e\"], [0.4444444444444444, \"#bd3786\"], [0.5555555555555556, \"#d8576b\"], [0.6666666666666666, \"#ed7953\"], [0.7777777777777778, \"#fb9f3a\"], [0.8888888888888888, \"#fdca26\"], [1.0, \"#f0f921\"]], \"type\": \"heatmapgl\"}], \"histogram\": [{\"marker\": {\"colorbar\": {\"outlinewidth\": 0, \"ticks\": \"\"}}, \"type\": \"histogram\"}], \"histogram2d\": [{\"colorbar\": {\"outlinewidth\": 0, \"ticks\": \"\"}, \"colorscale\": [[0.0, \"#0d0887\"], [0.1111111111111111, \"#46039f\"], [0.2222222222222222, \"#7201a8\"], [0.3333333333333333, \"#9c179e\"], [0.4444444444444444, \"#bd3786\"], [0.5555555555555556, \"#d8576b\"], [0.6666666666666666, \"#ed7953\"], [0.7777777777777778, \"#fb9f3a\"], [0.8888888888888888, \"#fdca26\"], [1.0, \"#f0f921\"]], \"type\": \"histogram2d\"}], \"histogram2dcontour\": [{\"colorbar\": {\"outlinewidth\": 0, \"ticks\": \"\"}, \"colorscale\": [[0.0, \"#0d0887\"], [0.1111111111111111, \"#46039f\"], [0.2222222222222222, \"#7201a8\"], [0.3333333333333333, \"#9c179e\"], [0.4444444444444444, \"#bd3786\"], [0.5555555555555556, \"#d8576b\"], [0.6666666666666666, \"#ed7953\"], [0.7777777777777778, \"#fb9f3a\"], [0.8888888888888888, \"#fdca26\"], [1.0, \"#f0f921\"]], \"type\": \"histogram2dcontour\"}], \"mesh3d\": [{\"colorbar\": {\"outlinewidth\": 0, \"ticks\": \"\"}, \"type\": \"mesh3d\"}], \"parcoords\": [{\"line\": {\"colorbar\": {\"outlinewidth\": 0, \"ticks\": \"\"}}, \"type\": \"parcoords\"}], \"pie\": [{\"automargin\": true, \"type\": \"pie\"}], \"scatter\": [{\"marker\": {\"colorbar\": {\"outlinewidth\": 0, \"ticks\": \"\"}}, \"type\": \"scatter\"}], \"scatter3d\": [{\"line\": {\"colorbar\": {\"outlinewidth\": 0, \"ticks\": \"\"}}, \"marker\": {\"colorbar\": {\"outlinewidth\": 0, \"ticks\": \"\"}}, \"type\": \"scatter3d\"}], \"scattercarpet\": [{\"marker\": {\"colorbar\": {\"outlinewidth\": 0, \"ticks\": \"\"}}, \"type\": \"scattercarpet\"}], \"scattergeo\": [{\"marker\": {\"colorbar\": {\"outlinewidth\": 0, \"ticks\": \"\"}}, \"type\": \"scattergeo\"}], \"scattergl\": [{\"marker\": {\"colorbar\": {\"outlinewidth\": 0, \"ticks\": \"\"}}, \"type\": \"scattergl\"}], \"scattermapbox\": [{\"marker\": {\"colorbar\": {\"outlinewidth\": 0, \"ticks\": \"\"}}, \"type\": \"scattermapbox\"}], \"scatterpolar\": [{\"marker\": {\"colorbar\": {\"outlinewidth\": 0, \"ticks\": \"\"}}, \"type\": \"scatterpolar\"}], \"scatterpolargl\": [{\"marker\": {\"colorbar\": {\"outlinewidth\": 0, \"ticks\": \"\"}}, \"type\": \"scatterpolargl\"}], \"scatterternary\": [{\"marker\": {\"colorbar\": {\"outlinewidth\": 0, \"ticks\": \"\"}}, \"type\": \"scatterternary\"}], \"surface\": [{\"colorbar\": {\"outlinewidth\": 0, \"ticks\": \"\"}, \"colorscale\": [[0.0, \"#0d0887\"], [0.1111111111111111, \"#46039f\"], [0.2222222222222222, \"#7201a8\"], [0.3333333333333333, \"#9c179e\"], [0.4444444444444444, \"#bd3786\"], [0.5555555555555556, \"#d8576b\"], [0.6666666666666666, \"#ed7953\"], [0.7777777777777778, \"#fb9f3a\"], [0.8888888888888888, \"#fdca26\"], [1.0, \"#f0f921\"]], \"type\": \"surface\"}], \"table\": [{\"cells\": {\"fill\": {\"color\": \"#EBF0F8\"}, \"line\": {\"color\": \"white\"}}, \"header\": {\"fill\": {\"color\": \"#C8D4E3\"}, \"line\": {\"color\": \"white\"}}, \"type\": \"table\"}]}, \"layout\": {\"annotationdefaults\": {\"arrowcolor\": \"#2a3f5f\", \"arrowhead\": 0, \"arrowwidth\": 1}, \"coloraxis\": {\"colorbar\": {\"outlinewidth\": 0, \"ticks\": \"\"}}, \"colorscale\": {\"diverging\": [[0, \"#8e0152\"], [0.1, \"#c51b7d\"], [0.2, \"#de77ae\"], [0.3, \"#f1b6da\"], [0.4, \"#fde0ef\"], [0.5, \"#f7f7f7\"], [0.6, \"#e6f5d0\"], [0.7, \"#b8e186\"], [0.8, \"#7fbc41\"], [0.9, \"#4d9221\"], [1, \"#276419\"]], \"sequential\": [[0.0, \"#0d0887\"], [0.1111111111111111, \"#46039f\"], [0.2222222222222222, \"#7201a8\"], [0.3333333333333333, \"#9c179e\"], [0.4444444444444444, \"#bd3786\"], [0.5555555555555556, \"#d8576b\"], [0.6666666666666666, \"#ed7953\"], [0.7777777777777778, \"#fb9f3a\"], [0.8888888888888888, \"#fdca26\"], [1.0, \"#f0f921\"]], \"sequentialminus\": [[0.0, \"#0d0887\"], [0.1111111111111111, \"#46039f\"], [0.2222222222222222, \"#7201a8\"], [0.3333333333333333, \"#9c179e\"], [0.4444444444444444, \"#bd3786\"], [0.5555555555555556, \"#d8576b\"], [0.6666666666666666, \"#ed7953\"], [0.7777777777777778, \"#fb9f3a\"], [0.8888888888888888, \"#fdca26\"], [1.0, \"#f0f921\"]]}, \"colorway\": [\"#636efa\", \"#EF553B\", \"#00cc96\", \"#ab63fa\", \"#FFA15A\", \"#19d3f3\", \"#FF6692\", \"#B6E880\", \"#FF97FF\", \"#FECB52\"], \"font\": {\"color\": \"#2a3f5f\"}, \"geo\": {\"bgcolor\": \"white\", \"lakecolor\": \"white\", \"landcolor\": \"#E5ECF6\", \"showlakes\": true, \"showland\": true, \"subunitcolor\": \"white\"}, \"hoverlabel\": {\"align\": \"left\"}, \"hovermode\": \"closest\", \"mapbox\": {\"style\": \"light\"}, \"paper_bgcolor\": \"white\", \"plot_bgcolor\": \"#E5ECF6\", \"polar\": {\"angularaxis\": {\"gridcolor\": \"white\", \"linecolor\": \"white\", \"ticks\": \"\"}, \"bgcolor\": \"#E5ECF6\", \"radialaxis\": {\"gridcolor\": \"white\", \"linecolor\": \"white\", \"ticks\": \"\"}}, \"scene\": {\"xaxis\": {\"backgroundcolor\": \"#E5ECF6\", \"gridcolor\": \"white\", \"gridwidth\": 2, \"linecolor\": \"white\", \"showbackground\": true, \"ticks\": \"\", \"zerolinecolor\": \"white\"}, \"yaxis\": {\"backgroundcolor\": \"#E5ECF6\", \"gridcolor\": \"white\", \"gridwidth\": 2, \"linecolor\": \"white\", \"showbackground\": true, \"ticks\": \"\", \"zerolinecolor\": \"white\"}, \"zaxis\": {\"backgroundcolor\": \"#E5ECF6\", \"gridcolor\": \"white\", \"gridwidth\": 2, \"linecolor\": \"white\", \"showbackground\": true, \"ticks\": \"\", \"zerolinecolor\": \"white\"}}, \"shapedefaults\": {\"line\": {\"color\": \"#2a3f5f\"}}, \"ternary\": {\"aaxis\": {\"gridcolor\": \"white\", \"linecolor\": \"white\", \"ticks\": \"\"}, \"baxis\": {\"gridcolor\": \"white\", \"linecolor\": \"white\", \"ticks\": \"\"}, \"bgcolor\": \"#E5ECF6\", \"caxis\": {\"gridcolor\": \"white\", \"linecolor\": \"white\", \"ticks\": \"\"}}, \"title\": {\"x\": 0.05}, \"xaxis\": {\"automargin\": true, \"gridcolor\": \"white\", \"linecolor\": \"white\", \"ticks\": \"\", \"title\": {\"standoff\": 15}, \"zerolinecolor\": \"white\", \"zerolinewidth\": 2}, \"yaxis\": {\"automargin\": true, \"gridcolor\": \"white\", \"linecolor\": \"white\", \"ticks\": \"\", \"title\": {\"standoff\": 15}, \"zerolinecolor\": \"white\", \"zerolinewidth\": 2}}}, \"title\": {\"text\": \"Countries with Active Cases\"}},\n",
       "                        {\"responsive\": true}\n",
       "                    ).then(function(){\n",
       "                            \n",
       "var gd = document.getElementById('352c8b9d-aba9-4b0b-a0f7-baf5a152f30e');\n",
       "var x = new MutationObserver(function (mutations, observer) {{\n",
       "        var display = window.getComputedStyle(gd).display;\n",
       "        if (!display || display === 'none') {{\n",
       "            console.log([gd, 'removed!']);\n",
       "            Plotly.purge(gd);\n",
       "            observer.disconnect();\n",
       "        }}\n",
       "}});\n",
       "\n",
       "// Listen for the removal of the full notebook cells\n",
       "var notebookContainer = gd.closest('#notebook-container');\n",
       "if (notebookContainer) {{\n",
       "    x.observe(notebookContainer, {childList: true});\n",
       "}}\n",
       "\n",
       "// Listen for the clearing of the current output cell\n",
       "var outputEl = gd.closest('.output');\n",
       "if (outputEl) {{\n",
       "    x.observe(outputEl, {childList: true});\n",
       "}}\n",
       "\n",
       "                        })\n",
       "                };\n",
       "                });\n",
       "            </script>\n",
       "        </div>"
      ]
     },
     "metadata": {},
     "output_type": "display_data"
    }
   ],
   "source": [
    "world=corona_df.groupby(\"Country,Other\")[\"TotalCases\",\"ActiveCases\",\"TotalDeaths\"].sum().reset_index()\n",
    "\n",
    "figure = px.choropleth(world, locations=\"Country,Other\",\n",
    "                      locationmode='country names',color=\"ActiveCases\",\n",
    "                      hover_name='Country,Other',range_color=[1,10000],\n",
    "                      color_continuous_scale=\"orrd\",\n",
    "                      title='Countries with Active Cases') \n",
    "figure.show()"
   ]
  },
  {
   "cell_type": "markdown",
   "metadata": {},
   "source": [
    "Active Cases observations :\n",
    "\n",
    "1) Most of the countries have crossed the 10000 Acive cases per country, while some of them can control the spread of the virus and have kept it under 1000.\n",
    "\n",
    "2) China is one of the only nations which has been decreasing the active number of cases\n",
    "\n",
    "3) But in some other nations like the US, Italy, Spain, France,and most important ISRAEL, the number of active cases is rising rapidly"
   ]
  },
  {
   "cell_type": "markdown",
   "metadata": {},
   "source": [
    "### Total Death spread worldwide"
   ]
  },
  {
   "cell_type": "code",
   "execution_count": 101,
   "metadata": {},
   "outputs": [
    {
     "data": {
      "application/vnd.plotly.v1+json": {
       "config": {
        "plotlyServerURL": "https://plot.ly"
       },
       "data": [
        {
         "geo": "geo",
         "hoverlabel": {
          "namelength": 0
         },
         "hovertemplate": "<b>%{hovertext}</b><br><br>size=%{marker.size}<br>Country,Other=%{location}<br>TotalDeaths=%{marker.color}",
         "hovertext": [
          "Afghanistan",
          "Albania",
          "Algeria",
          "Andorra",
          "Angola",
          "Anguilla",
          "AntiguaandBarbuda",
          "Argentina",
          "Armenia",
          "Aruba",
          "Australia",
          "Austria",
          "Azerbaijan",
          "Bahamas",
          "Bahrain",
          "Bangladesh",
          "Barbados",
          "Belarus",
          "Belgium",
          "Belize",
          "Benin",
          "Bermuda",
          "Bhutan",
          "Bolivia",
          "BosniaandHerzegovina",
          "Botswana",
          "Brazil",
          "BritishVirginIslands",
          "Brunei",
          "Bulgaria",
          "BurkinaFaso",
          "Burundi",
          "CAR",
          "CaboVerde",
          "Cambodia",
          "Cameroon",
          "Canada",
          "CaribbeanNetherlands",
          "CaymanIslands",
          "Chad",
          "ChannelIslands",
          "Chile",
          "China",
          "Colombia",
          "Congo",
          "CostaRica",
          "Croatia",
          "Cuba",
          "Curaçao",
          "Cyprus",
          "Czechia",
          "DRC",
          "Denmark",
          "DiamondPrincess",
          "Djibouti",
          "Dominica",
          "DominicanRepublic",
          "Ecuador",
          "Egypt",
          "ElSalvador",
          "EquatorialGuinea",
          "Eritrea",
          "Estonia",
          "Eswatini",
          "Ethiopia",
          "FaeroeIslands",
          "FalklandIslands",
          "Fiji",
          "Finland",
          "France",
          "FrenchGuiana",
          "FrenchPolynesia",
          "Gabon",
          "Gambia",
          "Georgia",
          "Germany",
          "Ghana",
          "Gibraltar",
          "Greece",
          "Greenland",
          "Grenada",
          "Guadeloupe",
          "Guatemala",
          "Guinea",
          "Guinea-Bissau",
          "Guyana",
          "Haiti",
          "Honduras",
          "HongKong",
          "Hungary",
          "Iceland",
          "India",
          "Indonesia",
          "Iran",
          "Iraq",
          "Ireland",
          "IsleofMan",
          "Israel",
          "Italy",
          "IvoryCoast",
          "Jamaica",
          "Japan",
          "Jordan",
          "Kazakhstan",
          "Kenya",
          "Kuwait",
          "Kyrgyzstan",
          "Laos",
          "Latvia",
          "Lebanon",
          "Liberia",
          "Libya",
          "Liechtenstein",
          "Lithuania",
          "Luxembourg",
          "MSZaandam",
          "Macao",
          "Madagascar",
          "Malawi",
          "Malaysia",
          "Maldives",
          "Mali",
          "Malta",
          "Martinique",
          "Mauritania",
          "Mauritius",
          "Mayotte",
          "Mexico",
          "Moldova",
          "Monaco",
          "Mongolia",
          "Montenegro",
          "Montserrat",
          "Morocco",
          "Mozambique",
          "Myanmar",
          "Namibia",
          "Nepal",
          "Netherlands",
          "NewCaledonia",
          "NewZealand",
          "Nicaragua",
          "Niger",
          "Nigeria",
          "NorthMacedonia",
          "Norway",
          "Oman",
          "Pakistan",
          "Palestine",
          "Panama",
          "PapuaNewGuinea",
          "Paraguay",
          "Peru",
          "Philippines",
          "Poland",
          "Portugal",
          "Qatar",
          "Romania",
          "Russia",
          "Rwanda",
          "Réunion",
          "S.Korea",
          "SaintKittsandNevis",
          "SaintLucia",
          "SaintMartin",
          "SaintPierreMiquelon",
          "SanMarino",
          "SaoTomeandPrincipe",
          "SaudiArabia",
          "Senegal",
          "Serbia",
          "Seychelles",
          "SierraLeone",
          "Singapore",
          "SintMaarten",
          "Slovakia",
          "Slovenia",
          "Somalia",
          "SouthAfrica",
          "SouthSudan",
          "Spain",
          "SriLanka",
          "St.Barth",
          "St.VincentGrenadines",
          "Sudan",
          "Suriname",
          "Sweden",
          "Switzerland",
          "Syria",
          "Taiwan",
          "Tanzania",
          "Thailand",
          "Timor-Leste",
          "Togo",
          "TrinidadandTobago",
          "Tunisia",
          "Turkey",
          "TurksandCaicos",
          "UAE",
          "UK",
          "USA",
          "Uganda",
          "Ukraine",
          "Uruguay",
          "Uzbekistan",
          "VaticanCity",
          "Venezuela",
          "Vietnam",
          "WesternSahara",
          "Zambia",
          "Zimbabwe"
         ],
         "legendgroup": "",
         "locationmode": "country names",
         "locations": [
          "Afghanistan",
          "Albania",
          "Algeria",
          "Andorra",
          "Angola",
          "Anguilla",
          "AntiguaandBarbuda",
          "Argentina",
          "Armenia",
          "Aruba",
          "Australia",
          "Austria",
          "Azerbaijan",
          "Bahamas",
          "Bahrain",
          "Bangladesh",
          "Barbados",
          "Belarus",
          "Belgium",
          "Belize",
          "Benin",
          "Bermuda",
          "Bhutan",
          "Bolivia",
          "BosniaandHerzegovina",
          "Botswana",
          "Brazil",
          "BritishVirginIslands",
          "Brunei",
          "Bulgaria",
          "BurkinaFaso",
          "Burundi",
          "CAR",
          "CaboVerde",
          "Cambodia",
          "Cameroon",
          "Canada",
          "CaribbeanNetherlands",
          "CaymanIslands",
          "Chad",
          "ChannelIslands",
          "Chile",
          "China",
          "Colombia",
          "Congo",
          "CostaRica",
          "Croatia",
          "Cuba",
          "Curaçao",
          "Cyprus",
          "Czechia",
          "DRC",
          "Denmark",
          "DiamondPrincess",
          "Djibouti",
          "Dominica",
          "DominicanRepublic",
          "Ecuador",
          "Egypt",
          "ElSalvador",
          "EquatorialGuinea",
          "Eritrea",
          "Estonia",
          "Eswatini",
          "Ethiopia",
          "FaeroeIslands",
          "FalklandIslands",
          "Fiji",
          "Finland",
          "France",
          "FrenchGuiana",
          "FrenchPolynesia",
          "Gabon",
          "Gambia",
          "Georgia",
          "Germany",
          "Ghana",
          "Gibraltar",
          "Greece",
          "Greenland",
          "Grenada",
          "Guadeloupe",
          "Guatemala",
          "Guinea",
          "Guinea-Bissau",
          "Guyana",
          "Haiti",
          "Honduras",
          "HongKong",
          "Hungary",
          "Iceland",
          "India",
          "Indonesia",
          "Iran",
          "Iraq",
          "Ireland",
          "IsleofMan",
          "Israel",
          "Italy",
          "IvoryCoast",
          "Jamaica",
          "Japan",
          "Jordan",
          "Kazakhstan",
          "Kenya",
          "Kuwait",
          "Kyrgyzstan",
          "Laos",
          "Latvia",
          "Lebanon",
          "Liberia",
          "Libya",
          "Liechtenstein",
          "Lithuania",
          "Luxembourg",
          "MSZaandam",
          "Macao",
          "Madagascar",
          "Malawi",
          "Malaysia",
          "Maldives",
          "Mali",
          "Malta",
          "Martinique",
          "Mauritania",
          "Mauritius",
          "Mayotte",
          "Mexico",
          "Moldova",
          "Monaco",
          "Mongolia",
          "Montenegro",
          "Montserrat",
          "Morocco",
          "Mozambique",
          "Myanmar",
          "Namibia",
          "Nepal",
          "Netherlands",
          "NewCaledonia",
          "NewZealand",
          "Nicaragua",
          "Niger",
          "Nigeria",
          "NorthMacedonia",
          "Norway",
          "Oman",
          "Pakistan",
          "Palestine",
          "Panama",
          "PapuaNewGuinea",
          "Paraguay",
          "Peru",
          "Philippines",
          "Poland",
          "Portugal",
          "Qatar",
          "Romania",
          "Russia",
          "Rwanda",
          "Réunion",
          "S.Korea",
          "SaintKittsandNevis",
          "SaintLucia",
          "SaintMartin",
          "SaintPierreMiquelon",
          "SanMarino",
          "SaoTomeandPrincipe",
          "SaudiArabia",
          "Senegal",
          "Serbia",
          "Seychelles",
          "SierraLeone",
          "Singapore",
          "SintMaarten",
          "Slovakia",
          "Slovenia",
          "Somalia",
          "SouthAfrica",
          "SouthSudan",
          "Spain",
          "SriLanka",
          "St.Barth",
          "St.VincentGrenadines",
          "Sudan",
          "Suriname",
          "Sweden",
          "Switzerland",
          "Syria",
          "Taiwan",
          "Tanzania",
          "Thailand",
          "Timor-Leste",
          "Togo",
          "TrinidadandTobago",
          "Tunisia",
          "Turkey",
          "TurksandCaicos",
          "UAE",
          "UK",
          "USA",
          "Uganda",
          "Ukraine",
          "Uruguay",
          "Uzbekistan",
          "VaticanCity",
          "Venezuela",
          "Vietnam",
          "WesternSahara",
          "Zambia",
          "Zimbabwe"
         ],
         "marker": {
          "color": [
           14,
           22,
           193,
           22,
           2,
           0,
           2,
           60,
           9,
           0,
           50,
           273,
           8,
           6,
           5,
           20,
           3,
           13,
           2240,
           1,
           1,
           2,
           0,
           15,
           33,
           1,
           699,
           0,
           1,
           23,
           19,
           0,
           0,
           1,
           0,
           9,
           381,
           0,
           1,
           0,
           7,
           43,
           3333,
           50,
           5,
           2,
           19,
           11,
           1,
           9,
           91,
           18,
           218,
           11,
           0,
           0,
           98,
           220,
           94,
           5,
           0,
           0,
           24,
           0,
           2,
           0,
           0,
           0,
           40,
           10328,
           0,
           0,
           1,
           1,
           3,
           2016,
           5,
           0,
           81,
           0,
           0,
           7,
           3,
           0,
           0,
           5,
           1,
           22,
           4,
           58,
           6,
           164,
           240,
           3993,
           65,
           210,
           1,
           72,
           17127,
           3,
           3,
           93,
           6,
           7,
           6,
           1,
           4,
           0,
           2,
           19,
           3,
           1,
           1,
           15,
           44,
           2,
           0,
           0,
           1,
           65,
           0,
           5,
           0,
           4,
           1,
           7,
           2,
           141,
           24,
           1,
           0,
           2,
           0,
           91,
           0,
           3,
           0,
           0,
           2248,
           0,
           1,
           1,
           11,
           6,
           29,
           93,
           2,
           58,
           1,
           59,
           0,
           5,
           107,
           182,
           136,
           380,
           6,
           210,
           63,
           0,
           0,
           200,
           0,
           0,
           2,
           0,
           34,
           0,
           41,
           2,
           65,
           0,
           0,
           6,
           6,
           2,
           40,
           0,
           13,
           0,
           14555,
           6,
           0,
           0,
           2,
           1,
           687,
           858,
           2,
           5,
           1,
           30,
           0,
           3,
           8,
           23,
           725,
           1,
           12,
           6159,
           12857,
           0,
           52,
           7,
           3,
           0,
           7,
           0,
           0,
           1,
           2
          ],
          "coloraxis": "coloraxis",
          "size": [
           1.6952182030724354,
           1.8556007362580844,
           2.864913156331122,
           1.8556007362580844,
           1.148698354997035,
           0,
           1.148698354997035,
           2.2679331552660544,
           1.5518455739153598,
           0,
           2.1867241478865562,
           3.0706656402862578,
           1.5157165665103982,
           1.4309690811052556,
           1.379729661461215,
           1.8205642030260802,
           1.2457309396155174,
           1.6702776523348104,
           4.677885674856041,
           1,
           1,
           1.148698354997035,
           0,
           1.7187719275874789,
           2.0123466170855586,
           1,
           3.7059148392612755,
           0,
           1,
           1.8721712305548575,
           1.8019831273171423,
           0,
           0,
           1,
           0,
           1.5518455739153598,
           3.2823508066443083,
           0,
           1,
           0,
           1.4757731615945522,
           2.121747460841898,
           5.064855537932152,
           2.1867241478865562,
           1.379729661461215,
           1.148698354997035,
           1.8019831273171423,
           1.615394266202178,
           1,
           1.5518455739153598,
           2.4649509317268694,
           1.7826024579660034,
           2.935562280333508,
           1.615394266202178,
           0,
           0,
           2.5017575271408434,
           2.940928974821268,
           2.480993181587069,
           1.379729661461215,
           0,
           0,
           1.888175022589804,
           0,
           1.148698354997035,
           0,
           0,
           0,
           2.0912791051825463,
           6.350431647034552,
           0,
           0,
           1,
           1,
           1.2457309396155174,
           4.580344097847165,
           1.379729661461215,
           0,
           2.4082246852806923,
           0,
           0,
           1.4757731615945522,
           1.2457309396155174,
           0,
           0,
           1.379729661461215,
           1,
           1.8556007362580844,
           1.3195079107728942,
           2.2526078784323254,
           1.4309690811052556,
           2.773120680622141,
           2.9925557394776896,
           5.251215750992822,
           2.3045316198021406,
           2.913693458576192,
           1,
           2.352158045049347,
           7.026454843414029,
           1.2457309396155174,
           1.2457309396155174,
           2.4756918656443667,
           1.4309690811052556,
           1.4757731615945522,
           1.4309690811052556,
           1,
           1.3195079107728942,
           0,
           1.148698354997035,
           1.8019831273171423,
           1.2457309396155174,
           1,
           1,
           1.7187719275874789,
           2.1315255132709487,
           1.148698354997035,
           0,
           0,
           1,
           2.3045316198021406,
           0,
           1.379729661461215,
           0,
           1.3195079107728942,
           1,
           1.4757731615945522,
           1.148698354997035,
           2.6905670699651423,
           1.888175022589804,
           1,
           0,
           1.148698354997035,
           0,
           2.4649509317268694,
           0,
           1.2457309396155174,
           0,
           0,
           4.681222258617034,
           0,
           1,
           1,
           1.615394266202178,
           1.4309690811052556,
           1.961009057454548,
           2.4756918656443667,
           1.148698354997035,
           2.2526078784323254,
           1,
           2.2603224696268156,
           0,
           1.379729661461215,
           2.5461076134379654,
           2.8314850804230636,
           2.6712084610391402,
           3.280625976050577,
           1.4309690811052556,
           2.913693458576192,
           2.2901720489235826,
           0,
           0,
           2.8853998118144273,
           0,
           0,
           1.148698354997035,
           0,
           2.024397458499885,
           0,
           2.1016324782757847,
           1.148698354997035,
           2.3045316198021406,
           0,
           0,
           1.4309690811052556,
           1.4309690811052556,
           1.148698354997035,
           2.0912791051825463,
           0,
           1.6702776523348104,
           0,
           6.8014645992681055,
           1.4309690811052556,
           0,
           0,
           1.148698354997035,
           1,
           3.693102380885068,
           3.860979160754658,
           1.148698354997035,
           1.379729661461215,
           1,
           1.97435048583482,
           0,
           1.2457309396155174,
           1.5157165665103982,
           1.8721712305548575,
           3.7330826160808632,
           1,
           1.6437518295172258,
           5.726668460541897,
           6.634801417638622,
           0,
           2.2039445754429603,
           1.4757731615945522,
           1.2457309396155174,
           0,
           1.4757731615945522,
           0,
           0,
           1,
           1.148698354997035
          ],
          "sizemode": "area",
          "sizeref": 0.017566137108535072
         },
         "name": "",
         "showlegend": false,
         "type": "scattergeo"
        }
       ],
       "layout": {
        "coloraxis": {
         "colorbar": {
          "title": {
           "text": "TotalDeaths"
          }
         },
         "colorscale": [
          [
           0,
           "#0d0887"
          ],
          [
           0.1111111111111111,
           "#46039f"
          ],
          [
           0.2222222222222222,
           "#7201a8"
          ],
          [
           0.3333333333333333,
           "#9c179e"
          ],
          [
           0.4444444444444444,
           "#bd3786"
          ],
          [
           0.5555555555555556,
           "#d8576b"
          ],
          [
           0.6666666666666666,
           "#ed7953"
          ],
          [
           0.7777777777777778,
           "#fb9f3a"
          ],
          [
           0.8888888888888888,
           "#fdca26"
          ],
          [
           1,
           "#f0f921"
          ]
         ]
        },
        "geo": {
         "center": {},
         "domain": {
          "x": [
           0,
           1
          ],
          "y": [
           0,
           1
          ]
         },
         "projection": {
          "type": "natural earth"
         }
        },
        "legend": {
         "itemsizing": "constant",
         "tracegroupgap": 0
        },
        "template": {
         "data": {
          "bar": [
           {
            "error_x": {
             "color": "#2a3f5f"
            },
            "error_y": {
             "color": "#2a3f5f"
            },
            "marker": {
             "line": {
              "color": "#E5ECF6",
              "width": 0.5
             }
            },
            "type": "bar"
           }
          ],
          "barpolar": [
           {
            "marker": {
             "line": {
              "color": "#E5ECF6",
              "width": 0.5
             }
            },
            "type": "barpolar"
           }
          ],
          "carpet": [
           {
            "aaxis": {
             "endlinecolor": "#2a3f5f",
             "gridcolor": "white",
             "linecolor": "white",
             "minorgridcolor": "white",
             "startlinecolor": "#2a3f5f"
            },
            "baxis": {
             "endlinecolor": "#2a3f5f",
             "gridcolor": "white",
             "linecolor": "white",
             "minorgridcolor": "white",
             "startlinecolor": "#2a3f5f"
            },
            "type": "carpet"
           }
          ],
          "choropleth": [
           {
            "colorbar": {
             "outlinewidth": 0,
             "ticks": ""
            },
            "type": "choropleth"
           }
          ],
          "contour": [
           {
            "colorbar": {
             "outlinewidth": 0,
             "ticks": ""
            },
            "colorscale": [
             [
              0,
              "#0d0887"
             ],
             [
              0.1111111111111111,
              "#46039f"
             ],
             [
              0.2222222222222222,
              "#7201a8"
             ],
             [
              0.3333333333333333,
              "#9c179e"
             ],
             [
              0.4444444444444444,
              "#bd3786"
             ],
             [
              0.5555555555555556,
              "#d8576b"
             ],
             [
              0.6666666666666666,
              "#ed7953"
             ],
             [
              0.7777777777777778,
              "#fb9f3a"
             ],
             [
              0.8888888888888888,
              "#fdca26"
             ],
             [
              1,
              "#f0f921"
             ]
            ],
            "type": "contour"
           }
          ],
          "contourcarpet": [
           {
            "colorbar": {
             "outlinewidth": 0,
             "ticks": ""
            },
            "type": "contourcarpet"
           }
          ],
          "heatmap": [
           {
            "colorbar": {
             "outlinewidth": 0,
             "ticks": ""
            },
            "colorscale": [
             [
              0,
              "#0d0887"
             ],
             [
              0.1111111111111111,
              "#46039f"
             ],
             [
              0.2222222222222222,
              "#7201a8"
             ],
             [
              0.3333333333333333,
              "#9c179e"
             ],
             [
              0.4444444444444444,
              "#bd3786"
             ],
             [
              0.5555555555555556,
              "#d8576b"
             ],
             [
              0.6666666666666666,
              "#ed7953"
             ],
             [
              0.7777777777777778,
              "#fb9f3a"
             ],
             [
              0.8888888888888888,
              "#fdca26"
             ],
             [
              1,
              "#f0f921"
             ]
            ],
            "type": "heatmap"
           }
          ],
          "heatmapgl": [
           {
            "colorbar": {
             "outlinewidth": 0,
             "ticks": ""
            },
            "colorscale": [
             [
              0,
              "#0d0887"
             ],
             [
              0.1111111111111111,
              "#46039f"
             ],
             [
              0.2222222222222222,
              "#7201a8"
             ],
             [
              0.3333333333333333,
              "#9c179e"
             ],
             [
              0.4444444444444444,
              "#bd3786"
             ],
             [
              0.5555555555555556,
              "#d8576b"
             ],
             [
              0.6666666666666666,
              "#ed7953"
             ],
             [
              0.7777777777777778,
              "#fb9f3a"
             ],
             [
              0.8888888888888888,
              "#fdca26"
             ],
             [
              1,
              "#f0f921"
             ]
            ],
            "type": "heatmapgl"
           }
          ],
          "histogram": [
           {
            "marker": {
             "colorbar": {
              "outlinewidth": 0,
              "ticks": ""
             }
            },
            "type": "histogram"
           }
          ],
          "histogram2d": [
           {
            "colorbar": {
             "outlinewidth": 0,
             "ticks": ""
            },
            "colorscale": [
             [
              0,
              "#0d0887"
             ],
             [
              0.1111111111111111,
              "#46039f"
             ],
             [
              0.2222222222222222,
              "#7201a8"
             ],
             [
              0.3333333333333333,
              "#9c179e"
             ],
             [
              0.4444444444444444,
              "#bd3786"
             ],
             [
              0.5555555555555556,
              "#d8576b"
             ],
             [
              0.6666666666666666,
              "#ed7953"
             ],
             [
              0.7777777777777778,
              "#fb9f3a"
             ],
             [
              0.8888888888888888,
              "#fdca26"
             ],
             [
              1,
              "#f0f921"
             ]
            ],
            "type": "histogram2d"
           }
          ],
          "histogram2dcontour": [
           {
            "colorbar": {
             "outlinewidth": 0,
             "ticks": ""
            },
            "colorscale": [
             [
              0,
              "#0d0887"
             ],
             [
              0.1111111111111111,
              "#46039f"
             ],
             [
              0.2222222222222222,
              "#7201a8"
             ],
             [
              0.3333333333333333,
              "#9c179e"
             ],
             [
              0.4444444444444444,
              "#bd3786"
             ],
             [
              0.5555555555555556,
              "#d8576b"
             ],
             [
              0.6666666666666666,
              "#ed7953"
             ],
             [
              0.7777777777777778,
              "#fb9f3a"
             ],
             [
              0.8888888888888888,
              "#fdca26"
             ],
             [
              1,
              "#f0f921"
             ]
            ],
            "type": "histogram2dcontour"
           }
          ],
          "mesh3d": [
           {
            "colorbar": {
             "outlinewidth": 0,
             "ticks": ""
            },
            "type": "mesh3d"
           }
          ],
          "parcoords": [
           {
            "line": {
             "colorbar": {
              "outlinewidth": 0,
              "ticks": ""
             }
            },
            "type": "parcoords"
           }
          ],
          "pie": [
           {
            "automargin": true,
            "type": "pie"
           }
          ],
          "scatter": [
           {
            "marker": {
             "colorbar": {
              "outlinewidth": 0,
              "ticks": ""
             }
            },
            "type": "scatter"
           }
          ],
          "scatter3d": [
           {
            "line": {
             "colorbar": {
              "outlinewidth": 0,
              "ticks": ""
             }
            },
            "marker": {
             "colorbar": {
              "outlinewidth": 0,
              "ticks": ""
             }
            },
            "type": "scatter3d"
           }
          ],
          "scattercarpet": [
           {
            "marker": {
             "colorbar": {
              "outlinewidth": 0,
              "ticks": ""
             }
            },
            "type": "scattercarpet"
           }
          ],
          "scattergeo": [
           {
            "marker": {
             "colorbar": {
              "outlinewidth": 0,
              "ticks": ""
             }
            },
            "type": "scattergeo"
           }
          ],
          "scattergl": [
           {
            "marker": {
             "colorbar": {
              "outlinewidth": 0,
              "ticks": ""
             }
            },
            "type": "scattergl"
           }
          ],
          "scattermapbox": [
           {
            "marker": {
             "colorbar": {
              "outlinewidth": 0,
              "ticks": ""
             }
            },
            "type": "scattermapbox"
           }
          ],
          "scatterpolar": [
           {
            "marker": {
             "colorbar": {
              "outlinewidth": 0,
              "ticks": ""
             }
            },
            "type": "scatterpolar"
           }
          ],
          "scatterpolargl": [
           {
            "marker": {
             "colorbar": {
              "outlinewidth": 0,
              "ticks": ""
             }
            },
            "type": "scatterpolargl"
           }
          ],
          "scatterternary": [
           {
            "marker": {
             "colorbar": {
              "outlinewidth": 0,
              "ticks": ""
             }
            },
            "type": "scatterternary"
           }
          ],
          "surface": [
           {
            "colorbar": {
             "outlinewidth": 0,
             "ticks": ""
            },
            "colorscale": [
             [
              0,
              "#0d0887"
             ],
             [
              0.1111111111111111,
              "#46039f"
             ],
             [
              0.2222222222222222,
              "#7201a8"
             ],
             [
              0.3333333333333333,
              "#9c179e"
             ],
             [
              0.4444444444444444,
              "#bd3786"
             ],
             [
              0.5555555555555556,
              "#d8576b"
             ],
             [
              0.6666666666666666,
              "#ed7953"
             ],
             [
              0.7777777777777778,
              "#fb9f3a"
             ],
             [
              0.8888888888888888,
              "#fdca26"
             ],
             [
              1,
              "#f0f921"
             ]
            ],
            "type": "surface"
           }
          ],
          "table": [
           {
            "cells": {
             "fill": {
              "color": "#EBF0F8"
             },
             "line": {
              "color": "white"
             }
            },
            "header": {
             "fill": {
              "color": "#C8D4E3"
             },
             "line": {
              "color": "white"
             }
            },
            "type": "table"
           }
          ]
         },
         "layout": {
          "annotationdefaults": {
           "arrowcolor": "#2a3f5f",
           "arrowhead": 0,
           "arrowwidth": 1
          },
          "coloraxis": {
           "colorbar": {
            "outlinewidth": 0,
            "ticks": ""
           }
          },
          "colorscale": {
           "diverging": [
            [
             0,
             "#8e0152"
            ],
            [
             0.1,
             "#c51b7d"
            ],
            [
             0.2,
             "#de77ae"
            ],
            [
             0.3,
             "#f1b6da"
            ],
            [
             0.4,
             "#fde0ef"
            ],
            [
             0.5,
             "#f7f7f7"
            ],
            [
             0.6,
             "#e6f5d0"
            ],
            [
             0.7,
             "#b8e186"
            ],
            [
             0.8,
             "#7fbc41"
            ],
            [
             0.9,
             "#4d9221"
            ],
            [
             1,
             "#276419"
            ]
           ],
           "sequential": [
            [
             0,
             "#0d0887"
            ],
            [
             0.1111111111111111,
             "#46039f"
            ],
            [
             0.2222222222222222,
             "#7201a8"
            ],
            [
             0.3333333333333333,
             "#9c179e"
            ],
            [
             0.4444444444444444,
             "#bd3786"
            ],
            [
             0.5555555555555556,
             "#d8576b"
            ],
            [
             0.6666666666666666,
             "#ed7953"
            ],
            [
             0.7777777777777778,
             "#fb9f3a"
            ],
            [
             0.8888888888888888,
             "#fdca26"
            ],
            [
             1,
             "#f0f921"
            ]
           ],
           "sequentialminus": [
            [
             0,
             "#0d0887"
            ],
            [
             0.1111111111111111,
             "#46039f"
            ],
            [
             0.2222222222222222,
             "#7201a8"
            ],
            [
             0.3333333333333333,
             "#9c179e"
            ],
            [
             0.4444444444444444,
             "#bd3786"
            ],
            [
             0.5555555555555556,
             "#d8576b"
            ],
            [
             0.6666666666666666,
             "#ed7953"
            ],
            [
             0.7777777777777778,
             "#fb9f3a"
            ],
            [
             0.8888888888888888,
             "#fdca26"
            ],
            [
             1,
             "#f0f921"
            ]
           ]
          },
          "colorway": [
           "#636efa",
           "#EF553B",
           "#00cc96",
           "#ab63fa",
           "#FFA15A",
           "#19d3f3",
           "#FF6692",
           "#B6E880",
           "#FF97FF",
           "#FECB52"
          ],
          "font": {
           "color": "#2a3f5f"
          },
          "geo": {
           "bgcolor": "white",
           "lakecolor": "white",
           "landcolor": "#E5ECF6",
           "showlakes": true,
           "showland": true,
           "subunitcolor": "white"
          },
          "hoverlabel": {
           "align": "left"
          },
          "hovermode": "closest",
          "mapbox": {
           "style": "light"
          },
          "paper_bgcolor": "white",
          "plot_bgcolor": "#E5ECF6",
          "polar": {
           "angularaxis": {
            "gridcolor": "white",
            "linecolor": "white",
            "ticks": ""
           },
           "bgcolor": "#E5ECF6",
           "radialaxis": {
            "gridcolor": "white",
            "linecolor": "white",
            "ticks": ""
           }
          },
          "scene": {
           "xaxis": {
            "backgroundcolor": "#E5ECF6",
            "gridcolor": "white",
            "gridwidth": 2,
            "linecolor": "white",
            "showbackground": true,
            "ticks": "",
            "zerolinecolor": "white"
           },
           "yaxis": {
            "backgroundcolor": "#E5ECF6",
            "gridcolor": "white",
            "gridwidth": 2,
            "linecolor": "white",
            "showbackground": true,
            "ticks": "",
            "zerolinecolor": "white"
           },
           "zaxis": {
            "backgroundcolor": "#E5ECF6",
            "gridcolor": "white",
            "gridwidth": 2,
            "linecolor": "white",
            "showbackground": true,
            "ticks": "",
            "zerolinecolor": "white"
           }
          },
          "shapedefaults": {
           "line": {
            "color": "#2a3f5f"
           }
          },
          "ternary": {
           "aaxis": {
            "gridcolor": "white",
            "linecolor": "white",
            "ticks": ""
           },
           "baxis": {
            "gridcolor": "white",
            "linecolor": "white",
            "ticks": ""
           },
           "bgcolor": "#E5ECF6",
           "caxis": {
            "gridcolor": "white",
            "linecolor": "white",
            "ticks": ""
           }
          },
          "title": {
           "x": 0.05
          },
          "xaxis": {
           "automargin": true,
           "gridcolor": "white",
           "linecolor": "white",
           "ticks": "",
           "title": {
            "standoff": 15
           },
           "zerolinecolor": "white",
           "zerolinewidth": 2
          },
          "yaxis": {
           "automargin": true,
           "gridcolor": "white",
           "linecolor": "white",
           "ticks": "",
           "title": {
            "standoff": 15
           },
           "zerolinecolor": "white",
           "zerolinewidth": 2
          }
         }
        },
        "title": {
         "text": "Death count of each country"
        }
       }
      },
      "text/html": [
       "<div>\n",
       "        \n",
       "        \n",
       "            <div id=\"7c3c9592-ab47-449c-b952-f844703b7efd\" class=\"plotly-graph-div\" style=\"height:525px; width:100%;\"></div>\n",
       "            <script type=\"text/javascript\">\n",
       "                require([\"plotly\"], function(Plotly) {\n",
       "                    window.PLOTLYENV=window.PLOTLYENV || {};\n",
       "                    \n",
       "                if (document.getElementById(\"7c3c9592-ab47-449c-b952-f844703b7efd\")) {\n",
       "                    Plotly.newPlot(\n",
       "                        '7c3c9592-ab47-449c-b952-f844703b7efd',\n",
       "                        [{\"geo\": \"geo\", \"hoverlabel\": {\"namelength\": 0}, \"hovertemplate\": \"<b>%{hovertext}</b><br><br>size=%{marker.size}<br>Country,Other=%{location}<br>TotalDeaths=%{marker.color}\", \"hovertext\": [\"Afghanistan\", \"Albania\", \"Algeria\", \"Andorra\", \"Angola\", \"Anguilla\", \"AntiguaandBarbuda\", \"Argentina\", \"Armenia\", \"Aruba\", \"Australia\", \"Austria\", \"Azerbaijan\", \"Bahamas\", \"Bahrain\", \"Bangladesh\", \"Barbados\", \"Belarus\", \"Belgium\", \"Belize\", \"Benin\", \"Bermuda\", \"Bhutan\", \"Bolivia\", \"BosniaandHerzegovina\", \"Botswana\", \"Brazil\", \"BritishVirginIslands\", \"Brunei\", \"Bulgaria\", \"BurkinaFaso\", \"Burundi\", \"CAR\", \"CaboVerde\", \"Cambodia\", \"Cameroon\", \"Canada\", \"CaribbeanNetherlands\", \"CaymanIslands\", \"Chad\", \"ChannelIslands\", \"Chile\", \"China\", \"Colombia\", \"Congo\", \"CostaRica\", \"Croatia\", \"Cuba\", \"Cura\\u00e7ao\", \"Cyprus\", \"Czechia\", \"DRC\", \"Denmark\", \"DiamondPrincess\", \"Djibouti\", \"Dominica\", \"DominicanRepublic\", \"Ecuador\", \"Egypt\", \"ElSalvador\", \"EquatorialGuinea\", \"Eritrea\", \"Estonia\", \"Eswatini\", \"Ethiopia\", \"FaeroeIslands\", \"FalklandIslands\", \"Fiji\", \"Finland\", \"France\", \"FrenchGuiana\", \"FrenchPolynesia\", \"Gabon\", \"Gambia\", \"Georgia\", \"Germany\", \"Ghana\", \"Gibraltar\", \"Greece\", \"Greenland\", \"Grenada\", \"Guadeloupe\", \"Guatemala\", \"Guinea\", \"Guinea-Bissau\", \"Guyana\", \"Haiti\", \"Honduras\", \"HongKong\", \"Hungary\", \"Iceland\", \"India\", \"Indonesia\", \"Iran\", \"Iraq\", \"Ireland\", \"IsleofMan\", \"Israel\", \"Italy\", \"IvoryCoast\", \"Jamaica\", \"Japan\", \"Jordan\", \"Kazakhstan\", \"Kenya\", \"Kuwait\", \"Kyrgyzstan\", \"Laos\", \"Latvia\", \"Lebanon\", \"Liberia\", \"Libya\", \"Liechtenstein\", \"Lithuania\", \"Luxembourg\", \"MSZaandam\", \"Macao\", \"Madagascar\", \"Malawi\", \"Malaysia\", \"Maldives\", \"Mali\", \"Malta\", \"Martinique\", \"Mauritania\", \"Mauritius\", \"Mayotte\", \"Mexico\", \"Moldova\", \"Monaco\", \"Mongolia\", \"Montenegro\", \"Montserrat\", \"Morocco\", \"Mozambique\", \"Myanmar\", \"Namibia\", \"Nepal\", \"Netherlands\", \"NewCaledonia\", \"NewZealand\", \"Nicaragua\", \"Niger\", \"Nigeria\", \"NorthMacedonia\", \"Norway\", \"Oman\", \"Pakistan\", \"Palestine\", \"Panama\", \"PapuaNewGuinea\", \"Paraguay\", \"Peru\", \"Philippines\", \"Poland\", \"Portugal\", \"Qatar\", \"Romania\", \"Russia\", \"Rwanda\", \"R\\u00e9union\", \"S.Korea\", \"SaintKittsandNevis\", \"SaintLucia\", \"SaintMartin\", \"SaintPierreMiquelon\", \"SanMarino\", \"SaoTomeandPrincipe\", \"SaudiArabia\", \"Senegal\", \"Serbia\", \"Seychelles\", \"SierraLeone\", \"Singapore\", \"SintMaarten\", \"Slovakia\", \"Slovenia\", \"Somalia\", \"SouthAfrica\", \"SouthSudan\", \"Spain\", \"SriLanka\", \"St.Barth\", \"St.VincentGrenadines\", \"Sudan\", \"Suriname\", \"Sweden\", \"Switzerland\", \"Syria\", \"Taiwan\", \"Tanzania\", \"Thailand\", \"Timor-Leste\", \"Togo\", \"TrinidadandTobago\", \"Tunisia\", \"Turkey\", \"TurksandCaicos\", \"UAE\", \"UK\", \"USA\", \"Uganda\", \"Ukraine\", \"Uruguay\", \"Uzbekistan\", \"VaticanCity\", \"Venezuela\", \"Vietnam\", \"WesternSahara\", \"Zambia\", \"Zimbabwe\"], \"legendgroup\": \"\", \"locationmode\": \"country names\", \"locations\": [\"Afghanistan\", \"Albania\", \"Algeria\", \"Andorra\", \"Angola\", \"Anguilla\", \"AntiguaandBarbuda\", \"Argentina\", \"Armenia\", \"Aruba\", \"Australia\", \"Austria\", \"Azerbaijan\", \"Bahamas\", \"Bahrain\", \"Bangladesh\", \"Barbados\", \"Belarus\", \"Belgium\", \"Belize\", \"Benin\", \"Bermuda\", \"Bhutan\", \"Bolivia\", \"BosniaandHerzegovina\", \"Botswana\", \"Brazil\", \"BritishVirginIslands\", \"Brunei\", \"Bulgaria\", \"BurkinaFaso\", \"Burundi\", \"CAR\", \"CaboVerde\", \"Cambodia\", \"Cameroon\", \"Canada\", \"CaribbeanNetherlands\", \"CaymanIslands\", \"Chad\", \"ChannelIslands\", \"Chile\", \"China\", \"Colombia\", \"Congo\", \"CostaRica\", \"Croatia\", \"Cuba\", \"Cura\\u00e7ao\", \"Cyprus\", \"Czechia\", \"DRC\", \"Denmark\", \"DiamondPrincess\", \"Djibouti\", \"Dominica\", \"DominicanRepublic\", \"Ecuador\", \"Egypt\", \"ElSalvador\", \"EquatorialGuinea\", \"Eritrea\", \"Estonia\", \"Eswatini\", \"Ethiopia\", \"FaeroeIslands\", \"FalklandIslands\", \"Fiji\", \"Finland\", \"France\", \"FrenchGuiana\", \"FrenchPolynesia\", \"Gabon\", \"Gambia\", \"Georgia\", \"Germany\", \"Ghana\", \"Gibraltar\", \"Greece\", \"Greenland\", \"Grenada\", \"Guadeloupe\", \"Guatemala\", \"Guinea\", \"Guinea-Bissau\", \"Guyana\", \"Haiti\", \"Honduras\", \"HongKong\", \"Hungary\", \"Iceland\", \"India\", \"Indonesia\", \"Iran\", \"Iraq\", \"Ireland\", \"IsleofMan\", \"Israel\", \"Italy\", \"IvoryCoast\", \"Jamaica\", \"Japan\", \"Jordan\", \"Kazakhstan\", \"Kenya\", \"Kuwait\", \"Kyrgyzstan\", \"Laos\", \"Latvia\", \"Lebanon\", \"Liberia\", \"Libya\", \"Liechtenstein\", \"Lithuania\", \"Luxembourg\", \"MSZaandam\", \"Macao\", \"Madagascar\", \"Malawi\", \"Malaysia\", \"Maldives\", \"Mali\", \"Malta\", \"Martinique\", \"Mauritania\", \"Mauritius\", \"Mayotte\", \"Mexico\", \"Moldova\", \"Monaco\", \"Mongolia\", \"Montenegro\", \"Montserrat\", \"Morocco\", \"Mozambique\", \"Myanmar\", \"Namibia\", \"Nepal\", \"Netherlands\", \"NewCaledonia\", \"NewZealand\", \"Nicaragua\", \"Niger\", \"Nigeria\", \"NorthMacedonia\", \"Norway\", \"Oman\", \"Pakistan\", \"Palestine\", \"Panama\", \"PapuaNewGuinea\", \"Paraguay\", \"Peru\", \"Philippines\", \"Poland\", \"Portugal\", \"Qatar\", \"Romania\", \"Russia\", \"Rwanda\", \"R\\u00e9union\", \"S.Korea\", \"SaintKittsandNevis\", \"SaintLucia\", \"SaintMartin\", \"SaintPierreMiquelon\", \"SanMarino\", \"SaoTomeandPrincipe\", \"SaudiArabia\", \"Senegal\", \"Serbia\", \"Seychelles\", \"SierraLeone\", \"Singapore\", \"SintMaarten\", \"Slovakia\", \"Slovenia\", \"Somalia\", \"SouthAfrica\", \"SouthSudan\", \"Spain\", \"SriLanka\", \"St.Barth\", \"St.VincentGrenadines\", \"Sudan\", \"Suriname\", \"Sweden\", \"Switzerland\", \"Syria\", \"Taiwan\", \"Tanzania\", \"Thailand\", \"Timor-Leste\", \"Togo\", \"TrinidadandTobago\", \"Tunisia\", \"Turkey\", \"TurksandCaicos\", \"UAE\", \"UK\", \"USA\", \"Uganda\", \"Ukraine\", \"Uruguay\", \"Uzbekistan\", \"VaticanCity\", \"Venezuela\", \"Vietnam\", \"WesternSahara\", \"Zambia\", \"Zimbabwe\"], \"marker\": {\"color\": [14, 22, 193, 22, 2, 0, 2, 60, 9, 0, 50, 273, 8, 6, 5, 20, 3, 13, 2240, 1, 1, 2, 0, 15, 33, 1, 699, 0, 1, 23, 19, 0, 0, 1, 0, 9, 381, 0, 1, 0, 7, 43, 3333, 50, 5, 2, 19, 11, 1, 9, 91, 18, 218, 11, 0, 0, 98, 220, 94, 5, 0, 0, 24, 0, 2, 0, 0, 0, 40, 10328, 0, 0, 1, 1, 3, 2016, 5, 0, 81, 0, 0, 7, 3, 0, 0, 5, 1, 22, 4, 58, 6, 164, 240, 3993, 65, 210, 1, 72, 17127, 3, 3, 93, 6, 7, 6, 1, 4, 0, 2, 19, 3, 1, 1, 15, 44, 2, 0, 0, 1, 65, 0, 5, 0, 4, 1, 7, 2, 141, 24, 1, 0, 2, 0, 91, 0, 3, 0, 0, 2248, 0, 1, 1, 11, 6, 29, 93, 2, 58, 1, 59, 0, 5, 107, 182, 136, 380, 6, 210, 63, 0, 0, 200, 0, 0, 2, 0, 34, 0, 41, 2, 65, 0, 0, 6, 6, 2, 40, 0, 13, 0, 14555, 6, 0, 0, 2, 1, 687, 858, 2, 5, 1, 30, 0, 3, 8, 23, 725, 1, 12, 6159, 12857, 0, 52, 7, 3, 0, 7, 0, 0, 1, 2], \"coloraxis\": \"coloraxis\", \"size\": [1.6952182030724354, 1.8556007362580844, 2.864913156331122, 1.8556007362580844, 1.148698354997035, 0.0, 1.148698354997035, 2.2679331552660544, 1.5518455739153598, 0.0, 2.1867241478865562, 3.0706656402862578, 1.5157165665103982, 1.4309690811052556, 1.379729661461215, 1.8205642030260802, 1.2457309396155174, 1.6702776523348104, 4.677885674856041, 1.0, 1.0, 1.148698354997035, 0.0, 1.7187719275874789, 2.0123466170855586, 1.0, 3.7059148392612755, 0.0, 1.0, 1.8721712305548575, 1.8019831273171423, 0.0, 0.0, 1.0, 0.0, 1.5518455739153598, 3.2823508066443083, 0.0, 1.0, 0.0, 1.4757731615945522, 2.121747460841898, 5.064855537932152, 2.1867241478865562, 1.379729661461215, 1.148698354997035, 1.8019831273171423, 1.615394266202178, 1.0, 1.5518455739153598, 2.4649509317268694, 1.7826024579660034, 2.935562280333508, 1.615394266202178, 0.0, 0.0, 2.5017575271408434, 2.940928974821268, 2.480993181587069, 1.379729661461215, 0.0, 0.0, 1.888175022589804, 0.0, 1.148698354997035, 0.0, 0.0, 0.0, 2.0912791051825463, 6.350431647034552, 0.0, 0.0, 1.0, 1.0, 1.2457309396155174, 4.580344097847165, 1.379729661461215, 0.0, 2.4082246852806923, 0.0, 0.0, 1.4757731615945522, 1.2457309396155174, 0.0, 0.0, 1.379729661461215, 1.0, 1.8556007362580844, 1.3195079107728942, 2.2526078784323254, 1.4309690811052556, 2.773120680622141, 2.9925557394776896, 5.251215750992822, 2.3045316198021406, 2.913693458576192, 1.0, 2.352158045049347, 7.026454843414029, 1.2457309396155174, 1.2457309396155174, 2.4756918656443667, 1.4309690811052556, 1.4757731615945522, 1.4309690811052556, 1.0, 1.3195079107728942, 0.0, 1.148698354997035, 1.8019831273171423, 1.2457309396155174, 1.0, 1.0, 1.7187719275874789, 2.1315255132709487, 1.148698354997035, 0.0, 0.0, 1.0, 2.3045316198021406, 0.0, 1.379729661461215, 0.0, 1.3195079107728942, 1.0, 1.4757731615945522, 1.148698354997035, 2.6905670699651423, 1.888175022589804, 1.0, 0.0, 1.148698354997035, 0.0, 2.4649509317268694, 0.0, 1.2457309396155174, 0.0, 0.0, 4.681222258617034, 0.0, 1.0, 1.0, 1.615394266202178, 1.4309690811052556, 1.961009057454548, 2.4756918656443667, 1.148698354997035, 2.2526078784323254, 1.0, 2.2603224696268156, 0.0, 1.379729661461215, 2.5461076134379654, 2.8314850804230636, 2.6712084610391402, 3.280625976050577, 1.4309690811052556, 2.913693458576192, 2.2901720489235826, 0.0, 0.0, 2.8853998118144273, 0.0, 0.0, 1.148698354997035, 0.0, 2.024397458499885, 0.0, 2.1016324782757847, 1.148698354997035, 2.3045316198021406, 0.0, 0.0, 1.4309690811052556, 1.4309690811052556, 1.148698354997035, 2.0912791051825463, 0.0, 1.6702776523348104, 0.0, 6.8014645992681055, 1.4309690811052556, 0.0, 0.0, 1.148698354997035, 1.0, 3.693102380885068, 3.860979160754658, 1.148698354997035, 1.379729661461215, 1.0, 1.97435048583482, 0.0, 1.2457309396155174, 1.5157165665103982, 1.8721712305548575, 3.7330826160808632, 1.0, 1.6437518295172258, 5.726668460541897, 6.634801417638622, 0.0, 2.2039445754429603, 1.4757731615945522, 1.2457309396155174, 0.0, 1.4757731615945522, 0.0, 0.0, 1.0, 1.148698354997035], \"sizemode\": \"area\", \"sizeref\": 0.017566137108535072}, \"name\": \"\", \"showlegend\": false, \"type\": \"scattergeo\"}],\n",
       "                        {\"coloraxis\": {\"colorbar\": {\"title\": {\"text\": \"TotalDeaths\"}}, \"colorscale\": [[0.0, \"#0d0887\"], [0.1111111111111111, \"#46039f\"], [0.2222222222222222, \"#7201a8\"], [0.3333333333333333, \"#9c179e\"], [0.4444444444444444, \"#bd3786\"], [0.5555555555555556, \"#d8576b\"], [0.6666666666666666, \"#ed7953\"], [0.7777777777777778, \"#fb9f3a\"], [0.8888888888888888, \"#fdca26\"], [1.0, \"#f0f921\"]]}, \"geo\": {\"center\": {}, \"domain\": {\"x\": [0.0, 1.0], \"y\": [0.0, 1.0]}, \"projection\": {\"type\": \"natural earth\"}}, \"legend\": {\"itemsizing\": \"constant\", \"tracegroupgap\": 0}, \"template\": {\"data\": {\"bar\": [{\"error_x\": {\"color\": \"#2a3f5f\"}, \"error_y\": {\"color\": \"#2a3f5f\"}, \"marker\": {\"line\": {\"color\": \"#E5ECF6\", \"width\": 0.5}}, \"type\": \"bar\"}], \"barpolar\": [{\"marker\": {\"line\": {\"color\": \"#E5ECF6\", \"width\": 0.5}}, \"type\": \"barpolar\"}], \"carpet\": [{\"aaxis\": {\"endlinecolor\": \"#2a3f5f\", \"gridcolor\": \"white\", \"linecolor\": \"white\", \"minorgridcolor\": \"white\", \"startlinecolor\": \"#2a3f5f\"}, \"baxis\": {\"endlinecolor\": \"#2a3f5f\", \"gridcolor\": \"white\", \"linecolor\": \"white\", \"minorgridcolor\": \"white\", \"startlinecolor\": \"#2a3f5f\"}, \"type\": \"carpet\"}], \"choropleth\": [{\"colorbar\": {\"outlinewidth\": 0, \"ticks\": \"\"}, \"type\": \"choropleth\"}], \"contour\": [{\"colorbar\": {\"outlinewidth\": 0, \"ticks\": \"\"}, \"colorscale\": [[0.0, \"#0d0887\"], [0.1111111111111111, \"#46039f\"], [0.2222222222222222, \"#7201a8\"], [0.3333333333333333, \"#9c179e\"], [0.4444444444444444, \"#bd3786\"], [0.5555555555555556, \"#d8576b\"], [0.6666666666666666, \"#ed7953\"], [0.7777777777777778, \"#fb9f3a\"], [0.8888888888888888, \"#fdca26\"], [1.0, \"#f0f921\"]], \"type\": \"contour\"}], \"contourcarpet\": [{\"colorbar\": {\"outlinewidth\": 0, \"ticks\": \"\"}, \"type\": \"contourcarpet\"}], \"heatmap\": [{\"colorbar\": {\"outlinewidth\": 0, \"ticks\": \"\"}, \"colorscale\": [[0.0, \"#0d0887\"], [0.1111111111111111, \"#46039f\"], [0.2222222222222222, \"#7201a8\"], [0.3333333333333333, \"#9c179e\"], [0.4444444444444444, \"#bd3786\"], [0.5555555555555556, \"#d8576b\"], [0.6666666666666666, \"#ed7953\"], [0.7777777777777778, \"#fb9f3a\"], [0.8888888888888888, \"#fdca26\"], [1.0, \"#f0f921\"]], \"type\": \"heatmap\"}], \"heatmapgl\": [{\"colorbar\": {\"outlinewidth\": 0, \"ticks\": \"\"}, \"colorscale\": [[0.0, \"#0d0887\"], [0.1111111111111111, \"#46039f\"], [0.2222222222222222, \"#7201a8\"], [0.3333333333333333, \"#9c179e\"], [0.4444444444444444, \"#bd3786\"], [0.5555555555555556, \"#d8576b\"], [0.6666666666666666, \"#ed7953\"], [0.7777777777777778, \"#fb9f3a\"], [0.8888888888888888, \"#fdca26\"], [1.0, \"#f0f921\"]], \"type\": \"heatmapgl\"}], \"histogram\": [{\"marker\": {\"colorbar\": {\"outlinewidth\": 0, \"ticks\": \"\"}}, \"type\": \"histogram\"}], \"histogram2d\": [{\"colorbar\": {\"outlinewidth\": 0, \"ticks\": \"\"}, \"colorscale\": [[0.0, \"#0d0887\"], [0.1111111111111111, \"#46039f\"], [0.2222222222222222, \"#7201a8\"], [0.3333333333333333, \"#9c179e\"], [0.4444444444444444, \"#bd3786\"], [0.5555555555555556, \"#d8576b\"], [0.6666666666666666, \"#ed7953\"], [0.7777777777777778, \"#fb9f3a\"], [0.8888888888888888, \"#fdca26\"], [1.0, \"#f0f921\"]], \"type\": \"histogram2d\"}], \"histogram2dcontour\": [{\"colorbar\": {\"outlinewidth\": 0, \"ticks\": \"\"}, \"colorscale\": [[0.0, \"#0d0887\"], [0.1111111111111111, \"#46039f\"], [0.2222222222222222, \"#7201a8\"], [0.3333333333333333, \"#9c179e\"], [0.4444444444444444, \"#bd3786\"], [0.5555555555555556, \"#d8576b\"], [0.6666666666666666, \"#ed7953\"], [0.7777777777777778, \"#fb9f3a\"], [0.8888888888888888, \"#fdca26\"], [1.0, \"#f0f921\"]], \"type\": \"histogram2dcontour\"}], \"mesh3d\": [{\"colorbar\": {\"outlinewidth\": 0, \"ticks\": \"\"}, \"type\": \"mesh3d\"}], \"parcoords\": [{\"line\": {\"colorbar\": {\"outlinewidth\": 0, \"ticks\": \"\"}}, \"type\": \"parcoords\"}], \"pie\": [{\"automargin\": true, \"type\": \"pie\"}], \"scatter\": [{\"marker\": {\"colorbar\": {\"outlinewidth\": 0, \"ticks\": \"\"}}, \"type\": \"scatter\"}], \"scatter3d\": [{\"line\": {\"colorbar\": {\"outlinewidth\": 0, \"ticks\": \"\"}}, \"marker\": {\"colorbar\": {\"outlinewidth\": 0, \"ticks\": \"\"}}, \"type\": \"scatter3d\"}], \"scattercarpet\": [{\"marker\": {\"colorbar\": {\"outlinewidth\": 0, \"ticks\": \"\"}}, \"type\": \"scattercarpet\"}], \"scattergeo\": [{\"marker\": {\"colorbar\": {\"outlinewidth\": 0, \"ticks\": \"\"}}, \"type\": \"scattergeo\"}], \"scattergl\": [{\"marker\": {\"colorbar\": {\"outlinewidth\": 0, \"ticks\": \"\"}}, \"type\": \"scattergl\"}], \"scattermapbox\": [{\"marker\": {\"colorbar\": {\"outlinewidth\": 0, \"ticks\": \"\"}}, \"type\": \"scattermapbox\"}], \"scatterpolar\": [{\"marker\": {\"colorbar\": {\"outlinewidth\": 0, \"ticks\": \"\"}}, \"type\": \"scatterpolar\"}], \"scatterpolargl\": [{\"marker\": {\"colorbar\": {\"outlinewidth\": 0, \"ticks\": \"\"}}, \"type\": \"scatterpolargl\"}], \"scatterternary\": [{\"marker\": {\"colorbar\": {\"outlinewidth\": 0, \"ticks\": \"\"}}, \"type\": \"scatterternary\"}], \"surface\": [{\"colorbar\": {\"outlinewidth\": 0, \"ticks\": \"\"}, \"colorscale\": [[0.0, \"#0d0887\"], [0.1111111111111111, \"#46039f\"], [0.2222222222222222, \"#7201a8\"], [0.3333333333333333, \"#9c179e\"], [0.4444444444444444, \"#bd3786\"], [0.5555555555555556, \"#d8576b\"], [0.6666666666666666, \"#ed7953\"], [0.7777777777777778, \"#fb9f3a\"], [0.8888888888888888, \"#fdca26\"], [1.0, \"#f0f921\"]], \"type\": \"surface\"}], \"table\": [{\"cells\": {\"fill\": {\"color\": \"#EBF0F8\"}, \"line\": {\"color\": \"white\"}}, \"header\": {\"fill\": {\"color\": \"#C8D4E3\"}, \"line\": {\"color\": \"white\"}}, \"type\": \"table\"}]}, \"layout\": {\"annotationdefaults\": {\"arrowcolor\": \"#2a3f5f\", \"arrowhead\": 0, \"arrowwidth\": 1}, \"coloraxis\": {\"colorbar\": {\"outlinewidth\": 0, \"ticks\": \"\"}}, \"colorscale\": {\"diverging\": [[0, \"#8e0152\"], [0.1, \"#c51b7d\"], [0.2, \"#de77ae\"], [0.3, \"#f1b6da\"], [0.4, \"#fde0ef\"], [0.5, \"#f7f7f7\"], [0.6, \"#e6f5d0\"], [0.7, \"#b8e186\"], [0.8, \"#7fbc41\"], [0.9, \"#4d9221\"], [1, \"#276419\"]], \"sequential\": [[0.0, \"#0d0887\"], [0.1111111111111111, \"#46039f\"], [0.2222222222222222, \"#7201a8\"], [0.3333333333333333, \"#9c179e\"], [0.4444444444444444, \"#bd3786\"], [0.5555555555555556, \"#d8576b\"], [0.6666666666666666, \"#ed7953\"], [0.7777777777777778, \"#fb9f3a\"], [0.8888888888888888, \"#fdca26\"], [1.0, \"#f0f921\"]], \"sequentialminus\": [[0.0, \"#0d0887\"], [0.1111111111111111, \"#46039f\"], [0.2222222222222222, \"#7201a8\"], [0.3333333333333333, \"#9c179e\"], [0.4444444444444444, \"#bd3786\"], [0.5555555555555556, \"#d8576b\"], [0.6666666666666666, \"#ed7953\"], [0.7777777777777778, \"#fb9f3a\"], [0.8888888888888888, \"#fdca26\"], [1.0, \"#f0f921\"]]}, \"colorway\": [\"#636efa\", \"#EF553B\", \"#00cc96\", \"#ab63fa\", \"#FFA15A\", \"#19d3f3\", \"#FF6692\", \"#B6E880\", \"#FF97FF\", \"#FECB52\"], \"font\": {\"color\": \"#2a3f5f\"}, \"geo\": {\"bgcolor\": \"white\", \"lakecolor\": \"white\", \"landcolor\": \"#E5ECF6\", \"showlakes\": true, \"showland\": true, \"subunitcolor\": \"white\"}, \"hoverlabel\": {\"align\": \"left\"}, \"hovermode\": \"closest\", \"mapbox\": {\"style\": \"light\"}, \"paper_bgcolor\": \"white\", \"plot_bgcolor\": \"#E5ECF6\", \"polar\": {\"angularaxis\": {\"gridcolor\": \"white\", \"linecolor\": \"white\", \"ticks\": \"\"}, \"bgcolor\": \"#E5ECF6\", \"radialaxis\": {\"gridcolor\": \"white\", \"linecolor\": \"white\", \"ticks\": \"\"}}, \"scene\": {\"xaxis\": {\"backgroundcolor\": \"#E5ECF6\", \"gridcolor\": \"white\", \"gridwidth\": 2, \"linecolor\": \"white\", \"showbackground\": true, \"ticks\": \"\", \"zerolinecolor\": \"white\"}, \"yaxis\": {\"backgroundcolor\": \"#E5ECF6\", \"gridcolor\": \"white\", \"gridwidth\": 2, \"linecolor\": \"white\", \"showbackground\": true, \"ticks\": \"\", \"zerolinecolor\": \"white\"}, \"zaxis\": {\"backgroundcolor\": \"#E5ECF6\", \"gridcolor\": \"white\", \"gridwidth\": 2, \"linecolor\": \"white\", \"showbackground\": true, \"ticks\": \"\", \"zerolinecolor\": \"white\"}}, \"shapedefaults\": {\"line\": {\"color\": \"#2a3f5f\"}}, \"ternary\": {\"aaxis\": {\"gridcolor\": \"white\", \"linecolor\": \"white\", \"ticks\": \"\"}, \"baxis\": {\"gridcolor\": \"white\", \"linecolor\": \"white\", \"ticks\": \"\"}, \"bgcolor\": \"#E5ECF6\", \"caxis\": {\"gridcolor\": \"white\", \"linecolor\": \"white\", \"ticks\": \"\"}}, \"title\": {\"x\": 0.05}, \"xaxis\": {\"automargin\": true, \"gridcolor\": \"white\", \"linecolor\": \"white\", \"ticks\": \"\", \"title\": {\"standoff\": 15}, \"zerolinecolor\": \"white\", \"zerolinewidth\": 2}, \"yaxis\": {\"automargin\": true, \"gridcolor\": \"white\", \"linecolor\": \"white\", \"ticks\": \"\", \"title\": {\"standoff\": 15}, \"zerolinecolor\": \"white\", \"zerolinewidth\": 2}}}, \"title\": {\"text\": \"Death count of each country\"}},\n",
       "                        {\"responsive\": true}\n",
       "                    ).then(function(){\n",
       "                            \n",
       "var gd = document.getElementById('7c3c9592-ab47-449c-b952-f844703b7efd');\n",
       "var x = new MutationObserver(function (mutations, observer) {{\n",
       "        var display = window.getComputedStyle(gd).display;\n",
       "        if (!display || display === 'none') {{\n",
       "            console.log([gd, 'removed!']);\n",
       "            Plotly.purge(gd);\n",
       "            observer.disconnect();\n",
       "        }}\n",
       "}});\n",
       "\n",
       "// Listen for the removal of the full notebook cells\n",
       "var notebookContainer = gd.closest('#notebook-container');\n",
       "if (notebookContainer) {{\n",
       "    x.observe(notebookContainer, {childList: true});\n",
       "}}\n",
       "\n",
       "// Listen for the clearing of the current output cell\n",
       "var outputEl = gd.closest('.output');\n",
       "if (outputEl) {{\n",
       "    x.observe(outputEl, {childList: true});\n",
       "}}\n",
       "\n",
       "                        })\n",
       "                };\n",
       "                });\n",
       "            </script>\n",
       "        </div>"
      ]
     },
     "metadata": {},
     "output_type": "display_data"
    }
   ],
   "source": [
    "world['size'] = world['TotalDeaths'].pow(0.2)\n",
    "fig = px.scatter_geo(world, locations=\"Country,Other\",locationmode='country names', color=\"TotalDeaths\",\n",
    "                     hover_name=\"Country,Other\", size=\"size\",\n",
    "                     projection=\"natural earth\",title='Death count of each country')\n",
    "fig.show()"
   ]
  },
  {
   "cell_type": "markdown",
   "metadata": {},
   "source": [
    "###  Top active cases worldwide"
   ]
  },
  {
   "cell_type": "code",
   "execution_count": 102,
   "metadata": {},
   "outputs": [
    {
     "data": {
      "text/plain": [
       "[Text(0, 0.5, 'Country'), Text(0.5, 0, 'Total cases')]"
      ]
     },
     "execution_count": 102,
     "metadata": {},
     "output_type": "execute_result"
    },
    {
     "data": {
      "image/png": "[encoded data removed]",
      "text/plain": [
       "<Figure size 1080x720 with 1 Axes>"
      ]
     },
     "metadata": {
      "needs_background": "light"
     },
     "output_type": "display_data"
    }
   ],
   "source": [
    "\n",
    "active_df = world.groupby(by = 'Country,Other')['ActiveCases'].sum().sort_values(ascending = False).head(20).reset_index()\n",
    "plt.figure(figsize= (15,10))\n",
    "plt.xticks(fontsize = 15)\n",
    "plt.yticks(fontsize = 15)\n",
    "plt.xlabel(\"Total cases\",fontsize = 30)\n",
    "plt.ylabel('Country',fontsize = 30)\n",
    "plt.title(\"Top 20 countries having most active cases\" , fontsize = 30)\n",
    "ax = sns.barplot(x = active_df.ActiveCases, y = active_df['Country,Other'],palette = 'plasma') # real data\n",
    "ax.set(xlabel='Total cases', ylabel='Country') #New name to xy labels"
   ]
  },
  {
   "cell_type": "markdown",
   "metadata": {},
   "source": [
    "1)We can see that USA,Italy,Spain,Germany are in top of the world\n",
    "\n",
    "2)As the covid-19 testing is increasing, The active number of cases is also increasing day by day\n",
    "\n",
    "3)In comparison with the total population, Italy, Spain, Germany and France are the worst-hit nation\n",
    "\n",
    "4) (While me made this project) israel jumped to the top of the 20 Countries in the world"
   ]
  },
  {
   "cell_type": "markdown",
   "metadata": {},
   "source": [
    "### Top Deaths worldwide "
   ]
  },
  {
   "cell_type": "code",
   "execution_count": 103,
   "metadata": {},
   "outputs": [
    {
     "data": {
      "text/plain": [
       "[Text(0, 0.5, 'Country'), Text(0.5, 0, 'Total cases')]"
      ]
     },
     "execution_count": 103,
     "metadata": {},
     "output_type": "execute_result"
    },
    {
     "data": {
      "image/png": "[encoded data removed]",
      "text/plain": [
       "<Figure size 1080x720 with 1 Axes>"
      ]
     },
     "metadata": {
      "needs_background": "light"
     },
     "output_type": "display_data"
    }
   ],
   "source": [
    "deaths_df = world.groupby(by = 'Country,Other')['TotalDeaths'].sum().sort_values(ascending = False).head(20).reset_index()\n",
    "plt.figure(figsize= (15,10))\n",
    "plt.xticks(fontsize = 15)\n",
    "plt.yticks(fontsize = 15)\n",
    "plt.xlabel(\"Total Deaths cases\",fontsize = 30)\n",
    "plt.ylabel('Country',fontsize = 30)\n",
    "plt.title(\"Top 20 countries deaths cases\" , fontsize = 30)\n",
    "ax = sns.barplot(x = deaths_df.TotalDeaths, y = deaths_df['Country,Other'],palette = 'magma') # real data\n",
    "ax.set(xlabel='Total cases', ylabel='Country') #New name to xy labels"
   ]
  },
  {
   "cell_type": "markdown",
   "metadata": {},
   "source": [
    "We can see that obviously Italy,Spain and USA are having most Deaths in the top of the world death cases"
   ]
  },
  {
   "cell_type": "markdown",
   "metadata": {},
   "source": [
    "### Top recovered cases"
   ]
  },
  {
   "cell_type": "code",
   "execution_count": 104,
   "metadata": {},
   "outputs": [
    {
     "data": {
      "text/plain": [
       "[Text(0, 0.5, 'Country'), Text(0.5, 0, 'Total cases')]"
      ]
     },
     "execution_count": 104,
     "metadata": {},
     "output_type": "execute_result"
    },
    {
     "data": {
      "image/png": "[encoded data removed]",
      "text/plain": [
       "<Figure size 1080x720 with 1 Axes>"
      ]
     },
     "metadata": {
      "needs_background": "light"
     },
     "output_type": "display_data"
    }
   ],
   "source": [
    "#Total recovered\n",
    "recovered_df = corona_df.groupby(by = 'Country,Other')['TotalRecovered'].sum().sort_values(ascending = False).head(20).reset_index()\n",
    "\n",
    "plt.figure(figsize= (15,10))\n",
    "plt.xticks(fontsize = 15)\n",
    "plt.yticks(fontsize = 15)\n",
    "plt.xlabel(\"Recovered numbers\",fontsize = 30)\n",
    "plt.ylabel('Country',fontsize = 30)\n",
    "plt.title(\"Top 20 countries recovered cases\" , fontsize = 30)\n",
    "ax = sns.barplot(x = recovered_df.TotalRecovered, y = recovered_df['Country,Other'],palette = 'viridis') # real data\n",
    "ax.set(xlabel='Total cases', ylabel='Country') #New name to xy labels"
   ]
  },
  {
   "cell_type": "markdown",
   "metadata": {},
   "source": [
    "1) By far China is leading in the number of recoveries \n",
    "\n",
    "2) Italy, Iran, and Spain are also doing a good job.\n"
   ]
  },
  {
   "cell_type": "markdown",
   "metadata": {},
   "source": [
    "### Top 20 countries having the worst mortality and best recovery "
   ]
  },
  {
   "cell_type": "code",
   "execution_count": 105,
   "metadata": {},
   "outputs": [
    {
     "data": {
      "text/html": [
       "<div>\n",
       "<style scoped>\n",
       "    .dataframe tbody tr th:only-of-type {\n",
       "        vertical-align: middle;\n",
       "    }\n",
       "\n",
       "    .dataframe tbody tr th {\n",
       "        vertical-align: top;\n",
       "    }\n",
       "\n",
       "    .dataframe thead th {\n",
       "        text-align: right;\n",
       "    }\n",
       "</style>\n",
       "<table border=\"1\" class=\"dataframe\">\n",
       "  <thead>\n",
       "    <tr style=\"text-align: right;\">\n",
       "      <th></th>\n",
       "      <th>Country,Other</th>\n",
       "      <th>TotalCases</th>\n",
       "      <th>TotalRecovered</th>\n",
       "      <th>TotalDeaths</th>\n",
       "      <th>RecoveryPercentage</th>\n",
       "      <th>death percentage</th>\n",
       "    </tr>\n",
       "  </thead>\n",
       "  <tbody>\n",
       "    <tr>\n",
       "      <td>0</td>\n",
       "      <td>Afghanistan</td>\n",
       "      <td>423</td>\n",
       "      <td>18</td>\n",
       "      <td>14</td>\n",
       "      <td>4.26</td>\n",
       "      <td>3.31</td>\n",
       "    </tr>\n",
       "    <tr>\n",
       "      <td>1</td>\n",
       "      <td>Albania</td>\n",
       "      <td>400</td>\n",
       "      <td>154</td>\n",
       "      <td>22</td>\n",
       "      <td>38.50</td>\n",
       "      <td>5.50</td>\n",
       "    </tr>\n",
       "    <tr>\n",
       "      <td>2</td>\n",
       "      <td>Algeria</td>\n",
       "      <td>1468</td>\n",
       "      <td>113</td>\n",
       "      <td>193</td>\n",
       "      <td>7.70</td>\n",
       "      <td>13.15</td>\n",
       "    </tr>\n",
       "    <tr>\n",
       "      <td>3</td>\n",
       "      <td>Andorra</td>\n",
       "      <td>545</td>\n",
       "      <td>39</td>\n",
       "      <td>22</td>\n",
       "      <td>7.16</td>\n",
       "      <td>4.04</td>\n",
       "    </tr>\n",
       "    <tr>\n",
       "      <td>4</td>\n",
       "      <td>Angola</td>\n",
       "      <td>17</td>\n",
       "      <td>2</td>\n",
       "      <td>2</td>\n",
       "      <td>11.76</td>\n",
       "      <td>11.76</td>\n",
       "    </tr>\n",
       "  </tbody>\n",
       "</table>\n",
       "</div>"
      ],
      "text/plain": [
       "  Country,Other  TotalCases  TotalRecovered  TotalDeaths  RecoveryPercentage  \\\n",
       "0   Afghanistan         423              18           14                4.26   \n",
       "1       Albania         400             154           22               38.50   \n",
       "2       Algeria        1468             113          193                7.70   \n",
       "3       Andorra         545              39           22                7.16   \n",
       "4        Angola          17               2            2               11.76   \n",
       "\n",
       "   death percentage  \n",
       "0              3.31  \n",
       "1              5.50  \n",
       "2             13.15  \n",
       "3              4.04  \n",
       "4             11.76  "
      ]
     },
     "execution_count": 105,
     "metadata": {},
     "output_type": "execute_result"
    }
   ],
   "source": [
    "ratio_df = corona_df.groupby(by = 'Country,Other')['TotalCases','TotalRecovered','TotalDeaths'].sum().reset_index()\n",
    "ratio_df['RecoveryPercentage'] =  round(((ratio_df['TotalRecovered']) / (ratio_df['TotalCases'])) * 100 , 2)\n",
    "ratio_df['death percentage'] =  round(((ratio_df['TotalDeaths']) / (ratio_df['TotalCases'])) * 100 , 2)\n",
    "ratio_df.head()\n"
   ]
  },
  {
   "cell_type": "code",
   "execution_count": 106,
   "metadata": {},
   "outputs": [
    {
     "name": "stdout",
     "output_type": "stream",
     "text": [
      "   Country,Other  TotalCases  death percentage\n",
      "2          Italy      135586             12.63\n",
      "7             UK       55242             11.15\n",
      "11   Netherlands       20549             10.94\n",
      "1          Spain      146690              9.92\n",
      "9        Belgium       23403              9.57\n",
      "3         France      109069              9.47\n",
      "19        Sweden        8419              8.16\n",
      "6           Iran       64586              6.18\n",
      "13        Brazil       14152              4.94\n",
      "5          China       81802              4.07\n",
      "10   Switzerland       22789              3.76\n",
      "0            USA      400549              3.21\n",
      "14      Portugal       13141              2.89\n",
      "8         Turkey       34109              2.13\n",
      "12        Canada       17897              2.13\n",
      "15       Austria       12852              2.12\n",
      "16       S.Korea       10384              1.93\n",
      "4        Germany      107663              1.87\n",
      "17        Israel        9404              0.77\n",
      "18        Russia        8672              0.73\n"
     ]
    }
   ],
   "source": [
    "ratio_top=ratio_df.groupby(by = 'Country,Other')['TotalCases','death percentage'].sum().sort_values('TotalCases',ascending = False).head(20).reset_index()\n",
    "ratio_top=ratio_top.sort_values('death percentage',ascending = False)\n",
    "print(ratio_top)"
   ]
  },
  {
   "cell_type": "code",
   "execution_count": 107,
   "metadata": {},
   "outputs": [
    {
     "data": {
      "text/plain": [
       "[Text(0, 0.5, 'Country'), Text(0.5, 0, 'Mortality Rate in percentage')]"
      ]
     },
     "execution_count": 107,
     "metadata": {},
     "output_type": "execute_result"
    },
    {
     "data": {
      "image/png": "[encoded data removed]",
      "text/plain": [
       "<Figure size 1080x720 with 1 Axes>"
      ]
     },
     "metadata": {
      "needs_background": "light"
     },
     "output_type": "display_data"
    }
   ],
   "source": [
    "plt.figure(figsize= (15,10))\n",
    "plt.xticks(fontsize = 15)\n",
    "plt.yticks(fontsize = 15)\n",
    "plt.xlabel(\"Total cases\",fontsize = 30)\n",
    "plt.ylabel('Country',fontsize = 30)\n",
    "plt.title(\"Top 20 countries with acticvecases- mortality rate\" , fontsize = 30)\n",
    "ax = sns.barplot(x = ratio_top['death percentage'], y = ratio_top['Country,Other'],palette = 'inferno')\n",
    "ax.set(xlabel='Mortality Rate in percentage', ylabel='Country')"
   ]
  },
  {
   "cell_type": "markdown",
   "metadata": {},
   "source": [
    "Italy is at the top and this percentage rate is very scary. It seems that they have lost control over the spread of covid-19 and cannot contain it."
   ]
  },
  {
   "cell_type": "code",
   "execution_count": 108,
   "metadata": {},
   "outputs": [
    {
     "name": "stdout",
     "output_type": "stream",
     "text": [
      "   Country,Other  TotalCases  RecoveryPercentage\n",
      "5          China       81802               94.47\n",
      "16       S.Korea       10384               65.25\n",
      "6           Iran       64586               41.87\n",
      "10   Switzerland       22789               38.19\n",
      "15       Austria       12852               35.11\n",
      "4        Germany      107663               33.51\n",
      "1          Spain      146690               32.74\n",
      "12        Canada       17897               22.51\n",
      "9        Belgium       23403               20.00\n",
      "2          Italy      135586               17.99\n",
      "3         France      109069               17.73\n",
      "17        Israel        9404                8.52\n",
      "18        Russia        8672                6.69\n",
      "0            USA      400549                5.42\n",
      "8         Turkey       34109                4.64\n",
      "19        Sweden        8419                2.43\n",
      "14      Portugal       13141                1.49\n",
      "11   Netherlands       20549                1.22\n",
      "13        Brazil       14152                0.90\n",
      "7             UK       55242                0.24\n"
     ]
    }
   ],
   "source": [
    "ratio_top_r=ratio_df.groupby(by = 'Country,Other')['TotalCases','RecoveryPercentage'].sum().sort_values('TotalCases',ascending = False).head(20).reset_index()\n",
    "ratio_top_r=ratio_top_r.sort_values('RecoveryPercentage',ascending = False)\n",
    "print(ratio_top_r)"
   ]
  },
  {
   "cell_type": "code",
   "execution_count": 109,
   "metadata": {},
   "outputs": [
    {
     "data": {
      "text/plain": [
       "[Text(0, 0.5, 'Country'), Text(0.5, 0, 'Recovery Rate in percentage')]"
      ]
     },
     "execution_count": 109,
     "metadata": {},
     "output_type": "execute_result"
    },
    {
     "data": {
      "image/png": "[encoded data removed]",
      "text/plain": [
       "<Figure size 1080x720 with 1 Axes>"
      ]
     },
     "metadata": {
      "needs_background": "light"
     },
     "output_type": "display_data"
    }
   ],
   "source": [
    "plt.figure(figsize= (15,10))\n",
    "plt.xticks(fontsize = 15)\n",
    "plt.yticks(fontsize = 15)\n",
    "plt.xlabel(\"Total cases\",fontsize = 30)\n",
    "plt.ylabel('Country',fontsize = 30)\n",
    "plt.title(\"Top 20 countries with activecases recovery rate\" , fontsize = 30)\n",
    "ax = sns.barplot(x = ratio_top_r['RecoveryPercentage'], y = ratio_top_r['Country,Other'],palette = 'cividis')\n",
    "ax.set(xlabel='Recovery Rate in percentage', ylabel='Country')"
   ]
  },
  {
   "cell_type": "markdown",
   "metadata": {},
   "source": [
    "China and South Korea tops the chart and they are doing a remarkable job with a recovery rate of 90%. It tells us that in every 100 infected people, 90 people have recovered from the covid-19 virus.\n",
    "\n",
    "\n",
    "\n"
   ]
  },
  {
   "cell_type": "code",
   "execution_count": 110,
   "metadata": {},
   "outputs": [
    {
     "data": {
      "image/png": "[encoded data removed]",
      "text/plain": [
       "<Figure size 576x576 with 1 Axes>"
      ]
     },
     "metadata": {},
     "output_type": "display_data"
    }
   ],
   "source": [
    "labels = ['Stable cases', 'Critical cases', 'Total recoverd', 'Total deaths']\n",
    "sizes = [(corona_df['ActiveCases'].sum()-corona_df['Serious,Critical'].sum()),corona_df['Serious,Critical'].sum(),corona_df['TotalRecovered'].sum(),corona_df['TotalDeaths'].sum()]\n",
    "colors = ['#1f95c4','#e34617', '#00fa70','#ff0026']\n",
    "explode = (0,0,0.2,0.2)\n",
    "plt.figure(figsize=(8,8))\n",
    "plt.pie(sizes,explode=explode,colors=colors,autopct='%1.1f%%', shadow=True, startangle=45)\n",
    "plt.title(\"Total Covid-19 cases around the world\",fontsize = 30)\n",
    "#ax1.legend(labels, loc=\"best\")\n",
    "plt.legend(labels, loc=\"best\")\n",
    "plt.show()\n"
   ]
  },
  {
   "cell_type": "code",
   "execution_count": 111,
   "metadata": {},
   "outputs": [
    {
     "data": {
      "image/png": "[encoded data removed]",
      "text/plain": [
       "<Figure size 720x1080 with 1 Axes>"
      ]
     },
     "metadata": {},
     "output_type": "display_data"
    }
   ],
   "source": [
    "# Pie chart\n",
    "labels = ['Total recoverd','Total deaths']\n",
    "sizes = [corona_df['TotalRecovered'].sum(),corona_df['TotalDeaths'].sum()]\n",
    "sizes_total_were_sick=[corona_df['TotalRecovered'].sum()+corona_df['TotalDeaths'].sum()]\n",
    "colors = ['#1f95c4','#ff0026']\n",
    "#explsion\n",
    "explode = (0.05,0.05)\n",
    "plt.figure(figsize=(10,15))\n",
    "plt.pie(sizes, colors = colors, labels=labels, autopct='%1.1f%%', startangle=90, pctdistance=0.85, explode = explode)\n",
    "plt.title(\"COVID - 19 recovered compared to those who did not survive\",fontsize = 25)\n",
    "\n",
    "#draw circle\n",
    "centre_circle = plt.Circle((0,0),0.70,fc='white')\n",
    "fig = plt.gcf()\n",
    "fig.gca().add_artist(centre_circle)\n",
    "# Equal aspect ratio ensures that pie is drawn as a circle\n",
    "plt.tight_layout()\n",
    "plt.show()\n",
    "\n",
    "\n",
    "\n",
    "\n",
    "# Plot\n",
    "#plt.pie(sizes, labels=labels, colors=colors, startangle=90,frame=True)\n",
    "#plt.pie(sizes_gender,colors=colors_gender,radius=0.75,startangle=90)\n"
   ]
  },
  {
   "cell_type": "markdown",
   "metadata": {},
   "source": [
    "# Prediction\n",
    "<img src=\"./picture/l-237109.jpg\" Width=\"600\"/>\n"
   ]
  },
  {
   "cell_type": "markdown",
   "metadata": {},
   "source": [
    "### For prediction -we will use first dataframe with Time series of all covid-19 spread per day untill today"
   ]
  },
  {
   "cell_type": "code",
   "execution_count": 112,
   "metadata": {},
   "outputs": [
    {
     "data": {
      "text/html": [
       "<div>\n",
       "<style scoped>\n",
       "    .dataframe tbody tr th:only-of-type {\n",
       "        vertical-align: middle;\n",
       "    }\n",
       "\n",
       "    .dataframe tbody tr th {\n",
       "        vertical-align: top;\n",
       "    }\n",
       "\n",
       "    .dataframe thead th {\n",
       "        text-align: right;\n",
       "    }\n",
       "</style>\n",
       "<table border=\"1\" class=\"dataframe\">\n",
       "  <thead>\n",
       "    <tr style=\"text-align: right;\">\n",
       "      <th></th>\n",
       "      <th>Province/State</th>\n",
       "      <th>Country/Region</th>\n",
       "      <th>Lat</th>\n",
       "      <th>Long</th>\n",
       "      <th>1/22/20</th>\n",
       "      <th>1/23/20</th>\n",
       "      <th>1/24/20</th>\n",
       "      <th>1/25/20</th>\n",
       "      <th>1/26/20</th>\n",
       "      <th>1/27/20</th>\n",
       "      <th>...</th>\n",
       "      <th>3/29/20</th>\n",
       "      <th>3/30/20</th>\n",
       "      <th>3/31/20</th>\n",
       "      <th>4/1/20</th>\n",
       "      <th>4/2/20</th>\n",
       "      <th>4/3/20</th>\n",
       "      <th>4/4/20</th>\n",
       "      <th>4/5/20</th>\n",
       "      <th>4/6/20</th>\n",
       "      <th>4/7/20</th>\n",
       "    </tr>\n",
       "  </thead>\n",
       "  <tbody>\n",
       "    <tr>\n",
       "      <td>0</td>\n",
       "      <td>NaN</td>\n",
       "      <td>Afghanistan</td>\n",
       "      <td>33.00000</td>\n",
       "      <td>65.000000</td>\n",
       "      <td>0</td>\n",
       "      <td>0</td>\n",
       "      <td>0</td>\n",
       "      <td>0</td>\n",
       "      <td>0</td>\n",
       "      <td>0</td>\n",
       "      <td>...</td>\n",
       "      <td>120</td>\n",
       "      <td>170</td>\n",
       "      <td>174</td>\n",
       "      <td>237</td>\n",
       "      <td>273</td>\n",
       "      <td>281</td>\n",
       "      <td>299</td>\n",
       "      <td>349</td>\n",
       "      <td>367</td>\n",
       "      <td>423</td>\n",
       "    </tr>\n",
       "    <tr>\n",
       "      <td>1</td>\n",
       "      <td>NaN</td>\n",
       "      <td>Albania</td>\n",
       "      <td>41.15330</td>\n",
       "      <td>20.168300</td>\n",
       "      <td>0</td>\n",
       "      <td>0</td>\n",
       "      <td>0</td>\n",
       "      <td>0</td>\n",
       "      <td>0</td>\n",
       "      <td>0</td>\n",
       "      <td>...</td>\n",
       "      <td>212</td>\n",
       "      <td>223</td>\n",
       "      <td>243</td>\n",
       "      <td>259</td>\n",
       "      <td>277</td>\n",
       "      <td>304</td>\n",
       "      <td>333</td>\n",
       "      <td>361</td>\n",
       "      <td>377</td>\n",
       "      <td>383</td>\n",
       "    </tr>\n",
       "    <tr>\n",
       "      <td>2</td>\n",
       "      <td>NaN</td>\n",
       "      <td>Algeria</td>\n",
       "      <td>28.03390</td>\n",
       "      <td>1.659600</td>\n",
       "      <td>0</td>\n",
       "      <td>0</td>\n",
       "      <td>0</td>\n",
       "      <td>0</td>\n",
       "      <td>0</td>\n",
       "      <td>0</td>\n",
       "      <td>...</td>\n",
       "      <td>511</td>\n",
       "      <td>584</td>\n",
       "      <td>716</td>\n",
       "      <td>847</td>\n",
       "      <td>986</td>\n",
       "      <td>1171</td>\n",
       "      <td>1251</td>\n",
       "      <td>1320</td>\n",
       "      <td>1423</td>\n",
       "      <td>1468</td>\n",
       "    </tr>\n",
       "    <tr>\n",
       "      <td>3</td>\n",
       "      <td>NaN</td>\n",
       "      <td>Andorra</td>\n",
       "      <td>42.50630</td>\n",
       "      <td>1.521800</td>\n",
       "      <td>0</td>\n",
       "      <td>0</td>\n",
       "      <td>0</td>\n",
       "      <td>0</td>\n",
       "      <td>0</td>\n",
       "      <td>0</td>\n",
       "      <td>...</td>\n",
       "      <td>334</td>\n",
       "      <td>370</td>\n",
       "      <td>376</td>\n",
       "      <td>390</td>\n",
       "      <td>428</td>\n",
       "      <td>439</td>\n",
       "      <td>466</td>\n",
       "      <td>501</td>\n",
       "      <td>525</td>\n",
       "      <td>545</td>\n",
       "    </tr>\n",
       "    <tr>\n",
       "      <td>4</td>\n",
       "      <td>NaN</td>\n",
       "      <td>Angola</td>\n",
       "      <td>-11.20270</td>\n",
       "      <td>17.873900</td>\n",
       "      <td>0</td>\n",
       "      <td>0</td>\n",
       "      <td>0</td>\n",
       "      <td>0</td>\n",
       "      <td>0</td>\n",
       "      <td>0</td>\n",
       "      <td>...</td>\n",
       "      <td>7</td>\n",
       "      <td>7</td>\n",
       "      <td>7</td>\n",
       "      <td>8</td>\n",
       "      <td>8</td>\n",
       "      <td>8</td>\n",
       "      <td>10</td>\n",
       "      <td>14</td>\n",
       "      <td>16</td>\n",
       "      <td>17</td>\n",
       "    </tr>\n",
       "    <tr>\n",
       "      <td>...</td>\n",
       "      <td>...</td>\n",
       "      <td>...</td>\n",
       "      <td>...</td>\n",
       "      <td>...</td>\n",
       "      <td>...</td>\n",
       "      <td>...</td>\n",
       "      <td>...</td>\n",
       "      <td>...</td>\n",
       "      <td>...</td>\n",
       "      <td>...</td>\n",
       "      <td>...</td>\n",
       "      <td>...</td>\n",
       "      <td>...</td>\n",
       "      <td>...</td>\n",
       "      <td>...</td>\n",
       "      <td>...</td>\n",
       "      <td>...</td>\n",
       "      <td>...</td>\n",
       "      <td>...</td>\n",
       "      <td>...</td>\n",
       "      <td>...</td>\n",
       "    </tr>\n",
       "    <tr>\n",
       "      <td>258</td>\n",
       "      <td>Falkland Islands (Malvinas)</td>\n",
       "      <td>United Kingdom</td>\n",
       "      <td>-51.79630</td>\n",
       "      <td>-59.523600</td>\n",
       "      <td>0</td>\n",
       "      <td>0</td>\n",
       "      <td>0</td>\n",
       "      <td>0</td>\n",
       "      <td>0</td>\n",
       "      <td>0</td>\n",
       "      <td>...</td>\n",
       "      <td>0</td>\n",
       "      <td>0</td>\n",
       "      <td>0</td>\n",
       "      <td>0</td>\n",
       "      <td>0</td>\n",
       "      <td>0</td>\n",
       "      <td>1</td>\n",
       "      <td>2</td>\n",
       "      <td>2</td>\n",
       "      <td>2</td>\n",
       "    </tr>\n",
       "    <tr>\n",
       "      <td>259</td>\n",
       "      <td>Saint Pierre and Miquelon</td>\n",
       "      <td>France</td>\n",
       "      <td>46.88520</td>\n",
       "      <td>-56.315900</td>\n",
       "      <td>0</td>\n",
       "      <td>0</td>\n",
       "      <td>0</td>\n",
       "      <td>0</td>\n",
       "      <td>0</td>\n",
       "      <td>0</td>\n",
       "      <td>...</td>\n",
       "      <td>0</td>\n",
       "      <td>0</td>\n",
       "      <td>0</td>\n",
       "      <td>0</td>\n",
       "      <td>0</td>\n",
       "      <td>0</td>\n",
       "      <td>0</td>\n",
       "      <td>1</td>\n",
       "      <td>1</td>\n",
       "      <td>1</td>\n",
       "    </tr>\n",
       "    <tr>\n",
       "      <td>260</td>\n",
       "      <td>NaN</td>\n",
       "      <td>South Sudan</td>\n",
       "      <td>6.87700</td>\n",
       "      <td>31.307000</td>\n",
       "      <td>0</td>\n",
       "      <td>0</td>\n",
       "      <td>0</td>\n",
       "      <td>0</td>\n",
       "      <td>0</td>\n",
       "      <td>0</td>\n",
       "      <td>...</td>\n",
       "      <td>0</td>\n",
       "      <td>0</td>\n",
       "      <td>0</td>\n",
       "      <td>0</td>\n",
       "      <td>0</td>\n",
       "      <td>0</td>\n",
       "      <td>0</td>\n",
       "      <td>1</td>\n",
       "      <td>1</td>\n",
       "      <td>2</td>\n",
       "    </tr>\n",
       "    <tr>\n",
       "      <td>261</td>\n",
       "      <td>NaN</td>\n",
       "      <td>Western Sahara</td>\n",
       "      <td>24.21550</td>\n",
       "      <td>-12.885800</td>\n",
       "      <td>0</td>\n",
       "      <td>0</td>\n",
       "      <td>0</td>\n",
       "      <td>0</td>\n",
       "      <td>0</td>\n",
       "      <td>0</td>\n",
       "      <td>...</td>\n",
       "      <td>0</td>\n",
       "      <td>0</td>\n",
       "      <td>0</td>\n",
       "      <td>0</td>\n",
       "      <td>0</td>\n",
       "      <td>0</td>\n",
       "      <td>0</td>\n",
       "      <td>4</td>\n",
       "      <td>4</td>\n",
       "      <td>4</td>\n",
       "    </tr>\n",
       "    <tr>\n",
       "      <td>262</td>\n",
       "      <td>NaN</td>\n",
       "      <td>Sao Tome and Principe</td>\n",
       "      <td>0.18636</td>\n",
       "      <td>6.613081</td>\n",
       "      <td>0</td>\n",
       "      <td>0</td>\n",
       "      <td>0</td>\n",
       "      <td>0</td>\n",
       "      <td>0</td>\n",
       "      <td>0</td>\n",
       "      <td>...</td>\n",
       "      <td>0</td>\n",
       "      <td>0</td>\n",
       "      <td>0</td>\n",
       "      <td>0</td>\n",
       "      <td>0</td>\n",
       "      <td>0</td>\n",
       "      <td>0</td>\n",
       "      <td>0</td>\n",
       "      <td>4</td>\n",
       "      <td>4</td>\n",
       "    </tr>\n",
       "  </tbody>\n",
       "</table>\n",
       "<p>263 rows × 81 columns</p>\n",
       "</div>"
      ],
      "text/plain": [
       "                  Province/State         Country/Region       Lat       Long  \\\n",
       "0                            NaN            Afghanistan  33.00000  65.000000   \n",
       "1                            NaN                Albania  41.15330  20.168300   \n",
       "2                            NaN                Algeria  28.03390   1.659600   \n",
       "3                            NaN                Andorra  42.50630   1.521800   \n",
       "4                            NaN                 Angola -11.20270  17.873900   \n",
       "..                           ...                    ...       ...        ...   \n",
       "258  Falkland Islands (Malvinas)         United Kingdom -51.79630 -59.523600   \n",
       "259    Saint Pierre and Miquelon                 France  46.88520 -56.315900   \n",
       "260                          NaN            South Sudan   6.87700  31.307000   \n",
       "261                          NaN         Western Sahara  24.21550 -12.885800   \n",
       "262                          NaN  Sao Tome and Principe   0.18636   6.613081   \n",
       "\n",
       "     1/22/20  1/23/20  1/24/20  1/25/20  1/26/20  1/27/20  ...  3/29/20  \\\n",
       "0          0        0        0        0        0        0  ...      120   \n",
       "1          0        0        0        0        0        0  ...      212   \n",
       "2          0        0        0        0        0        0  ...      511   \n",
       "3          0        0        0        0        0        0  ...      334   \n",
       "4          0        0        0        0        0        0  ...        7   \n",
       "..       ...      ...      ...      ...      ...      ...  ...      ...   \n",
       "258        0        0        0        0        0        0  ...        0   \n",
       "259        0        0        0        0        0        0  ...        0   \n",
       "260        0        0        0        0        0        0  ...        0   \n",
       "261        0        0        0        0        0        0  ...        0   \n",
       "262        0        0        0        0        0        0  ...        0   \n",
       "\n",
       "     3/30/20  3/31/20  4/1/20  4/2/20  4/3/20  4/4/20  4/5/20  4/6/20  4/7/20  \n",
       "0        170      174     237     273     281     299     349     367     423  \n",
       "1        223      243     259     277     304     333     361     377     383  \n",
       "2        584      716     847     986    1171    1251    1320    1423    1468  \n",
       "3        370      376     390     428     439     466     501     525     545  \n",
       "4          7        7       8       8       8      10      14      16      17  \n",
       "..       ...      ...     ...     ...     ...     ...     ...     ...     ...  \n",
       "258        0        0       0       0       0       1       2       2       2  \n",
       "259        0        0       0       0       0       0       1       1       1  \n",
       "260        0        0       0       0       0       0       1       1       2  \n",
       "261        0        0       0       0       0       0       4       4       4  \n",
       "262        0        0       0       0       0       0       0       4       4  \n",
       "\n",
       "[263 rows x 81 columns]"
      ]
     },
     "execution_count": 112,
     "metadata": {},
     "output_type": "execute_result"
    }
   ],
   "source": [
    "#Our dataset with active case time series per each country\n",
    "df_confirmed\n"
   ]
  },
  {
   "cell_type": "code",
   "execution_count": 113,
   "metadata": {},
   "outputs": [
    {
     "data": {
      "text/html": [
       "<div>\n",
       "<style scoped>\n",
       "    .dataframe tbody tr th:only-of-type {\n",
       "        vertical-align: middle;\n",
       "    }\n",
       "\n",
       "    .dataframe tbody tr th {\n",
       "        vertical-align: top;\n",
       "    }\n",
       "\n",
       "    .dataframe thead th {\n",
       "        text-align: right;\n",
       "    }\n",
       "</style>\n",
       "<table border=\"1\" class=\"dataframe\">\n",
       "  <thead>\n",
       "    <tr style=\"text-align: right;\">\n",
       "      <th></th>\n",
       "      <th>1/22/20</th>\n",
       "      <th>1/23/20</th>\n",
       "      <th>1/24/20</th>\n",
       "      <th>1/25/20</th>\n",
       "      <th>1/26/20</th>\n",
       "      <th>1/27/20</th>\n",
       "      <th>1/28/20</th>\n",
       "      <th>1/29/20</th>\n",
       "      <th>1/30/20</th>\n",
       "      <th>1/31/20</th>\n",
       "      <th>...</th>\n",
       "      <th>3/29/20</th>\n",
       "      <th>3/30/20</th>\n",
       "      <th>3/31/20</th>\n",
       "      <th>4/1/20</th>\n",
       "      <th>4/2/20</th>\n",
       "      <th>4/3/20</th>\n",
       "      <th>4/4/20</th>\n",
       "      <th>4/5/20</th>\n",
       "      <th>4/6/20</th>\n",
       "      <th>4/7/20</th>\n",
       "    </tr>\n",
       "  </thead>\n",
       "  <tbody>\n",
       "    <tr>\n",
       "      <td>136</td>\n",
       "      <td>0</td>\n",
       "      <td>0</td>\n",
       "      <td>0</td>\n",
       "      <td>0</td>\n",
       "      <td>0</td>\n",
       "      <td>0</td>\n",
       "      <td>0</td>\n",
       "      <td>0</td>\n",
       "      <td>0</td>\n",
       "      <td>0</td>\n",
       "      <td>...</td>\n",
       "      <td>4247</td>\n",
       "      <td>4695</td>\n",
       "      <td>5358</td>\n",
       "      <td>6092</td>\n",
       "      <td>6857</td>\n",
       "      <td>7428</td>\n",
       "      <td>7851</td>\n",
       "      <td>8430</td>\n",
       "      <td>8904</td>\n",
       "      <td>9248</td>\n",
       "    </tr>\n",
       "  </tbody>\n",
       "</table>\n",
       "<p>1 rows × 77 columns</p>\n",
       "</div>"
      ],
      "text/plain": [
       "     1/22/20  1/23/20  1/24/20  1/25/20  1/26/20  1/27/20  1/28/20  1/29/20  \\\n",
       "136        0        0        0        0        0        0        0        0   \n",
       "\n",
       "     1/30/20  1/31/20  ...  3/29/20  3/30/20  3/31/20  4/1/20  4/2/20  4/3/20  \\\n",
       "136        0        0  ...     4247     4695     5358    6092    6857    7428   \n",
       "\n",
       "     4/4/20  4/5/20  4/6/20  4/7/20  \n",
       "136    7851    8430    8904    9248  \n",
       "\n",
       "[1 rows x 77 columns]"
      ]
     },
     "execution_count": 113,
     "metadata": {},
     "output_type": "execute_result"
    }
   ],
   "source": [
    "#Israel confirmed cases time series\n",
    "israel=df_confirmed[df_confirmed['Country/Region'] == 'Israel']\n",
    "israel_confirmed=israel.loc[:, new_cols[4]:new_cols[-1]]\n",
    "israel_confirmed \n"
   ]
  },
  {
   "cell_type": "markdown",
   "metadata": {},
   "source": [
    "### prepare list of active cases per day(Worldwide/Israel)"
   ]
  },
  {
   "cell_type": "code",
   "execution_count": 114,
   "metadata": {},
   "outputs": [],
   "source": [
    "world_cases = [] # sum of all active cases numbers (each day per global)\n",
    "israel_cases= [] # sum of all active cases numbers (each day per country=Israel)\n",
    "\n",
    "#create list of all active cases worldwide and for Israel\n",
    "for i in dates:\n",
    "    confirmed_sum = confirmed[i].sum() #sum of each column per day\n",
    "    world_cases.append(confirmed_sum) # list of all cases per day\n",
    "    il_sum=israel_confirmed[i].sum()\n",
    "    israel_cases.append(il_sum)# list of all cases in Israel per day\n",
    "\n",
    "    \n",
    "\n"
   ]
  },
  {
   "cell_type": "markdown",
   "metadata": {},
   "source": [
    "### preparing for the model"
   ]
  },
  {
   "cell_type": "code",
   "execution_count": 115,
   "metadata": {},
   "outputs": [],
   "source": [
    "days_in_future = 10 #days of predicition\n",
    "future_forcast = np.array([i for i in range(len(dates)+days_in_future)]).reshape(-1, 1) #list 0-85\n",
    "adjusted_dates = future_forcast[:-10] #list 0-85"
   ]
  },
  {
   "cell_type": "code",
   "execution_count": 116,
   "metadata": {},
   "outputs": [],
   "source": [
    "days_since_1_22 = np.array([i for i in range(len(dates))]).reshape(-1, 1) ##list 0-75\n"
   ]
  },
  {
   "cell_type": "markdown",
   "metadata": {},
   "source": [
    "Time objects prepare"
   ]
  },
  {
   "cell_type": "code",
   "execution_count": 117,
   "metadata": {},
   "outputs": [],
   "source": [
    "start = '1/22/2020'\n",
    "start_date = datetime.datetime.strptime(start, '%m/%d/%Y') #convert to datetime-object\n",
    "future_forcast_dates = []\n",
    "for i in range(len(future_forcast)):\n",
    "    future_forcast_dates.append((start_date + datetime.timedelta(days=i)).strftime('%m/%d/%Y')) #future_forcast_dates = list of datetime objects + prediction days"
   ]
  },
  {
   "cell_type": "markdown",
   "metadata": {},
   "source": [
    "### Splitting data to train and test for the model"
   ]
  },
  {
   "cell_type": "code",
   "execution_count": 118,
   "metadata": {},
   "outputs": [],
   "source": [
    "#days_since_1_22 = list [0-75]  - X for the model\n",
    "#world cases= list of cases per day - Y for the model\n",
    "\n",
    "X_train_confirmed, X_test_confirmed, y_train_confirmed, y_test_confirmed = train_test_split(days_since_1_22, world_cases, test_size=0.10, shuffle=False)  "
   ]
  },
  {
   "cell_type": "code",
   "execution_count": 119,
   "metadata": {},
   "outputs": [],
   "source": [
    "# transform our data for polynomial regression\n",
    "poly = PolynomialFeatures(degree=4)\n",
    "poly_X_train_confirmed = poly.fit_transform(X_train_confirmed)\n",
    "poly_X_test_confirmed = poly.fit_transform(X_test_confirmed)\n",
    "poly_future_forcast = poly.fit_transform(future_forcast)"
   ]
  },
  {
   "cell_type": "markdown",
   "metadata": {},
   "source": [
    "### Polynomail regression model for prediction time series"
   ]
  },
  {
   "cell_type": "code",
   "execution_count": 129,
   "metadata": {},
   "outputs": [
    {
     "name": "stdout",
     "output_type": "stream",
     "text": [
      "MAE: 564.2697595716963\n",
      "0.6745327018019283\n",
      "727.2598560227746\n"
     ]
    }
   ],
   "source": [
    "# polynomial regression\n",
    "linear_model = LinearRegression(normalize=True, fit_intercept=False)\n",
    "linear_model.fit(poly_X_train_confirmed, y_train_confirmed)\n",
    "test_linear_pred = linear_model.predict(poly_X_test_confirmed)\n",
    "linear_pred = linear_model.predict(poly_future_forcast)\n",
    "print('MAE:', mean_absolute_error(test_linear_pred, y_test_confirmed))\n",
    "mse=mean_squared_error(test_linear_pred, y_test_confirmed)\n",
    "rmse=sqrt(mse)\n",
    "r2 = r2_score(y_test_confirmed,test_linear_pred)\n",
    "\n",
    "print(r2)\n",
    "print(rmse)\n"
   ]
  },
  {
   "cell_type": "code",
   "execution_count": 121,
   "metadata": {},
   "outputs": [
    {
     "data": {
      "text/plain": [
       "<matplotlib.legend.Legend at 0x210fc69b9c8>"
      ]
     },
     "execution_count": 121,
     "metadata": {},
     "output_type": "execute_result"
    },
    {
     "data": {
      "image/png": "[encoded data removed]",
      "text/plain": [
       "<Figure size 432x288 with 1 Axes>"
      ]
     },
     "metadata": {
      "needs_background": "light"
     },
     "output_type": "display_data"
    }
   ],
   "source": [
    "plt.plot(y_test_confirmed)\n",
    "plt.plot(test_linear_pred)\n",
    "plt.legend(['Test Data', 'Polynomial Regression Predictions'])"
   ]
  },
  {
   "cell_type": "code",
   "execution_count": 122,
   "metadata": {},
   "outputs": [
    {
     "data": {
      "image/png": "[encoded data removed]",
      "text/plain": [
       "<Figure size 1152x648 with 1 Axes>"
      ]
     },
     "metadata": {
      "needs_background": "light"
     },
     "output_type": "display_data"
    }
   ],
   "source": [
    "plt.figure(figsize=(16, 9))\n",
    "plt.plot(adjusted_dates, world_cases)\n",
    "plt.plot(future_forcast, linear_pred, linestyle='dashed', color='orange')\n",
    "plt.title('# of Coronavirus Cases Over Time', size=30)\n",
    "plt.xlabel('Days Since 1/22/2020', size=30)\n",
    "plt.ylabel('# of Cases', size=30)\n",
    "plt.legend(['Confirmed Cases', 'Polynomial Regression Predictions'], prop={'size': 20})\n",
    "plt.xticks(size=20)\n",
    "plt.yticks(size=20)\n",
    "plt.show()"
   ]
  },
  {
   "cell_type": "code",
   "execution_count": 123,
   "metadata": {},
   "outputs": [],
   "source": [
    "X_train_confirmed, X_test_confirmed, y_train_confirmed, y_test_confirmed = train_test_split(days_since_1_22, israel_cases, test_size=0.10, shuffle=False) "
   ]
  },
  {
   "cell_type": "code",
   "execution_count": 124,
   "metadata": {},
   "outputs": [],
   "source": [
    "# transform our data for polynomial regression\n",
    "poly = PolynomialFeatures(degree=4)\n",
    "poly_X_train_confirmed = poly.fit_transform(X_train_confirmed)\n",
    "poly_X_test_confirmed = poly.fit_transform(X_test_confirmed)\n",
    "poly_future_forcast = poly.fit_transform(future_forcast)"
   ]
  },
  {
   "cell_type": "code",
   "execution_count": 125,
   "metadata": {},
   "outputs": [
    {
     "name": "stdout",
     "output_type": "stream",
     "text": [
      "MAE: 564.2697595716963\n",
      "MSE: 528906.8981822669\n",
      "0.8533313678200765\n"
     ]
    }
   ],
   "source": [
    "# polynomial regression\n",
    "linear_model = LinearRegression(normalize=True, fit_intercept=False)\n",
    "linear_model.fit(poly_X_train_confirmed, y_train_confirmed)\n",
    "test_linear_pred = linear_model.predict(poly_X_test_confirmed)\n",
    "linear_pred = linear_model.predict(poly_future_forcast)\n",
    "print('MAE:', mean_absolute_error(test_linear_pred, y_test_confirmed))\n",
    "print('MSE:',mean_squared_error(test_linear_pred, y_test_confirmed))\n",
    "r2 = r2_score(test_linear_pred,y_test_confirmed)\n",
    "print(r2)"
   ]
  },
  {
   "cell_type": "code",
   "execution_count": 126,
   "metadata": {},
   "outputs": [
    {
     "data": {
      "text/plain": [
       "<matplotlib.legend.Legend at 0x210fc58e7c8>"
      ]
     },
     "execution_count": 126,
     "metadata": {},
     "output_type": "execute_result"
    },
    {
     "data": {
      "image/png": "[encoded data removed]",
      "text/plain": [
       "<Figure size 432x288 with 1 Axes>"
      ]
     },
     "metadata": {
      "needs_background": "light"
     },
     "output_type": "display_data"
    }
   ],
   "source": [
    "plt.plot(y_test_confirmed)\n",
    "plt.plot(test_linear_pred)\n",
    "plt.legend(['Test Data', 'Polynomial Regression Predictions'])"
   ]
  },
  {
   "cell_type": "code",
   "execution_count": 127,
   "metadata": {},
   "outputs": [
    {
     "data": {
      "image/png": "[encoded data removed]",
      "text/plain": [
       "<Figure size 1152x648 with 1 Axes>"
      ]
     },
     "metadata": {
      "needs_background": "light"
     },
     "output_type": "display_data"
    }
   ],
   "source": [
    "plt.figure(figsize=(16, 9))\n",
    "plt.plot(adjusted_dates, israel_cases)\n",
    "plt.plot(future_forcast, linear_pred, linestyle='dashed', color='orange')\n",
    "plt.title('# of Coronavirus Cases Over Time in israel', size=30)\n",
    "plt.xlabel('Days Since 1/22/2020', size=30)\n",
    "plt.ylabel('# of Cases', size=30)\n",
    "plt.legend(['Confirmed Cases', 'Polynomial Regression Predictions'], prop={'size': 20})\n",
    "plt.xticks(size=20)\n",
    "plt.yticks(size=20)\n",
    "plt.show()"
   ]
  },
  {
   "cell_type": "markdown",
   "metadata": {},
   "source": [
    "# Conclusions:"
   ]
  },
  {
   "cell_type": "markdown",
   "metadata": {},
   "source": [
    "#### We can see that the worldwide growth is exponential and our goal is to flat the epidemic curve as flat as possible. Our predictions predicts that the curve will keep grow and if will not start use any safety rules it will keep grow. The curve of illnes in China has been decreased, which means we all need to study from China to use Maximum safety safety rules, we can all help with this by washing our hands regularly, avoiding touching our mouth, nose, and eyes, and staying away from other people when we are sick. This also means calling ahead if you feel sick and want to go to the doctor or hospital.In this time of great distress, it is very important to do what we can to help the human community to fight this virus. Thanks to this project we have found that we need to do maximum efforts to flat the curve\n",
    "<img src=\"./picture/curve.jpg\" Width=\"600\"/>\n",
    "\n",
    "<img src=\"./picture/stop.jpg\" Width=\"600\"/>\n",
    "\n",
    "# 1.Wash your Hands\n",
    "# 2.Stay at home\n",
    "# 3.Dont shake Hands\n",
    "# 4.Keep out of people\n",
    "# 5.Dont cough into your hands\n",
    "# 6.Use Masks and gloves\n"
   ]
  }
 ],
 "metadata": {
  "kernelspec": {
   "display_name": "Python 3",
   "language": "python",
   "name": "python3"
  },
  "language_info": {
   "codemirror_mode": {
    "name": "ipython",
    "version": 3
   },
   "file_extension": ".py",
   "mimetype": "text/x-python",
   "name": "python",
   "nbconvert_exporter": "python",
   "pygments_lexer": "ipython3",
   "version": "3.7.4"
  }
 },
 "nbformat": 4,
 "nbformat_minor": 4
}
