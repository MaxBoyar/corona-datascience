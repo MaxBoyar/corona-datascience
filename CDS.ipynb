{
 "cells": [
  {
   "cell_type": "code",
   "execution_count": 36,
   "metadata": {},
   "outputs": [],
   "source": [
    "#Import Libraries#\n",
    "import requests\n",
    "import urllib.request\n",
    "import time\n",
    "from bs4 import BeautifulSoup\n",
    "import pandas as pd\n",
    "\n",
    "import matplotlib.pyplot as plt\n"
   ]
  },
  {
   "cell_type": "code",
   "execution_count": 2,
   "metadata": {},
   "outputs": [],
   "source": [
    "url=\"https://www.worldometers.info/coronavirus/\"\n",
    "\n",
    "response = requests.get(url) #Raw data\n",
    "\n",
    "soup = BeautifulSoup(response.text,\"html.parser\") #soup became bs4.beautifulsoup obj that holds all html\n",
    "\n",
    "##print(soup.prettify())\n",
    "\n",
    "text=soup.find(id=\"main_table_countries_today\").get_text()\n"
   ]
  },
  {
   "cell_type": "code",
   "execution_count": 3,
   "metadata": {},
   "outputs": [],
   "source": [
    "\n",
    "#cols_list=cols_raw.find_all('th')"
   ]
  },
  {
   "cell_type": "code",
   "execution_count": 4,
   "metadata": {},
   "outputs": [
    {
     "name": "stdout",
     "output_type": "stream",
     "text": [
      "['Country,Other', 'TotalCases', 'NewCases', 'TotalDeaths', 'NewDeaths', 'TotalRecovered', 'ActiveCases', 'Serious,Critical', 'Tot\\xa0Cases/1M pop', 'Deaths/1M pop', '1stcase']\n"
     ]
    }
   ],
   "source": [
    "#Create list of Columns\n",
    "cols_raw=soup.find('thead') #find Thead module\n",
    "cols=cols_raw.find_all(\"th\") #find all th in the Thead\n",
    "columns_list=[] #New list\n",
    "for x in cols: #append all th into list\n",
    "    columns_list.append(x.get_text())\n",
    "print(columns_list)"
   ]
  },
  {
   "cell_type": "code",
   "execution_count": 5,
   "metadata": {},
   "outputs": [],
   "source": [
    "# scrap All table\n",
    "list_of_lists=[] # list of lists for each row\n",
    "\n",
    "\n",
    "table_raw=soup.find('tbody')\n",
    "table=table_raw.find_all('tr')\n",
    "for row in table:\n",
    "    uni_row_list=[] #1 row list\n",
    "    uni_row=row.find_all('td')\n",
    "    for i in uni_row:\n",
    "        uni_row_list.append(i.get_text())\n",
    "    list_of_lists.append(uni_row_list)\n"
   ]
  },
  {
   "cell_type": "code",
   "execution_count": 6,
   "metadata": {},
   "outputs": [
    {
     "data": {
      "text/plain": [
       "201"
      ]
     },
     "execution_count": 6,
     "metadata": {},
     "output_type": "execute_result"
    }
   ],
   "source": [
    "len(list_of_lists)"
   ]
  },
  {
   "cell_type": "code",
   "execution_count": 14,
   "metadata": {},
   "outputs": [],
   "source": [
    "corona_df = pd.DataFrame.from_records(list_of_lists, columns=columns_list)\n"
   ]
  },
  {
   "cell_type": "code",
   "execution_count": 15,
   "metadata": {},
   "outputs": [
    {
     "data": {
      "text/html": [
       "<div>\n",
       "<style scoped>\n",
       "    .dataframe tbody tr th:only-of-type {\n",
       "        vertical-align: middle;\n",
       "    }\n",
       "\n",
       "    .dataframe tbody tr th {\n",
       "        vertical-align: top;\n",
       "    }\n",
       "\n",
       "    .dataframe thead th {\n",
       "        text-align: right;\n",
       "    }\n",
       "</style>\n",
       "<table border=\"1\" class=\"dataframe\">\n",
       "  <thead>\n",
       "    <tr style=\"text-align: right;\">\n",
       "      <th></th>\n",
       "      <th>Country,Other</th>\n",
       "      <th>TotalCases</th>\n",
       "      <th>NewCases</th>\n",
       "      <th>TotalDeaths</th>\n",
       "      <th>NewDeaths</th>\n",
       "      <th>TotalRecovered</th>\n",
       "      <th>ActiveCases</th>\n",
       "      <th>Serious,Critical</th>\n",
       "      <th>Tot Cases/1M pop</th>\n",
       "      <th>Deaths/1M pop</th>\n",
       "      <th>1stcase</th>\n",
       "    </tr>\n",
       "  </thead>\n",
       "  <tbody>\n",
       "    <tr>\n",
       "      <td>0</td>\n",
       "      <td>USA</td>\n",
       "      <td>141,854</td>\n",
       "      <td>+18,276</td>\n",
       "      <td>2,475</td>\n",
       "      <td>+255</td>\n",
       "      <td>4,435</td>\n",
       "      <td>134,944</td>\n",
       "      <td>2,970</td>\n",
       "      <td>429</td>\n",
       "      <td>7</td>\n",
       "      <td>\\nJan 20</td>\n",
       "    </tr>\n",
       "    <tr>\n",
       "      <td>1</td>\n",
       "      <td>Italy</td>\n",
       "      <td>97,689</td>\n",
       "      <td>+5,217</td>\n",
       "      <td>10,779</td>\n",
       "      <td>+756</td>\n",
       "      <td>13,030</td>\n",
       "      <td>73,880</td>\n",
       "      <td>3,906</td>\n",
       "      <td>1,616</td>\n",
       "      <td>178</td>\n",
       "      <td>\\nJan 29</td>\n",
       "    </tr>\n",
       "    <tr>\n",
       "      <td>2</td>\n",
       "      <td>Spain</td>\n",
       "      <td>80,110</td>\n",
       "      <td>+6,875</td>\n",
       "      <td>6,803</td>\n",
       "      <td>+821</td>\n",
       "      <td>14,709</td>\n",
       "      <td>58,598</td>\n",
       "      <td>4,165</td>\n",
       "      <td>1,713</td>\n",
       "      <td>146</td>\n",
       "      <td>\\nJan 30</td>\n",
       "    </tr>\n",
       "    <tr>\n",
       "      <td>3</td>\n",
       "      <td>Germany</td>\n",
       "      <td>62,095</td>\n",
       "      <td>+4,400</td>\n",
       "      <td>541</td>\n",
       "      <td>+108</td>\n",
       "      <td>9,211</td>\n",
       "      <td>52,343</td>\n",
       "      <td>1,979</td>\n",
       "      <td>741</td>\n",
       "      <td>6</td>\n",
       "      <td>\\nJan 26</td>\n",
       "    </tr>\n",
       "    <tr>\n",
       "      <td>4</td>\n",
       "      <td>France</td>\n",
       "      <td>40,174</td>\n",
       "      <td>+2,599</td>\n",
       "      <td>2,606</td>\n",
       "      <td>+292</td>\n",
       "      <td>7,202</td>\n",
       "      <td>30,366</td>\n",
       "      <td>4,632</td>\n",
       "      <td>615</td>\n",
       "      <td>40</td>\n",
       "      <td>\\nJan 23</td>\n",
       "    </tr>\n",
       "    <tr>\n",
       "      <td>...</td>\n",
       "      <td>...</td>\n",
       "      <td>...</td>\n",
       "      <td>...</td>\n",
       "      <td>...</td>\n",
       "      <td>...</td>\n",
       "      <td>...</td>\n",
       "      <td>...</td>\n",
       "      <td>...</td>\n",
       "      <td>...</td>\n",
       "      <td>...</td>\n",
       "      <td>...</td>\n",
       "    </tr>\n",
       "    <tr>\n",
       "      <td>196</td>\n",
       "      <td>Saint Kitts and Nevis</td>\n",
       "      <td>2</td>\n",
       "      <td></td>\n",
       "      <td></td>\n",
       "      <td></td>\n",
       "      <td></td>\n",
       "      <td>2</td>\n",
       "      <td></td>\n",
       "      <td>38</td>\n",
       "      <td></td>\n",
       "      <td>\\nMar 24</td>\n",
       "    </tr>\n",
       "    <tr>\n",
       "      <td>197</td>\n",
       "      <td>Papua New Guinea</td>\n",
       "      <td>1</td>\n",
       "      <td></td>\n",
       "      <td></td>\n",
       "      <td></td>\n",
       "      <td></td>\n",
       "      <td>1</td>\n",
       "      <td></td>\n",
       "      <td>0.1</td>\n",
       "      <td></td>\n",
       "      <td>\\nMar 19</td>\n",
       "    </tr>\n",
       "    <tr>\n",
       "      <td>198</td>\n",
       "      <td>St. Vincent Grenadines</td>\n",
       "      <td>1</td>\n",
       "      <td></td>\n",
       "      <td></td>\n",
       "      <td></td>\n",
       "      <td>1</td>\n",
       "      <td>0</td>\n",
       "      <td></td>\n",
       "      <td>9</td>\n",
       "      <td></td>\n",
       "      <td>\\nMar 10</td>\n",
       "    </tr>\n",
       "    <tr>\n",
       "      <td>199</td>\n",
       "      <td>Timor-Leste</td>\n",
       "      <td>1</td>\n",
       "      <td></td>\n",
       "      <td></td>\n",
       "      <td></td>\n",
       "      <td></td>\n",
       "      <td>1</td>\n",
       "      <td></td>\n",
       "      <td>0.8</td>\n",
       "      <td></td>\n",
       "      <td>\\nMar 20</td>\n",
       "    </tr>\n",
       "    <tr>\n",
       "      <td>200</td>\n",
       "      <td>China</td>\n",
       "      <td>81,439</td>\n",
       "      <td></td>\n",
       "      <td>3,300</td>\n",
       "      <td></td>\n",
       "      <td>75,448</td>\n",
       "      <td>2,691</td>\n",
       "      <td>742</td>\n",
       "      <td>57</td>\n",
       "      <td>2</td>\n",
       "      <td>\\nJan 10</td>\n",
       "    </tr>\n",
       "  </tbody>\n",
       "</table>\n",
       "<p>201 rows × 11 columns</p>\n",
       "</div>"
      ],
      "text/plain": [
       "              Country,Other TotalCases NewCases TotalDeaths NewDeaths  \\\n",
       "0                       USA    141,854  +18,276      2,475       +255   \n",
       "1                     Italy     97,689   +5,217     10,779       +756   \n",
       "2                     Spain     80,110   +6,875      6,803       +821   \n",
       "3                   Germany     62,095   +4,400        541       +108   \n",
       "4                    France     40,174   +2,599      2,606       +292   \n",
       "..                      ...        ...      ...         ...       ...   \n",
       "196   Saint Kitts and Nevis          2                                  \n",
       "197        Papua New Guinea          1                                  \n",
       "198  St. Vincent Grenadines          1                                  \n",
       "199             Timor-Leste          1                                  \n",
       "200                   China     81,439               3,300              \n",
       "\n",
       "    TotalRecovered ActiveCases Serious,Critical Tot Cases/1M pop  \\\n",
       "0            4,435     134,944            2,970              429   \n",
       "1           13,030      73,880            3,906            1,616   \n",
       "2           14,709      58,598            4,165            1,713   \n",
       "3            9,211      52,343            1,979              741   \n",
       "4            7,202      30,366            4,632              615   \n",
       "..             ...         ...              ...              ...   \n",
       "196                          2                                38   \n",
       "197                          1                               0.1   \n",
       "198              1           0                                 9   \n",
       "199                          1                               0.8   \n",
       "200         75,448       2,691              742               57   \n",
       "\n",
       "    Deaths/1M pop    1stcase  \n",
       "0               7  \\nJan 20   \n",
       "1             178  \\nJan 29   \n",
       "2             146  \\nJan 30   \n",
       "3               6  \\nJan 26   \n",
       "4              40  \\nJan 23   \n",
       "..            ...        ...  \n",
       "196                \\nMar 24   \n",
       "197                \\nMar 19   \n",
       "198                \\nMar 10   \n",
       "199                \\nMar 20   \n",
       "200             2  \\nJan 10   \n",
       "\n",
       "[201 rows x 11 columns]"
      ]
     },
     "execution_count": 15,
     "metadata": {},
     "output_type": "execute_result"
    }
   ],
   "source": [
    "corona_df"
   ]
  },
  {
   "cell_type": "code",
   "execution_count": 17,
   "metadata": {},
   "outputs": [
    {
     "name": "stdout",
     "output_type": "stream",
     "text": [
      "<class 'pandas.core.frame.DataFrame'>\n",
      "RangeIndex: 201 entries, 0 to 200\n",
      "Data columns (total 11 columns):\n",
      "Country,Other       201 non-null object\n",
      "TotalCases          201 non-null object\n",
      "NewCases            201 non-null object\n",
      "TotalDeaths         201 non-null object\n",
      "NewDeaths           201 non-null object\n",
      "TotalRecovered      201 non-null object\n",
      "ActiveCases         201 non-null object\n",
      "Serious,Critical    201 non-null object\n",
      "Tot Cases/1M pop    201 non-null object\n",
      "Deaths/1M pop       201 non-null object\n",
      "1stcase             201 non-null object\n",
      "dtypes: object(11)\n",
      "memory usage: 17.4+ KB\n",
      "None\n"
     ]
    }
   ],
   "source": [
    "# Reformat the data into useful datatypes\n",
    "print (corona_df.info())\n",
    "\n",
    "####Here we need to change all str's to int's ######"
   ]
  },
  {
   "cell_type": "code",
   "execution_count": 52,
   "metadata": {},
   "outputs": [],
   "source": [
    "#Convert Data into Usefull ints\n",
    "\n",
    "#corona_df.TotalCases=corona_df.TotalCases.str.replace(',', '')\n",
    "corona_df.TotalDeaths=corona_df.TotalDeaths.str.replace(',', '')\n",
    "corona_df.TotalDeaths=corona_df.TotalDeaths.str.replace(' ', '0')\n"
   ]
  },
  {
   "cell_type": "code",
   "execution_count": 50,
   "metadata": {},
   "outputs": [],
   "source": [
    "#corona_df.fillna(0, inplace=True)"
   ]
  },
  {
   "cell_type": "code",
   "execution_count": 53,
   "metadata": {},
   "outputs": [],
   "source": [
    "#corona_df.TotalCases=corona_df.TotalCases.astype(str).astype(int)\n",
    "corona_df.TotalDeaths=corona_df.TotalDeaths.astype(str).astype(int)"
   ]
  },
  {
   "cell_type": "code",
   "execution_count": 54,
   "metadata": {},
   "outputs": [
    {
     "name": "stdout",
     "output_type": "stream",
     "text": [
      "<class 'pandas.core.frame.DataFrame'>\n",
      "RangeIndex: 201 entries, 0 to 200\n",
      "Data columns (total 11 columns):\n",
      "Country,Other       201 non-null object\n",
      "TotalCases          201 non-null int32\n",
      "NewCases            201 non-null object\n",
      "TotalDeaths         201 non-null int32\n",
      "NewDeaths           201 non-null object\n",
      "TotalRecovered      201 non-null object\n",
      "ActiveCases         201 non-null object\n",
      "Serious,Critical    201 non-null object\n",
      "Tot Cases/1M pop    201 non-null object\n",
      "Deaths/1M pop       201 non-null object\n",
      "1stcase             201 non-null object\n",
      "dtypes: int32(2), object(9)\n",
      "memory usage: 15.8+ KB\n",
      "None\n"
     ]
    }
   ],
   "source": [
    "print (corona_df.info())\n"
   ]
  },
  {
   "cell_type": "code",
   "execution_count": 59,
   "metadata": {},
   "outputs": [],
   "source": [
    "deaths_num=corona_df.TotalDeaths\n",
    "region=corona_df[\"Country,Other\"]"
   ]
  },
  {
   "cell_type": "code",
   "execution_count": 68,
   "metadata": {},
   "outputs": [
    {
     "data": {
      "image/png": "[encoded data removed]",
      "text/plain": [
       "<Figure size 432x288 with 1 Axes>"
      ]
     },
     "metadata": {},
     "output_type": "display_data"
    }
   ],
   "source": [
    "labels=region\n",
    "sizes = deaths_num\n",
    "\n",
    "\n",
    "# Plot\n",
    "plt.title(\"Total Deaths World Wide per region\")\n",
    "plt.pie(sizes,labels=labels,autopct='%1.1f%%', shadow=True, startangle=140)\n",
    "plt.axis('equal')\n",
    "plt.show()"
   ]
  },
  {
   "cell_type": "code",
   "execution_count": null,
   "metadata": {},
   "outputs": [],
   "source": []
  },
  {
   "cell_type": "code",
   "execution_count": null,
   "metadata": {},
   "outputs": [],
   "source": []
  }
 ],
 "metadata": {
  "kernelspec": {
   "display_name": "Python 3",
   "language": "python",
   "name": "python3"
  },
  "language_info": {
   "codemirror_mode": {
    "name": "ipython",
    "version": 3
   },
   "file_extension": ".py",
   "mimetype": "text/x-python",
   "name": "python",
   "nbconvert_exporter": "python",
   "pygments_lexer": "ipython3",
   "version": "3.7.4"
  }
 },
 "nbformat": 4,
 "nbformat_minor": 4
}
