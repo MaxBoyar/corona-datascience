{
 "cells": [
  {
   "cell_type": "code",
   "execution_count": 101,
   "metadata": {},
   "outputs": [],
   "source": [
    "#Importings\n",
    "\n",
    "import requests\n",
    "import urllib.request\n",
    "import time\n",
    "from bs4 import BeautifulSoup\n",
    "import pandas as pd\n",
    "import numpy as np\n",
    "import seaborn as sns\n",
    "import matplotlib.pyplot as plt\n",
    "import plotly.express as px"
   ]
  },
  {
   "cell_type": "markdown",
   "metadata": {},
   "source": [
    "# Covid-19-Project 2020"
   ]
  },
  {
   "cell_type": "raw",
   "metadata": {},
   "source": [
    "Max Boyar -320407190\n",
    "Vladimir Sergienko-תמלא אחי"
   ]
  },
  {
   "cell_type": "markdown",
   "metadata": {},
   "source": [
    "# 1.Scrapping Data "
   ]
  },
  {
   "cell_type": "code",
   "execution_count": 102,
   "metadata": {},
   "outputs": [],
   "source": [
    "# Making Soup + Scrapping\n",
    "#song_soup=BeautifulSoup(open(\"https://www.worldometers.info/coronavirus/\"),\"html.parser\")# the output corresponds exactly to the html fil\n",
    "\n",
    "regions=['Africa','Europe','Latin caribbean','Northern america','Oceania']\n",
    "url='https://www.worldometers.info/coronavirus/'\n",
    "url1='https://www.worldometers.info/population/countries-in-asia-by-population/'\n",
    "Url_list=['https://www.worldometers.info/population/countries-in-africa-by-population/'\n",
    "          ,'https://www.worldometers.info/population/countries-in-europe-by-population/'\n",
    "          ,'https://www.worldometers.info/population/countries-in-latin-america-and-the-caribbean-by-population/'\n",
    "          ,'https://www.worldometers.info/population/countries-in-northern-america-by-population/'\n",
    "          ,'https://www.worldometers.info/population/countries-in-oceania-by-population/']"
   ]
  },
  {
   "cell_type": "code",
   "execution_count": 103,
   "metadata": {},
   "outputs": [],
   "source": [
    "def Df_by_rigion(url,reg,flag):\n",
    "    \n",
    "    response = requests.get(url)\n",
    "    soup = BeautifulSoup(response.text,\"html.parser\")\n",
    "    #Create list of Columns\n",
    "    cols_raw=soup.find('thead') #find Thead module\n",
    "    cols=cols_raw.find_all(\"th\") #find all th in the Thead\n",
    "    columns_list=[] #New list\n",
    "    \n",
    "    if(flag==0):\n",
    "        text=soup.find(id=\"example2\").get_text()\n",
    "        for x in cols: \n",
    "            if (x.get_text()=='Country (or dependency)' or x.get_text()=='Population (2020)' ):\n",
    "                columns_list.append(x.get_text()) #append all th into list\n",
    "            \n",
    "        # scrap All table\n",
    "        list_of_lists=[] # list of lists for each row\n",
    "        table_raw=soup.find('tbody')\n",
    "        table=table_raw.find_all('tr')\n",
    "  \n",
    "        for row in table:\n",
    "            counter=0\n",
    "            uni_row_list=[] #1 row list\n",
    "            uni_row=row.find_all('td')\n",
    "            for i in uni_row:\n",
    "                if(counter==1 or counter==2):\n",
    "                    uni_row_list.append(i.get_text())\n",
    "                counter+=1\n",
    "            list_of_lists.append(uni_row_list)\n",
    "        \n",
    "        corona_df_func = pd.DataFrame.from_records(list_of_lists, columns=columns_list)\n",
    "        corona_df_func['Region']=reg\n",
    "    else:\n",
    "        #response = requests.get(url)\n",
    "        #soup = BeautifulSoup(response.text,\"html.parser\")\n",
    "        #print(soup.prettify()) \n",
    "        #print(text)\n",
    "        #Create list of Columns\n",
    "        #cols_raw=soup.find('thead') #find Thead module\n",
    "        #cols=cols_raw.find_all(\"th\") #find all th in the Thead\n",
    "        #columns_list=[] #New list\n",
    "        text=soup.find(id=\"main_table_countries_today\").get_text()\n",
    "        for x in cols: #append all th into list\n",
    "            columns_list.append(x.get_text())\n",
    "        #print(columns_list)\n",
    "        # scrap All table\n",
    "        list_of_lists=[] # list of lists for each row\n",
    "        table_raw=soup.find('tbody')\n",
    "        table=table_raw.find_all('tr')\n",
    "        \n",
    "        for row in table:\n",
    "            uni_row_list=[] #1 row list\n",
    "            uni_row=row.find_all('td')\n",
    "            for i in uni_row:\n",
    "                uni_row_list.append(i.get_text())\n",
    "            list_of_lists.append(uni_row_list)\n",
    "        \n",
    "        corona_df_func = pd.DataFrame.from_records(list_of_lists, columns=columns_list)\n",
    "        corona_df_func['Population']='0'\n",
    "        corona_df_func['Region']='0'\n",
    "    return corona_df_func"
   ]
  },
  {
   "cell_type": "code",
   "execution_count": 104,
   "metadata": {},
   "outputs": [],
   "source": [
    "Reg_pop_df0=Df_by_rigion(url1,'Asia',0)\n",
    "counter=0\n",
    "for val in Url_list:\n",
    "    Reg_pop_df=Reg_pop_df0.append(Df_by_rigion(val,regions[counter],0))\n",
    "    Reg_pop_df0=Reg_pop_df\n",
    "    counter+=1"
   ]
  },
  {
   "cell_type": "code",
   "execution_count": 105,
   "metadata": {},
   "outputs": [],
   "source": [
    "#Testing, see with There is a connection with the site"
   ]
  },
  {
   "cell_type": "code",
   "execution_count": 106,
   "metadata": {},
   "outputs": [],
   "source": [
    "corona_df=Df_by_rigion(url,0,1)"
   ]
  },
  {
   "cell_type": "code",
   "execution_count": 107,
   "metadata": {},
   "outputs": [],
   "source": [
    "corona_df.drop(corona_df.columns[[8, 9]], axis = 1, inplace = True)"
   ]
  },
  {
   "cell_type": "code",
   "execution_count": 108,
   "metadata": {},
   "outputs": [],
   "source": [
    "Reg_pop_df['Country (or dependency)'].iloc[67]='IvoryCoast'\n",
    "counter=0\n",
    "for i in range (len(corona_df)):\n",
    "    for j in range (len(Reg_pop_df)):\n",
    "        if(Reg_pop_df['Country (or dependency)'].iloc[j]=='United States'):\n",
    "               Reg_pop_df['Country (or dependency)'].iloc[j]='USA'\n",
    "        if(Reg_pop_df['Country (or dependency)'].iloc[j]=='St. Vincent & Grenadines'):\n",
    "               Reg_pop_df['Country (or dependency)'].iloc[j]='St.VincentGrenadines'\n",
    "        if(Reg_pop_df['Country (or dependency)'].iloc[j]=='United Kingdom'):\n",
    "               Reg_pop_df['Country (or dependency)'].iloc[j]='UK'\n",
    "        if(Reg_pop_df['Country (or dependency)'].iloc[j]=='South Korea'):\n",
    "               Reg_pop_df['Country (or dependency)'].iloc[j]='S.Korea' \n",
    "        if(Reg_pop_df['Country (or dependency)'].iloc[j]=='Czech Republic (Czechia)'):\n",
    "               Reg_pop_df['Country (or dependency)'].iloc[j]='Czechia'\n",
    "        if(Reg_pop_df['Country (or dependency)'].iloc[j]=='United Arab Emirates'):\n",
    "               Reg_pop_df['Country (or dependency)'].iloc[j]='UAE'\n",
    "        if(Reg_pop_df['Country (or dependency)'].iloc[j]=='State of Palestine'):\n",
    "               Reg_pop_df['Country (or dependency)'].iloc[j]='Palestine'   \n",
    "        if(Reg_pop_df['Country (or dependency)'].iloc[j]=='DR Congo'):\n",
    "               Reg_pop_df['Country (or dependency)'].iloc[j]='DRC'\n",
    "        if(Reg_pop_df['Country (or dependency)'].iloc[j]=='Saint Kitts & Nevis'):\n",
    "               Reg_pop_df['Country (or dependency)'].iloc[j]='SaintKittsandNevis' \n",
    "        if(Reg_pop_df['Country (or dependency)'].iloc[j]=='Holy See'):\n",
    "               Reg_pop_df['Country (or dependency)'].iloc[j]='VaticanCity' \n",
    "        if(Reg_pop_df['Country (or dependency)'].iloc[j]=='Central African Republic'):\n",
    "               Reg_pop_df['Country (or dependency)'].iloc[j]='CAR'\n",
    "        if(Reg_pop_df['Country (or dependency)'].iloc[j]=='St. Vincent & Grenadines'):\n",
    "               Reg_pop_df['Country (or dependency)'].iloc[j]='St.VincentGrenadines'    \n",
    "        if(corona_df['Country,Other'].iloc[i]==Reg_pop_df['Country (or dependency)'].iloc[j]):\n",
    "            corona_df['Population'].iloc[i]=Reg_pop_df['Population (2020)'].iloc[j]\n",
    "            corona_df['Region'].iloc[i]=Reg_pop_df['Region'].iloc[j]\n",
    "            \n"
   ]
  },
  {
   "cell_type": "code",
   "execution_count": 109,
   "metadata": {},
   "outputs": [
    {
     "data": {
      "text/html": [
       "<div>\n",
       "<style scoped>\n",
       "    .dataframe tbody tr th:only-of-type {\n",
       "        vertical-align: middle;\n",
       "    }\n",
       "\n",
       "    .dataframe tbody tr th {\n",
       "        vertical-align: top;\n",
       "    }\n",
       "\n",
       "    .dataframe thead th {\n",
       "        text-align: right;\n",
       "    }\n",
       "</style>\n",
       "<table border=\"1\" class=\"dataframe\">\n",
       "  <thead>\n",
       "    <tr style=\"text-align: right;\">\n",
       "      <th></th>\n",
       "      <th>Country,Other</th>\n",
       "      <th>TotalCases</th>\n",
       "      <th>NewCases</th>\n",
       "      <th>TotalDeaths</th>\n",
       "      <th>NewDeaths</th>\n",
       "      <th>TotalRecovered</th>\n",
       "      <th>ActiveCases</th>\n",
       "      <th>Serious,Critical</th>\n",
       "      <th>Population</th>\n",
       "      <th>Region</th>\n",
       "    </tr>\n",
       "  </thead>\n",
       "  <tbody>\n",
       "    <tr>\n",
       "      <td>0</td>\n",
       "      <td>USA</td>\n",
       "      <td>265,506</td>\n",
       "      <td>+20,629</td>\n",
       "      <td>6,786</td>\n",
       "      <td>+716</td>\n",
       "      <td>11,983</td>\n",
       "      <td>246,737</td>\n",
       "      <td>5,781</td>\n",
       "      <td>331,002,651</td>\n",
       "      <td>Northern america</td>\n",
       "    </tr>\n",
       "    <tr>\n",
       "      <td>1</td>\n",
       "      <td>Italy</td>\n",
       "      <td>119,827</td>\n",
       "      <td>+4,585</td>\n",
       "      <td>14,681</td>\n",
       "      <td>+766</td>\n",
       "      <td>19,758</td>\n",
       "      <td>85,388</td>\n",
       "      <td>4,068</td>\n",
       "      <td>60,461,826</td>\n",
       "      <td>Europe</td>\n",
       "    </tr>\n",
       "    <tr>\n",
       "      <td>2</td>\n",
       "      <td>Spain</td>\n",
       "      <td>117,710</td>\n",
       "      <td>+5,645</td>\n",
       "      <td>10,935</td>\n",
       "      <td>+587</td>\n",
       "      <td>30,513</td>\n",
       "      <td>76,262</td>\n",
       "      <td>6,416</td>\n",
       "      <td>46,754,778</td>\n",
       "      <td>Europe</td>\n",
       "    </tr>\n",
       "    <tr>\n",
       "      <td>3</td>\n",
       "      <td>Germany</td>\n",
       "      <td>89,838</td>\n",
       "      <td>+5,044</td>\n",
       "      <td>1,230</td>\n",
       "      <td>+123</td>\n",
       "      <td>24,575</td>\n",
       "      <td>64,033</td>\n",
       "      <td>3,936</td>\n",
       "      <td>83,783,942</td>\n",
       "      <td>Europe</td>\n",
       "    </tr>\n",
       "    <tr>\n",
       "      <td>4</td>\n",
       "      <td>France</td>\n",
       "      <td>59,105</td>\n",
       "      <td></td>\n",
       "      <td>5,387</td>\n",
       "      <td></td>\n",
       "      <td>12,428</td>\n",
       "      <td>41,290</td>\n",
       "      <td>6,399</td>\n",
       "      <td>65,273,511</td>\n",
       "      <td>Europe</td>\n",
       "    </tr>\n",
       "    <tr>\n",
       "      <td>...</td>\n",
       "      <td>...</td>\n",
       "      <td>...</td>\n",
       "      <td>...</td>\n",
       "      <td>...</td>\n",
       "      <td>...</td>\n",
       "      <td>...</td>\n",
       "      <td>...</td>\n",
       "      <td>...</td>\n",
       "      <td>...</td>\n",
       "      <td>...</td>\n",
       "    </tr>\n",
       "    <tr>\n",
       "      <td>201</td>\n",
       "      <td>Caribbean Netherlands</td>\n",
       "      <td>2</td>\n",
       "      <td></td>\n",
       "      <td></td>\n",
       "      <td></td>\n",
       "      <td></td>\n",
       "      <td>2</td>\n",
       "      <td></td>\n",
       "      <td>26,223</td>\n",
       "      <td>Latin caribbean</td>\n",
       "    </tr>\n",
       "    <tr>\n",
       "      <td>202</td>\n",
       "      <td>Sierra Leone</td>\n",
       "      <td>2</td>\n",
       "      <td></td>\n",
       "      <td></td>\n",
       "      <td></td>\n",
       "      <td></td>\n",
       "      <td>2</td>\n",
       "      <td></td>\n",
       "      <td>7,976,983</td>\n",
       "      <td>Africa</td>\n",
       "    </tr>\n",
       "    <tr>\n",
       "      <td>203</td>\n",
       "      <td>Papua New Guinea</td>\n",
       "      <td>1</td>\n",
       "      <td></td>\n",
       "      <td></td>\n",
       "      <td></td>\n",
       "      <td></td>\n",
       "      <td>1</td>\n",
       "      <td></td>\n",
       "      <td>8,947,024</td>\n",
       "      <td>Oceania</td>\n",
       "    </tr>\n",
       "    <tr>\n",
       "      <td>204</td>\n",
       "      <td>Timor-Leste</td>\n",
       "      <td>1</td>\n",
       "      <td></td>\n",
       "      <td></td>\n",
       "      <td></td>\n",
       "      <td></td>\n",
       "      <td>1</td>\n",
       "      <td></td>\n",
       "      <td>1,318,445</td>\n",
       "      <td>Asia</td>\n",
       "    </tr>\n",
       "    <tr>\n",
       "      <td>205</td>\n",
       "      <td>China</td>\n",
       "      <td>81,620</td>\n",
       "      <td>+31</td>\n",
       "      <td>3,322</td>\n",
       "      <td>+4</td>\n",
       "      <td>76,571</td>\n",
       "      <td>1,727</td>\n",
       "      <td>379</td>\n",
       "      <td>1,439,323,776</td>\n",
       "      <td>Asia</td>\n",
       "    </tr>\n",
       "  </tbody>\n",
       "</table>\n",
       "<p>206 rows × 10 columns</p>\n",
       "</div>"
      ],
      "text/plain": [
       "             Country,Other TotalCases NewCases TotalDeaths NewDeaths  \\\n",
       "0                      USA    265,506  +20,629      6,786       +716   \n",
       "1                    Italy    119,827   +4,585     14,681       +766   \n",
       "2                    Spain    117,710   +5,645     10,935       +587   \n",
       "3                  Germany     89,838   +5,044      1,230       +123   \n",
       "4                   France     59,105               5,387              \n",
       "..                     ...        ...      ...         ...       ...   \n",
       "201  Caribbean Netherlands          2                                  \n",
       "202           Sierra Leone          2                                  \n",
       "203       Papua New Guinea          1                                  \n",
       "204            Timor-Leste          1                                  \n",
       "205                  China     81,620      +31      3,322         +4   \n",
       "\n",
       "    TotalRecovered ActiveCases Serious,Critical     Population  \\\n",
       "0           11,983     246,737            5,781    331,002,651   \n",
       "1           19,758      85,388            4,068     60,461,826   \n",
       "2           30,513      76,262            6,416     46,754,778   \n",
       "3           24,575      64,033            3,936     83,783,942   \n",
       "4           12,428      41,290            6,399     65,273,511   \n",
       "..             ...         ...              ...            ...   \n",
       "201                          2                          26,223   \n",
       "202                          2                       7,976,983   \n",
       "203                          1                       8,947,024   \n",
       "204                          1                       1,318,445   \n",
       "205         76,571       1,727              379  1,439,323,776   \n",
       "\n",
       "               Region  \n",
       "0    Northern america  \n",
       "1              Europe  \n",
       "2              Europe  \n",
       "3              Europe  \n",
       "4              Europe  \n",
       "..                ...  \n",
       "201   Latin caribbean  \n",
       "202            Africa  \n",
       "203           Oceania  \n",
       "204              Asia  \n",
       "205              Asia  \n",
       "\n",
       "[206 rows x 10 columns]"
      ]
     },
     "execution_count": 109,
     "metadata": {},
     "output_type": "execute_result"
    }
   ],
   "source": [
    "corona_df"
   ]
  },
  {
   "cell_type": "markdown",
   "metadata": {},
   "source": [
    "# 2.Cleaning and Reformating"
   ]
  },
  {
   "cell_type": "markdown",
   "metadata": {},
   "source": [
    "### Describing data types"
   ]
  },
  {
   "cell_type": "code",
   "execution_count": 110,
   "metadata": {},
   "outputs": [
    {
     "name": "stdout",
     "output_type": "stream",
     "text": [
      "<class 'pandas.core.frame.DataFrame'>\n",
      "RangeIndex: 206 entries, 0 to 205\n",
      "Data columns (total 10 columns):\n",
      "Country,Other       206 non-null object\n",
      "TotalCases          206 non-null object\n",
      "NewCases            206 non-null object\n",
      "TotalDeaths         206 non-null object\n",
      "NewDeaths           206 non-null object\n",
      "TotalRecovered      206 non-null object\n",
      "ActiveCases         206 non-null object\n",
      "Serious,Critical    206 non-null object\n",
      "Population          206 non-null object\n",
      "Region              206 non-null object\n",
      "dtypes: object(10)\n",
      "memory usage: 16.2+ KB\n",
      "None\n"
     ]
    }
   ],
   "source": [
    "#Data info\n",
    "print (corona_df.info())\n",
    "####Here we need to change all str's to int's ######\n",
    "####But first we need to do data cleaning ##########"
   ]
  },
  {
   "cell_type": "markdown",
   "metadata": {},
   "source": [
    "### Cleaning data "
   ]
  },
  {
   "cell_type": "code",
   "execution_count": 111,
   "metadata": {},
   "outputs": [],
   "source": [
    "#Here we clear all unnecessary data\n",
    "length=len(corona_df)\n",
    "for col in corona_df:\n",
    "    temp_name_col=col\n",
    "    corona_df[temp_name_col]=corona_df[temp_name_col].str.replace('+','')\n",
    "    corona_df[temp_name_col]=corona_df[temp_name_col].str.replace(',','')\n",
    "    corona_df[temp_name_col]=corona_df[temp_name_col].str.replace('\\n','')\n",
    "    corona_df[temp_name_col]=corona_df[temp_name_col].str.replace(' ','')\n",
    "    for i in range(length):\n",
    "        if(corona_df[temp_name_col][i]==''):\n",
    "            corona_df[temp_name_col][i]='0'"
   ]
  },
  {
   "cell_type": "code",
   "execution_count": 112,
   "metadata": {},
   "outputs": [
    {
     "data": {
      "text/html": [
       "<div>\n",
       "<style scoped>\n",
       "    .dataframe tbody tr th:only-of-type {\n",
       "        vertical-align: middle;\n",
       "    }\n",
       "\n",
       "    .dataframe tbody tr th {\n",
       "        vertical-align: top;\n",
       "    }\n",
       "\n",
       "    .dataframe thead th {\n",
       "        text-align: right;\n",
       "    }\n",
       "</style>\n",
       "<table border=\"1\" class=\"dataframe\">\n",
       "  <thead>\n",
       "    <tr style=\"text-align: right;\">\n",
       "      <th></th>\n",
       "      <th>Country,Other</th>\n",
       "      <th>TotalCases</th>\n",
       "      <th>NewCases</th>\n",
       "      <th>TotalDeaths</th>\n",
       "      <th>NewDeaths</th>\n",
       "      <th>TotalRecovered</th>\n",
       "      <th>ActiveCases</th>\n",
       "      <th>Serious,Critical</th>\n",
       "      <th>Population</th>\n",
       "      <th>Region</th>\n",
       "    </tr>\n",
       "  </thead>\n",
       "  <tbody>\n",
       "    <tr>\n",
       "      <td>0</td>\n",
       "      <td>USA</td>\n",
       "      <td>265506</td>\n",
       "      <td>20629</td>\n",
       "      <td>6786</td>\n",
       "      <td>716</td>\n",
       "      <td>11983</td>\n",
       "      <td>246737</td>\n",
       "      <td>5781</td>\n",
       "      <td>331002651</td>\n",
       "      <td>Northernamerica</td>\n",
       "    </tr>\n",
       "    <tr>\n",
       "      <td>1</td>\n",
       "      <td>Italy</td>\n",
       "      <td>119827</td>\n",
       "      <td>4585</td>\n",
       "      <td>14681</td>\n",
       "      <td>766</td>\n",
       "      <td>19758</td>\n",
       "      <td>85388</td>\n",
       "      <td>4068</td>\n",
       "      <td>60461826</td>\n",
       "      <td>Europe</td>\n",
       "    </tr>\n",
       "    <tr>\n",
       "      <td>2</td>\n",
       "      <td>Spain</td>\n",
       "      <td>117710</td>\n",
       "      <td>5645</td>\n",
       "      <td>10935</td>\n",
       "      <td>587</td>\n",
       "      <td>30513</td>\n",
       "      <td>76262</td>\n",
       "      <td>6416</td>\n",
       "      <td>46754778</td>\n",
       "      <td>Europe</td>\n",
       "    </tr>\n",
       "    <tr>\n",
       "      <td>3</td>\n",
       "      <td>Germany</td>\n",
       "      <td>89838</td>\n",
       "      <td>5044</td>\n",
       "      <td>1230</td>\n",
       "      <td>123</td>\n",
       "      <td>24575</td>\n",
       "      <td>64033</td>\n",
       "      <td>3936</td>\n",
       "      <td>83783942</td>\n",
       "      <td>Europe</td>\n",
       "    </tr>\n",
       "    <tr>\n",
       "      <td>4</td>\n",
       "      <td>France</td>\n",
       "      <td>59105</td>\n",
       "      <td>0</td>\n",
       "      <td>5387</td>\n",
       "      <td>0</td>\n",
       "      <td>12428</td>\n",
       "      <td>41290</td>\n",
       "      <td>6399</td>\n",
       "      <td>65273511</td>\n",
       "      <td>Europe</td>\n",
       "    </tr>\n",
       "    <tr>\n",
       "      <td>...</td>\n",
       "      <td>...</td>\n",
       "      <td>...</td>\n",
       "      <td>...</td>\n",
       "      <td>...</td>\n",
       "      <td>...</td>\n",
       "      <td>...</td>\n",
       "      <td>...</td>\n",
       "      <td>...</td>\n",
       "      <td>...</td>\n",
       "      <td>...</td>\n",
       "    </tr>\n",
       "    <tr>\n",
       "      <td>201</td>\n",
       "      <td>CaribbeanNetherlands</td>\n",
       "      <td>2</td>\n",
       "      <td>0</td>\n",
       "      <td>0</td>\n",
       "      <td>0</td>\n",
       "      <td>0</td>\n",
       "      <td>2</td>\n",
       "      <td>0</td>\n",
       "      <td>26223</td>\n",
       "      <td>Latincaribbean</td>\n",
       "    </tr>\n",
       "    <tr>\n",
       "      <td>202</td>\n",
       "      <td>SierraLeone</td>\n",
       "      <td>2</td>\n",
       "      <td>0</td>\n",
       "      <td>0</td>\n",
       "      <td>0</td>\n",
       "      <td>0</td>\n",
       "      <td>2</td>\n",
       "      <td>0</td>\n",
       "      <td>7976983</td>\n",
       "      <td>Africa</td>\n",
       "    </tr>\n",
       "    <tr>\n",
       "      <td>203</td>\n",
       "      <td>PapuaNewGuinea</td>\n",
       "      <td>1</td>\n",
       "      <td>0</td>\n",
       "      <td>0</td>\n",
       "      <td>0</td>\n",
       "      <td>0</td>\n",
       "      <td>1</td>\n",
       "      <td>0</td>\n",
       "      <td>8947024</td>\n",
       "      <td>Oceania</td>\n",
       "    </tr>\n",
       "    <tr>\n",
       "      <td>204</td>\n",
       "      <td>Timor-Leste</td>\n",
       "      <td>1</td>\n",
       "      <td>0</td>\n",
       "      <td>0</td>\n",
       "      <td>0</td>\n",
       "      <td>0</td>\n",
       "      <td>1</td>\n",
       "      <td>0</td>\n",
       "      <td>1318445</td>\n",
       "      <td>Asia</td>\n",
       "    </tr>\n",
       "    <tr>\n",
       "      <td>205</td>\n",
       "      <td>China</td>\n",
       "      <td>81620</td>\n",
       "      <td>31</td>\n",
       "      <td>3322</td>\n",
       "      <td>4</td>\n",
       "      <td>76571</td>\n",
       "      <td>1727</td>\n",
       "      <td>379</td>\n",
       "      <td>1439323776</td>\n",
       "      <td>Asia</td>\n",
       "    </tr>\n",
       "  </tbody>\n",
       "</table>\n",
       "<p>206 rows × 10 columns</p>\n",
       "</div>"
      ],
      "text/plain": [
       "            Country,Other TotalCases NewCases TotalDeaths NewDeaths  \\\n",
       "0                     USA     265506    20629        6786       716   \n",
       "1                   Italy     119827     4585       14681       766   \n",
       "2                   Spain     117710     5645       10935       587   \n",
       "3                 Germany      89838     5044        1230       123   \n",
       "4                  France      59105        0        5387         0   \n",
       "..                    ...        ...      ...         ...       ...   \n",
       "201  CaribbeanNetherlands          2        0           0         0   \n",
       "202           SierraLeone          2        0           0         0   \n",
       "203        PapuaNewGuinea          1        0           0         0   \n",
       "204           Timor-Leste          1        0           0         0   \n",
       "205                 China      81620       31        3322         4   \n",
       "\n",
       "    TotalRecovered ActiveCases Serious,Critical  Population           Region  \n",
       "0            11983      246737             5781   331002651  Northernamerica  \n",
       "1            19758       85388             4068    60461826           Europe  \n",
       "2            30513       76262             6416    46754778           Europe  \n",
       "3            24575       64033             3936    83783942           Europe  \n",
       "4            12428       41290             6399    65273511           Europe  \n",
       "..             ...         ...              ...         ...              ...  \n",
       "201              0           2                0       26223   Latincaribbean  \n",
       "202              0           2                0     7976983           Africa  \n",
       "203              0           1                0     8947024          Oceania  \n",
       "204              0           1                0     1318445             Asia  \n",
       "205          76571        1727              379  1439323776             Asia  \n",
       "\n",
       "[206 rows x 10 columns]"
      ]
     },
     "execution_count": 112,
     "metadata": {},
     "output_type": "execute_result"
    }
   ],
   "source": [
    "corona_df"
   ]
  },
  {
   "cell_type": "markdown",
   "metadata": {},
   "source": [
    "### Reformating data"
   ]
  },
  {
   "cell_type": "code",
   "execution_count": 113,
   "metadata": {},
   "outputs": [],
   "source": [
    "#Convert Data into Usefull ints\n",
    "for col in corona_df:\n",
    "    if(col!='Reported1st case' and col!='Country,Other' and col!='Region' ):\n",
    "            corona_df[col]=corona_df[col].astype(str).astype(int)\n"
   ]
  },
  {
   "cell_type": "code",
   "execution_count": 114,
   "metadata": {},
   "outputs": [
    {
     "name": "stdout",
     "output_type": "stream",
     "text": [
      "<class 'pandas.core.frame.DataFrame'>\n",
      "RangeIndex: 206 entries, 0 to 205\n",
      "Data columns (total 10 columns):\n",
      "Country,Other       206 non-null object\n",
      "TotalCases          206 non-null int32\n",
      "NewCases            206 non-null int32\n",
      "TotalDeaths         206 non-null int32\n",
      "NewDeaths           206 non-null int32\n",
      "TotalRecovered      206 non-null int32\n",
      "ActiveCases         206 non-null int32\n",
      "Serious,Critical    206 non-null int32\n",
      "Population          206 non-null int32\n",
      "Region              206 non-null object\n",
      "dtypes: int32(8), object(2)\n",
      "memory usage: 9.8+ KB\n",
      "None\n"
     ]
    }
   ],
   "source": [
    "#Check data info\n",
    "print (corona_df.info())"
   ]
  },
  {
   "cell_type": "code",
   "execution_count": 115,
   "metadata": {},
   "outputs": [
    {
     "data": {
      "text/html": [
       "<div>\n",
       "<style scoped>\n",
       "    .dataframe tbody tr th:only-of-type {\n",
       "        vertical-align: middle;\n",
       "    }\n",
       "\n",
       "    .dataframe tbody tr th {\n",
       "        vertical-align: top;\n",
       "    }\n",
       "\n",
       "    .dataframe thead th {\n",
       "        text-align: right;\n",
       "    }\n",
       "</style>\n",
       "<table border=\"1\" class=\"dataframe\">\n",
       "  <thead>\n",
       "    <tr style=\"text-align: right;\">\n",
       "      <th></th>\n",
       "      <th>TotalCases</th>\n",
       "      <th>NewCases</th>\n",
       "      <th>TotalDeaths</th>\n",
       "      <th>NewDeaths</th>\n",
       "      <th>TotalRecovered</th>\n",
       "      <th>ActiveCases</th>\n",
       "      <th>Serious,Critical</th>\n",
       "      <th>Population</th>\n",
       "    </tr>\n",
       "  </thead>\n",
       "  <tbody>\n",
       "    <tr>\n",
       "      <td>count</td>\n",
       "      <td>206.000000</td>\n",
       "      <td>206.000000</td>\n",
       "      <td>206.000000</td>\n",
       "      <td>206.000000</td>\n",
       "      <td>206.000000</td>\n",
       "      <td>206.000000</td>\n",
       "      <td>206.00000</td>\n",
       "      <td>2.060000e+02</td>\n",
       "    </tr>\n",
       "    <tr>\n",
       "      <td>mean</td>\n",
       "      <td>5214.820388</td>\n",
       "      <td>287.320388</td>\n",
       "      <td>276.635922</td>\n",
       "      <td>18.543689</td>\n",
       "      <td>1097.349515</td>\n",
       "      <td>3840.834951</td>\n",
       "      <td>189.18932</td>\n",
       "      <td>3.701871e+07</td>\n",
       "    </tr>\n",
       "    <tr>\n",
       "      <td>std</td>\n",
       "      <td>23977.870161</td>\n",
       "      <td>1606.033652</td>\n",
       "      <td>1457.439398</td>\n",
       "      <td>97.013077</td>\n",
       "      <td>6340.840836</td>\n",
       "      <td>19823.027321</td>\n",
       "      <td>888.42207</td>\n",
       "      <td>1.438909e+08</td>\n",
       "    </tr>\n",
       "    <tr>\n",
       "      <td>min</td>\n",
       "      <td>1.000000</td>\n",
       "      <td>0.000000</td>\n",
       "      <td>0.000000</td>\n",
       "      <td>0.000000</td>\n",
       "      <td>0.000000</td>\n",
       "      <td>1.000000</td>\n",
       "      <td>0.00000</td>\n",
       "      <td>0.000000e+00</td>\n",
       "    </tr>\n",
       "    <tr>\n",
       "      <td>25%</td>\n",
       "      <td>19.000000</td>\n",
       "      <td>0.000000</td>\n",
       "      <td>0.000000</td>\n",
       "      <td>0.000000</td>\n",
       "      <td>1.000000</td>\n",
       "      <td>15.250000</td>\n",
       "      <td>0.00000</td>\n",
       "      <td>7.753440e+05</td>\n",
       "    </tr>\n",
       "    <tr>\n",
       "      <td>50%</td>\n",
       "      <td>188.000000</td>\n",
       "      <td>5.000000</td>\n",
       "      <td>3.000000</td>\n",
       "      <td>0.000000</td>\n",
       "      <td>14.000000</td>\n",
       "      <td>146.000000</td>\n",
       "      <td>1.00000</td>\n",
       "      <td>6.725000e+06</td>\n",
       "    </tr>\n",
       "    <tr>\n",
       "      <td>75%</td>\n",
       "      <td>1078.000000</td>\n",
       "      <td>45.000000</td>\n",
       "      <td>20.000000</td>\n",
       "      <td>1.000000</td>\n",
       "      <td>71.500000</td>\n",
       "      <td>900.750000</td>\n",
       "      <td>16.00000</td>\n",
       "      <td>2.410918e+07</td>\n",
       "    </tr>\n",
       "    <tr>\n",
       "      <td>max</td>\n",
       "      <td>265506.000000</td>\n",
       "      <td>20629.000000</td>\n",
       "      <td>14681.000000</td>\n",
       "      <td>766.000000</td>\n",
       "      <td>76571.000000</td>\n",
       "      <td>246737.000000</td>\n",
       "      <td>6416.00000</td>\n",
       "      <td>1.439324e+09</td>\n",
       "    </tr>\n",
       "  </tbody>\n",
       "</table>\n",
       "</div>"
      ],
      "text/plain": [
       "          TotalCases      NewCases   TotalDeaths   NewDeaths  TotalRecovered  \\\n",
       "count     206.000000    206.000000    206.000000  206.000000      206.000000   \n",
       "mean     5214.820388    287.320388    276.635922   18.543689     1097.349515   \n",
       "std     23977.870161   1606.033652   1457.439398   97.013077     6340.840836   \n",
       "min         1.000000      0.000000      0.000000    0.000000        0.000000   \n",
       "25%        19.000000      0.000000      0.000000    0.000000        1.000000   \n",
       "50%       188.000000      5.000000      3.000000    0.000000       14.000000   \n",
       "75%      1078.000000     45.000000     20.000000    1.000000       71.500000   \n",
       "max    265506.000000  20629.000000  14681.000000  766.000000    76571.000000   \n",
       "\n",
       "         ActiveCases  Serious,Critical    Population  \n",
       "count     206.000000         206.00000  2.060000e+02  \n",
       "mean     3840.834951         189.18932  3.701871e+07  \n",
       "std     19823.027321         888.42207  1.438909e+08  \n",
       "min         1.000000           0.00000  0.000000e+00  \n",
       "25%        15.250000           0.00000  7.753440e+05  \n",
       "50%       146.000000           1.00000  6.725000e+06  \n",
       "75%       900.750000          16.00000  2.410918e+07  \n",
       "max    246737.000000        6416.00000  1.439324e+09  "
      ]
     },
     "execution_count": 115,
     "metadata": {},
     "output_type": "execute_result"
    }
   ],
   "source": [
    "corona_df.describe()"
   ]
  },
  {
   "cell_type": "markdown",
   "metadata": {},
   "source": [
    "# Visualiztion"
   ]
  },
  {
   "cell_type": "markdown",
   "metadata": {},
   "source": [
    "### Total Covid-19 spread worldwide"
   ]
  },
  {
   "cell_type": "code",
   "execution_count": 116,
   "metadata": {},
   "outputs": [
    {
     "data": {
      "application/vnd.plotly.v1+json": {
       "config": {
        "plotlyServerURL": "https://plot.ly"
       },
       "data": [
        {
         "coloraxis": "coloraxis",
         "geo": "geo",
         "hoverlabel": {
          "namelength": 0
         },
         "hovertemplate": "<b>%{hovertext}</b><br><br>Country,Other=%{location}<br>ActiveCases=%{z}",
         "hovertext": [
          "Afghanistan",
          "Albania",
          "Algeria",
          "Andorra",
          "Angola",
          "Anguilla",
          "AntiguaandBarbuda",
          "Argentina",
          "Armenia",
          "Aruba",
          "Australia",
          "Austria",
          "Azerbaijan",
          "Bahamas",
          "Bahrain",
          "Bangladesh",
          "Barbados",
          "Belarus",
          "Belgium",
          "Belize",
          "Benin",
          "Bermuda",
          "Bhutan",
          "Bolivia",
          "BosniaandHerzegovina",
          "Botswana",
          "Brazil",
          "BritishVirginIslands",
          "Brunei",
          "Bulgaria",
          "BurkinaFaso",
          "Burundi",
          "CAR",
          "CaboVerde",
          "Cambodia",
          "Cameroon",
          "Canada",
          "CaribbeanNetherlands",
          "CaymanIslands",
          "Chad",
          "ChannelIslands",
          "Chile",
          "China",
          "Colombia",
          "Congo",
          "CostaRica",
          "Croatia",
          "Cuba",
          "Curaçao",
          "Cyprus",
          "Czechia",
          "DRC",
          "Denmark",
          "DiamondPrincess",
          "Djibouti",
          "Dominica",
          "DominicanRepublic",
          "Ecuador",
          "Egypt",
          "ElSalvador",
          "EquatorialGuinea",
          "Eritrea",
          "Estonia",
          "Eswatini",
          "Ethiopia",
          "FaeroeIslands",
          "Fiji",
          "Finland",
          "France",
          "FrenchGuiana",
          "FrenchPolynesia",
          "Gabon",
          "Gambia",
          "Georgia",
          "Germany",
          "Ghana",
          "Gibraltar",
          "Greece",
          "Greenland",
          "Grenada",
          "Guadeloupe",
          "Guatemala",
          "Guinea",
          "Guinea-Bissau",
          "Guyana",
          "Haiti",
          "Honduras",
          "HongKong",
          "Hungary",
          "Iceland",
          "India",
          "Indonesia",
          "Iran",
          "Iraq",
          "Ireland",
          "IsleofMan",
          "Israel",
          "Italy",
          "IvoryCoast",
          "Jamaica",
          "Japan",
          "Jordan",
          "Kazakhstan",
          "Kenya",
          "Kuwait",
          "Kyrgyzstan",
          "Laos",
          "Latvia",
          "Lebanon",
          "Liberia",
          "Libya",
          "Liechtenstein",
          "Lithuania",
          "Luxembourg",
          "MSZaandam",
          "Macao",
          "Madagascar",
          "Malawi",
          "Malaysia",
          "Maldives",
          "Mali",
          "Malta",
          "Martinique",
          "Mauritania",
          "Mauritius",
          "Mayotte",
          "Mexico",
          "Moldova",
          "Monaco",
          "Mongolia",
          "Montenegro",
          "Montserrat",
          "Morocco",
          "Mozambique",
          "Myanmar",
          "Namibia",
          "Nepal",
          "Netherlands",
          "NewCaledonia",
          "NewZealand",
          "Nicaragua",
          "Niger",
          "Nigeria",
          "NorthMacedonia",
          "Norway",
          "Oman",
          "Pakistan",
          "Palestine",
          "Panama",
          "PapuaNewGuinea",
          "Paraguay",
          "Peru",
          "Philippines",
          "Poland",
          "Portugal",
          "Qatar",
          "Romania",
          "Russia",
          "Rwanda",
          "Réunion",
          "S.Korea",
          "SaintKittsandNevis",
          "SaintLucia",
          "SaintMartin",
          "SanMarino",
          "SaudiArabia",
          "Senegal",
          "Serbia",
          "Seychelles",
          "SierraLeone",
          "Singapore",
          "SintMaarten",
          "Slovakia",
          "Slovenia",
          "Somalia",
          "SouthAfrica",
          "Spain",
          "SriLanka",
          "St.Barth",
          "St.VincentGrenadines",
          "Sudan",
          "Suriname",
          "Sweden",
          "Switzerland",
          "Syria",
          "Taiwan",
          "Tanzania",
          "Thailand",
          "Timor-Leste",
          "Togo",
          "TrinidadandTobago",
          "Tunisia",
          "Turkey",
          "TurksandCaicos",
          "UAE",
          "UK",
          "USA",
          "Uganda",
          "Ukraine",
          "Uruguay",
          "Uzbekistan",
          "VaticanCity",
          "Venezuela",
          "Vietnam",
          "Zambia",
          "Zimbabwe"
         ],
         "locationmode": "country names",
         "locations": [
          "Afghanistan",
          "Albania",
          "Algeria",
          "Andorra",
          "Angola",
          "Anguilla",
          "AntiguaandBarbuda",
          "Argentina",
          "Armenia",
          "Aruba",
          "Australia",
          "Austria",
          "Azerbaijan",
          "Bahamas",
          "Bahrain",
          "Bangladesh",
          "Barbados",
          "Belarus",
          "Belgium",
          "Belize",
          "Benin",
          "Bermuda",
          "Bhutan",
          "Bolivia",
          "BosniaandHerzegovina",
          "Botswana",
          "Brazil",
          "BritishVirginIslands",
          "Brunei",
          "Bulgaria",
          "BurkinaFaso",
          "Burundi",
          "CAR",
          "CaboVerde",
          "Cambodia",
          "Cameroon",
          "Canada",
          "CaribbeanNetherlands",
          "CaymanIslands",
          "Chad",
          "ChannelIslands",
          "Chile",
          "China",
          "Colombia",
          "Congo",
          "CostaRica",
          "Croatia",
          "Cuba",
          "Curaçao",
          "Cyprus",
          "Czechia",
          "DRC",
          "Denmark",
          "DiamondPrincess",
          "Djibouti",
          "Dominica",
          "DominicanRepublic",
          "Ecuador",
          "Egypt",
          "ElSalvador",
          "EquatorialGuinea",
          "Eritrea",
          "Estonia",
          "Eswatini",
          "Ethiopia",
          "FaeroeIslands",
          "Fiji",
          "Finland",
          "France",
          "FrenchGuiana",
          "FrenchPolynesia",
          "Gabon",
          "Gambia",
          "Georgia",
          "Germany",
          "Ghana",
          "Gibraltar",
          "Greece",
          "Greenland",
          "Grenada",
          "Guadeloupe",
          "Guatemala",
          "Guinea",
          "Guinea-Bissau",
          "Guyana",
          "Haiti",
          "Honduras",
          "HongKong",
          "Hungary",
          "Iceland",
          "India",
          "Indonesia",
          "Iran",
          "Iraq",
          "Ireland",
          "IsleofMan",
          "Israel",
          "Italy",
          "IvoryCoast",
          "Jamaica",
          "Japan",
          "Jordan",
          "Kazakhstan",
          "Kenya",
          "Kuwait",
          "Kyrgyzstan",
          "Laos",
          "Latvia",
          "Lebanon",
          "Liberia",
          "Libya",
          "Liechtenstein",
          "Lithuania",
          "Luxembourg",
          "MSZaandam",
          "Macao",
          "Madagascar",
          "Malawi",
          "Malaysia",
          "Maldives",
          "Mali",
          "Malta",
          "Martinique",
          "Mauritania",
          "Mauritius",
          "Mayotte",
          "Mexico",
          "Moldova",
          "Monaco",
          "Mongolia",
          "Montenegro",
          "Montserrat",
          "Morocco",
          "Mozambique",
          "Myanmar",
          "Namibia",
          "Nepal",
          "Netherlands",
          "NewCaledonia",
          "NewZealand",
          "Nicaragua",
          "Niger",
          "Nigeria",
          "NorthMacedonia",
          "Norway",
          "Oman",
          "Pakistan",
          "Palestine",
          "Panama",
          "PapuaNewGuinea",
          "Paraguay",
          "Peru",
          "Philippines",
          "Poland",
          "Portugal",
          "Qatar",
          "Romania",
          "Russia",
          "Rwanda",
          "Réunion",
          "S.Korea",
          "SaintKittsandNevis",
          "SaintLucia",
          "SaintMartin",
          "SanMarino",
          "SaudiArabia",
          "Senegal",
          "Serbia",
          "Seychelles",
          "SierraLeone",
          "Singapore",
          "SintMaarten",
          "Slovakia",
          "Slovenia",
          "Somalia",
          "SouthAfrica",
          "Spain",
          "SriLanka",
          "St.Barth",
          "St.VincentGrenadines",
          "Sudan",
          "Suriname",
          "Sweden",
          "Switzerland",
          "Syria",
          "Taiwan",
          "Tanzania",
          "Thailand",
          "Timor-Leste",
          "Togo",
          "TrinidadandTobago",
          "Tunisia",
          "Turkey",
          "TurksandCaicos",
          "UAE",
          "UK",
          "USA",
          "Uganda",
          "Ukraine",
          "Uruguay",
          "Uzbekistan",
          "VaticanCity",
          "Venezuela",
          "Vietnam",
          "Zambia",
          "Zimbabwe"
         ],
         "name": "",
         "type": "choropleth",
         "z": [
          265,
          198,
          1004,
          407,
          5,
          3,
          9,
          960,
          686,
          61,
          4737,
          9299,
          406,
          22,
          286,
          29,
          46,
          294,
          12755,
          4,
          12,
          24,
          3,
          122,
          530,
          3,
          7759,
          3,
          68,
          441,
          236,
          3,
          8,
          5,
          79,
          289,
          9595,
          2,
          27,
          8,
          215,
          3288,
          1727,
          1087,
          18,
          388,
          979,
          248,
          7,
          357,
          3966,
          118,
          2425,
          82,
          41,
          12,
          1404,
          3158,
          606,
          44,
          15,
          22,
          901,
          9,
          32,
          88,
          7,
          1295,
          41290,
          35,
          37,
          19,
          1,
          121,
          64033,
          168,
          49,
          1493,
          7,
          10,
          98,
          37,
          71,
          9,
          15,
          17,
          204,
          668,
          554,
          1051,
          2303,
          1671,
          31954,
          540,
          4148,
          113,
          6652,
          85388,
          178,
          42,
          2040,
          249,
          425,
          114,
          335,
          123,
          10,
          491,
          441,
          7,
          10,
          75,
          680,
          2081,
          7,
          32,
          65,
          3,
          2453,
          6,
          33,
          200,
          108,
          3,
          179,
          105,
          827,
          557,
          57,
          12,
          171,
          5,
          639,
          10,
          19,
          11,
          5,
          13986,
          17,
          764,
          4,
          93,
          168,
          402,
          5207,
          194,
          2465,
          171,
          1429,
          1,
          83,
          822,
          2830,
          3145,
          9572,
          979,
          2767,
          3834,
          84,
          281,
          3867,
          9,
          12,
          19,
          194,
          1663,
          140,
          1395,
          10,
          2,
          827,
          15,
          439,
          844,
          4,
          1403,
          76262,
          131,
          5,
          2,
          6,
          9,
          5568,
          14169,
          14,
          293,
          16,
          1378,
          1,
          20,
          90,
          472,
          20012,
          5,
          920,
          34428,
          246737,
          45,
          900,
          297,
          194,
          7,
          98,
          152,
          36,
          8
         ]
        }
       ],
       "layout": {
        "coloraxis": {
         "cmax": 5000,
         "cmin": 1,
         "colorbar": {
          "title": {
           "text": "ActiveCases"
          }
         },
         "colorscale": [
          [
           0,
           "rgb(253, 224, 197)"
          ],
          [
           0.16666666666666666,
           "rgb(250, 203, 166)"
          ],
          [
           0.3333333333333333,
           "rgb(248, 181, 139)"
          ],
          [
           0.5,
           "rgb(245, 158, 114)"
          ],
          [
           0.6666666666666666,
           "rgb(242, 133, 93)"
          ],
          [
           0.8333333333333334,
           "rgb(239, 106, 76)"
          ],
          [
           1,
           "rgb(235, 74, 64)"
          ]
         ]
        },
        "geo": {
         "center": {},
         "domain": {
          "x": [
           0,
           1
          ],
          "y": [
           0,
           1
          ]
         }
        },
        "legend": {
         "tracegroupgap": 0
        },
        "template": {
         "data": {
          "bar": [
           {
            "error_x": {
             "color": "#2a3f5f"
            },
            "error_y": {
             "color": "#2a3f5f"
            },
            "marker": {
             "line": {
              "color": "#E5ECF6",
              "width": 0.5
             }
            },
            "type": "bar"
           }
          ],
          "barpolar": [
           {
            "marker": {
             "line": {
              "color": "#E5ECF6",
              "width": 0.5
             }
            },
            "type": "barpolar"
           }
          ],
          "carpet": [
           {
            "aaxis": {
             "endlinecolor": "#2a3f5f",
             "gridcolor": "white",
             "linecolor": "white",
             "minorgridcolor": "white",
             "startlinecolor": "#2a3f5f"
            },
            "baxis": {
             "endlinecolor": "#2a3f5f",
             "gridcolor": "white",
             "linecolor": "white",
             "minorgridcolor": "white",
             "startlinecolor": "#2a3f5f"
            },
            "type": "carpet"
           }
          ],
          "choropleth": [
           {
            "colorbar": {
             "outlinewidth": 0,
             "ticks": ""
            },
            "type": "choropleth"
           }
          ],
          "contour": [
           {
            "colorbar": {
             "outlinewidth": 0,
             "ticks": ""
            },
            "colorscale": [
             [
              0,
              "#0d0887"
             ],
             [
              0.1111111111111111,
              "#46039f"
             ],
             [
              0.2222222222222222,
              "#7201a8"
             ],
             [
              0.3333333333333333,
              "#9c179e"
             ],
             [
              0.4444444444444444,
              "#bd3786"
             ],
             [
              0.5555555555555556,
              "#d8576b"
             ],
             [
              0.6666666666666666,
              "#ed7953"
             ],
             [
              0.7777777777777778,
              "#fb9f3a"
             ],
             [
              0.8888888888888888,
              "#fdca26"
             ],
             [
              1,
              "#f0f921"
             ]
            ],
            "type": "contour"
           }
          ],
          "contourcarpet": [
           {
            "colorbar": {
             "outlinewidth": 0,
             "ticks": ""
            },
            "type": "contourcarpet"
           }
          ],
          "heatmap": [
           {
            "colorbar": {
             "outlinewidth": 0,
             "ticks": ""
            },
            "colorscale": [
             [
              0,
              "#0d0887"
             ],
             [
              0.1111111111111111,
              "#46039f"
             ],
             [
              0.2222222222222222,
              "#7201a8"
             ],
             [
              0.3333333333333333,
              "#9c179e"
             ],
             [
              0.4444444444444444,
              "#bd3786"
             ],
             [
              0.5555555555555556,
              "#d8576b"
             ],
             [
              0.6666666666666666,
              "#ed7953"
             ],
             [
              0.7777777777777778,
              "#fb9f3a"
             ],
             [
              0.8888888888888888,
              "#fdca26"
             ],
             [
              1,
              "#f0f921"
             ]
            ],
            "type": "heatmap"
           }
          ],
          "heatmapgl": [
           {
            "colorbar": {
             "outlinewidth": 0,
             "ticks": ""
            },
            "colorscale": [
             [
              0,
              "#0d0887"
             ],
             [
              0.1111111111111111,
              "#46039f"
             ],
             [
              0.2222222222222222,
              "#7201a8"
             ],
             [
              0.3333333333333333,
              "#9c179e"
             ],
             [
              0.4444444444444444,
              "#bd3786"
             ],
             [
              0.5555555555555556,
              "#d8576b"
             ],
             [
              0.6666666666666666,
              "#ed7953"
             ],
             [
              0.7777777777777778,
              "#fb9f3a"
             ],
             [
              0.8888888888888888,
              "#fdca26"
             ],
             [
              1,
              "#f0f921"
             ]
            ],
            "type": "heatmapgl"
           }
          ],
          "histogram": [
           {
            "marker": {
             "colorbar": {
              "outlinewidth": 0,
              "ticks": ""
             }
            },
            "type": "histogram"
           }
          ],
          "histogram2d": [
           {
            "colorbar": {
             "outlinewidth": 0,
             "ticks": ""
            },
            "colorscale": [
             [
              0,
              "#0d0887"
             ],
             [
              0.1111111111111111,
              "#46039f"
             ],
             [
              0.2222222222222222,
              "#7201a8"
             ],
             [
              0.3333333333333333,
              "#9c179e"
             ],
             [
              0.4444444444444444,
              "#bd3786"
             ],
             [
              0.5555555555555556,
              "#d8576b"
             ],
             [
              0.6666666666666666,
              "#ed7953"
             ],
             [
              0.7777777777777778,
              "#fb9f3a"
             ],
             [
              0.8888888888888888,
              "#fdca26"
             ],
             [
              1,
              "#f0f921"
             ]
            ],
            "type": "histogram2d"
           }
          ],
          "histogram2dcontour": [
           {
            "colorbar": {
             "outlinewidth": 0,
             "ticks": ""
            },
            "colorscale": [
             [
              0,
              "#0d0887"
             ],
             [
              0.1111111111111111,
              "#46039f"
             ],
             [
              0.2222222222222222,
              "#7201a8"
             ],
             [
              0.3333333333333333,
              "#9c179e"
             ],
             [
              0.4444444444444444,
              "#bd3786"
             ],
             [
              0.5555555555555556,
              "#d8576b"
             ],
             [
              0.6666666666666666,
              "#ed7953"
             ],
             [
              0.7777777777777778,
              "#fb9f3a"
             ],
             [
              0.8888888888888888,
              "#fdca26"
             ],
             [
              1,
              "#f0f921"
             ]
            ],
            "type": "histogram2dcontour"
           }
          ],
          "mesh3d": [
           {
            "colorbar": {
             "outlinewidth": 0,
             "ticks": ""
            },
            "type": "mesh3d"
           }
          ],
          "parcoords": [
           {
            "line": {
             "colorbar": {
              "outlinewidth": 0,
              "ticks": ""
             }
            },
            "type": "parcoords"
           }
          ],
          "pie": [
           {
            "automargin": true,
            "type": "pie"
           }
          ],
          "scatter": [
           {
            "marker": {
             "colorbar": {
              "outlinewidth": 0,
              "ticks": ""
             }
            },
            "type": "scatter"
           }
          ],
          "scatter3d": [
           {
            "line": {
             "colorbar": {
              "outlinewidth": 0,
              "ticks": ""
             }
            },
            "marker": {
             "colorbar": {
              "outlinewidth": 0,
              "ticks": ""
             }
            },
            "type": "scatter3d"
           }
          ],
          "scattercarpet": [
           {
            "marker": {
             "colorbar": {
              "outlinewidth": 0,
              "ticks": ""
             }
            },
            "type": "scattercarpet"
           }
          ],
          "scattergeo": [
           {
            "marker": {
             "colorbar": {
              "outlinewidth": 0,
              "ticks": ""
             }
            },
            "type": "scattergeo"
           }
          ],
          "scattergl": [
           {
            "marker": {
             "colorbar": {
              "outlinewidth": 0,
              "ticks": ""
             }
            },
            "type": "scattergl"
           }
          ],
          "scattermapbox": [
           {
            "marker": {
             "colorbar": {
              "outlinewidth": 0,
              "ticks": ""
             }
            },
            "type": "scattermapbox"
           }
          ],
          "scatterpolar": [
           {
            "marker": {
             "colorbar": {
              "outlinewidth": 0,
              "ticks": ""
             }
            },
            "type": "scatterpolar"
           }
          ],
          "scatterpolargl": [
           {
            "marker": {
             "colorbar": {
              "outlinewidth": 0,
              "ticks": ""
             }
            },
            "type": "scatterpolargl"
           }
          ],
          "scatterternary": [
           {
            "marker": {
             "colorbar": {
              "outlinewidth": 0,
              "ticks": ""
             }
            },
            "type": "scatterternary"
           }
          ],
          "surface": [
           {
            "colorbar": {
             "outlinewidth": 0,
             "ticks": ""
            },
            "colorscale": [
             [
              0,
              "#0d0887"
             ],
             [
              0.1111111111111111,
              "#46039f"
             ],
             [
              0.2222222222222222,
              "#7201a8"
             ],
             [
              0.3333333333333333,
              "#9c179e"
             ],
             [
              0.4444444444444444,
              "#bd3786"
             ],
             [
              0.5555555555555556,
              "#d8576b"
             ],
             [
              0.6666666666666666,
              "#ed7953"
             ],
             [
              0.7777777777777778,
              "#fb9f3a"
             ],
             [
              0.8888888888888888,
              "#fdca26"
             ],
             [
              1,
              "#f0f921"
             ]
            ],
            "type": "surface"
           }
          ],
          "table": [
           {
            "cells": {
             "fill": {
              "color": "#EBF0F8"
             },
             "line": {
              "color": "white"
             }
            },
            "header": {
             "fill": {
              "color": "#C8D4E3"
             },
             "line": {
              "color": "white"
             }
            },
            "type": "table"
           }
          ]
         },
         "layout": {
          "annotationdefaults": {
           "arrowcolor": "#2a3f5f",
           "arrowhead": 0,
           "arrowwidth": 1
          },
          "coloraxis": {
           "colorbar": {
            "outlinewidth": 0,
            "ticks": ""
           }
          },
          "colorscale": {
           "diverging": [
            [
             0,
             "#8e0152"
            ],
            [
             0.1,
             "#c51b7d"
            ],
            [
             0.2,
             "#de77ae"
            ],
            [
             0.3,
             "#f1b6da"
            ],
            [
             0.4,
             "#fde0ef"
            ],
            [
             0.5,
             "#f7f7f7"
            ],
            [
             0.6,
             "#e6f5d0"
            ],
            [
             0.7,
             "#b8e186"
            ],
            [
             0.8,
             "#7fbc41"
            ],
            [
             0.9,
             "#4d9221"
            ],
            [
             1,
             "#276419"
            ]
           ],
           "sequential": [
            [
             0,
             "#0d0887"
            ],
            [
             0.1111111111111111,
             "#46039f"
            ],
            [
             0.2222222222222222,
             "#7201a8"
            ],
            [
             0.3333333333333333,
             "#9c179e"
            ],
            [
             0.4444444444444444,
             "#bd3786"
            ],
            [
             0.5555555555555556,
             "#d8576b"
            ],
            [
             0.6666666666666666,
             "#ed7953"
            ],
            [
             0.7777777777777778,
             "#fb9f3a"
            ],
            [
             0.8888888888888888,
             "#fdca26"
            ],
            [
             1,
             "#f0f921"
            ]
           ],
           "sequentialminus": [
            [
             0,
             "#0d0887"
            ],
            [
             0.1111111111111111,
             "#46039f"
            ],
            [
             0.2222222222222222,
             "#7201a8"
            ],
            [
             0.3333333333333333,
             "#9c179e"
            ],
            [
             0.4444444444444444,
             "#bd3786"
            ],
            [
             0.5555555555555556,
             "#d8576b"
            ],
            [
             0.6666666666666666,
             "#ed7953"
            ],
            [
             0.7777777777777778,
             "#fb9f3a"
            ],
            [
             0.8888888888888888,
             "#fdca26"
            ],
            [
             1,
             "#f0f921"
            ]
           ]
          },
          "colorway": [
           "#636efa",
           "#EF553B",
           "#00cc96",
           "#ab63fa",
           "#FFA15A",
           "#19d3f3",
           "#FF6692",
           "#B6E880",
           "#FF97FF",
           "#FECB52"
          ],
          "font": {
           "color": "#2a3f5f"
          },
          "geo": {
           "bgcolor": "white",
           "lakecolor": "white",
           "landcolor": "#E5ECF6",
           "showlakes": true,
           "showland": true,
           "subunitcolor": "white"
          },
          "hoverlabel": {
           "align": "left"
          },
          "hovermode": "closest",
          "mapbox": {
           "style": "light"
          },
          "paper_bgcolor": "white",
          "plot_bgcolor": "#E5ECF6",
          "polar": {
           "angularaxis": {
            "gridcolor": "white",
            "linecolor": "white",
            "ticks": ""
           },
           "bgcolor": "#E5ECF6",
           "radialaxis": {
            "gridcolor": "white",
            "linecolor": "white",
            "ticks": ""
           }
          },
          "scene": {
           "xaxis": {
            "backgroundcolor": "#E5ECF6",
            "gridcolor": "white",
            "gridwidth": 2,
            "linecolor": "white",
            "showbackground": true,
            "ticks": "",
            "zerolinecolor": "white"
           },
           "yaxis": {
            "backgroundcolor": "#E5ECF6",
            "gridcolor": "white",
            "gridwidth": 2,
            "linecolor": "white",
            "showbackground": true,
            "ticks": "",
            "zerolinecolor": "white"
           },
           "zaxis": {
            "backgroundcolor": "#E5ECF6",
            "gridcolor": "white",
            "gridwidth": 2,
            "linecolor": "white",
            "showbackground": true,
            "ticks": "",
            "zerolinecolor": "white"
           }
          },
          "shapedefaults": {
           "line": {
            "color": "#2a3f5f"
           }
          },
          "ternary": {
           "aaxis": {
            "gridcolor": "white",
            "linecolor": "white",
            "ticks": ""
           },
           "baxis": {
            "gridcolor": "white",
            "linecolor": "white",
            "ticks": ""
           },
           "bgcolor": "#E5ECF6",
           "caxis": {
            "gridcolor": "white",
            "linecolor": "white",
            "ticks": ""
           }
          },
          "title": {
           "x": 0.05
          },
          "xaxis": {
           "automargin": true,
           "gridcolor": "white",
           "linecolor": "white",
           "ticks": "",
           "title": {
            "standoff": 15
           },
           "zerolinecolor": "white",
           "zerolinewidth": 2
          },
          "yaxis": {
           "automargin": true,
           "gridcolor": "white",
           "linecolor": "white",
           "ticks": "",
           "title": {
            "standoff": 15
           },
           "zerolinecolor": "white",
           "zerolinewidth": 2
          }
         }
        },
        "title": {
         "text": "Countries with Active Cases"
        }
       }
      },
      "text/html": [
       "<div>\n",
       "        \n",
       "        \n",
       "            <div id=\"cd4fdeef-b24e-4337-9478-aa43d6571e8a\" class=\"plotly-graph-div\" style=\"height:525px; width:100%;\"></div>\n",
       "            <script type=\"text/javascript\">\n",
       "                require([\"plotly\"], function(Plotly) {\n",
       "                    window.PLOTLYENV=window.PLOTLYENV || {};\n",
       "                    \n",
       "                if (document.getElementById(\"cd4fdeef-b24e-4337-9478-aa43d6571e8a\")) {\n",
       "                    Plotly.newPlot(\n",
       "                        'cd4fdeef-b24e-4337-9478-aa43d6571e8a',\n",
       "                        [{\"coloraxis\": \"coloraxis\", \"geo\": \"geo\", \"hoverlabel\": {\"namelength\": 0}, \"hovertemplate\": \"<b>%{hovertext}</b><br><br>Country,Other=%{location}<br>ActiveCases=%{z}\", \"hovertext\": [\"Afghanistan\", \"Albania\", \"Algeria\", \"Andorra\", \"Angola\", \"Anguilla\", \"AntiguaandBarbuda\", \"Argentina\", \"Armenia\", \"Aruba\", \"Australia\", \"Austria\", \"Azerbaijan\", \"Bahamas\", \"Bahrain\", \"Bangladesh\", \"Barbados\", \"Belarus\", \"Belgium\", \"Belize\", \"Benin\", \"Bermuda\", \"Bhutan\", \"Bolivia\", \"BosniaandHerzegovina\", \"Botswana\", \"Brazil\", \"BritishVirginIslands\", \"Brunei\", \"Bulgaria\", \"BurkinaFaso\", \"Burundi\", \"CAR\", \"CaboVerde\", \"Cambodia\", \"Cameroon\", \"Canada\", \"CaribbeanNetherlands\", \"CaymanIslands\", \"Chad\", \"ChannelIslands\", \"Chile\", \"China\", \"Colombia\", \"Congo\", \"CostaRica\", \"Croatia\", \"Cuba\", \"Cura\\u00e7ao\", \"Cyprus\", \"Czechia\", \"DRC\", \"Denmark\", \"DiamondPrincess\", \"Djibouti\", \"Dominica\", \"DominicanRepublic\", \"Ecuador\", \"Egypt\", \"ElSalvador\", \"EquatorialGuinea\", \"Eritrea\", \"Estonia\", \"Eswatini\", \"Ethiopia\", \"FaeroeIslands\", \"Fiji\", \"Finland\", \"France\", \"FrenchGuiana\", \"FrenchPolynesia\", \"Gabon\", \"Gambia\", \"Georgia\", \"Germany\", \"Ghana\", \"Gibraltar\", \"Greece\", \"Greenland\", \"Grenada\", \"Guadeloupe\", \"Guatemala\", \"Guinea\", \"Guinea-Bissau\", \"Guyana\", \"Haiti\", \"Honduras\", \"HongKong\", \"Hungary\", \"Iceland\", \"India\", \"Indonesia\", \"Iran\", \"Iraq\", \"Ireland\", \"IsleofMan\", \"Israel\", \"Italy\", \"IvoryCoast\", \"Jamaica\", \"Japan\", \"Jordan\", \"Kazakhstan\", \"Kenya\", \"Kuwait\", \"Kyrgyzstan\", \"Laos\", \"Latvia\", \"Lebanon\", \"Liberia\", \"Libya\", \"Liechtenstein\", \"Lithuania\", \"Luxembourg\", \"MSZaandam\", \"Macao\", \"Madagascar\", \"Malawi\", \"Malaysia\", \"Maldives\", \"Mali\", \"Malta\", \"Martinique\", \"Mauritania\", \"Mauritius\", \"Mayotte\", \"Mexico\", \"Moldova\", \"Monaco\", \"Mongolia\", \"Montenegro\", \"Montserrat\", \"Morocco\", \"Mozambique\", \"Myanmar\", \"Namibia\", \"Nepal\", \"Netherlands\", \"NewCaledonia\", \"NewZealand\", \"Nicaragua\", \"Niger\", \"Nigeria\", \"NorthMacedonia\", \"Norway\", \"Oman\", \"Pakistan\", \"Palestine\", \"Panama\", \"PapuaNewGuinea\", \"Paraguay\", \"Peru\", \"Philippines\", \"Poland\", \"Portugal\", \"Qatar\", \"Romania\", \"Russia\", \"Rwanda\", \"R\\u00e9union\", \"S.Korea\", \"SaintKittsandNevis\", \"SaintLucia\", \"SaintMartin\", \"SanMarino\", \"SaudiArabia\", \"Senegal\", \"Serbia\", \"Seychelles\", \"SierraLeone\", \"Singapore\", \"SintMaarten\", \"Slovakia\", \"Slovenia\", \"Somalia\", \"SouthAfrica\", \"Spain\", \"SriLanka\", \"St.Barth\", \"St.VincentGrenadines\", \"Sudan\", \"Suriname\", \"Sweden\", \"Switzerland\", \"Syria\", \"Taiwan\", \"Tanzania\", \"Thailand\", \"Timor-Leste\", \"Togo\", \"TrinidadandTobago\", \"Tunisia\", \"Turkey\", \"TurksandCaicos\", \"UAE\", \"UK\", \"USA\", \"Uganda\", \"Ukraine\", \"Uruguay\", \"Uzbekistan\", \"VaticanCity\", \"Venezuela\", \"Vietnam\", \"Zambia\", \"Zimbabwe\"], \"locationmode\": \"country names\", \"locations\": [\"Afghanistan\", \"Albania\", \"Algeria\", \"Andorra\", \"Angola\", \"Anguilla\", \"AntiguaandBarbuda\", \"Argentina\", \"Armenia\", \"Aruba\", \"Australia\", \"Austria\", \"Azerbaijan\", \"Bahamas\", \"Bahrain\", \"Bangladesh\", \"Barbados\", \"Belarus\", \"Belgium\", \"Belize\", \"Benin\", \"Bermuda\", \"Bhutan\", \"Bolivia\", \"BosniaandHerzegovina\", \"Botswana\", \"Brazil\", \"BritishVirginIslands\", \"Brunei\", \"Bulgaria\", \"BurkinaFaso\", \"Burundi\", \"CAR\", \"CaboVerde\", \"Cambodia\", \"Cameroon\", \"Canada\", \"CaribbeanNetherlands\", \"CaymanIslands\", \"Chad\", \"ChannelIslands\", \"Chile\", \"China\", \"Colombia\", \"Congo\", \"CostaRica\", \"Croatia\", \"Cuba\", \"Cura\\u00e7ao\", \"Cyprus\", \"Czechia\", \"DRC\", \"Denmark\", \"DiamondPrincess\", \"Djibouti\", \"Dominica\", \"DominicanRepublic\", \"Ecuador\", \"Egypt\", \"ElSalvador\", \"EquatorialGuinea\", \"Eritrea\", \"Estonia\", \"Eswatini\", \"Ethiopia\", \"FaeroeIslands\", \"Fiji\", \"Finland\", \"France\", \"FrenchGuiana\", \"FrenchPolynesia\", \"Gabon\", \"Gambia\", \"Georgia\", \"Germany\", \"Ghana\", \"Gibraltar\", \"Greece\", \"Greenland\", \"Grenada\", \"Guadeloupe\", \"Guatemala\", \"Guinea\", \"Guinea-Bissau\", \"Guyana\", \"Haiti\", \"Honduras\", \"HongKong\", \"Hungary\", \"Iceland\", \"India\", \"Indonesia\", \"Iran\", \"Iraq\", \"Ireland\", \"IsleofMan\", \"Israel\", \"Italy\", \"IvoryCoast\", \"Jamaica\", \"Japan\", \"Jordan\", \"Kazakhstan\", \"Kenya\", \"Kuwait\", \"Kyrgyzstan\", \"Laos\", \"Latvia\", \"Lebanon\", \"Liberia\", \"Libya\", \"Liechtenstein\", \"Lithuania\", \"Luxembourg\", \"MSZaandam\", \"Macao\", \"Madagascar\", \"Malawi\", \"Malaysia\", \"Maldives\", \"Mali\", \"Malta\", \"Martinique\", \"Mauritania\", \"Mauritius\", \"Mayotte\", \"Mexico\", \"Moldova\", \"Monaco\", \"Mongolia\", \"Montenegro\", \"Montserrat\", \"Morocco\", \"Mozambique\", \"Myanmar\", \"Namibia\", \"Nepal\", \"Netherlands\", \"NewCaledonia\", \"NewZealand\", \"Nicaragua\", \"Niger\", \"Nigeria\", \"NorthMacedonia\", \"Norway\", \"Oman\", \"Pakistan\", \"Palestine\", \"Panama\", \"PapuaNewGuinea\", \"Paraguay\", \"Peru\", \"Philippines\", \"Poland\", \"Portugal\", \"Qatar\", \"Romania\", \"Russia\", \"Rwanda\", \"R\\u00e9union\", \"S.Korea\", \"SaintKittsandNevis\", \"SaintLucia\", \"SaintMartin\", \"SanMarino\", \"SaudiArabia\", \"Senegal\", \"Serbia\", \"Seychelles\", \"SierraLeone\", \"Singapore\", \"SintMaarten\", \"Slovakia\", \"Slovenia\", \"Somalia\", \"SouthAfrica\", \"Spain\", \"SriLanka\", \"St.Barth\", \"St.VincentGrenadines\", \"Sudan\", \"Suriname\", \"Sweden\", \"Switzerland\", \"Syria\", \"Taiwan\", \"Tanzania\", \"Thailand\", \"Timor-Leste\", \"Togo\", \"TrinidadandTobago\", \"Tunisia\", \"Turkey\", \"TurksandCaicos\", \"UAE\", \"UK\", \"USA\", \"Uganda\", \"Ukraine\", \"Uruguay\", \"Uzbekistan\", \"VaticanCity\", \"Venezuela\", \"Vietnam\", \"Zambia\", \"Zimbabwe\"], \"name\": \"\", \"type\": \"choropleth\", \"z\": [265, 198, 1004, 407, 5, 3, 9, 960, 686, 61, 4737, 9299, 406, 22, 286, 29, 46, 294, 12755, 4, 12, 24, 3, 122, 530, 3, 7759, 3, 68, 441, 236, 3, 8, 5, 79, 289, 9595, 2, 27, 8, 215, 3288, 1727, 1087, 18, 388, 979, 248, 7, 357, 3966, 118, 2425, 82, 41, 12, 1404, 3158, 606, 44, 15, 22, 901, 9, 32, 88, 7, 1295, 41290, 35, 37, 19, 1, 121, 64033, 168, 49, 1493, 7, 10, 98, 37, 71, 9, 15, 17, 204, 668, 554, 1051, 2303, 1671, 31954, 540, 4148, 113, 6652, 85388, 178, 42, 2040, 249, 425, 114, 335, 123, 10, 491, 441, 7, 10, 75, 680, 2081, 7, 32, 65, 3, 2453, 6, 33, 200, 108, 3, 179, 105, 827, 557, 57, 12, 171, 5, 639, 10, 19, 11, 5, 13986, 17, 764, 4, 93, 168, 402, 5207, 194, 2465, 171, 1429, 1, 83, 822, 2830, 3145, 9572, 979, 2767, 3834, 84, 281, 3867, 9, 12, 19, 194, 1663, 140, 1395, 10, 2, 827, 15, 439, 844, 4, 1403, 76262, 131, 5, 2, 6, 9, 5568, 14169, 14, 293, 16, 1378, 1, 20, 90, 472, 20012, 5, 920, 34428, 246737, 45, 900, 297, 194, 7, 98, 152, 36, 8]}],\n",
       "                        {\"coloraxis\": {\"cmax\": 5000, \"cmin\": 1, \"colorbar\": {\"title\": {\"text\": \"ActiveCases\"}}, \"colorscale\": [[0.0, \"rgb(253, 224, 197)\"], [0.16666666666666666, \"rgb(250, 203, 166)\"], [0.3333333333333333, \"rgb(248, 181, 139)\"], [0.5, \"rgb(245, 158, 114)\"], [0.6666666666666666, \"rgb(242, 133, 93)\"], [0.8333333333333334, \"rgb(239, 106, 76)\"], [1.0, \"rgb(235, 74, 64)\"]]}, \"geo\": {\"center\": {}, \"domain\": {\"x\": [0.0, 1.0], \"y\": [0.0, 1.0]}}, \"legend\": {\"tracegroupgap\": 0}, \"template\": {\"data\": {\"bar\": [{\"error_x\": {\"color\": \"#2a3f5f\"}, \"error_y\": {\"color\": \"#2a3f5f\"}, \"marker\": {\"line\": {\"color\": \"#E5ECF6\", \"width\": 0.5}}, \"type\": \"bar\"}], \"barpolar\": [{\"marker\": {\"line\": {\"color\": \"#E5ECF6\", \"width\": 0.5}}, \"type\": \"barpolar\"}], \"carpet\": [{\"aaxis\": {\"endlinecolor\": \"#2a3f5f\", \"gridcolor\": \"white\", \"linecolor\": \"white\", \"minorgridcolor\": \"white\", \"startlinecolor\": \"#2a3f5f\"}, \"baxis\": {\"endlinecolor\": \"#2a3f5f\", \"gridcolor\": \"white\", \"linecolor\": \"white\", \"minorgridcolor\": \"white\", \"startlinecolor\": \"#2a3f5f\"}, \"type\": \"carpet\"}], \"choropleth\": [{\"colorbar\": {\"outlinewidth\": 0, \"ticks\": \"\"}, \"type\": \"choropleth\"}], \"contour\": [{\"colorbar\": {\"outlinewidth\": 0, \"ticks\": \"\"}, \"colorscale\": [[0.0, \"#0d0887\"], [0.1111111111111111, \"#46039f\"], [0.2222222222222222, \"#7201a8\"], [0.3333333333333333, \"#9c179e\"], [0.4444444444444444, \"#bd3786\"], [0.5555555555555556, \"#d8576b\"], [0.6666666666666666, \"#ed7953\"], [0.7777777777777778, \"#fb9f3a\"], [0.8888888888888888, \"#fdca26\"], [1.0, \"#f0f921\"]], \"type\": \"contour\"}], \"contourcarpet\": [{\"colorbar\": {\"outlinewidth\": 0, \"ticks\": \"\"}, \"type\": \"contourcarpet\"}], \"heatmap\": [{\"colorbar\": {\"outlinewidth\": 0, \"ticks\": \"\"}, \"colorscale\": [[0.0, \"#0d0887\"], [0.1111111111111111, \"#46039f\"], [0.2222222222222222, \"#7201a8\"], [0.3333333333333333, \"#9c179e\"], [0.4444444444444444, \"#bd3786\"], [0.5555555555555556, \"#d8576b\"], [0.6666666666666666, \"#ed7953\"], [0.7777777777777778, \"#fb9f3a\"], [0.8888888888888888, \"#fdca26\"], [1.0, \"#f0f921\"]], \"type\": \"heatmap\"}], \"heatmapgl\": [{\"colorbar\": {\"outlinewidth\": 0, \"ticks\": \"\"}, \"colorscale\": [[0.0, \"#0d0887\"], [0.1111111111111111, \"#46039f\"], [0.2222222222222222, \"#7201a8\"], [0.3333333333333333, \"#9c179e\"], [0.4444444444444444, \"#bd3786\"], [0.5555555555555556, \"#d8576b\"], [0.6666666666666666, \"#ed7953\"], [0.7777777777777778, \"#fb9f3a\"], [0.8888888888888888, \"#fdca26\"], [1.0, \"#f0f921\"]], \"type\": \"heatmapgl\"}], \"histogram\": [{\"marker\": {\"colorbar\": {\"outlinewidth\": 0, \"ticks\": \"\"}}, \"type\": \"histogram\"}], \"histogram2d\": [{\"colorbar\": {\"outlinewidth\": 0, \"ticks\": \"\"}, \"colorscale\": [[0.0, \"#0d0887\"], [0.1111111111111111, \"#46039f\"], [0.2222222222222222, \"#7201a8\"], [0.3333333333333333, \"#9c179e\"], [0.4444444444444444, \"#bd3786\"], [0.5555555555555556, \"#d8576b\"], [0.6666666666666666, \"#ed7953\"], [0.7777777777777778, \"#fb9f3a\"], [0.8888888888888888, \"#fdca26\"], [1.0, \"#f0f921\"]], \"type\": \"histogram2d\"}], \"histogram2dcontour\": [{\"colorbar\": {\"outlinewidth\": 0, \"ticks\": \"\"}, \"colorscale\": [[0.0, \"#0d0887\"], [0.1111111111111111, \"#46039f\"], [0.2222222222222222, \"#7201a8\"], [0.3333333333333333, \"#9c179e\"], [0.4444444444444444, \"#bd3786\"], [0.5555555555555556, \"#d8576b\"], [0.6666666666666666, \"#ed7953\"], [0.7777777777777778, \"#fb9f3a\"], [0.8888888888888888, \"#fdca26\"], [1.0, \"#f0f921\"]], \"type\": \"histogram2dcontour\"}], \"mesh3d\": [{\"colorbar\": {\"outlinewidth\": 0, \"ticks\": \"\"}, \"type\": \"mesh3d\"}], \"parcoords\": [{\"line\": {\"colorbar\": {\"outlinewidth\": 0, \"ticks\": \"\"}}, \"type\": \"parcoords\"}], \"pie\": [{\"automargin\": true, \"type\": \"pie\"}], \"scatter\": [{\"marker\": {\"colorbar\": {\"outlinewidth\": 0, \"ticks\": \"\"}}, \"type\": \"scatter\"}], \"scatter3d\": [{\"line\": {\"colorbar\": {\"outlinewidth\": 0, \"ticks\": \"\"}}, \"marker\": {\"colorbar\": {\"outlinewidth\": 0, \"ticks\": \"\"}}, \"type\": \"scatter3d\"}], \"scattercarpet\": [{\"marker\": {\"colorbar\": {\"outlinewidth\": 0, \"ticks\": \"\"}}, \"type\": \"scattercarpet\"}], \"scattergeo\": [{\"marker\": {\"colorbar\": {\"outlinewidth\": 0, \"ticks\": \"\"}}, \"type\": \"scattergeo\"}], \"scattergl\": [{\"marker\": {\"colorbar\": {\"outlinewidth\": 0, \"ticks\": \"\"}}, \"type\": \"scattergl\"}], \"scattermapbox\": [{\"marker\": {\"colorbar\": {\"outlinewidth\": 0, \"ticks\": \"\"}}, \"type\": \"scattermapbox\"}], \"scatterpolar\": [{\"marker\": {\"colorbar\": {\"outlinewidth\": 0, \"ticks\": \"\"}}, \"type\": \"scatterpolar\"}], \"scatterpolargl\": [{\"marker\": {\"colorbar\": {\"outlinewidth\": 0, \"ticks\": \"\"}}, \"type\": \"scatterpolargl\"}], \"scatterternary\": [{\"marker\": {\"colorbar\": {\"outlinewidth\": 0, \"ticks\": \"\"}}, \"type\": \"scatterternary\"}], \"surface\": [{\"colorbar\": {\"outlinewidth\": 0, \"ticks\": \"\"}, \"colorscale\": [[0.0, \"#0d0887\"], [0.1111111111111111, \"#46039f\"], [0.2222222222222222, \"#7201a8\"], [0.3333333333333333, \"#9c179e\"], [0.4444444444444444, \"#bd3786\"], [0.5555555555555556, \"#d8576b\"], [0.6666666666666666, \"#ed7953\"], [0.7777777777777778, \"#fb9f3a\"], [0.8888888888888888, \"#fdca26\"], [1.0, \"#f0f921\"]], \"type\": \"surface\"}], \"table\": [{\"cells\": {\"fill\": {\"color\": \"#EBF0F8\"}, \"line\": {\"color\": \"white\"}}, \"header\": {\"fill\": {\"color\": \"#C8D4E3\"}, \"line\": {\"color\": \"white\"}}, \"type\": \"table\"}]}, \"layout\": {\"annotationdefaults\": {\"arrowcolor\": \"#2a3f5f\", \"arrowhead\": 0, \"arrowwidth\": 1}, \"coloraxis\": {\"colorbar\": {\"outlinewidth\": 0, \"ticks\": \"\"}}, \"colorscale\": {\"diverging\": [[0, \"#8e0152\"], [0.1, \"#c51b7d\"], [0.2, \"#de77ae\"], [0.3, \"#f1b6da\"], [0.4, \"#fde0ef\"], [0.5, \"#f7f7f7\"], [0.6, \"#e6f5d0\"], [0.7, \"#b8e186\"], [0.8, \"#7fbc41\"], [0.9, \"#4d9221\"], [1, \"#276419\"]], \"sequential\": [[0.0, \"#0d0887\"], [0.1111111111111111, \"#46039f\"], [0.2222222222222222, \"#7201a8\"], [0.3333333333333333, \"#9c179e\"], [0.4444444444444444, \"#bd3786\"], [0.5555555555555556, \"#d8576b\"], [0.6666666666666666, \"#ed7953\"], [0.7777777777777778, \"#fb9f3a\"], [0.8888888888888888, \"#fdca26\"], [1.0, \"#f0f921\"]], \"sequentialminus\": [[0.0, \"#0d0887\"], [0.1111111111111111, \"#46039f\"], [0.2222222222222222, \"#7201a8\"], [0.3333333333333333, \"#9c179e\"], [0.4444444444444444, \"#bd3786\"], [0.5555555555555556, \"#d8576b\"], [0.6666666666666666, \"#ed7953\"], [0.7777777777777778, \"#fb9f3a\"], [0.8888888888888888, \"#fdca26\"], [1.0, \"#f0f921\"]]}, \"colorway\": [\"#636efa\", \"#EF553B\", \"#00cc96\", \"#ab63fa\", \"#FFA15A\", \"#19d3f3\", \"#FF6692\", \"#B6E880\", \"#FF97FF\", \"#FECB52\"], \"font\": {\"color\": \"#2a3f5f\"}, \"geo\": {\"bgcolor\": \"white\", \"lakecolor\": \"white\", \"landcolor\": \"#E5ECF6\", \"showlakes\": true, \"showland\": true, \"subunitcolor\": \"white\"}, \"hoverlabel\": {\"align\": \"left\"}, \"hovermode\": \"closest\", \"mapbox\": {\"style\": \"light\"}, \"paper_bgcolor\": \"white\", \"plot_bgcolor\": \"#E5ECF6\", \"polar\": {\"angularaxis\": {\"gridcolor\": \"white\", \"linecolor\": \"white\", \"ticks\": \"\"}, \"bgcolor\": \"#E5ECF6\", \"radialaxis\": {\"gridcolor\": \"white\", \"linecolor\": \"white\", \"ticks\": \"\"}}, \"scene\": {\"xaxis\": {\"backgroundcolor\": \"#E5ECF6\", \"gridcolor\": \"white\", \"gridwidth\": 2, \"linecolor\": \"white\", \"showbackground\": true, \"ticks\": \"\", \"zerolinecolor\": \"white\"}, \"yaxis\": {\"backgroundcolor\": \"#E5ECF6\", \"gridcolor\": \"white\", \"gridwidth\": 2, \"linecolor\": \"white\", \"showbackground\": true, \"ticks\": \"\", \"zerolinecolor\": \"white\"}, \"zaxis\": {\"backgroundcolor\": \"#E5ECF6\", \"gridcolor\": \"white\", \"gridwidth\": 2, \"linecolor\": \"white\", \"showbackground\": true, \"ticks\": \"\", \"zerolinecolor\": \"white\"}}, \"shapedefaults\": {\"line\": {\"color\": \"#2a3f5f\"}}, \"ternary\": {\"aaxis\": {\"gridcolor\": \"white\", \"linecolor\": \"white\", \"ticks\": \"\"}, \"baxis\": {\"gridcolor\": \"white\", \"linecolor\": \"white\", \"ticks\": \"\"}, \"bgcolor\": \"#E5ECF6\", \"caxis\": {\"gridcolor\": \"white\", \"linecolor\": \"white\", \"ticks\": \"\"}}, \"title\": {\"x\": 0.05}, \"xaxis\": {\"automargin\": true, \"gridcolor\": \"white\", \"linecolor\": \"white\", \"ticks\": \"\", \"title\": {\"standoff\": 15}, \"zerolinecolor\": \"white\", \"zerolinewidth\": 2}, \"yaxis\": {\"automargin\": true, \"gridcolor\": \"white\", \"linecolor\": \"white\", \"ticks\": \"\", \"title\": {\"standoff\": 15}, \"zerolinecolor\": \"white\", \"zerolinewidth\": 2}}}, \"title\": {\"text\": \"Countries with Active Cases\"}},\n",
       "                        {\"responsive\": true}\n",
       "                    ).then(function(){\n",
       "                            \n",
       "var gd = document.getElementById('cd4fdeef-b24e-4337-9478-aa43d6571e8a');\n",
       "var x = new MutationObserver(function (mutations, observer) {{\n",
       "        var display = window.getComputedStyle(gd).display;\n",
       "        if (!display || display === 'none') {{\n",
       "            console.log([gd, 'removed!']);\n",
       "            Plotly.purge(gd);\n",
       "            observer.disconnect();\n",
       "        }}\n",
       "}});\n",
       "\n",
       "// Listen for the removal of the full notebook cells\n",
       "var notebookContainer = gd.closest('#notebook-container');\n",
       "if (notebookContainer) {{\n",
       "    x.observe(notebookContainer, {childList: true});\n",
       "}}\n",
       "\n",
       "// Listen for the clearing of the current output cell\n",
       "var outputEl = gd.closest('.output');\n",
       "if (outputEl) {{\n",
       "    x.observe(outputEl, {childList: true});\n",
       "}}\n",
       "\n",
       "                        })\n",
       "                };\n",
       "                });\n",
       "            </script>\n",
       "        </div>"
      ]
     },
     "metadata": {},
     "output_type": "display_data"
    }
   ],
   "source": [
    "world=corona_df.groupby(\"Country,Other\")[\"TotalCases\",\"ActiveCases\",\"TotalDeaths\"].sum().reset_index()\n",
    "\n",
    "figure = px.choropleth(world, locations=\"Country,Other\",\n",
    "                      locationmode='country names',color=\"ActiveCases\",\n",
    "                      hover_name='Country,Other',range_color=[1,5000],\n",
    "                      color_continuous_scale=\"Peach\",\n",
    "                      title='Countries with Active Cases') \n",
    "figure.show()"
   ]
  },
  {
   "cell_type": "markdown",
   "metadata": {},
   "source": [
    "Active Cases observations :\n",
    "\n",
    "1) Most of the countries have crossed the 10000 Acive cases per country, while some of them can control the spread of the virus and have kept it under 1000.\n",
    "\n",
    "2) China is one of the only nations which has been decreasing the active number of cases\n",
    "\n",
    "3) But in some other nations like the US, Italy, Spain, France,and most important ISRAEL, the number of active cases is rising rapidly"
   ]
  },
  {
   "cell_type": "markdown",
   "metadata": {},
   "source": [
    "### Total Death spread worldwide"
   ]
  },
  {
   "cell_type": "code",
   "execution_count": 51,
   "metadata": {},
   "outputs": [
    {
     "data": {
      "application/vnd.plotly.v1+json": {
       "config": {
        "plotlyServerURL": "https://plot.ly"
       },
       "data": [
        {
         "geo": "geo",
         "hoverlabel": {
          "namelength": 0
         },
         "hovertemplate": "<b>%{hovertext}</b><br><br>size=%{marker.size}<br>Country,Other=%{location}<br>TotalDeaths=%{marker.color}",
         "hovertext": [
          "Afghanistan",
          "Albania",
          "Algeria",
          "Andorra",
          "Angola",
          "Anguilla",
          "AntiguaandBarbuda",
          "Argentina",
          "Armenia",
          "Aruba",
          "Australia",
          "Austria",
          "Azerbaijan",
          "Bahamas",
          "Bahrain",
          "Bangladesh",
          "Barbados",
          "Belarus",
          "Belgium",
          "Belize",
          "Benin",
          "Bermuda",
          "Bhutan",
          "Bolivia",
          "BosniaandHerzegovina",
          "Botswana",
          "Brazil",
          "BritishVirginIslands",
          "Brunei",
          "Bulgaria",
          "BurkinaFaso",
          "Burundi",
          "CAR",
          "CaboVerde",
          "Cambodia",
          "Cameroon",
          "Canada",
          "CaribbeanNetherlands",
          "CaymanIslands",
          "Chad",
          "ChannelIslands",
          "Chile",
          "China",
          "Colombia",
          "Congo",
          "CostaRica",
          "Croatia",
          "Cuba",
          "Curaçao",
          "Cyprus",
          "Czechia",
          "DRC",
          "Denmark",
          "DiamondPrincess",
          "Djibouti",
          "Dominica",
          "DominicanRepublic",
          "Ecuador",
          "Egypt",
          "ElSalvador",
          "EquatorialGuinea",
          "Eritrea",
          "Estonia",
          "Eswatini",
          "Ethiopia",
          "FaeroeIslands",
          "Fiji",
          "Finland",
          "France",
          "FrenchGuiana",
          "FrenchPolynesia",
          "Gabon",
          "Gambia",
          "Georgia",
          "Germany",
          "Ghana",
          "Gibraltar",
          "Greece",
          "Greenland",
          "Grenada",
          "Guadeloupe",
          "Guatemala",
          "Guinea",
          "Guinea-Bissau",
          "Guyana",
          "Haiti",
          "Honduras",
          "HongKong",
          "Hungary",
          "Iceland",
          "India",
          "Indonesia",
          "Iran",
          "Iraq",
          "Ireland",
          "IsleofMan",
          "Israel",
          "Italy",
          "IvoryCoast",
          "Jamaica",
          "Japan",
          "Jordan",
          "Kazakhstan",
          "Kenya",
          "Kuwait",
          "Kyrgyzstan",
          "Laos",
          "Latvia",
          "Lebanon",
          "Liberia",
          "Libya",
          "Liechtenstein",
          "Lithuania",
          "Luxembourg",
          "MSZaandam",
          "Macao",
          "Madagascar",
          "Malawi",
          "Malaysia",
          "Maldives",
          "Mali",
          "Malta",
          "Martinique",
          "Mauritania",
          "Mauritius",
          "Mayotte",
          "Mexico",
          "Moldova",
          "Monaco",
          "Mongolia",
          "Montenegro",
          "Montserrat",
          "Morocco",
          "Mozambique",
          "Myanmar",
          "Namibia",
          "Nepal",
          "Netherlands",
          "NewCaledonia",
          "NewZealand",
          "Nicaragua",
          "Niger",
          "Nigeria",
          "NorthMacedonia",
          "Norway",
          "Oman",
          "Pakistan",
          "Palestine",
          "Panama",
          "PapuaNewGuinea",
          "Paraguay",
          "Peru",
          "Philippines",
          "Poland",
          "Portugal",
          "Qatar",
          "Romania",
          "Russia",
          "Rwanda",
          "Réunion",
          "S.Korea",
          "SaintKittsandNevis",
          "SaintLucia",
          "SaintMartin",
          "SanMarino",
          "SaudiArabia",
          "Senegal",
          "Serbia",
          "Seychelles",
          "SierraLeone",
          "Singapore",
          "SintMaarten",
          "Slovakia",
          "Slovenia",
          "Somalia",
          "SouthAfrica",
          "Spain",
          "SriLanka",
          "St.Barth",
          "St.VincentGrenadines",
          "Sudan",
          "Suriname",
          "Sweden",
          "Switzerland",
          "Syria",
          "Taiwan",
          "Tanzania",
          "Thailand",
          "Timor-Leste",
          "Togo",
          "TrinidadandTobago",
          "Tunisia",
          "Turkey",
          "TurksandCaicos",
          "UAE",
          "UK",
          "USA",
          "Uganda",
          "Ukraine",
          "Uruguay",
          "Uzbekistan",
          "VaticanCity",
          "Venezuela",
          "Vietnam",
          "Zambia",
          "Zimbabwe"
         ],
         "legendgroup": "",
         "locationmode": "country names",
         "locations": [
          "Afghanistan",
          "Albania",
          "Algeria",
          "Andorra",
          "Angola",
          "Anguilla",
          "AntiguaandBarbuda",
          "Argentina",
          "Armenia",
          "Aruba",
          "Australia",
          "Austria",
          "Azerbaijan",
          "Bahamas",
          "Bahrain",
          "Bangladesh",
          "Barbados",
          "Belarus",
          "Belgium",
          "Belize",
          "Benin",
          "Bermuda",
          "Bhutan",
          "Bolivia",
          "BosniaandHerzegovina",
          "Botswana",
          "Brazil",
          "BritishVirginIslands",
          "Brunei",
          "Bulgaria",
          "BurkinaFaso",
          "Burundi",
          "CAR",
          "CaboVerde",
          "Cambodia",
          "Cameroon",
          "Canada",
          "CaribbeanNetherlands",
          "CaymanIslands",
          "Chad",
          "ChannelIslands",
          "Chile",
          "China",
          "Colombia",
          "Congo",
          "CostaRica",
          "Croatia",
          "Cuba",
          "Curaçao",
          "Cyprus",
          "Czechia",
          "DRC",
          "Denmark",
          "DiamondPrincess",
          "Djibouti",
          "Dominica",
          "DominicanRepublic",
          "Ecuador",
          "Egypt",
          "ElSalvador",
          "EquatorialGuinea",
          "Eritrea",
          "Estonia",
          "Eswatini",
          "Ethiopia",
          "FaeroeIslands",
          "Fiji",
          "Finland",
          "France",
          "FrenchGuiana",
          "FrenchPolynesia",
          "Gabon",
          "Gambia",
          "Georgia",
          "Germany",
          "Ghana",
          "Gibraltar",
          "Greece",
          "Greenland",
          "Grenada",
          "Guadeloupe",
          "Guatemala",
          "Guinea",
          "Guinea-Bissau",
          "Guyana",
          "Haiti",
          "Honduras",
          "HongKong",
          "Hungary",
          "Iceland",
          "India",
          "Indonesia",
          "Iran",
          "Iraq",
          "Ireland",
          "IsleofMan",
          "Israel",
          "Italy",
          "IvoryCoast",
          "Jamaica",
          "Japan",
          "Jordan",
          "Kazakhstan",
          "Kenya",
          "Kuwait",
          "Kyrgyzstan",
          "Laos",
          "Latvia",
          "Lebanon",
          "Liberia",
          "Libya",
          "Liechtenstein",
          "Lithuania",
          "Luxembourg",
          "MSZaandam",
          "Macao",
          "Madagascar",
          "Malawi",
          "Malaysia",
          "Maldives",
          "Mali",
          "Malta",
          "Martinique",
          "Mauritania",
          "Mauritius",
          "Mayotte",
          "Mexico",
          "Moldova",
          "Monaco",
          "Mongolia",
          "Montenegro",
          "Montserrat",
          "Morocco",
          "Mozambique",
          "Myanmar",
          "Namibia",
          "Nepal",
          "Netherlands",
          "NewCaledonia",
          "NewZealand",
          "Nicaragua",
          "Niger",
          "Nigeria",
          "NorthMacedonia",
          "Norway",
          "Oman",
          "Pakistan",
          "Palestine",
          "Panama",
          "PapuaNewGuinea",
          "Paraguay",
          "Peru",
          "Philippines",
          "Poland",
          "Portugal",
          "Qatar",
          "Romania",
          "Russia",
          "Rwanda",
          "Réunion",
          "S.Korea",
          "SaintKittsandNevis",
          "SaintLucia",
          "SaintMartin",
          "SanMarino",
          "SaudiArabia",
          "Senegal",
          "Serbia",
          "Seychelles",
          "SierraLeone",
          "Singapore",
          "SintMaarten",
          "Slovakia",
          "Slovenia",
          "Somalia",
          "SouthAfrica",
          "Spain",
          "SriLanka",
          "St.Barth",
          "St.VincentGrenadines",
          "Sudan",
          "Suriname",
          "Sweden",
          "Switzerland",
          "Syria",
          "Taiwan",
          "Tanzania",
          "Thailand",
          "Timor-Leste",
          "Togo",
          "TrinidadandTobago",
          "Tunisia",
          "Turkey",
          "TurksandCaicos",
          "UAE",
          "UK",
          "USA",
          "Uganda",
          "Ukraine",
          "Uruguay",
          "Uzbekistan",
          "VaticanCity",
          "Venezuela",
          "Vietnam",
          "Zambia",
          "Zimbabwe"
         ],
         "marker": {
          "color": [
           6,
           16,
           86,
           16,
           2,
           0,
           0,
           37,
           7,
           0,
           28,
           168,
           5,
           1,
           4,
           6,
           0,
           4,
           1143,
           0,
           0,
           0,
           0,
           9,
           17,
           1,
           327,
           0,
           1,
           12,
           16,
           0,
           0,
           1,
           0,
           7,
           173,
           0,
           1,
           0,
           4,
           18,
           3322,
           19,
           2,
           2,
           8,
           6,
           1,
           10,
           46,
           13,
           139,
           11,
           0,
           0,
           60,
           120,
           58,
           2,
           0,
           0,
           12,
           0,
           0,
           0,
           0,
           21,
           5387,
           0,
           0,
           1,
           1,
           0,
           1122,
           5,
           0,
           53,
           0,
           0,
           6,
           1,
           0,
           0,
           4,
           0,
           15,
           4,
           26,
           4,
           72,
           181,
           3294,
           54,
           98,
           1,
           39,
           13915,
           1,
           3,
           63,
           5,
           6,
           4,
           0,
           1,
           0,
           1,
           17,
           0,
           1,
           0,
           9,
           30,
           2,
           0,
           0,
           0,
           53,
           0,
           3,
           0,
           3,
           1,
           7,
           1,
           50,
           6,
           1,
           0,
           2,
           0,
           47,
           0,
           1,
           0,
           0,
           1487,
           0,
           1,
           1,
           5,
           2,
           11,
           54,
           1,
           35,
           1,
           37,
           0,
           3,
           55,
           136,
           59,
           246,
           3,
           118,
           34,
           0,
           0,
           174,
           0,
           0,
           1,
           30,
           21,
           1,
           31,
           0,
           0,
           5,
           2,
           1,
           20,
           0,
           5,
           10935,
           4,
           0,
           0,
           2,
           0,
           333,
           573,
           2,
           5,
           1,
           19,
           0,
           3,
           6,
           14,
           356,
           0,
           8,
           2921,
           6098,
           0,
           23,
           4,
           2,
           0,
           5,
           0,
           1,
           1
          ],
          "coloraxis": "coloraxis",
          "size": [
           1.4309690811052556,
           1.7411011265922482,
           2.437247817988224,
           1.7411011265922482,
           1.148698354997035,
           0,
           0,
           2.058924136478517,
           1.4757731615945522,
           0,
           1.9472943612303364,
           2.78651802273122,
           1.379729661461215,
           1,
           1.3195079107728942,
           1.4309690811052556,
           0,
           1.3195079107728942,
           4.088925954508765,
           0,
           0,
           0,
           0,
           1.5518455739153598,
           1.762340347832317,
           1,
           3.1835344256144342,
           0,
           1,
           1.6437518295172258,
           1.7411011265922482,
           0,
           0,
           1,
           0,
           1.4757731615945522,
           2.802910436378417,
           0,
           1,
           0,
           1.3195079107728942,
           1.7826024579660034,
           5.061507976818826,
           1.8019831273171423,
           1.148698354997035,
           1.148698354997035,
           1.5157165665103982,
           1.4309690811052556,
           1,
           1.5848931924611136,
           2.1505600128111397,
           1.6702776523348104,
           2.682890576566476,
           1.615394266202178,
           0,
           0,
           2.2679331552660544,
           2.605171084697352,
           2.2526078784323254,
           1.148698354997035,
           0,
           0,
           1.6437518295172258,
           0,
           0,
           0,
           0,
           1.838416287252544,
           5.575314813472061,
           0,
           0,
           1,
           1,
           0,
           4.073789377248846,
           1.379729661461215,
           0,
           2.2123568222761167,
           0,
           0,
           1.4309690811052556,
           1,
           0,
           0,
           1.3195079107728942,
           0,
           1.7187719275874789,
           1.3195079107728942,
           1.9186451916253062,
           1.3195079107728942,
           2.352158045049347,
           2.8283666972150163,
           5.052946720629023,
           2.22064303492292,
           2.5017575271408434,
           1,
           2.080716549261844,
           6.740570294634792,
           1,
           1.2457309396155174,
           2.2901720489235826,
           1.379729661461215,
           1.4309690811052556,
           1.3195079107728942,
           0,
           1,
           0,
           1,
           1.762340347832317,
           0,
           1,
           0,
           1.5518455739153598,
           1.97435048583482,
           1.148698354997035,
           0,
           0,
           0,
           2.2123568222761167,
           0,
           1.2457309396155174,
           0,
           1.2457309396155174,
           1,
           1.4757731615945522,
           1,
           2.1867241478865562,
           1.4309690811052556,
           1,
           0,
           1.148698354997035,
           0,
           2.159830011764466,
           0,
           1,
           0,
           0,
           4.309850381707176,
           0,
           1,
           1,
           1.379729661461215,
           1.148698354997035,
           1.615394266202178,
           2.22064303492292,
           1,
           2.0361680046403983,
           1,
           2.058924136478517,
           0,
           1.2457309396155174,
           2.2288073840335185,
           2.6712084610391402,
           2.2603224696268156,
           3.0073710962592606,
           1.2457309396155174,
           2.596428702623159,
           2.024397458499885,
           0,
           0,
           2.806143328984818,
           0,
           0,
           1,
           1.97435048583482,
           1.838416287252544,
           1,
           1.9873407546644581,
           0,
           0,
           1.379729661461215,
           1.148698354997035,
           1,
           1.8205642030260802,
           0,
           1.379729661461215,
           6.423382105014972,
           1.3195079107728942,
           0,
           0,
           1.148698354997035,
           0,
           3.195132308221691,
           3.5614833995548167,
           1.148698354997035,
           1.379729661461215,
           1,
           1.8019831273171423,
           0,
           1.2457309396155174,
           1.4309690811052556,
           1.6952182030724354,
           3.2380980834681607,
           0,
           1.5157165665103982,
           4.932945432570404,
           5.715279631863175,
           0,
           1.8721712305548575,
           1.3195079107728942,
           1.148698354997035,
           0,
           1.379729661461215,
           0,
           1,
           1
          ],
          "sizemode": "area",
          "sizeref": 0.01685142573658698
         },
         "name": "",
         "showlegend": false,
         "type": "scattergeo"
        }
       ],
       "layout": {
        "coloraxis": {
         "colorbar": {
          "title": {
           "text": "TotalDeaths"
          }
         },
         "colorscale": [
          [
           0,
           "#0d0887"
          ],
          [
           0.1111111111111111,
           "#46039f"
          ],
          [
           0.2222222222222222,
           "#7201a8"
          ],
          [
           0.3333333333333333,
           "#9c179e"
          ],
          [
           0.4444444444444444,
           "#bd3786"
          ],
          [
           0.5555555555555556,
           "#d8576b"
          ],
          [
           0.6666666666666666,
           "#ed7953"
          ],
          [
           0.7777777777777778,
           "#fb9f3a"
          ],
          [
           0.8888888888888888,
           "#fdca26"
          ],
          [
           1,
           "#f0f921"
          ]
         ]
        },
        "geo": {
         "center": {},
         "domain": {
          "x": [
           0,
           1
          ],
          "y": [
           0,
           1
          ]
         },
         "projection": {
          "type": "natural earth"
         }
        },
        "legend": {
         "itemsizing": "constant",
         "tracegroupgap": 0
        },
        "template": {
         "data": {
          "bar": [
           {
            "error_x": {
             "color": "#2a3f5f"
            },
            "error_y": {
             "color": "#2a3f5f"
            },
            "marker": {
             "line": {
              "color": "#E5ECF6",
              "width": 0.5
             }
            },
            "type": "bar"
           }
          ],
          "barpolar": [
           {
            "marker": {
             "line": {
              "color": "#E5ECF6",
              "width": 0.5
             }
            },
            "type": "barpolar"
           }
          ],
          "carpet": [
           {
            "aaxis": {
             "endlinecolor": "#2a3f5f",
             "gridcolor": "white",
             "linecolor": "white",
             "minorgridcolor": "white",
             "startlinecolor": "#2a3f5f"
            },
            "baxis": {
             "endlinecolor": "#2a3f5f",
             "gridcolor": "white",
             "linecolor": "white",
             "minorgridcolor": "white",
             "startlinecolor": "#2a3f5f"
            },
            "type": "carpet"
           }
          ],
          "choropleth": [
           {
            "colorbar": {
             "outlinewidth": 0,
             "ticks": ""
            },
            "type": "choropleth"
           }
          ],
          "contour": [
           {
            "colorbar": {
             "outlinewidth": 0,
             "ticks": ""
            },
            "colorscale": [
             [
              0,
              "#0d0887"
             ],
             [
              0.1111111111111111,
              "#46039f"
             ],
             [
              0.2222222222222222,
              "#7201a8"
             ],
             [
              0.3333333333333333,
              "#9c179e"
             ],
             [
              0.4444444444444444,
              "#bd3786"
             ],
             [
              0.5555555555555556,
              "#d8576b"
             ],
             [
              0.6666666666666666,
              "#ed7953"
             ],
             [
              0.7777777777777778,
              "#fb9f3a"
             ],
             [
              0.8888888888888888,
              "#fdca26"
             ],
             [
              1,
              "#f0f921"
             ]
            ],
            "type": "contour"
           }
          ],
          "contourcarpet": [
           {
            "colorbar": {
             "outlinewidth": 0,
             "ticks": ""
            },
            "type": "contourcarpet"
           }
          ],
          "heatmap": [
           {
            "colorbar": {
             "outlinewidth": 0,
             "ticks": ""
            },
            "colorscale": [
             [
              0,
              "#0d0887"
             ],
             [
              0.1111111111111111,
              "#46039f"
             ],
             [
              0.2222222222222222,
              "#7201a8"
             ],
             [
              0.3333333333333333,
              "#9c179e"
             ],
             [
              0.4444444444444444,
              "#bd3786"
             ],
             [
              0.5555555555555556,
              "#d8576b"
             ],
             [
              0.6666666666666666,
              "#ed7953"
             ],
             [
              0.7777777777777778,
              "#fb9f3a"
             ],
             [
              0.8888888888888888,
              "#fdca26"
             ],
             [
              1,
              "#f0f921"
             ]
            ],
            "type": "heatmap"
           }
          ],
          "heatmapgl": [
           {
            "colorbar": {
             "outlinewidth": 0,
             "ticks": ""
            },
            "colorscale": [
             [
              0,
              "#0d0887"
             ],
             [
              0.1111111111111111,
              "#46039f"
             ],
             [
              0.2222222222222222,
              "#7201a8"
             ],
             [
              0.3333333333333333,
              "#9c179e"
             ],
             [
              0.4444444444444444,
              "#bd3786"
             ],
             [
              0.5555555555555556,
              "#d8576b"
             ],
             [
              0.6666666666666666,
              "#ed7953"
             ],
             [
              0.7777777777777778,
              "#fb9f3a"
             ],
             [
              0.8888888888888888,
              "#fdca26"
             ],
             [
              1,
              "#f0f921"
             ]
            ],
            "type": "heatmapgl"
           }
          ],
          "histogram": [
           {
            "marker": {
             "colorbar": {
              "outlinewidth": 0,
              "ticks": ""
             }
            },
            "type": "histogram"
           }
          ],
          "histogram2d": [
           {
            "colorbar": {
             "outlinewidth": 0,
             "ticks": ""
            },
            "colorscale": [
             [
              0,
              "#0d0887"
             ],
             [
              0.1111111111111111,
              "#46039f"
             ],
             [
              0.2222222222222222,
              "#7201a8"
             ],
             [
              0.3333333333333333,
              "#9c179e"
             ],
             [
              0.4444444444444444,
              "#bd3786"
             ],
             [
              0.5555555555555556,
              "#d8576b"
             ],
             [
              0.6666666666666666,
              "#ed7953"
             ],
             [
              0.7777777777777778,
              "#fb9f3a"
             ],
             [
              0.8888888888888888,
              "#fdca26"
             ],
             [
              1,
              "#f0f921"
             ]
            ],
            "type": "histogram2d"
           }
          ],
          "histogram2dcontour": [
           {
            "colorbar": {
             "outlinewidth": 0,
             "ticks": ""
            },
            "colorscale": [
             [
              0,
              "#0d0887"
             ],
             [
              0.1111111111111111,
              "#46039f"
             ],
             [
              0.2222222222222222,
              "#7201a8"
             ],
             [
              0.3333333333333333,
              "#9c179e"
             ],
             [
              0.4444444444444444,
              "#bd3786"
             ],
             [
              0.5555555555555556,
              "#d8576b"
             ],
             [
              0.6666666666666666,
              "#ed7953"
             ],
             [
              0.7777777777777778,
              "#fb9f3a"
             ],
             [
              0.8888888888888888,
              "#fdca26"
             ],
             [
              1,
              "#f0f921"
             ]
            ],
            "type": "histogram2dcontour"
           }
          ],
          "mesh3d": [
           {
            "colorbar": {
             "outlinewidth": 0,
             "ticks": ""
            },
            "type": "mesh3d"
           }
          ],
          "parcoords": [
           {
            "line": {
             "colorbar": {
              "outlinewidth": 0,
              "ticks": ""
             }
            },
            "type": "parcoords"
           }
          ],
          "pie": [
           {
            "automargin": true,
            "type": "pie"
           }
          ],
          "scatter": [
           {
            "marker": {
             "colorbar": {
              "outlinewidth": 0,
              "ticks": ""
             }
            },
            "type": "scatter"
           }
          ],
          "scatter3d": [
           {
            "line": {
             "colorbar": {
              "outlinewidth": 0,
              "ticks": ""
             }
            },
            "marker": {
             "colorbar": {
              "outlinewidth": 0,
              "ticks": ""
             }
            },
            "type": "scatter3d"
           }
          ],
          "scattercarpet": [
           {
            "marker": {
             "colorbar": {
              "outlinewidth": 0,
              "ticks": ""
             }
            },
            "type": "scattercarpet"
           }
          ],
          "scattergeo": [
           {
            "marker": {
             "colorbar": {
              "outlinewidth": 0,
              "ticks": ""
             }
            },
            "type": "scattergeo"
           }
          ],
          "scattergl": [
           {
            "marker": {
             "colorbar": {
              "outlinewidth": 0,
              "ticks": ""
             }
            },
            "type": "scattergl"
           }
          ],
          "scattermapbox": [
           {
            "marker": {
             "colorbar": {
              "outlinewidth": 0,
              "ticks": ""
             }
            },
            "type": "scattermapbox"
           }
          ],
          "scatterpolar": [
           {
            "marker": {
             "colorbar": {
              "outlinewidth": 0,
              "ticks": ""
             }
            },
            "type": "scatterpolar"
           }
          ],
          "scatterpolargl": [
           {
            "marker": {
             "colorbar": {
              "outlinewidth": 0,
              "ticks": ""
             }
            },
            "type": "scatterpolargl"
           }
          ],
          "scatterternary": [
           {
            "marker": {
             "colorbar": {
              "outlinewidth": 0,
              "ticks": ""
             }
            },
            "type": "scatterternary"
           }
          ],
          "surface": [
           {
            "colorbar": {
             "outlinewidth": 0,
             "ticks": ""
            },
            "colorscale": [
             [
              0,
              "#0d0887"
             ],
             [
              0.1111111111111111,
              "#46039f"
             ],
             [
              0.2222222222222222,
              "#7201a8"
             ],
             [
              0.3333333333333333,
              "#9c179e"
             ],
             [
              0.4444444444444444,
              "#bd3786"
             ],
             [
              0.5555555555555556,
              "#d8576b"
             ],
             [
              0.6666666666666666,
              "#ed7953"
             ],
             [
              0.7777777777777778,
              "#fb9f3a"
             ],
             [
              0.8888888888888888,
              "#fdca26"
             ],
             [
              1,
              "#f0f921"
             ]
            ],
            "type": "surface"
           }
          ],
          "table": [
           {
            "cells": {
             "fill": {
              "color": "#EBF0F8"
             },
             "line": {
              "color": "white"
             }
            },
            "header": {
             "fill": {
              "color": "#C8D4E3"
             },
             "line": {
              "color": "white"
             }
            },
            "type": "table"
           }
          ]
         },
         "layout": {
          "annotationdefaults": {
           "arrowcolor": "#2a3f5f",
           "arrowhead": 0,
           "arrowwidth": 1
          },
          "coloraxis": {
           "colorbar": {
            "outlinewidth": 0,
            "ticks": ""
           }
          },
          "colorscale": {
           "diverging": [
            [
             0,
             "#8e0152"
            ],
            [
             0.1,
             "#c51b7d"
            ],
            [
             0.2,
             "#de77ae"
            ],
            [
             0.3,
             "#f1b6da"
            ],
            [
             0.4,
             "#fde0ef"
            ],
            [
             0.5,
             "#f7f7f7"
            ],
            [
             0.6,
             "#e6f5d0"
            ],
            [
             0.7,
             "#b8e186"
            ],
            [
             0.8,
             "#7fbc41"
            ],
            [
             0.9,
             "#4d9221"
            ],
            [
             1,
             "#276419"
            ]
           ],
           "sequential": [
            [
             0,
             "#0d0887"
            ],
            [
             0.1111111111111111,
             "#46039f"
            ],
            [
             0.2222222222222222,
             "#7201a8"
            ],
            [
             0.3333333333333333,
             "#9c179e"
            ],
            [
             0.4444444444444444,
             "#bd3786"
            ],
            [
             0.5555555555555556,
             "#d8576b"
            ],
            [
             0.6666666666666666,
             "#ed7953"
            ],
            [
             0.7777777777777778,
             "#fb9f3a"
            ],
            [
             0.8888888888888888,
             "#fdca26"
            ],
            [
             1,
             "#f0f921"
            ]
           ],
           "sequentialminus": [
            [
             0,
             "#0d0887"
            ],
            [
             0.1111111111111111,
             "#46039f"
            ],
            [
             0.2222222222222222,
             "#7201a8"
            ],
            [
             0.3333333333333333,
             "#9c179e"
            ],
            [
             0.4444444444444444,
             "#bd3786"
            ],
            [
             0.5555555555555556,
             "#d8576b"
            ],
            [
             0.6666666666666666,
             "#ed7953"
            ],
            [
             0.7777777777777778,
             "#fb9f3a"
            ],
            [
             0.8888888888888888,
             "#fdca26"
            ],
            [
             1,
             "#f0f921"
            ]
           ]
          },
          "colorway": [
           "#636efa",
           "#EF553B",
           "#00cc96",
           "#ab63fa",
           "#FFA15A",
           "#19d3f3",
           "#FF6692",
           "#B6E880",
           "#FF97FF",
           "#FECB52"
          ],
          "font": {
           "color": "#2a3f5f"
          },
          "geo": {
           "bgcolor": "white",
           "lakecolor": "white",
           "landcolor": "#E5ECF6",
           "showlakes": true,
           "showland": true,
           "subunitcolor": "white"
          },
          "hoverlabel": {
           "align": "left"
          },
          "hovermode": "closest",
          "mapbox": {
           "style": "light"
          },
          "paper_bgcolor": "white",
          "plot_bgcolor": "#E5ECF6",
          "polar": {
           "angularaxis": {
            "gridcolor": "white",
            "linecolor": "white",
            "ticks": ""
           },
           "bgcolor": "#E5ECF6",
           "radialaxis": {
            "gridcolor": "white",
            "linecolor": "white",
            "ticks": ""
           }
          },
          "scene": {
           "xaxis": {
            "backgroundcolor": "#E5ECF6",
            "gridcolor": "white",
            "gridwidth": 2,
            "linecolor": "white",
            "showbackground": true,
            "ticks": "",
            "zerolinecolor": "white"
           },
           "yaxis": {
            "backgroundcolor": "#E5ECF6",
            "gridcolor": "white",
            "gridwidth": 2,
            "linecolor": "white",
            "showbackground": true,
            "ticks": "",
            "zerolinecolor": "white"
           },
           "zaxis": {
            "backgroundcolor": "#E5ECF6",
            "gridcolor": "white",
            "gridwidth": 2,
            "linecolor": "white",
            "showbackground": true,
            "ticks": "",
            "zerolinecolor": "white"
           }
          },
          "shapedefaults": {
           "line": {
            "color": "#2a3f5f"
           }
          },
          "ternary": {
           "aaxis": {
            "gridcolor": "white",
            "linecolor": "white",
            "ticks": ""
           },
           "baxis": {
            "gridcolor": "white",
            "linecolor": "white",
            "ticks": ""
           },
           "bgcolor": "#E5ECF6",
           "caxis": {
            "gridcolor": "white",
            "linecolor": "white",
            "ticks": ""
           }
          },
          "title": {
           "x": 0.05
          },
          "xaxis": {
           "automargin": true,
           "gridcolor": "white",
           "linecolor": "white",
           "ticks": "",
           "title": {
            "standoff": 15
           },
           "zerolinecolor": "white",
           "zerolinewidth": 2
          },
          "yaxis": {
           "automargin": true,
           "gridcolor": "white",
           "linecolor": "white",
           "ticks": "",
           "title": {
            "standoff": 15
           },
           "zerolinecolor": "white",
           "zerolinewidth": 2
          }
         }
        },
        "title": {
         "text": "Death count of each country"
        }
       }
      },
      "text/html": [
       "<div>\n",
       "        \n",
       "        \n",
       "            <div id=\"d446c259-e287-41af-81e0-11bba3f29481\" class=\"plotly-graph-div\" style=\"height:525px; width:100%;\"></div>\n",
       "            <script type=\"text/javascript\">\n",
       "                require([\"plotly\"], function(Plotly) {\n",
       "                    window.PLOTLYENV=window.PLOTLYENV || {};\n",
       "                    \n",
       "                if (document.getElementById(\"d446c259-e287-41af-81e0-11bba3f29481\")) {\n",
       "                    Plotly.newPlot(\n",
       "                        'd446c259-e287-41af-81e0-11bba3f29481',\n",
       "                        [{\"geo\": \"geo\", \"hoverlabel\": {\"namelength\": 0}, \"hovertemplate\": \"<b>%{hovertext}</b><br><br>size=%{marker.size}<br>Country,Other=%{location}<br>TotalDeaths=%{marker.color}\", \"hovertext\": [\"Afghanistan\", \"Albania\", \"Algeria\", \"Andorra\", \"Angola\", \"Anguilla\", \"AntiguaandBarbuda\", \"Argentina\", \"Armenia\", \"Aruba\", \"Australia\", \"Austria\", \"Azerbaijan\", \"Bahamas\", \"Bahrain\", \"Bangladesh\", \"Barbados\", \"Belarus\", \"Belgium\", \"Belize\", \"Benin\", \"Bermuda\", \"Bhutan\", \"Bolivia\", \"BosniaandHerzegovina\", \"Botswana\", \"Brazil\", \"BritishVirginIslands\", \"Brunei\", \"Bulgaria\", \"BurkinaFaso\", \"Burundi\", \"CAR\", \"CaboVerde\", \"Cambodia\", \"Cameroon\", \"Canada\", \"CaribbeanNetherlands\", \"CaymanIslands\", \"Chad\", \"ChannelIslands\", \"Chile\", \"China\", \"Colombia\", \"Congo\", \"CostaRica\", \"Croatia\", \"Cuba\", \"Cura\\u00e7ao\", \"Cyprus\", \"Czechia\", \"DRC\", \"Denmark\", \"DiamondPrincess\", \"Djibouti\", \"Dominica\", \"DominicanRepublic\", \"Ecuador\", \"Egypt\", \"ElSalvador\", \"EquatorialGuinea\", \"Eritrea\", \"Estonia\", \"Eswatini\", \"Ethiopia\", \"FaeroeIslands\", \"Fiji\", \"Finland\", \"France\", \"FrenchGuiana\", \"FrenchPolynesia\", \"Gabon\", \"Gambia\", \"Georgia\", \"Germany\", \"Ghana\", \"Gibraltar\", \"Greece\", \"Greenland\", \"Grenada\", \"Guadeloupe\", \"Guatemala\", \"Guinea\", \"Guinea-Bissau\", \"Guyana\", \"Haiti\", \"Honduras\", \"HongKong\", \"Hungary\", \"Iceland\", \"India\", \"Indonesia\", \"Iran\", \"Iraq\", \"Ireland\", \"IsleofMan\", \"Israel\", \"Italy\", \"IvoryCoast\", \"Jamaica\", \"Japan\", \"Jordan\", \"Kazakhstan\", \"Kenya\", \"Kuwait\", \"Kyrgyzstan\", \"Laos\", \"Latvia\", \"Lebanon\", \"Liberia\", \"Libya\", \"Liechtenstein\", \"Lithuania\", \"Luxembourg\", \"MSZaandam\", \"Macao\", \"Madagascar\", \"Malawi\", \"Malaysia\", \"Maldives\", \"Mali\", \"Malta\", \"Martinique\", \"Mauritania\", \"Mauritius\", \"Mayotte\", \"Mexico\", \"Moldova\", \"Monaco\", \"Mongolia\", \"Montenegro\", \"Montserrat\", \"Morocco\", \"Mozambique\", \"Myanmar\", \"Namibia\", \"Nepal\", \"Netherlands\", \"NewCaledonia\", \"NewZealand\", \"Nicaragua\", \"Niger\", \"Nigeria\", \"NorthMacedonia\", \"Norway\", \"Oman\", \"Pakistan\", \"Palestine\", \"Panama\", \"PapuaNewGuinea\", \"Paraguay\", \"Peru\", \"Philippines\", \"Poland\", \"Portugal\", \"Qatar\", \"Romania\", \"Russia\", \"Rwanda\", \"R\\u00e9union\", \"S.Korea\", \"SaintKittsandNevis\", \"SaintLucia\", \"SaintMartin\", \"SanMarino\", \"SaudiArabia\", \"Senegal\", \"Serbia\", \"Seychelles\", \"SierraLeone\", \"Singapore\", \"SintMaarten\", \"Slovakia\", \"Slovenia\", \"Somalia\", \"SouthAfrica\", \"Spain\", \"SriLanka\", \"St.Barth\", \"St.VincentGrenadines\", \"Sudan\", \"Suriname\", \"Sweden\", \"Switzerland\", \"Syria\", \"Taiwan\", \"Tanzania\", \"Thailand\", \"Timor-Leste\", \"Togo\", \"TrinidadandTobago\", \"Tunisia\", \"Turkey\", \"TurksandCaicos\", \"UAE\", \"UK\", \"USA\", \"Uganda\", \"Ukraine\", \"Uruguay\", \"Uzbekistan\", \"VaticanCity\", \"Venezuela\", \"Vietnam\", \"Zambia\", \"Zimbabwe\"], \"legendgroup\": \"\", \"locationmode\": \"country names\", \"locations\": [\"Afghanistan\", \"Albania\", \"Algeria\", \"Andorra\", \"Angola\", \"Anguilla\", \"AntiguaandBarbuda\", \"Argentina\", \"Armenia\", \"Aruba\", \"Australia\", \"Austria\", \"Azerbaijan\", \"Bahamas\", \"Bahrain\", \"Bangladesh\", \"Barbados\", \"Belarus\", \"Belgium\", \"Belize\", \"Benin\", \"Bermuda\", \"Bhutan\", \"Bolivia\", \"BosniaandHerzegovina\", \"Botswana\", \"Brazil\", \"BritishVirginIslands\", \"Brunei\", \"Bulgaria\", \"BurkinaFaso\", \"Burundi\", \"CAR\", \"CaboVerde\", \"Cambodia\", \"Cameroon\", \"Canada\", \"CaribbeanNetherlands\", \"CaymanIslands\", \"Chad\", \"ChannelIslands\", \"Chile\", \"China\", \"Colombia\", \"Congo\", \"CostaRica\", \"Croatia\", \"Cuba\", \"Cura\\u00e7ao\", \"Cyprus\", \"Czechia\", \"DRC\", \"Denmark\", \"DiamondPrincess\", \"Djibouti\", \"Dominica\", \"DominicanRepublic\", \"Ecuador\", \"Egypt\", \"ElSalvador\", \"EquatorialGuinea\", \"Eritrea\", \"Estonia\", \"Eswatini\", \"Ethiopia\", \"FaeroeIslands\", \"Fiji\", \"Finland\", \"France\", \"FrenchGuiana\", \"FrenchPolynesia\", \"Gabon\", \"Gambia\", \"Georgia\", \"Germany\", \"Ghana\", \"Gibraltar\", \"Greece\", \"Greenland\", \"Grenada\", \"Guadeloupe\", \"Guatemala\", \"Guinea\", \"Guinea-Bissau\", \"Guyana\", \"Haiti\", \"Honduras\", \"HongKong\", \"Hungary\", \"Iceland\", \"India\", \"Indonesia\", \"Iran\", \"Iraq\", \"Ireland\", \"IsleofMan\", \"Israel\", \"Italy\", \"IvoryCoast\", \"Jamaica\", \"Japan\", \"Jordan\", \"Kazakhstan\", \"Kenya\", \"Kuwait\", \"Kyrgyzstan\", \"Laos\", \"Latvia\", \"Lebanon\", \"Liberia\", \"Libya\", \"Liechtenstein\", \"Lithuania\", \"Luxembourg\", \"MSZaandam\", \"Macao\", \"Madagascar\", \"Malawi\", \"Malaysia\", \"Maldives\", \"Mali\", \"Malta\", \"Martinique\", \"Mauritania\", \"Mauritius\", \"Mayotte\", \"Mexico\", \"Moldova\", \"Monaco\", \"Mongolia\", \"Montenegro\", \"Montserrat\", \"Morocco\", \"Mozambique\", \"Myanmar\", \"Namibia\", \"Nepal\", \"Netherlands\", \"NewCaledonia\", \"NewZealand\", \"Nicaragua\", \"Niger\", \"Nigeria\", \"NorthMacedonia\", \"Norway\", \"Oman\", \"Pakistan\", \"Palestine\", \"Panama\", \"PapuaNewGuinea\", \"Paraguay\", \"Peru\", \"Philippines\", \"Poland\", \"Portugal\", \"Qatar\", \"Romania\", \"Russia\", \"Rwanda\", \"R\\u00e9union\", \"S.Korea\", \"SaintKittsandNevis\", \"SaintLucia\", \"SaintMartin\", \"SanMarino\", \"SaudiArabia\", \"Senegal\", \"Serbia\", \"Seychelles\", \"SierraLeone\", \"Singapore\", \"SintMaarten\", \"Slovakia\", \"Slovenia\", \"Somalia\", \"SouthAfrica\", \"Spain\", \"SriLanka\", \"St.Barth\", \"St.VincentGrenadines\", \"Sudan\", \"Suriname\", \"Sweden\", \"Switzerland\", \"Syria\", \"Taiwan\", \"Tanzania\", \"Thailand\", \"Timor-Leste\", \"Togo\", \"TrinidadandTobago\", \"Tunisia\", \"Turkey\", \"TurksandCaicos\", \"UAE\", \"UK\", \"USA\", \"Uganda\", \"Ukraine\", \"Uruguay\", \"Uzbekistan\", \"VaticanCity\", \"Venezuela\", \"Vietnam\", \"Zambia\", \"Zimbabwe\"], \"marker\": {\"color\": [6, 16, 86, 16, 2, 0, 0, 37, 7, 0, 28, 168, 5, 1, 4, 6, 0, 4, 1143, 0, 0, 0, 0, 9, 17, 1, 327, 0, 1, 12, 16, 0, 0, 1, 0, 7, 173, 0, 1, 0, 4, 18, 3322, 19, 2, 2, 8, 6, 1, 10, 46, 13, 139, 11, 0, 0, 60, 120, 58, 2, 0, 0, 12, 0, 0, 0, 0, 21, 5387, 0, 0, 1, 1, 0, 1122, 5, 0, 53, 0, 0, 6, 1, 0, 0, 4, 0, 15, 4, 26, 4, 72, 181, 3294, 54, 98, 1, 39, 13915, 1, 3, 63, 5, 6, 4, 0, 1, 0, 1, 17, 0, 1, 0, 9, 30, 2, 0, 0, 0, 53, 0, 3, 0, 3, 1, 7, 1, 50, 6, 1, 0, 2, 0, 47, 0, 1, 0, 0, 1487, 0, 1, 1, 5, 2, 11, 54, 1, 35, 1, 37, 0, 3, 55, 136, 59, 246, 3, 118, 34, 0, 0, 174, 0, 0, 1, 30, 21, 1, 31, 0, 0, 5, 2, 1, 20, 0, 5, 10935, 4, 0, 0, 2, 0, 333, 573, 2, 5, 1, 19, 0, 3, 6, 14, 356, 0, 8, 2921, 6098, 0, 23, 4, 2, 0, 5, 0, 1, 1], \"coloraxis\": \"coloraxis\", \"size\": [1.4309690811052556, 1.7411011265922482, 2.437247817988224, 1.7411011265922482, 1.148698354997035, 0.0, 0.0, 2.058924136478517, 1.4757731615945522, 0.0, 1.9472943612303364, 2.78651802273122, 1.379729661461215, 1.0, 1.3195079107728942, 1.4309690811052556, 0.0, 1.3195079107728942, 4.088925954508765, 0.0, 0.0, 0.0, 0.0, 1.5518455739153598, 1.762340347832317, 1.0, 3.1835344256144342, 0.0, 1.0, 1.6437518295172258, 1.7411011265922482, 0.0, 0.0, 1.0, 0.0, 1.4757731615945522, 2.802910436378417, 0.0, 1.0, 0.0, 1.3195079107728942, 1.7826024579660034, 5.061507976818826, 1.8019831273171423, 1.148698354997035, 1.148698354997035, 1.5157165665103982, 1.4309690811052556, 1.0, 1.5848931924611136, 2.1505600128111397, 1.6702776523348104, 2.682890576566476, 1.615394266202178, 0.0, 0.0, 2.2679331552660544, 2.605171084697352, 2.2526078784323254, 1.148698354997035, 0.0, 0.0, 1.6437518295172258, 0.0, 0.0, 0.0, 0.0, 1.838416287252544, 5.575314813472061, 0.0, 0.0, 1.0, 1.0, 0.0, 4.073789377248846, 1.379729661461215, 0.0, 2.2123568222761167, 0.0, 0.0, 1.4309690811052556, 1.0, 0.0, 0.0, 1.3195079107728942, 0.0, 1.7187719275874789, 1.3195079107728942, 1.9186451916253062, 1.3195079107728942, 2.352158045049347, 2.8283666972150163, 5.052946720629023, 2.22064303492292, 2.5017575271408434, 1.0, 2.080716549261844, 6.740570294634792, 1.0, 1.2457309396155174, 2.2901720489235826, 1.379729661461215, 1.4309690811052556, 1.3195079107728942, 0.0, 1.0, 0.0, 1.0, 1.762340347832317, 0.0, 1.0, 0.0, 1.5518455739153598, 1.97435048583482, 1.148698354997035, 0.0, 0.0, 0.0, 2.2123568222761167, 0.0, 1.2457309396155174, 0.0, 1.2457309396155174, 1.0, 1.4757731615945522, 1.0, 2.1867241478865562, 1.4309690811052556, 1.0, 0.0, 1.148698354997035, 0.0, 2.159830011764466, 0.0, 1.0, 0.0, 0.0, 4.309850381707176, 0.0, 1.0, 1.0, 1.379729661461215, 1.148698354997035, 1.615394266202178, 2.22064303492292, 1.0, 2.0361680046403983, 1.0, 2.058924136478517, 0.0, 1.2457309396155174, 2.2288073840335185, 2.6712084610391402, 2.2603224696268156, 3.0073710962592606, 1.2457309396155174, 2.596428702623159, 2.024397458499885, 0.0, 0.0, 2.806143328984818, 0.0, 0.0, 1.0, 1.97435048583482, 1.838416287252544, 1.0, 1.9873407546644581, 0.0, 0.0, 1.379729661461215, 1.148698354997035, 1.0, 1.8205642030260802, 0.0, 1.379729661461215, 6.423382105014972, 1.3195079107728942, 0.0, 0.0, 1.148698354997035, 0.0, 3.195132308221691, 3.5614833995548167, 1.148698354997035, 1.379729661461215, 1.0, 1.8019831273171423, 0.0, 1.2457309396155174, 1.4309690811052556, 1.6952182030724354, 3.2380980834681607, 0.0, 1.5157165665103982, 4.932945432570404, 5.715279631863175, 0.0, 1.8721712305548575, 1.3195079107728942, 1.148698354997035, 0.0, 1.379729661461215, 0.0, 1.0, 1.0], \"sizemode\": \"area\", \"sizeref\": 0.01685142573658698}, \"name\": \"\", \"showlegend\": false, \"type\": \"scattergeo\"}],\n",
       "                        {\"coloraxis\": {\"colorbar\": {\"title\": {\"text\": \"TotalDeaths\"}}, \"colorscale\": [[0.0, \"#0d0887\"], [0.1111111111111111, \"#46039f\"], [0.2222222222222222, \"#7201a8\"], [0.3333333333333333, \"#9c179e\"], [0.4444444444444444, \"#bd3786\"], [0.5555555555555556, \"#d8576b\"], [0.6666666666666666, \"#ed7953\"], [0.7777777777777778, \"#fb9f3a\"], [0.8888888888888888, \"#fdca26\"], [1.0, \"#f0f921\"]]}, \"geo\": {\"center\": {}, \"domain\": {\"x\": [0.0, 1.0], \"y\": [0.0, 1.0]}, \"projection\": {\"type\": \"natural earth\"}}, \"legend\": {\"itemsizing\": \"constant\", \"tracegroupgap\": 0}, \"template\": {\"data\": {\"bar\": [{\"error_x\": {\"color\": \"#2a3f5f\"}, \"error_y\": {\"color\": \"#2a3f5f\"}, \"marker\": {\"line\": {\"color\": \"#E5ECF6\", \"width\": 0.5}}, \"type\": \"bar\"}], \"barpolar\": [{\"marker\": {\"line\": {\"color\": \"#E5ECF6\", \"width\": 0.5}}, \"type\": \"barpolar\"}], \"carpet\": [{\"aaxis\": {\"endlinecolor\": \"#2a3f5f\", \"gridcolor\": \"white\", \"linecolor\": \"white\", \"minorgridcolor\": \"white\", \"startlinecolor\": \"#2a3f5f\"}, \"baxis\": {\"endlinecolor\": \"#2a3f5f\", \"gridcolor\": \"white\", \"linecolor\": \"white\", \"minorgridcolor\": \"white\", \"startlinecolor\": \"#2a3f5f\"}, \"type\": \"carpet\"}], \"choropleth\": [{\"colorbar\": {\"outlinewidth\": 0, \"ticks\": \"\"}, \"type\": \"choropleth\"}], \"contour\": [{\"colorbar\": {\"outlinewidth\": 0, \"ticks\": \"\"}, \"colorscale\": [[0.0, \"#0d0887\"], [0.1111111111111111, \"#46039f\"], [0.2222222222222222, \"#7201a8\"], [0.3333333333333333, \"#9c179e\"], [0.4444444444444444, \"#bd3786\"], [0.5555555555555556, \"#d8576b\"], [0.6666666666666666, \"#ed7953\"], [0.7777777777777778, \"#fb9f3a\"], [0.8888888888888888, \"#fdca26\"], [1.0, \"#f0f921\"]], \"type\": \"contour\"}], \"contourcarpet\": [{\"colorbar\": {\"outlinewidth\": 0, \"ticks\": \"\"}, \"type\": \"contourcarpet\"}], \"heatmap\": [{\"colorbar\": {\"outlinewidth\": 0, \"ticks\": \"\"}, \"colorscale\": [[0.0, \"#0d0887\"], [0.1111111111111111, \"#46039f\"], [0.2222222222222222, \"#7201a8\"], [0.3333333333333333, \"#9c179e\"], [0.4444444444444444, \"#bd3786\"], [0.5555555555555556, \"#d8576b\"], [0.6666666666666666, \"#ed7953\"], [0.7777777777777778, \"#fb9f3a\"], [0.8888888888888888, \"#fdca26\"], [1.0, \"#f0f921\"]], \"type\": \"heatmap\"}], \"heatmapgl\": [{\"colorbar\": {\"outlinewidth\": 0, \"ticks\": \"\"}, \"colorscale\": [[0.0, \"#0d0887\"], [0.1111111111111111, \"#46039f\"], [0.2222222222222222, \"#7201a8\"], [0.3333333333333333, \"#9c179e\"], [0.4444444444444444, \"#bd3786\"], [0.5555555555555556, \"#d8576b\"], [0.6666666666666666, \"#ed7953\"], [0.7777777777777778, \"#fb9f3a\"], [0.8888888888888888, \"#fdca26\"], [1.0, \"#f0f921\"]], \"type\": \"heatmapgl\"}], \"histogram\": [{\"marker\": {\"colorbar\": {\"outlinewidth\": 0, \"ticks\": \"\"}}, \"type\": \"histogram\"}], \"histogram2d\": [{\"colorbar\": {\"outlinewidth\": 0, \"ticks\": \"\"}, \"colorscale\": [[0.0, \"#0d0887\"], [0.1111111111111111, \"#46039f\"], [0.2222222222222222, \"#7201a8\"], [0.3333333333333333, \"#9c179e\"], [0.4444444444444444, \"#bd3786\"], [0.5555555555555556, \"#d8576b\"], [0.6666666666666666, \"#ed7953\"], [0.7777777777777778, \"#fb9f3a\"], [0.8888888888888888, \"#fdca26\"], [1.0, \"#f0f921\"]], \"type\": \"histogram2d\"}], \"histogram2dcontour\": [{\"colorbar\": {\"outlinewidth\": 0, \"ticks\": \"\"}, \"colorscale\": [[0.0, \"#0d0887\"], [0.1111111111111111, \"#46039f\"], [0.2222222222222222, \"#7201a8\"], [0.3333333333333333, \"#9c179e\"], [0.4444444444444444, \"#bd3786\"], [0.5555555555555556, \"#d8576b\"], [0.6666666666666666, \"#ed7953\"], [0.7777777777777778, \"#fb9f3a\"], [0.8888888888888888, \"#fdca26\"], [1.0, \"#f0f921\"]], \"type\": \"histogram2dcontour\"}], \"mesh3d\": [{\"colorbar\": {\"outlinewidth\": 0, \"ticks\": \"\"}, \"type\": \"mesh3d\"}], \"parcoords\": [{\"line\": {\"colorbar\": {\"outlinewidth\": 0, \"ticks\": \"\"}}, \"type\": \"parcoords\"}], \"pie\": [{\"automargin\": true, \"type\": \"pie\"}], \"scatter\": [{\"marker\": {\"colorbar\": {\"outlinewidth\": 0, \"ticks\": \"\"}}, \"type\": \"scatter\"}], \"scatter3d\": [{\"line\": {\"colorbar\": {\"outlinewidth\": 0, \"ticks\": \"\"}}, \"marker\": {\"colorbar\": {\"outlinewidth\": 0, \"ticks\": \"\"}}, \"type\": \"scatter3d\"}], \"scattercarpet\": [{\"marker\": {\"colorbar\": {\"outlinewidth\": 0, \"ticks\": \"\"}}, \"type\": \"scattercarpet\"}], \"scattergeo\": [{\"marker\": {\"colorbar\": {\"outlinewidth\": 0, \"ticks\": \"\"}}, \"type\": \"scattergeo\"}], \"scattergl\": [{\"marker\": {\"colorbar\": {\"outlinewidth\": 0, \"ticks\": \"\"}}, \"type\": \"scattergl\"}], \"scattermapbox\": [{\"marker\": {\"colorbar\": {\"outlinewidth\": 0, \"ticks\": \"\"}}, \"type\": \"scattermapbox\"}], \"scatterpolar\": [{\"marker\": {\"colorbar\": {\"outlinewidth\": 0, \"ticks\": \"\"}}, \"type\": \"scatterpolar\"}], \"scatterpolargl\": [{\"marker\": {\"colorbar\": {\"outlinewidth\": 0, \"ticks\": \"\"}}, \"type\": \"scatterpolargl\"}], \"scatterternary\": [{\"marker\": {\"colorbar\": {\"outlinewidth\": 0, \"ticks\": \"\"}}, \"type\": \"scatterternary\"}], \"surface\": [{\"colorbar\": {\"outlinewidth\": 0, \"ticks\": \"\"}, \"colorscale\": [[0.0, \"#0d0887\"], [0.1111111111111111, \"#46039f\"], [0.2222222222222222, \"#7201a8\"], [0.3333333333333333, \"#9c179e\"], [0.4444444444444444, \"#bd3786\"], [0.5555555555555556, \"#d8576b\"], [0.6666666666666666, \"#ed7953\"], [0.7777777777777778, \"#fb9f3a\"], [0.8888888888888888, \"#fdca26\"], [1.0, \"#f0f921\"]], \"type\": \"surface\"}], \"table\": [{\"cells\": {\"fill\": {\"color\": \"#EBF0F8\"}, \"line\": {\"color\": \"white\"}}, \"header\": {\"fill\": {\"color\": \"#C8D4E3\"}, \"line\": {\"color\": \"white\"}}, \"type\": \"table\"}]}, \"layout\": {\"annotationdefaults\": {\"arrowcolor\": \"#2a3f5f\", \"arrowhead\": 0, \"arrowwidth\": 1}, \"coloraxis\": {\"colorbar\": {\"outlinewidth\": 0, \"ticks\": \"\"}}, \"colorscale\": {\"diverging\": [[0, \"#8e0152\"], [0.1, \"#c51b7d\"], [0.2, \"#de77ae\"], [0.3, \"#f1b6da\"], [0.4, \"#fde0ef\"], [0.5, \"#f7f7f7\"], [0.6, \"#e6f5d0\"], [0.7, \"#b8e186\"], [0.8, \"#7fbc41\"], [0.9, \"#4d9221\"], [1, \"#276419\"]], \"sequential\": [[0.0, \"#0d0887\"], [0.1111111111111111, \"#46039f\"], [0.2222222222222222, \"#7201a8\"], [0.3333333333333333, \"#9c179e\"], [0.4444444444444444, \"#bd3786\"], [0.5555555555555556, \"#d8576b\"], [0.6666666666666666, \"#ed7953\"], [0.7777777777777778, \"#fb9f3a\"], [0.8888888888888888, \"#fdca26\"], [1.0, \"#f0f921\"]], \"sequentialminus\": [[0.0, \"#0d0887\"], [0.1111111111111111, \"#46039f\"], [0.2222222222222222, \"#7201a8\"], [0.3333333333333333, \"#9c179e\"], [0.4444444444444444, \"#bd3786\"], [0.5555555555555556, \"#d8576b\"], [0.6666666666666666, \"#ed7953\"], [0.7777777777777778, \"#fb9f3a\"], [0.8888888888888888, \"#fdca26\"], [1.0, \"#f0f921\"]]}, \"colorway\": [\"#636efa\", \"#EF553B\", \"#00cc96\", \"#ab63fa\", \"#FFA15A\", \"#19d3f3\", \"#FF6692\", \"#B6E880\", \"#FF97FF\", \"#FECB52\"], \"font\": {\"color\": \"#2a3f5f\"}, \"geo\": {\"bgcolor\": \"white\", \"lakecolor\": \"white\", \"landcolor\": \"#E5ECF6\", \"showlakes\": true, \"showland\": true, \"subunitcolor\": \"white\"}, \"hoverlabel\": {\"align\": \"left\"}, \"hovermode\": \"closest\", \"mapbox\": {\"style\": \"light\"}, \"paper_bgcolor\": \"white\", \"plot_bgcolor\": \"#E5ECF6\", \"polar\": {\"angularaxis\": {\"gridcolor\": \"white\", \"linecolor\": \"white\", \"ticks\": \"\"}, \"bgcolor\": \"#E5ECF6\", \"radialaxis\": {\"gridcolor\": \"white\", \"linecolor\": \"white\", \"ticks\": \"\"}}, \"scene\": {\"xaxis\": {\"backgroundcolor\": \"#E5ECF6\", \"gridcolor\": \"white\", \"gridwidth\": 2, \"linecolor\": \"white\", \"showbackground\": true, \"ticks\": \"\", \"zerolinecolor\": \"white\"}, \"yaxis\": {\"backgroundcolor\": \"#E5ECF6\", \"gridcolor\": \"white\", \"gridwidth\": 2, \"linecolor\": \"white\", \"showbackground\": true, \"ticks\": \"\", \"zerolinecolor\": \"white\"}, \"zaxis\": {\"backgroundcolor\": \"#E5ECF6\", \"gridcolor\": \"white\", \"gridwidth\": 2, \"linecolor\": \"white\", \"showbackground\": true, \"ticks\": \"\", \"zerolinecolor\": \"white\"}}, \"shapedefaults\": {\"line\": {\"color\": \"#2a3f5f\"}}, \"ternary\": {\"aaxis\": {\"gridcolor\": \"white\", \"linecolor\": \"white\", \"ticks\": \"\"}, \"baxis\": {\"gridcolor\": \"white\", \"linecolor\": \"white\", \"ticks\": \"\"}, \"bgcolor\": \"#E5ECF6\", \"caxis\": {\"gridcolor\": \"white\", \"linecolor\": \"white\", \"ticks\": \"\"}}, \"title\": {\"x\": 0.05}, \"xaxis\": {\"automargin\": true, \"gridcolor\": \"white\", \"linecolor\": \"white\", \"ticks\": \"\", \"title\": {\"standoff\": 15}, \"zerolinecolor\": \"white\", \"zerolinewidth\": 2}, \"yaxis\": {\"automargin\": true, \"gridcolor\": \"white\", \"linecolor\": \"white\", \"ticks\": \"\", \"title\": {\"standoff\": 15}, \"zerolinecolor\": \"white\", \"zerolinewidth\": 2}}}, \"title\": {\"text\": \"Death count of each country\"}},\n",
       "                        {\"responsive\": true}\n",
       "                    ).then(function(){\n",
       "                            \n",
       "var gd = document.getElementById('d446c259-e287-41af-81e0-11bba3f29481');\n",
       "var x = new MutationObserver(function (mutations, observer) {{\n",
       "        var display = window.getComputedStyle(gd).display;\n",
       "        if (!display || display === 'none') {{\n",
       "            console.log([gd, 'removed!']);\n",
       "            Plotly.purge(gd);\n",
       "            observer.disconnect();\n",
       "        }}\n",
       "}});\n",
       "\n",
       "// Listen for the removal of the full notebook cells\n",
       "var notebookContainer = gd.closest('#notebook-container');\n",
       "if (notebookContainer) {{\n",
       "    x.observe(notebookContainer, {childList: true});\n",
       "}}\n",
       "\n",
       "// Listen for the clearing of the current output cell\n",
       "var outputEl = gd.closest('.output');\n",
       "if (outputEl) {{\n",
       "    x.observe(outputEl, {childList: true});\n",
       "}}\n",
       "\n",
       "                        })\n",
       "                };\n",
       "                });\n",
       "            </script>\n",
       "        </div>"
      ]
     },
     "metadata": {},
     "output_type": "display_data"
    }
   ],
   "source": [
    "world['size'] = world['TotalDeaths'].pow(0.2)\n",
    "fig = px.scatter_geo(world, locations=\"Country,Other\",locationmode='country names', color=\"TotalDeaths\",\n",
    "                     hover_name=\"Country,Other\", size=\"size\",\n",
    "                     projection=\"natural earth\",title='Death count of each country')\n",
    "fig.show()"
   ]
  },
  {
   "cell_type": "markdown",
   "metadata": {},
   "source": [
    "###  Top active cases worldwide"
   ]
  },
  {
   "cell_type": "code",
   "execution_count": 117,
   "metadata": {},
   "outputs": [
    {
     "data": {
      "text/plain": [
       "[Text(0, 0.5, 'Country'), Text(0.5, 0, 'Total cases')]"
      ]
     },
     "execution_count": 117,
     "metadata": {},
     "output_type": "execute_result"
    },
    {
     "data": {
      "image/png": "[encoded data removed]",
      "text/plain": [
       "<Figure size 1080x720 with 1 Axes>"
      ]
     },
     "metadata": {
      "needs_background": "light"
     },
     "output_type": "display_data"
    }
   ],
   "source": [
    "active_df = world.groupby(by = 'Country,Other')['ActiveCases'].sum().sort_values(ascending = False).head(20).reset_index()\n",
    "plt.figure(figsize= (15,10))\n",
    "plt.xticks(fontsize = 15)\n",
    "plt.yticks(fontsize = 15)\n",
    "plt.xlabel(\"Total cases\",fontsize = 30)\n",
    "plt.ylabel('Country',fontsize = 30)\n",
    "plt.title(\"Top 20 countries having most active cases\" , fontsize = 30)\n",
    "ax = sns.barplot(x = active_df.ActiveCases, y = active_df['Country,Other']) # real data\n",
    "ax.set(xlabel='Total cases', ylabel='Country') #New name to xy labels"
   ]
  },
  {
   "cell_type": "markdown",
   "metadata": {},
   "source": [
    "1)We can see that USA,Italy,Spain,Germany are in top of the world\n",
    "\n",
    "2)As the covid-19 testing is increasing, The active number of cases is also increasing day by day\n",
    "\n",
    "3)In comparison with the total population, Italy, Spain, Germany and France are the worst-hit nation\n",
    "\n",
    "4) (While me made this project) israel jumped to the top of the 20 Countries in the world"
   ]
  },
  {
   "cell_type": "markdown",
   "metadata": {},
   "source": [
    "### Top Deaths worldwide "
   ]
  },
  {
   "cell_type": "code",
   "execution_count": 119,
   "metadata": {},
   "outputs": [
    {
     "data": {
      "text/plain": [
       "[Text(0, 0.5, 'Country'), Text(0.5, 0, 'Total cases')]"
      ]
     },
     "execution_count": 119,
     "metadata": {},
     "output_type": "execute_result"
    },
    {
     "data": {
      "image/png": "[encoded data removed]",
      "text/plain": [
       "<Figure size 1080x720 with 1 Axes>"
      ]
     },
     "metadata": {
      "needs_background": "light"
     },
     "output_type": "display_data"
    }
   ],
   "source": [
    "deaths_df = world.groupby(by = 'Country,Other')['TotalDeaths'].sum().sort_values(ascending = False).head(20).reset_index()\n",
    "plt.figure(figsize= (15,10))\n",
    "plt.xticks(fontsize = 15)\n",
    "plt.yticks(fontsize = 15)\n",
    "plt.xlabel(\"Total Deaths cases\",fontsize = 30)\n",
    "plt.ylabel('Country',fontsize = 30)\n",
    "plt.title(\"Top 20 countries deaths cases\" , fontsize = 30)\n",
    "ax = sns.barplot(x = deaths_df.TotalDeaths, y = deaths_df['Country,Other']) # real data\n",
    "ax.set(xlabel='Total cases', ylabel='Country') #New name to xy labels"
   ]
  },
  {
   "cell_type": "markdown",
   "metadata": {},
   "source": [
    "We can see that obviously Italy,Spain and USA are having most Deaths in the top of the world death cases"
   ]
  },
  {
   "cell_type": "markdown",
   "metadata": {},
   "source": [
    "### Top recovered cases"
   ]
  },
  {
   "cell_type": "code",
   "execution_count": 80,
   "metadata": {},
   "outputs": [
    {
     "data": {
      "text/plain": [
       "[Text(0, 0.5, 'Country'), Text(0.5, 0, 'Total cases')]"
      ]
     },
     "execution_count": 80,
     "metadata": {},
     "output_type": "execute_result"
    },
    {
     "data": {
      "image/png": "[encoded data removed]",
      "text/plain": [
       "<Figure size 1080x720 with 1 Axes>"
      ]
     },
     "metadata": {
      "needs_background": "light"
     },
     "output_type": "display_data"
    }
   ],
   "source": [
    "#Total recovered\n",
    "recovered_df = corona_df.groupby(by = 'Country,Other')['TotalRecovered'].sum().sort_values(ascending = False).head(20).reset_index()\n",
    "\n",
    "plt.figure(figsize= (15,10))\n",
    "plt.xticks(fontsize = 15)\n",
    "plt.yticks(fontsize = 15)\n",
    "plt.xlabel(\"Recovered numbers\",fontsize = 30)\n",
    "plt.ylabel('Country',fontsize = 30)\n",
    "plt.title(\"Top 20 countries recovered cases\" , fontsize = 30)\n",
    "ax = sns.barplot(x = recovered_df.TotalRecovered, y = recovered_df['Country,Other']) # real data\n",
    "ax.set(xlabel='Total cases', ylabel='Country') #New name to xy labels"
   ]
  },
  {
   "cell_type": "markdown",
   "metadata": {},
   "source": [
    "1) By far China is leading in the number of recoveries \n",
    "\n",
    "2) Italy, Iran, and Spain are also doing a good job.\n"
   ]
  },
  {
   "cell_type": "markdown",
   "metadata": {},
   "source": [
    "### Top 20 countries having the worst mortality and best recovery "
   ]
  },
  {
   "cell_type": "code",
   "execution_count": 135,
   "metadata": {},
   "outputs": [
    {
     "data": {
      "text/html": [
       "<div>\n",
       "<style scoped>\n",
       "    .dataframe tbody tr th:only-of-type {\n",
       "        vertical-align: middle;\n",
       "    }\n",
       "\n",
       "    .dataframe tbody tr th {\n",
       "        vertical-align: top;\n",
       "    }\n",
       "\n",
       "    .dataframe thead th {\n",
       "        text-align: right;\n",
       "    }\n",
       "</style>\n",
       "<table border=\"1\" class=\"dataframe\">\n",
       "  <thead>\n",
       "    <tr style=\"text-align: right;\">\n",
       "      <th></th>\n",
       "      <th>Country,Other</th>\n",
       "      <th>TotalCases</th>\n",
       "      <th>TotalRecovered</th>\n",
       "      <th>TotalDeaths</th>\n",
       "      <th>RecoveryPercentage</th>\n",
       "      <th>death percentage</th>\n",
       "    </tr>\n",
       "  </thead>\n",
       "  <tbody>\n",
       "    <tr>\n",
       "      <td>0</td>\n",
       "      <td>Afghanistan</td>\n",
       "      <td>281</td>\n",
       "      <td>10</td>\n",
       "      <td>6</td>\n",
       "      <td>3.56</td>\n",
       "      <td>2.14</td>\n",
       "    </tr>\n",
       "    <tr>\n",
       "      <td>1</td>\n",
       "      <td>Albania</td>\n",
       "      <td>304</td>\n",
       "      <td>89</td>\n",
       "      <td>17</td>\n",
       "      <td>29.28</td>\n",
       "      <td>5.59</td>\n",
       "    </tr>\n",
       "    <tr>\n",
       "      <td>2</td>\n",
       "      <td>Algeria</td>\n",
       "      <td>1171</td>\n",
       "      <td>62</td>\n",
       "      <td>105</td>\n",
       "      <td>5.29</td>\n",
       "      <td>8.97</td>\n",
       "    </tr>\n",
       "    <tr>\n",
       "      <td>3</td>\n",
       "      <td>Andorra</td>\n",
       "      <td>439</td>\n",
       "      <td>16</td>\n",
       "      <td>16</td>\n",
       "      <td>3.64</td>\n",
       "      <td>3.64</td>\n",
       "    </tr>\n",
       "    <tr>\n",
       "      <td>4</td>\n",
       "      <td>Angola</td>\n",
       "      <td>8</td>\n",
       "      <td>1</td>\n",
       "      <td>2</td>\n",
       "      <td>12.50</td>\n",
       "      <td>25.00</td>\n",
       "    </tr>\n",
       "  </tbody>\n",
       "</table>\n",
       "</div>"
      ],
      "text/plain": [
       "  Country,Other  TotalCases  TotalRecovered  TotalDeaths  RecoveryPercentage  \\\n",
       "0   Afghanistan         281              10            6                3.56   \n",
       "1       Albania         304              89           17               29.28   \n",
       "2       Algeria        1171              62          105                5.29   \n",
       "3       Andorra         439              16           16                3.64   \n",
       "4        Angola           8               1            2               12.50   \n",
       "\n",
       "   death percentage  \n",
       "0              2.14  \n",
       "1              5.59  \n",
       "2              8.97  \n",
       "3              3.64  \n",
       "4             25.00  "
      ]
     },
     "execution_count": 135,
     "metadata": {},
     "output_type": "execute_result"
    }
   ],
   "source": [
    "ratio_df = corona_df.groupby(by = 'Country,Other')['TotalCases','TotalRecovered','TotalDeaths'].sum().reset_index()\n",
    "ratio_df['RecoveryPercentage'] =  round(((ratio_df['TotalRecovered']) / (ratio_df['TotalCases'])) * 100 , 2)\n",
    "ratio_df['death percentage'] =  round(((ratio_df['TotalDeaths']) / (ratio_df['TotalCases'])) * 100 , 2)\n",
    "ratio_df.head()\n"
   ]
  },
  {
   "cell_type": "code",
   "execution_count": 140,
   "metadata": {},
   "outputs": [
    {
     "data": {
      "text/html": [
       "<div>\n",
       "<style scoped>\n",
       "    .dataframe tbody tr th:only-of-type {\n",
       "        vertical-align: middle;\n",
       "    }\n",
       "\n",
       "    .dataframe tbody tr th {\n",
       "        vertical-align: top;\n",
       "    }\n",
       "\n",
       "    .dataframe thead th {\n",
       "        text-align: right;\n",
       "    }\n",
       "</style>\n",
       "<table border=\"1\" class=\"dataframe\">\n",
       "  <thead>\n",
       "    <tr style=\"text-align: right;\">\n",
       "      <th></th>\n",
       "      <th>Country,Other</th>\n",
       "      <th>death percentage</th>\n",
       "    </tr>\n",
       "  </thead>\n",
       "  <tbody>\n",
       "    <tr>\n",
       "      <td>0</td>\n",
       "      <td>Botswana</td>\n",
       "      <td>25.00</td>\n",
       "    </tr>\n",
       "    <tr>\n",
       "      <td>1</td>\n",
       "      <td>Angola</td>\n",
       "      <td>25.00</td>\n",
       "    </tr>\n",
       "    <tr>\n",
       "      <td>2</td>\n",
       "      <td>Gambia</td>\n",
       "      <td>25.00</td>\n",
       "    </tr>\n",
       "    <tr>\n",
       "      <td>3</td>\n",
       "      <td>MSZaandam</td>\n",
       "      <td>22.22</td>\n",
       "    </tr>\n",
       "    <tr>\n",
       "      <td>4</td>\n",
       "      <td>Guyana</td>\n",
       "      <td>21.05</td>\n",
       "    </tr>\n",
       "    <tr>\n",
       "      <td>5</td>\n",
       "      <td>Nicaragua</td>\n",
       "      <td>20.00</td>\n",
       "    </tr>\n",
       "    <tr>\n",
       "      <td>6</td>\n",
       "      <td>Sudan</td>\n",
       "      <td>20.00</td>\n",
       "    </tr>\n",
       "    <tr>\n",
       "      <td>7</td>\n",
       "      <td>Mauritania</td>\n",
       "      <td>16.67</td>\n",
       "    </tr>\n",
       "    <tr>\n",
       "      <td>8</td>\n",
       "      <td>CaboVerde</td>\n",
       "      <td>16.67</td>\n",
       "    </tr>\n",
       "    <tr>\n",
       "      <td>9</td>\n",
       "      <td>Syria</td>\n",
       "      <td>12.50</td>\n",
       "    </tr>\n",
       "    <tr>\n",
       "      <td>10</td>\n",
       "      <td>Italy</td>\n",
       "      <td>12.25</td>\n",
       "    </tr>\n",
       "    <tr>\n",
       "      <td>11</td>\n",
       "      <td>SanMarino</td>\n",
       "      <td>12.24</td>\n",
       "    </tr>\n",
       "    <tr>\n",
       "      <td>12</td>\n",
       "      <td>Zimbabwe</td>\n",
       "      <td>11.11</td>\n",
       "    </tr>\n",
       "    <tr>\n",
       "      <td>13</td>\n",
       "      <td>Suriname</td>\n",
       "      <td>10.00</td>\n",
       "    </tr>\n",
       "    <tr>\n",
       "      <td>14</td>\n",
       "      <td>Bangladesh</td>\n",
       "      <td>9.84</td>\n",
       "    </tr>\n",
       "    <tr>\n",
       "      <td>15</td>\n",
       "      <td>DRC</td>\n",
       "      <td>9.70</td>\n",
       "    </tr>\n",
       "    <tr>\n",
       "      <td>16</td>\n",
       "      <td>Netherlands</td>\n",
       "      <td>9.46</td>\n",
       "    </tr>\n",
       "    <tr>\n",
       "      <td>17</td>\n",
       "      <td>UK</td>\n",
       "      <td>9.45</td>\n",
       "    </tr>\n",
       "    <tr>\n",
       "      <td>18</td>\n",
       "      <td>Spain</td>\n",
       "      <td>9.29</td>\n",
       "    </tr>\n",
       "    <tr>\n",
       "      <td>19</td>\n",
       "      <td>Indonesia</td>\n",
       "      <td>9.11</td>\n",
       "    </tr>\n",
       "  </tbody>\n",
       "</table>\n",
       "</div>"
      ],
      "text/plain": [
       "   Country,Other  death percentage\n",
       "0       Botswana             25.00\n",
       "1         Angola             25.00\n",
       "2         Gambia             25.00\n",
       "3      MSZaandam             22.22\n",
       "4         Guyana             21.05\n",
       "5      Nicaragua             20.00\n",
       "6          Sudan             20.00\n",
       "7     Mauritania             16.67\n",
       "8      CaboVerde             16.67\n",
       "9          Syria             12.50\n",
       "10         Italy             12.25\n",
       "11     SanMarino             12.24\n",
       "12      Zimbabwe             11.11\n",
       "13      Suriname             10.00\n",
       "14    Bangladesh              9.84\n",
       "15           DRC              9.70\n",
       "16   Netherlands              9.46\n",
       "17            UK              9.45\n",
       "18         Spain              9.29\n",
       "19     Indonesia              9.11"
      ]
     },
     "execution_count": 140,
     "metadata": {},
     "output_type": "execute_result"
    }
   ],
   "source": [
    "ratio_top=ratio_df.groupby(by = 'Country,Other')['death percentage'].sum().sort_values(ascending = False).head(20).reset_index()\n",
    "ratio_top"
   ]
  },
  {
   "cell_type": "code",
   "execution_count": 134,
   "metadata": {},
   "outputs": [
    {
     "data": {
      "text/plain": [
       "[Text(0, 0.5, 'Country'), Text(0.5, 0, 'Mortality Rate in percentage')]"
      ]
     },
     "execution_count": 134,
     "metadata": {},
     "output_type": "execute_result"
    },
    {
     "data": {
      "image/png": "[encoded data removed]",
      "text/plain": [
       "<Figure size 1080x720 with 1 Axes>"
      ]
     },
     "metadata": {
      "needs_background": "light"
     },
     "output_type": "display_data"
    }
   ],
   "source": [
    "plt.figure(figsize= (15,10))\n",
    "plt.xticks(fontsize = 15)\n",
    "plt.yticks(fontsize = 15)\n",
    "plt.xlabel(\"Total cases\",fontsize = 30)\n",
    "plt.ylabel('Country',fontsize = 30)\n",
    "plt.title(\"Top 20 countries having most mortality rate\" , fontsize = 30)\n",
    "ax = sns.barplot(x = ratio_top['death percentage'], y = ratio_top['Country,Other'])\n",
    "ax.set(xlabel='Mortality Rate in percentage', ylabel='Country')"
   ]
  },
  {
   "cell_type": "markdown",
   "metadata": {},
   "source": [
    "1) Botswana,Angola, Nicaragua MSZaandam and the Gambia have the highest mortality rate because there is very less number of the confirmed cases, yet there more deaths in them.\n",
    "\n",
    "2) When more than 10000 active cases are considered, Italy is at the top and this percentage rate is very scary. It seems that they have lost control over the spread of covid-19 and cannot contain it.¶"
   ]
  },
  {
   "cell_type": "code",
   "execution_count": 150,
   "metadata": {},
   "outputs": [
    {
     "data": {
      "text/html": [
       "<div>\n",
       "<style scoped>\n",
       "    .dataframe tbody tr th:only-of-type {\n",
       "        vertical-align: middle;\n",
       "    }\n",
       "\n",
       "    .dataframe tbody tr th {\n",
       "        vertical-align: top;\n",
       "    }\n",
       "\n",
       "    .dataframe thead th {\n",
       "        text-align: right;\n",
       "    }\n",
       "</style>\n",
       "<table border=\"1\" class=\"dataframe\">\n",
       "  <thead>\n",
       "    <tr style=\"text-align: right;\">\n",
       "      <th></th>\n",
       "      <th>Country,Other</th>\n",
       "      <th>RecoveryPercentage</th>\n",
       "    </tr>\n",
       "  </thead>\n",
       "  <tbody>\n",
       "    <tr>\n",
       "      <td>0</td>\n",
       "      <td>China</td>\n",
       "      <td>93.81</td>\n",
       "    </tr>\n",
       "    <tr>\n",
       "      <td>1</td>\n",
       "      <td>DiamondPrincess</td>\n",
       "      <td>86.94</td>\n",
       "    </tr>\n",
       "    <tr>\n",
       "      <td>2</td>\n",
       "      <td>Maldives</td>\n",
       "      <td>68.42</td>\n",
       "    </tr>\n",
       "    <tr>\n",
       "      <td>3</td>\n",
       "      <td>S.Korea</td>\n",
       "      <td>59.84</td>\n",
       "    </tr>\n",
       "    <tr>\n",
       "      <td>4</td>\n",
       "      <td>Bahrain</td>\n",
       "      <td>56.85</td>\n",
       "    </tr>\n",
       "    <tr>\n",
       "      <td>5</td>\n",
       "      <td>FaeroeIslands</td>\n",
       "      <td>50.84</td>\n",
       "    </tr>\n",
       "    <tr>\n",
       "      <td>6</td>\n",
       "      <td>Gambia</td>\n",
       "      <td>50.00</td>\n",
       "    </tr>\n",
       "    <tr>\n",
       "      <td>7</td>\n",
       "      <td>Brunei</td>\n",
       "      <td>48.51</td>\n",
       "    </tr>\n",
       "    <tr>\n",
       "      <td>8</td>\n",
       "      <td>Gibraltar</td>\n",
       "      <td>48.42</td>\n",
       "    </tr>\n",
       "    <tr>\n",
       "      <td>9</td>\n",
       "      <td>Bangladesh</td>\n",
       "      <td>42.62</td>\n",
       "    </tr>\n",
       "    <tr>\n",
       "      <td>10</td>\n",
       "      <td>Togo</td>\n",
       "      <td>42.50</td>\n",
       "    </tr>\n",
       "    <tr>\n",
       "      <td>11</td>\n",
       "      <td>Mexico</td>\n",
       "      <td>41.92</td>\n",
       "    </tr>\n",
       "    <tr>\n",
       "      <td>12</td>\n",
       "      <td>Bhutan</td>\n",
       "      <td>40.00</td>\n",
       "    </tr>\n",
       "    <tr>\n",
       "      <td>13</td>\n",
       "      <td>FrenchGuiana</td>\n",
       "      <td>38.60</td>\n",
       "    </tr>\n",
       "    <tr>\n",
       "      <td>14</td>\n",
       "      <td>Peru</td>\n",
       "      <td>37.98</td>\n",
       "    </tr>\n",
       "    <tr>\n",
       "      <td>15</td>\n",
       "      <td>Vietnam</td>\n",
       "      <td>35.86</td>\n",
       "    </tr>\n",
       "    <tr>\n",
       "      <td>16</td>\n",
       "      <td>Iran</td>\n",
       "      <td>33.72</td>\n",
       "    </tr>\n",
       "    <tr>\n",
       "      <td>17</td>\n",
       "      <td>Mauritania</td>\n",
       "      <td>33.33</td>\n",
       "    </tr>\n",
       "    <tr>\n",
       "      <td>18</td>\n",
       "      <td>St.VincentGrenadines</td>\n",
       "      <td>33.33</td>\n",
       "    </tr>\n",
       "    <tr>\n",
       "      <td>19</td>\n",
       "      <td>Senegal</td>\n",
       "      <td>31.88</td>\n",
       "    </tr>\n",
       "  </tbody>\n",
       "</table>\n",
       "</div>"
      ],
      "text/plain": [
       "           Country,Other  RecoveryPercentage\n",
       "0                  China               93.81\n",
       "1        DiamondPrincess               86.94\n",
       "2               Maldives               68.42\n",
       "3                S.Korea               59.84\n",
       "4                Bahrain               56.85\n",
       "5          FaeroeIslands               50.84\n",
       "6                 Gambia               50.00\n",
       "7                 Brunei               48.51\n",
       "8              Gibraltar               48.42\n",
       "9             Bangladesh               42.62\n",
       "10                  Togo               42.50\n",
       "11                Mexico               41.92\n",
       "12                Bhutan               40.00\n",
       "13          FrenchGuiana               38.60\n",
       "14                  Peru               37.98\n",
       "15               Vietnam               35.86\n",
       "16                  Iran               33.72\n",
       "17            Mauritania               33.33\n",
       "18  St.VincentGrenadines               33.33\n",
       "19               Senegal               31.88"
      ]
     },
     "execution_count": 150,
     "metadata": {},
     "output_type": "execute_result"
    }
   ],
   "source": [
    "ratio_top_r=ratio_df.groupby(by = 'Country,Other')['RecoveryPercentage'].sum().sort_values(ascending = False).head(20).reset_index()\n",
    "ratio_top_r"
   ]
  },
  {
   "cell_type": "code",
   "execution_count": 153,
   "metadata": {},
   "outputs": [
    {
     "data": {
      "text/plain": [
       "[Text(0, 0.5, 'Country'), Text(0.5, 0, 'Best recovery Rate in percentage')]"
      ]
     },
     "execution_count": 153,
     "metadata": {},
     "output_type": "execute_result"
    },
    {
     "data": {
      "image/png": "[encoded data removed]",
      "text/plain": [
       "<Figure size 1080x720 with 1 Axes>"
      ]
     },
     "metadata": {
      "needs_background": "light"
     },
     "output_type": "display_data"
    }
   ],
   "source": [
    "plt.figure(figsize= (15,10))\n",
    "plt.xticks(fontsize = 15)\n",
    "plt.yticks(fontsize = 15)\n",
    "plt.xlabel(\"Total cases\",fontsize = 30)\n",
    "plt.ylabel('Country',fontsize = 30)\n",
    "plt.title(\"Top 20 countries having best recovery rate\" , fontsize = 30)\n",
    "ax = sns.barplot(x = ratio_top_r['RecoveryPercentage'], y = ratio_top_r['Country,Other'])\n",
    "ax.set(xlabel='Best recovery Rate in percentage', ylabel='Country')"
   ]
  },
  {
   "cell_type": "markdown",
   "metadata": {},
   "source": [
    "1) China tops the chart and they are doing a remarkable job with a recovery rate of 90%. It tells us that in every 100 infected people, 90 people have recovered from the covid-19 virus.\n",
    "\n",
    "2) The Cruise ship is unusual here as the outbreak was a while ago and it explains the high recovery rate.\n",
    "\n",
    "3) South Korea, Bahrain and Iran are also doing a fantastic job treating the covid-19 virus.\n",
    "\n",
    "\n"
   ]
  },
  {
   "cell_type": "code",
   "execution_count": 20,
   "metadata": {},
   "outputs": [
    {
     "data": {
      "image/png": "[encoded data removed]",
      "text/plain": [
       "<Figure size 432x288 with 1 Axes>"
      ]
     },
     "metadata": {},
     "output_type": "display_data"
    }
   ],
   "source": [
    "labels = ['Active cases', 'Critical cases', 'Total recoverd', 'Total deaths']\n",
    "sizes = [(corona_df['ActiveCases'].sum()-corona_df['Serious,Critical'].sum()),corona_df['Serious,Critical'].sum(),corona_df['TotalRecovered'].sum(),corona_df['TotalDeaths'].sum()]\n",
    "colors = ['#66b3ff','#ffcc99', '#99ff99','#ff9999']\n",
    "explode = (0.1, 0.1, 0.1, 0.1)\n",
    "\n",
    "fig1 , ax1=plt.subplots()\n",
    "\n",
    "ax1.pie(sizes,explode=explode,colors=colors,autopct='%1.1f%%', shadow=True, startangle=90)\n",
    "ax1.set_title(\"Total Covid-19 cases around the world\",fontsize = 30)\n",
    "#ax1.legend(labels, loc=\"best\")\n",
    "ax1.legend(labels, loc=\"best\")\n",
    "\n",
    "ax1.axis('equal')\n",
    "plt.show()\n"
   ]
  },
  {
   "cell_type": "code",
   "execution_count": null,
   "metadata": {},
   "outputs": [],
   "source": []
  },
  {
   "cell_type": "code",
   "execution_count": 21,
   "metadata": {},
   "outputs": [
    {
     "data": {
      "image/png": "[encoded data removed]",
      "text/plain": [
       "<Figure size 432x288 with 1 Axes>"
      ]
     },
     "metadata": {},
     "output_type": "display_data"
    }
   ],
   "source": [
    "# Pie chart\n",
    "labels = ['Total recoverd','Total deaths']\n",
    "sizes = [corona_df['TotalRecovered'].sum(),corona_df['TotalDeaths'].sum()]\n",
    "sizes_total_were_sick=[corona_df['TotalRecovered'].sum()+corona_df['TotalDeaths'].sum()]\n",
    "#colors\n",
    "colors = ['#66b3ff','#ff9999']\n",
    "#explsion\n",
    "explode = (0.05,0.05)\n",
    "plt.pie(sizes, colors = colors, labels=labels, autopct='%1.1f%%', startangle=90, pctdistance=0.85, explode = explode)\n",
    "plt.title(\"Total percentage who were ill and survived\",fontsize = 20)\n",
    "#draw circle\n",
    "centre_circle = plt.Circle((0,0),0.70,fc='white')\n",
    "fig = plt.gcf()\n",
    "fig.gca().add_artist(centre_circle)\n",
    "# Equal aspect ratio ensures that pie is drawn as a circle\n",
    "ax1.axis('equal')  \n",
    "plt.tight_layout()\n",
    "plt.show()\n",
    "\n",
    "\n",
    "\n",
    "\n",
    "# Plot\n",
    "#plt.pie(sizes, labels=labels, colors=colors, startangle=90,frame=True)\n",
    "#plt.pie(sizes_gender,colors=colors_gender,radius=0.75,startangle=90)\n"
   ]
  },
  {
   "cell_type": "code",
   "execution_count": null,
   "metadata": {},
   "outputs": [],
   "source": []
  },
  {
   "cell_type": "code",
   "execution_count": null,
   "metadata": {},
   "outputs": [],
   "source": []
  },
  {
   "cell_type": "markdown",
   "metadata": {},
   "source": []
  },
  {
   "cell_type": "code",
   "execution_count": 24,
   "metadata": {},
   "outputs": [
    {
     "name": "stdout",
     "output_type": "stream",
     "text": [
      "hello\n"
     ]
    }
   ],
   "source": []
  },
  {
   "cell_type": "code",
   "execution_count": null,
   "metadata": {},
   "outputs": [],
   "source": []
  }
 ],
 "metadata": {
  "kernelspec": {
   "display_name": "Python 3",
   "language": "python",
   "name": "python3"
  },
  "language_info": {
   "codemirror_mode": {
    "name": "ipython",
    "version": 3
   },
   "file_extension": ".py",
   "mimetype": "text/x-python",
   "name": "python",
   "nbconvert_exporter": "python",
   "pygments_lexer": "ipython3",
   "version": "3.7.4"
  }
 },
 "nbformat": 4,
 "nbformat_minor": 4
}
